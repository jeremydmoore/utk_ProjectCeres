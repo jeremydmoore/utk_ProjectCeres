{
 "cells": [
  {
   "cell_type": "code",
   "execution_count": 1,
   "metadata": {},
   "outputs": [],
   "source": [
    "from pathlib import Path\n",
    "\n",
    "from ipywidgets import IntProgress, Label, VBox\n",
    "from IPython.display import display\n",
    "from PIL import Image"
   ]
  },
  {
   "cell_type": "code",
   "execution_count": 6,
   "metadata": {},
   "outputs": [
    {
     "name": "stdout",
     "output_type": "stream",
     "text": [
      "958 directories to process into PDFs\n"
     ]
    }
   ],
   "source": [
    "directory_of_directories_to_convert_to_PDF_path = Path('z:/ProjectCeres/work/Workstation3_Digibook/TennesseeFarmNewsBox01/')\n",
    "\n",
    "convert_to_PDF_directory_paths_list = [x for x in directory_of_directories_to_convert_to_PDF_path.iterdir() if x.is_dir()]\n",
    "\n",
    "number_of_directories = len(convert_to_PDF_directory_paths_list)\n",
    "print(f'{number_of_directories} directories to process into PDFs')"
   ]
  },
  {
   "cell_type": "code",
   "execution_count": 7,
   "metadata": {},
   "outputs": [
    {
     "data": {
      "application/vnd.jupyter.widget-view+json": {
       "model_id": "c89a1b4d6b4a491eb03a9a654d7e34ad",
       "version_major": 2,
       "version_minor": 0
      },
      "text/plain": [
       "VBox(children=(Label(value='Directories to convert to PDF'), IntProgress(value=0, max=958)))"
      ]
     },
     "metadata": {},
     "output_type": "display_data"
    },
    {
     "name": "stdout",
     "output_type": "stream",
     "text": [
      "958 PDFs created\n"
     ]
    }
   ],
   "source": [
    "# progress bar\n",
    "progress_label = Label('Directories to convert to PDF')\n",
    "progress_bar = IntProgress(min=0, max=number_of_directories)\n",
    "progress_widget = VBox([progress_label, progress_bar])\n",
    "display(progress_widget)\n",
    "\n",
    "\n",
    "for index, directory_path in enumerate(convert_to_PDF_directory_paths_list, start=1):\n",
    "    \n",
    "    label = f'Processing {directory_path.name} . . . '\n",
    "    progress_label.value = label\n",
    "    \n",
    "    images_list = []\n",
    "    image_paths_list = sorted(directory_path.glob('*.tif'))\n",
    "    for image_path in image_paths_list:\n",
    "        image = Image.open(image_path)\n",
    "        images_list.append(image)\n",
    "    pdf_name = f'{directory_path.name}.pdf'\n",
    "    pdf_save_path = directory_of_directories_to_convert_to_PDF_path.joinpath(pdf_name)\n",
    "    \n",
    "    images_list[0].save(pdf_save_path, save_all=True, append_images=images_list[1:])\n",
    "    \n",
    "    # close image on Windows so it doesn't hang\n",
    "    image.close()\n",
    "    \n",
    "    progress_bar.value = index\n",
    "\n",
    "pdf_paths_list = [x for x in sorted(directory_of_directories_to_convert_to_PDF_path.glob('*.pdf'))]\n",
    "number_of_pdfs = len(pdf_paths_list)\n",
    "\n",
    "print(f'{number_of_pdfs} PDFs created')"
   ]
  },
  {
   "cell_type": "code",
   "execution_count": null,
   "metadata": {},
   "outputs": [],
   "source": []
  }
 ],
 "metadata": {
  "kernelspec": {
   "display_name": "Python 3",
   "language": "python",
   "name": "python3"
  },
  "language_info": {
   "codemirror_mode": {
    "name": "ipython",
    "version": 3
   },
   "file_extension": ".py",
   "mimetype": "text/x-python",
   "name": "python",
   "nbconvert_exporter": "python",
   "pygments_lexer": "ipython3",
   "version": "3.6.8"
  }
 },
 "nbformat": 4,
 "nbformat_minor": 2
}
