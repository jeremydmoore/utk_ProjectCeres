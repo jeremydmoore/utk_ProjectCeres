{
 "cells": [
  {
   "cell_type": "code",
   "execution_count": 5,
   "metadata": {},
   "outputs": [],
   "source": [
    "import os\n",
    "import shutil\n",
    "from pathlib import Path"
   ]
  },
  {
   "cell_type": "code",
   "execution_count": 24,
   "metadata": {
    "code_folding": [
     0,
     12
    ],
    "run_control": {
     "marked": false
    }
   },
   "outputs": [],
   "source": [
    "def create_zip_file(output_path_no_extension, dir_to_zip):  # zip name does NOT include an extension?\n",
    "    '''\n",
    "    -- Purpose --\n",
    "    Create a zip file from directory_path\n",
    "\n",
    "    -- Arguments --\n",
    "    directory_path: type=Path-like object; directory to compress into a Zip file\n",
    "    '''\n",
    "    dir_path_output = Path(dir_to_zip)\n",
    "    shutil.make_archive(output_path_no_extension, \"zip\", root_dir=dir_to_zip)\n",
    "\n",
    "def get_size(start_path = '.'):\n",
    "    total_size = 0\n",
    "    for dirpath, dirnames, filenames in os.walk(start_path):\n",
    "        for f in filenames:\n",
    "            fp = os.path.join(dirpath, f)\n",
    "            # skip if it is symbolic link\n",
    "            if not os.path.islink(fp):\n",
    "                total_size += os.path.getsize(fp)\n",
    "\n",
    "    return total_size"
   ]
  },
  {
   "cell_type": "code",
   "execution_count": 19,
   "metadata": {},
   "outputs": [
    {
     "data": {
      "text/plain": [
       "[PosixPath('/Volumes/fluffy/ProjectCeres/00_for_CRL/SendToCRL/1767279'),\n",
       " PosixPath('/Volumes/fluffy/ProjectCeres/00_for_CRL/SendToCRL/25315072'),\n",
       " PosixPath('/Volumes/fluffy/ProjectCeres/00_for_CRL/SendToCRL/31317362'),\n",
       " PosixPath('/Volumes/fluffy/ProjectCeres/00_for_CRL/SendToCRL/31317401_part1'),\n",
       " PosixPath('/Volumes/fluffy/ProjectCeres/00_for_CRL/SendToCRL/31317401_part2'),\n",
       " PosixPath('/Volumes/fluffy/ProjectCeres/00_for_CRL/SendToCRL/31317432'),\n",
       " PosixPath('/Volumes/fluffy/ProjectCeres/00_for_CRL/SendToCRL/31317472'),\n",
       " PosixPath('/Volumes/fluffy/ProjectCeres/00_for_CRL/SendToCRL/31317533'),\n",
       " PosixPath('/Volumes/fluffy/ProjectCeres/00_for_CRL/SendToCRL/32002069'),\n",
       " PosixPath('/Volumes/fluffy/ProjectCeres/00_for_CRL/SendToCRL/32009332')]"
      ]
     },
     "execution_count": 19,
     "metadata": {},
     "output_type": "execute_result"
    }
   ],
   "source": [
    "data_dir_path = Path('/Volumes/fluffy/ProjectCeres/00_for_CRL/SendToCRL')\n",
    "dir_list = sorted([x for x in data_dir_path.iterdir() if x.is_dir()])\n",
    "dir_list"
   ]
  },
  {
   "cell_type": "code",
   "execution_count": 9,
   "metadata": {
    "code_folding": [
     0
    ],
    "scrolled": true
   },
   "outputs": [
    {
     "name": "stdout",
     "output_type": "stream",
     "text": [
      "/Volumes/fluffy/ProjectCeres/00_for_CRL/SendToCRL/31317401\n"
     ]
    }
   ],
   "source": [
    "# max Vault file size 15, GB which directories are over that limit?\n",
    "for path in dir_list:\n",
    "    number_of_bytes = get_size(path)\n",
    "    kb = int(number_of_bytes/1024)\n",
    "    mb = int(kb/1024)\n",
    "    gb = int(mb/1024)\n",
    "    if gb > 15:\n",
    "        print(path)\n"
   ]
  },
  {
   "cell_type": "code",
   "execution_count": 14,
   "metadata": {},
   "outputs": [
    {
     "data": {
      "text/plain": [
       "746.5"
      ]
     },
     "execution_count": 14,
     "metadata": {},
     "output_type": "execute_result"
    }
   ],
   "source": [
    "# how many directories is 1/2 of dir that's over 15gb?\n",
    "over_dir_path = Path('/Volumes/fluffy/ProjectCeres/00_for_CRL/31317401')\n",
    "dir_list = sorted([x for x in over_dir_path.iterdir() if x.is_dir()])\n",
    "len(dir_list)/2"
   ]
  },
  {
   "cell_type": "code",
   "execution_count": 17,
   "metadata": {
    "code_folding": [
     2
    ]
   },
   "outputs": [],
   "source": [
    "out_dir_1 = Path('/Volumes/fluffy/ProjectCeres/00_for_CRL/SendToCRL/31317401_part1/')\n",
    "out_dir_2 = Path('/Volumes/fluffy/ProjectCeres/00_for_CRL/SendToCRL/31317401_part2/')\n",
    "for index, dir_path in enumerate(dir_list):\n",
    "    if index < 747:\n",
    "        output_path = out_dir_1.joinpath(dir_path.name)\n",
    "    else:\n",
    "        output_path = out_dir_2.joinpath(dir_path.name)\n",
    "    shutil.copytree(dir_path, output_path)\n",
    "    "
   ]
  },
  {
   "cell_type": "code",
   "execution_count": 22,
   "metadata": {},
   "outputs": [
    {
     "data": {
      "text/plain": [
       "[PosixPath('/Volumes/fluffy/ProjectCeres/00_for_CRL/SendToCRL/1767279'),\n",
       " PosixPath('/Volumes/fluffy/ProjectCeres/00_for_CRL/SendToCRL/25315072'),\n",
       " PosixPath('/Volumes/fluffy/ProjectCeres/00_for_CRL/SendToCRL/31317362'),\n",
       " PosixPath('/Volumes/fluffy/ProjectCeres/00_for_CRL/SendToCRL/31317401_part1'),\n",
       " PosixPath('/Volumes/fluffy/ProjectCeres/00_for_CRL/SendToCRL/31317401_part2'),\n",
       " PosixPath('/Volumes/fluffy/ProjectCeres/00_for_CRL/SendToCRL/31317432'),\n",
       " PosixPath('/Volumes/fluffy/ProjectCeres/00_for_CRL/SendToCRL/31317472'),\n",
       " PosixPath('/Volumes/fluffy/ProjectCeres/00_for_CRL/SendToCRL/31317533'),\n",
       " PosixPath('/Volumes/fluffy/ProjectCeres/00_for_CRL/SendToCRL/32002069'),\n",
       " PosixPath('/Volumes/fluffy/ProjectCeres/00_for_CRL/SendToCRL/32009332')]"
      ]
     },
     "execution_count": 22,
     "metadata": {},
     "output_type": "execute_result"
    }
   ],
   "source": [
    "data_dir_path = Path('/Volumes/fluffy/ProjectCeres/00_for_CRL/SendToCRL')\n",
    "dir_list = sorted([x for x in data_dir_path.iterdir() if x.is_dir()])\n",
    "dir_list"
   ]
  },
  {
   "cell_type": "code",
   "execution_count": null,
   "metadata": {
    "code_folding": [
     0
    ]
   },
   "outputs": [],
   "source": [
    "for path in dir_list:\n",
    "    output_path_no_extension = data_dir_path.joinpath(path.name)\n",
    "    dir_to_zip = path\n",
    "    \n",
    "    create_zip_file(output_path_no_extension, dir_to_zip)"
   ]
  },
  {
   "cell_type": "code",
   "execution_count": null,
   "metadata": {},
   "outputs": [],
   "source": []
  }
 ],
 "metadata": {
  "kernelspec": {
   "display_name": "Python 3",
   "language": "python",
   "name": "python3"
  },
  "language_info": {
   "codemirror_mode": {
    "name": "ipython",
    "version": 3
   },
   "file_extension": ".py",
   "mimetype": "text/x-python",
   "name": "python",
   "nbconvert_exporter": "python",
   "pygments_lexer": "ipython3",
   "version": "3.7.3"
  },
  "toc": {
   "base_numbering": 1,
   "nav_menu": {},
   "number_sections": true,
   "sideBar": true,
   "skip_h1_title": false,
   "title_cell": "Table of Contents",
   "title_sidebar": "Contents",
   "toc_cell": false,
   "toc_position": {},
   "toc_section_display": true,
   "toc_window_display": false
  }
 },
 "nbformat": 4,
 "nbformat_minor": 2
}
