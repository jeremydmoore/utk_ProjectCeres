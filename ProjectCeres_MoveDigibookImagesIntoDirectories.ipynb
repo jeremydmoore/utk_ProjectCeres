{
 "cells": [
  {
   "cell_type": "markdown",
   "metadata": {},
   "source": [
    "## Project Ceres - Move Digibook Images into Directories\n",
    "\n",
    "Digibook scans for Tenneessee Farm News were all scanned into a single folder\n",
    "\n",
    "Need to copy images into directories using the AdminDB numbers"
   ]
  },
  {
   "cell_type": "code",
   "execution_count": 10,
   "metadata": {
    "code_folding": []
   },
   "outputs": [],
   "source": [
    "# importing\n",
    "import shutil\n",
    "from pathlib import Path\n",
    "\n",
    "from ipywidgets import IntProgress, Label, VBox\n",
    "from IPython.display import display"
   ]
  },
  {
   "cell_type": "code",
   "execution_count": 8,
   "metadata": {},
   "outputs": [],
   "source": [
    "image_paths_list = sorted([x for x in Path.cwd().iterdir() if str(x).endswith('.tif')])"
   ]
  },
  {
   "cell_type": "code",
   "execution_count": 12,
   "metadata": {
    "code_folding": []
   },
   "outputs": [
    {
     "data": {
      "application/vnd.jupyter.widget-view+json": {
       "model_id": "f3a5dd1a70f0485d90891cefc8064b0c",
       "version_major": 2,
       "version_minor": 0
      },
      "text/plain": [
       "VBox(children=(Label(value='Directory being processed'), IntProgress(value=0, max=5061)))"
      ]
     },
     "metadata": {},
     "output_type": "display_data"
    }
   ],
   "source": [
    "# move images\n",
    "\n",
    "# progress bar\n",
    "progress_label = Label('Directory being processed')\n",
    "progress_bar = IntProgress(min=0, max=len(image_paths_list))\n",
    "progress_widget = VBox([progress_label, progress_bar])\n",
    "display(progress_widget)\n",
    "\n",
    "# loop through images\n",
    "for index, image_path in enumerate(image_paths_list, start=1):\n",
    "    \n",
    "    progress_label.value = image_path.name\n",
    "    \n",
    "    # get item name without *_#### at the end\n",
    "    item_directory_name = image_path.stem[:-5]\n",
    "    item_directory_path = Path.cwd().joinpath(item_directory_name)\n",
    "    \n",
    "    # create item_directory\n",
    "    item_directory_path.mkdir(exist_ok=True)\n",
    "    \n",
    "    # copy image into directory and update progress box\n",
    "    copy_item_path = item_directory_path.joinpath(image_path.name)\n",
    "    label = f'{image_path.name} is copying . . .'\n",
    "    progress_label.value = label\n",
    "    shutil.copy(image_path, copy_item_path)\n",
    "    \n",
    "    # if copied image is the same size as original, delete original\n",
    "    if copy_item_path.is_file() and copy_item_path.stat().st_size == image_path.stat().st_size:\n",
    "        image_path.unlink()  \n",
    "    \n",
    "    progress_bar.value = index"
   ]
  }
 ],
 "metadata": {
  "kernelspec": {
   "display_name": "Python 3",
   "language": "python",
   "name": "python3"
  },
  "language_info": {
   "codemirror_mode": {
    "name": "ipython",
    "version": 3
   },
   "file_extension": ".py",
   "mimetype": "text/x-python",
   "name": "python",
   "nbconvert_exporter": "python",
   "pygments_lexer": "ipython3",
   "version": "3.6.8"
  }
 },
 "nbformat": 4,
 "nbformat_minor": 2
}
