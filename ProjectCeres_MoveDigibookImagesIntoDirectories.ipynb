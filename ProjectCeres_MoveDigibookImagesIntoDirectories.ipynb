{
 "cells": [
  {
   "cell_type": "markdown",
   "metadata": {},
   "source": [
    "## Project Ceres - Move Digibook UTESC Images into Directories\n",
    "\n",
    "Digibook scans for UT extension special circulars were all scanned into a single folder\n",
    "\n",
    "Need to reset \n",
    "\n",
    "Need to copy images into directories using the AdminDB numbers"
   ]
  },
  {
   "cell_type": "code",
   "execution_count": 1,
   "metadata": {
    "code_folding": []
   },
   "outputs": [],
   "source": [
    "# importing\n",
    "import shutil\n",
    "from pathlib import Path\n",
    "\n",
    "from ipywidgets import IntProgress, Label, VBox\n",
    "from IPython.display import display"
   ]
  },
  {
   "cell_type": "code",
   "execution_count": 3,
   "metadata": {},
   "outputs": [],
   "source": [
    "convert_to_admin_db_numbers_directory_path = Path('data/00_UTSpecialCirculars_toAdminDBNumbers')"
   ]
  },
  {
   "cell_type": "code",
   "execution_count": 4,
   "metadata": {},
   "outputs": [],
   "source": [
    "# get image paths list\n",
    "image_paths_list = sorted([x for x in convert_to_admin_db_numbers_directory_path.iterdir() if str(x).endswith('.tif')])"
   ]
  },
  {
   "cell_type": "code",
   "execution_count": 7,
   "metadata": {},
   "outputs": [
    {
     "name": "stdout",
     "output_type": "stream",
     "text": [
      "1951 *.tif files to process\n"
     ]
    }
   ],
   "source": [
    "print(f'{len(image_paths_list)} *.tif files to process')"
   ]
  },
  {
   "cell_type": "code",
   "execution_count": 16,
   "metadata": {},
   "outputs": [
    {
     "name": "stdout",
     "output_type": "stream",
     "text": [
      "['0024', '0025', '0026', '0028', '0029', '0031', '0032', '0033', '0034', '0035', '0036', '0037', '0038', '0040', '0041', '0042', '0043', '0045', '0046', '0047', '0048', '0049', '0050', '0051', '0052', '0053', '0054', '0055', '0056', '0057', '0058', '0059', '0061', '0062', '0063', '0064', '0065', '0066', '0067', '0068', '0069', '0070', '0071', '0072', '0073', '0074', '0075', '0076', '0077', '0078', '0079', '0080', '0081', '0082', '0083', '0084', '0085', '0086', '0087', '0088', '0089', '0090', '0091', '0092', '0093', '0100', '0101', '0102', '0103', '0104', '0105', '0106', '0107', '0108', '0109', '0110', '0111', '0112', '0113', '0114', '0115', '0116', '0119', '0120', '0121', '0122', '0123', '0124', '0126', '0127', '0128', '0130', '0131', '0132', '0133', '0134', '0135', '0136', '0137', '0138', '0140', '0141', '0142', '0143', '0144', '0145', '0146', '0147', '0148', '0149', '0150', '0151', '0152', '0153', '0158', '0162', '0168', '0170', '0171', '0181', '0188', '0191', '0192', '0194', '0198', '0234', '0235', '0241', '0242', '0243', '0245', '0247', '0248', '0250', '0251', '0252', '0253', '0254', '0255', '0256', '0257', '0259', '0260', '0262', '0263', '0264', '0265', '0266', '0267', '0268', '0270', '0271', '0273', '0274', '0276', '0278', '0283', '0285', '0287', '0288', '0289', '0290', '0292', '0293', '0294', '0296', '0307', '0308', '0309', '0311', '0312', '0313', '0314', '0315', '0316', '0317', '0319', '0320', '0323', '0324', '0325', '0326', '0327', '0328', '0330', '0331', '0332', '0333', '0335', '0336', '0337', '0340', '0342', '0346', '0361', '0369', '0375', '0380', '0383', '0387', '0388', '0389', '0392', '0394', '0395', '0425', '0446', '0451', '0459', '0629', '179B', '179C', '180A', '181B', '182A', '184A', '254A']\n"
     ]
    }
   ],
   "source": [
    "# circular names and numbers (because some have letters in them)\n",
    "circulars_item_list = sorted(set([str(x.name).split('_', 3)[2] for x in image_paths_list]))\n",
    "print(circulars_item_list)"
   ]
  },
  {
   "cell_type": "code",
   "execution_count": 24,
   "metadata": {},
   "outputs": [
    {
     "name": "stdout",
     "output_type": "stream",
     "text": [
      "179B\n",
      "179C\n",
      "180A\n",
      "181B\n",
      "182A\n",
      "184A\n",
      "254A\n",
      "['000024', '000025', '000026', '000028', '000029', '000031', '000032', '000033', '000034', '000035', '000036', '000037', '000038', '000040', '000041', '000042', '000043', '000045', '000046', '000047', '000048', '000049', '000050', '000051', '000052', '000053', '000054', '000055', '000056', '000057', '000058', '000059', '000061', '000062', '000063', '000064', '000065', '000066', '000067', '000068', '000069', '000070', '000071', '000072', '000073', '000074', '000075', '000076', '000077', '000078', '000079', '000080', '000081', '000082', '000083', '000084', '000085', '000086', '000087', '000088', '000089', '000090', '000091', '000092', '000093', '000100', '000101', '000102', '000103', '000104', '000105', '000106', '000107', '000108', '000109', '000110', '000111', '000112', '000113', '000114', '000115', '000116', '000119', '000120', '000121', '000122', '000123', '000124', '000126', '000127', '000128', '000130', '000131', '000132', '000133', '000134', '000135', '000136', '000137', '000138', '000140', '000141', '000142', '000143', '000144', '000145', '000146', '000147', '000148', '000149', '000150', '000151', '000152', '000153', '000158', '000162', '000168', '000170', '000171', '000181', '000188', '000191', '000192', '000194', '000198', '000234', '000235', '000241', '000242', '000243', '000245', '000247', '000248', '000250', '000251', '000252', '000253', '000254', '000255', '000256', '000257', '000259', '000260', '000262', '000263', '000264', '000265', '000266', '000267', '000268', '000270', '000271', '000273', '000274', '000276', '000278', '000283', '000285', '000287', '000288', '000289', '000290', '000292', '000293', '000294', '000296', '000307', '000308', '000309', '000311', '000312', '000313', '000314', '000315', '000316', '000317', '000319', '000320', '000323', '000324', '000325', '000326', '000327', '000328', '000330', '000331', '000332', '000333', '000335', '000336', '000337', '000340', '000342', '000346', '000361', '000369', '000375', '000380', '000383', '000387', '000388', '000389', '000392', '000394', '000395', '000425', '000446', '000451', '000459', '000629', '179B', '179C', '180A', '181B', '182A', '184A', '254A']\n"
     ]
    }
   ],
   "source": [
    "# need to re-order the {circulars_item_list}, so that 179B comes after 0171\n",
    "sorted_circular_list = []\n",
    "for item in circulars_item_list:\n",
    "    try:\n",
    "        item = int(item)\n",
    "        sorted_circular_list.append(str(item).zfill(6)\n",
    "    except ValueError:  # add the string\n",
    "        sorted_circular_list.append(item).zfill(6)\n",
    "sorted_circular_list = sorted(sorted_circular_list)\n",
    "print(sorted_circular_list)"
   ]
  },
  {
   "cell_type": "code",
   "execution_count": 26,
   "metadata": {},
   "outputs": [
    {
     "data": {
      "text/plain": [
       "217"
      ]
     },
     "execution_count": 26,
     "metadata": {},
     "output_type": "execute_result"
    }
   ],
   "source": [
    "# okay, this isn't working, just create a list of the total numbers we have and run through that range\n",
    "# and maybe use a key/value call to get the file location, but I'll get back to this on Wednesday\n",
    "len(circulars_item_list)"
   ]
  },
  {
   "cell_type": "code",
   "execution_count": null,
   "metadata": {},
   "outputs": [],
   "source": [
    "# have 2 counts, starting up from 1 and current count for getting filenames to rename from\n",
    "adminDb_count = 0\n",
    "item_processing_count = 0\n",
    "\n",
    "for index in range(629):  # 1000 is super"
   ]
  },
  {
   "cell_type": "code",
   "execution_count": 12,
   "metadata": {
    "code_folding": []
   },
   "outputs": [
    {
     "data": {
      "application/vnd.jupyter.widget-view+json": {
       "model_id": "f3a5dd1a70f0485d90891cefc8064b0c",
       "version_major": 2,
       "version_minor": 0
      },
      "text/plain": [
       "VBox(children=(Label(value='Directory being processed'), IntProgress(value=0, max=5061)))"
      ]
     },
     "metadata": {},
     "output_type": "display_data"
    }
   ],
   "source": [
    "# move images\n",
    "\n",
    "# progress bar\n",
    "progress_label = Label('Directory being processed')\n",
    "progress_bar = IntProgress(min=0, max=len(image_paths_list))\n",
    "progress_widget = VBox([progress_label, progress_bar])\n",
    "display(progress_widget)\n",
    "\n",
    "count = 0\n",
    "\n",
    "# loop through images\n",
    "for index, image_path in enumerate(image_paths_list, start=1):\n",
    "    \n",
    "    progress_label.value = image_path.name\n",
    "    \n",
    "    # need to rename directories and files to adminDb filenames\n",
    "    \n",
    "    \n",
    "    # get item name without *_#### at the end\n",
    "    item_directory_name = image_path.stem[:-5]\n",
    "    item_directory_path = Path.cwd().joinpath(item_directory_name)\n",
    "    \n",
    "    # create item_directory\n",
    "    item_directory_path.mkdir(exist_ok=True)\n",
    "    \n",
    "    # copy image into directory and update progress box\n",
    "    copy_item_path = item_directory_path.joinpath(image_path.name)\n",
    "    label = f'{image_path.name} is copying . . .'\n",
    "    progress_label.value = label\n",
    "    shutil.copy(image_path, copy_item_path)\n",
    "    \n",
    "    # if copied image is the same size as original, delete original\n",
    "    if copy_item_path.is_file() and copy_item_path.stat().st_size == image_path.stat().st_size:\n",
    "        image_path.unlink()  \n",
    "    \n",
    "    progress_bar.value = index"
   ]
  }
 ],
 "metadata": {
  "kernelspec": {
   "display_name": "Python 3",
   "language": "python",
   "name": "python3"
  },
  "language_info": {
   "codemirror_mode": {
    "name": "ipython",
    "version": 3
   },
   "file_extension": ".py",
   "mimetype": "text/x-python",
   "name": "python",
   "nbconvert_exporter": "python",
   "pygments_lexer": "ipython3",
   "version": "3.6.8"
  }
 },
 "nbformat": 4,
 "nbformat_minor": 2
}
