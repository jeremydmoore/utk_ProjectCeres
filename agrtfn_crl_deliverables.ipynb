{
 "cells": [
  {
   "cell_type": "markdown",
   "metadata": {},
   "source": [
    "# Create Project CERES Deliverables for Tennessee farm news (agrtfn)\n",
    "\n",
    " - OCR TIFF with Tesseract and output PDF into new directory as 001.pdf, 002.pdf, 00n.pdf\n",
    "\n",
    "Will separated PDFs into directories based on the publication date after all PDFs have been created. The work to identify the publication date and therefore the correct directory for the deliverable will be done concurrent to PDF construction."
   ]
  },
  {
   "cell_type": "code",
   "execution_count": 1,
   "metadata": {
    "code_folding": []
   },
   "outputs": [
    {
     "data": {
      "text/html": [
       "<style>.container { width:95% !important; }</style>"
      ],
      "text/plain": [
       "<IPython.core.display.HTML object>"
      ]
     },
     "metadata": {},
     "output_type": "display_data"
    }
   ],
   "source": [
    "# importing and options\n",
    "import time\n",
    "from pathlib import Path\n",
    "\n",
    "import pandas as pd\n",
    "from ipywidgets import IntProgress, Label, VBox\n",
    "from IPython.display import display\n",
    "\n",
    "# == display 95% width\n",
    "from IPython.core.display import display, HTML\n",
    "display(HTML(\"<style>.container { width:95% !important; }</style>\"))\n",
    "\n",
    "# set pandas option to display wider column info, use -1 to expand to largest necessary width\n",
    "pd.set_option('max_colwidth', -1)"
   ]
  },
  {
   "cell_type": "markdown",
   "metadata": {},
   "source": [
    "## Batch process directories"
   ]
  },
  {
   "cell_type": "code",
   "execution_count": 2,
   "metadata": {
    "code_folding": []
   },
   "outputs": [],
   "source": [
    "# create class for processing individual volumes\n",
    "class Agrtfn:\n",
    "    def __init__(self, directory_path):\n",
    "        self.directory_path = Path(directory_path)\n",
    "        # self.number_of_pages = int(df_tn_farm_and_home_science[df_tn_farm_and_home_science[\"old_directory_name\"].str.contains(directory_path.name)]['pages'].to_string(index=False))\n",
    "        \n",
    "    def get_image_paths_list(self):\n",
    "        \n",
    "        image_paths_list = sorted(self.directory_path.glob('*.tif'))\n",
    "        \n",
    "        # delete all macOS index files that start with '.'\n",
    "        deleted_dot_files = False\n",
    "        for image_path in image_paths_list:\n",
    "            if image_path.name.startswith('.'):\n",
    "                image_path.unlink()  # delete\n",
    "                deleted_dot_files = True\n",
    "        if deleted_dot_files:  # re-create the list\n",
    "            image_paths_list = sorted(self.directory_path.glob('*.tif'))\n",
    "        \n",
    "        self.image_paths_list = image_paths_list\n",
    "        self.number_of_images = len(self.image_paths_list)\n",
    "        \n",
    "        # if self.number_of_images != self.number_of_pages:\n",
    "        #     print(f'# of images != # of pages described in metadata')\n",
    "        #     print(f'images: {self.number_of_images}')\n",
    "        #     print(f'pages: {self.number_of_pages}')\n",
    "        #     return None\n",
    "        \n",
    "        return self.image_paths_list\n",
    "\n",
    "    \n",
    "    def ocr(self):\n",
    "        # will convert TIFF into OCRed PDF with Tesseract\n",
    "        # PDFs will be named using a 3-digit index\n",
    "        \n",
    "        # progress bar\n",
    "        progress_label = Label('Images being processed')\n",
    "        progress_bar = IntProgress(min=0, max=self.number_of_images)\n",
    "        progress_widget = VBox([progress_label, progress_bar])\n",
    "        display(progress_widget)\n",
    "        \n",
    "        for index, image_path in enumerate(self.image_paths_list, start=1):\n",
    "            \n",
    "            # update progress bar value\n",
    "            progress_label.value = f'Processing image: {image_path.name} . . . {index}/{self.number_of_images}'\n",
    "            \n",
    "            # NO extension at the end for Tesseract processing\n",
    "            pdf_output_path = self.directory_path.joinpath(f'{str(index).zfill(3)}')\n",
    "\n",
    "            # OCR with Tesseract\n",
    "            !tesseract {str(image_path)} {str(pdf_output_path)} pdf 2>/dev/null\n",
    "            \n",
    "            # set output path with extension at end\n",
    "            pdf_output_path = self.directory_path.joinpath(f'{str(index).zfill(3)}.pdf')\n",
    "            \n",
    "            # update progress bar value\n",
    "            progress_bar.value = index\n",
    "            \n",
    "        self.pdf_paths_list = list(self.directory_path.glob('*.pdf'))\n",
    "        self.number_of_pdfs = len(self.pdf_paths_list)\n",
    "        \n",
    "        if self.number_of_pdfs != self.number_of_images:\n",
    "            print(f'# of PDFs != # of images to OCR')\n",
    "            print(f'PDFs: {self.number_of_pdfs}')\n",
    "            print(f'images: {self.number_of_images}')\n",
    "            return None\n",
    "        else:\n",
    "            return self.pdf_paths_list\n",
    "            \n",
    "        \n",
    "#     def process(self):\n",
    "        \n",
    "#         # progress bar\n",
    "#         progress_label = Label('Images being processed')\n",
    "#         progress_bar = IntProgress(min=0, max=self.number_of_images)\n",
    "#         progress_widget = VBox([progress_label, progress_bar])\n",
    "#         display(progress_widget)\n",
    "        \n",
    "#         # get output directory name\n",
    "#         output_directory_name = df_tn_farm_and_home_science[df_tn_farm_and_home_science[\"old_directory_name\"].str.contains(directory_path.name)]['new_directory_name'].to_string(index=False)\n",
    "#         # strip spaces from output_directory_name\n",
    "#         self.output_directory_name = output_directory_name.strip()\n",
    "#         # set output directory path and make directory\n",
    "#         self.output_directory_path = batch_output_directory_path.joinpath(self.output_directory_name)\n",
    "#         self.output_directory_path.mkdir()\n",
    "        \n",
    "#         # for each *.tif in self.directory_path\n",
    "#         for index, image_path in enumerate(self.image_paths_list, start=1):\n",
    "            \n",
    "#             # update progress bar label\n",
    "#             progress_label.value = f'Processing image: {image_path.name} . . . {index}/{self.number_of_images}'\n",
    "            \n",
    "#             # NO extension at the end for Tesseract processing\n",
    "#             pdf_output_path = self.output_directory_path.joinpath(f'{str(index).zfill(3)}')\n",
    "            \n",
    "#             # OCR with Tesseract\n",
    "#             !tesseract {str(image_path)} {str(pdf_output_path)} pdf 2>/dev/null\n",
    "            \n",
    "#             # set output path with extension at end\n",
    "#             pdf_output_path = self.output_directory_path.joinpath(f'{str(index).zfill(3)}.pdf')\n",
    "            \n",
    "#             # update progress bar value\n",
    "#             progress_bar.value = index\n",
    "            \n",
    "#         self.pdf_paths_list = list(self.output_directory_path.glob('*.pdf'))\n",
    "#         self.number_of_pdfs = len(self.pdf_paths_list)\n",
    "        \n",
    "#         if self.number_of_pdfs != self.number_of_images:\n",
    "#             print(f'# of PDFs != # of images to OCR')\n",
    "#             print(f'PDFs: {self.number_of_pdfs}')\n",
    "#             print(f'images: {self.number_of_images}')\n",
    "#             return None\n",
    "#         else:\n",
    "#             return self.pdf_paths_list"
   ]
  },
  {
   "cell_type": "code",
   "execution_count": 3,
   "metadata": {
    "code_folding": [
     0
    ],
    "run_control": {
     "marked": false
    }
   },
   "outputs": [
    {
     "name": "stdout",
     "output_type": "stream",
     "text": [
      "batch_input directory: /Volumes/fluffy/ProjectCeres/00_for_CRL/agrtfn\n",
      "\t3451 directories to batch process\n",
      "\n",
      "batch_output directory: /Volumes/fluffy/ProjectCeres/00_for_CRL/agrtfn_batch_output\n"
     ]
    }
   ],
   "source": [
    "# Set batch_input and batch_output directories\n",
    "\n",
    "# set project identifier and root directory path\n",
    "project_identifier = 'agrtfn'\n",
    "root_directory_path = Path('/Volumes/fluffy/ProjectCeres/00_for_CRL/')\n",
    "\n",
    "# set batch_input and batch_output directory paths from root and project identifier\n",
    "batch_input_directory_path = root_directory_path.joinpath(project_identifier)\n",
    "batch_output_directory_path = root_directory_path.joinpath(f'{project_identifier}_batch_output')\n",
    "batch_output_directory_path.mkdir()\n",
    "\n",
    "# create batch_input directory paths list\n",
    "batch_input_directory_paths_list = sorted([x for x in batch_input_directory_path.iterdir() if x.is_dir()])\n",
    "number_of_input_dirs = len(batch_input_directory_paths_list)\n",
    "\n",
    "print(f'batch_input directory: {batch_input_directory_path}')\n",
    "print(f'\\t{number_of_input_dirs} directories to batch process\\n')\n",
    "print(f'batch_output directory: {batch_output_directory_path}')"
   ]
  },
  {
   "cell_type": "code",
   "execution_count": 4,
   "metadata": {},
   "outputs": [
    {
     "name": "stdout",
     "output_type": "stream",
     "text": [
      "1725\n"
     ]
    }
   ],
   "source": [
    "print(int(number_of_input_dirs*.5))"
   ]
  },
  {
   "cell_type": "code",
   "execution_count": 6,
   "metadata": {},
   "outputs": [
    {
     "data": {
      "text/plain": [
       "1726"
      ]
     },
     "execution_count": 6,
     "metadata": {},
     "output_type": "execute_result"
    }
   ],
   "source": [
    "# process the first half of the paths list\n",
    "input_directory_paths_list = batch_input_directory_paths_list[:1726]\n",
    "# process the second half of the paths list\n",
    "# input_directory_paths_list = batch_input_directory_paths_list[1726:]\n",
    "\n",
    "number_of_input_dirs = len(input_directory_paths_list)\n",
    "number_of_input_dirs"
   ]
  },
  {
   "cell_type": "code",
   "execution_count": null,
   "metadata": {
    "code_folding": [
     0
    ],
    "scrolled": false
   },
   "outputs": [
    {
     "data": {
      "application/vnd.jupyter.widget-view+json": {
       "model_id": "f676a977662e4c7db89e74d6f1f4712b",
       "version_major": 2,
       "version_minor": 0
      },
      "text/plain": [
       "VBox(children=(Label(value='Directories being processed'), IntProgress(value=0, max=1726)))"
      ]
     },
     "metadata": {},
     "output_type": "display_data"
    },
    {
     "data": {
      "application/vnd.jupyter.widget-view+json": {
       "model_id": "05a31a109f3b46b7bbb2c61c5735458d",
       "version_major": 2,
       "version_minor": 0
      },
      "text/plain": [
       "VBox(children=(Label(value='Images being processed'), IntProgress(value=0, max=4)))"
      ]
     },
     "metadata": {},
     "output_type": "display_data"
    },
    {
     "data": {
      "application/vnd.jupyter.widget-view+json": {
       "model_id": "679b875707894c51b937933562fd1881",
       "version_major": 2,
       "version_minor": 0
      },
      "text/plain": [
       "VBox(children=(Label(value='Images being processed'), IntProgress(value=0, max=4)))"
      ]
     },
     "metadata": {},
     "output_type": "display_data"
    },
    {
     "data": {
      "application/vnd.jupyter.widget-view+json": {
       "model_id": "23334110c08041b699b1e749074b40ba",
       "version_major": 2,
       "version_minor": 0
      },
      "text/plain": [
       "VBox(children=(Label(value='Images being processed'), IntProgress(value=0, max=4)))"
      ]
     },
     "metadata": {},
     "output_type": "display_data"
    },
    {
     "data": {
      "application/vnd.jupyter.widget-view+json": {
       "model_id": "3b38fff05a114a1d8aa7ea9937b167a7",
       "version_major": 2,
       "version_minor": 0
      },
      "text/plain": [
       "VBox(children=(Label(value='Images being processed'), IntProgress(value=0, max=5)))"
      ]
     },
     "metadata": {},
     "output_type": "display_data"
    },
    {
     "data": {
      "application/vnd.jupyter.widget-view+json": {
       "model_id": "15e743ace88d47cba88a0527c7cdcdbc",
       "version_major": 2,
       "version_minor": 0
      },
      "text/plain": [
       "VBox(children=(Label(value='Images being processed'), IntProgress(value=0, max=5)))"
      ]
     },
     "metadata": {},
     "output_type": "display_data"
    },
    {
     "data": {
      "application/vnd.jupyter.widget-view+json": {
       "model_id": "22bedc33c4ba4d8bae69b0db02e4b8a0",
       "version_major": 2,
       "version_minor": 0
      },
      "text/plain": [
       "VBox(children=(Label(value='Images being processed'), IntProgress(value=0, max=4)))"
      ]
     },
     "metadata": {},
     "output_type": "display_data"
    },
    {
     "data": {
      "application/vnd.jupyter.widget-view+json": {
       "model_id": "6b3069125fb940928f722da46112272c",
       "version_major": 2,
       "version_minor": 0
      },
      "text/plain": [
       "VBox(children=(Label(value='Images being processed'), IntProgress(value=0, max=4)))"
      ]
     },
     "metadata": {},
     "output_type": "display_data"
    },
    {
     "data": {
      "application/vnd.jupyter.widget-view+json": {
       "model_id": "0193e626d59a410a86818d189e0b12f2",
       "version_major": 2,
       "version_minor": 0
      },
      "text/plain": [
       "VBox(children=(Label(value='Images being processed'), IntProgress(value=0, max=4)))"
      ]
     },
     "metadata": {},
     "output_type": "display_data"
    },
    {
     "data": {
      "application/vnd.jupyter.widget-view+json": {
       "model_id": "8b12c6916edb421fba9ed79e9a4b54c2",
       "version_major": 2,
       "version_minor": 0
      },
      "text/plain": [
       "VBox(children=(Label(value='Images being processed'), IntProgress(value=0, max=5)))"
      ]
     },
     "metadata": {},
     "output_type": "display_data"
    },
    {
     "data": {
      "application/vnd.jupyter.widget-view+json": {
       "model_id": "53fd0e3235f64abda9faa72a126994d3",
       "version_major": 2,
       "version_minor": 0
      },
      "text/plain": [
       "VBox(children=(Label(value='Images being processed'), IntProgress(value=0, max=4)))"
      ]
     },
     "metadata": {},
     "output_type": "display_data"
    },
    {
     "data": {
      "application/vnd.jupyter.widget-view+json": {
       "model_id": "3748a46214454a52b27b10838d90dd5f",
       "version_major": 2,
       "version_minor": 0
      },
      "text/plain": [
       "VBox(children=(Label(value='Images being processed'), IntProgress(value=0, max=4)))"
      ]
     },
     "metadata": {},
     "output_type": "display_data"
    },
    {
     "data": {
      "application/vnd.jupyter.widget-view+json": {
       "model_id": "7d2df063d1ee49f3971715b73218d176",
       "version_major": 2,
       "version_minor": 0
      },
      "text/plain": [
       "VBox(children=(Label(value='Images being processed'), IntProgress(value=0, max=5)))"
      ]
     },
     "metadata": {},
     "output_type": "display_data"
    },
    {
     "data": {
      "application/vnd.jupyter.widget-view+json": {
       "model_id": "b8d68ba8d4454c16b7913f66279a2fcc",
       "version_major": 2,
       "version_minor": 0
      },
      "text/plain": [
       "VBox(children=(Label(value='Images being processed'), IntProgress(value=0, max=4)))"
      ]
     },
     "metadata": {},
     "output_type": "display_data"
    },
    {
     "data": {
      "application/vnd.jupyter.widget-view+json": {
       "model_id": "46e31275e09145c296953a2c98fdaa12",
       "version_major": 2,
       "version_minor": 0
      },
      "text/plain": [
       "VBox(children=(Label(value='Images being processed'), IntProgress(value=0, max=4)))"
      ]
     },
     "metadata": {},
     "output_type": "display_data"
    },
    {
     "data": {
      "application/vnd.jupyter.widget-view+json": {
       "model_id": "e039e24f978743d986e14da2a8d67ee5",
       "version_major": 2,
       "version_minor": 0
      },
      "text/plain": [
       "VBox(children=(Label(value='Images being processed'), IntProgress(value=0, max=4)))"
      ]
     },
     "metadata": {},
     "output_type": "display_data"
    },
    {
     "data": {
      "application/vnd.jupyter.widget-view+json": {
       "model_id": "fe2d8d7bc0a0409c81ac7ba3d29f63a9",
       "version_major": 2,
       "version_minor": 0
      },
      "text/plain": [
       "VBox(children=(Label(value='Images being processed'), IntProgress(value=0, max=4)))"
      ]
     },
     "metadata": {},
     "output_type": "display_data"
    },
    {
     "data": {
      "application/vnd.jupyter.widget-view+json": {
       "model_id": "bbfc512abf0442b68866db6850d79818",
       "version_major": 2,
       "version_minor": 0
      },
      "text/plain": [
       "VBox(children=(Label(value='Images being processed'), IntProgress(value=0, max=4)))"
      ]
     },
     "metadata": {},
     "output_type": "display_data"
    },
    {
     "data": {
      "application/vnd.jupyter.widget-view+json": {
       "model_id": "94316a78ec4e454d90abcfe4ac84340b",
       "version_major": 2,
       "version_minor": 0
      },
      "text/plain": [
       "VBox(children=(Label(value='Images being processed'), IntProgress(value=0, max=4)))"
      ]
     },
     "metadata": {},
     "output_type": "display_data"
    },
    {
     "data": {
      "application/vnd.jupyter.widget-view+json": {
       "model_id": "8c5fb406118a4d89a60b8c1da3dfbe64",
       "version_major": 2,
       "version_minor": 0
      },
      "text/plain": [
       "VBox(children=(Label(value='Images being processed'), IntProgress(value=0, max=4)))"
      ]
     },
     "metadata": {},
     "output_type": "display_data"
    },
    {
     "data": {
      "application/vnd.jupyter.widget-view+json": {
       "model_id": "2e7bdf3ee2a04012b0504b283e4a523b",
       "version_major": 2,
       "version_minor": 0
      },
      "text/plain": [
       "VBox(children=(Label(value='Images being processed'), IntProgress(value=0, max=4)))"
      ]
     },
     "metadata": {},
     "output_type": "display_data"
    },
    {
     "data": {
      "application/vnd.jupyter.widget-view+json": {
       "model_id": "6bfb8cf474974d72a56efedeaa25c705",
       "version_major": 2,
       "version_minor": 0
      },
      "text/plain": [
       "VBox(children=(Label(value='Images being processed'), IntProgress(value=0, max=4)))"
      ]
     },
     "metadata": {},
     "output_type": "display_data"
    },
    {
     "data": {
      "application/vnd.jupyter.widget-view+json": {
       "model_id": "593a670c1b0d40e6bf5d7ef7e332362b",
       "version_major": 2,
       "version_minor": 0
      },
      "text/plain": [
       "VBox(children=(Label(value='Images being processed'), IntProgress(value=0, max=4)))"
      ]
     },
     "metadata": {},
     "output_type": "display_data"
    },
    {
     "data": {
      "application/vnd.jupyter.widget-view+json": {
       "model_id": "be09386fc2394f50aaf0cde3888a3d15",
       "version_major": 2,
       "version_minor": 0
      },
      "text/plain": [
       "VBox(children=(Label(value='Images being processed'), IntProgress(value=0, max=4)))"
      ]
     },
     "metadata": {},
     "output_type": "display_data"
    },
    {
     "data": {
      "application/vnd.jupyter.widget-view+json": {
       "model_id": "45f185ebfdef40d1a8a14e22c14a35a2",
       "version_major": 2,
       "version_minor": 0
      },
      "text/plain": [
       "VBox(children=(Label(value='Images being processed'), IntProgress(value=0, max=4)))"
      ]
     },
     "metadata": {},
     "output_type": "display_data"
    },
    {
     "data": {
      "application/vnd.jupyter.widget-view+json": {
       "model_id": "07a79cc1160c4546bdc25017650b872a",
       "version_major": 2,
       "version_minor": 0
      },
      "text/plain": [
       "VBox(children=(Label(value='Images being processed'), IntProgress(value=0, max=4)))"
      ]
     },
     "metadata": {},
     "output_type": "display_data"
    },
    {
     "data": {
      "application/vnd.jupyter.widget-view+json": {
       "model_id": "d64a7594a2b341df9ff5e0310b1641c8",
       "version_major": 2,
       "version_minor": 0
      },
      "text/plain": [
       "VBox(children=(Label(value='Images being processed'), IntProgress(value=0, max=5)))"
      ]
     },
     "metadata": {},
     "output_type": "display_data"
    },
    {
     "data": {
      "application/vnd.jupyter.widget-view+json": {
       "model_id": "6a25ac233d6b4640a74074f0085c1f10",
       "version_major": 2,
       "version_minor": 0
      },
      "text/plain": [
       "VBox(children=(Label(value='Images being processed'), IntProgress(value=0, max=2)))"
      ]
     },
     "metadata": {},
     "output_type": "display_data"
    },
    {
     "data": {
      "application/vnd.jupyter.widget-view+json": {
       "model_id": "33c2543e1d054d9cb3df0acebfd242b6",
       "version_major": 2,
       "version_minor": 0
      },
      "text/plain": [
       "VBox(children=(Label(value='Images being processed'), IntProgress(value=0, max=4)))"
      ]
     },
     "metadata": {},
     "output_type": "display_data"
    },
    {
     "data": {
      "application/vnd.jupyter.widget-view+json": {
       "model_id": "2ef328c2536f4cf7986e235c6c3441b4",
       "version_major": 2,
       "version_minor": 0
      },
      "text/plain": [
       "VBox(children=(Label(value='Images being processed'), IntProgress(value=0, max=4)))"
      ]
     },
     "metadata": {},
     "output_type": "display_data"
    },
    {
     "data": {
      "application/vnd.jupyter.widget-view+json": {
       "model_id": "82dbc270de654ed88e5f7a5cf4dc6eed",
       "version_major": 2,
       "version_minor": 0
      },
      "text/plain": [
       "VBox(children=(Label(value='Images being processed'), IntProgress(value=0, max=4)))"
      ]
     },
     "metadata": {},
     "output_type": "display_data"
    },
    {
     "data": {
      "application/vnd.jupyter.widget-view+json": {
       "model_id": "388c8ea1b9d3411f85ede42c7cac6486",
       "version_major": 2,
       "version_minor": 0
      },
      "text/plain": [
       "VBox(children=(Label(value='Images being processed'), IntProgress(value=0, max=5)))"
      ]
     },
     "metadata": {},
     "output_type": "display_data"
    },
    {
     "data": {
      "application/vnd.jupyter.widget-view+json": {
       "model_id": "622ebba23ecb4593b535064e83e8ba78",
       "version_major": 2,
       "version_minor": 0
      },
      "text/plain": [
       "VBox(children=(Label(value='Images being processed'), IntProgress(value=0, max=4)))"
      ]
     },
     "metadata": {},
     "output_type": "display_data"
    },
    {
     "data": {
      "application/vnd.jupyter.widget-view+json": {
       "model_id": "09b1c70741dd4ad781f5b351ae741776",
       "version_major": 2,
       "version_minor": 0
      },
      "text/plain": [
       "VBox(children=(Label(value='Images being processed'), IntProgress(value=0, max=4)))"
      ]
     },
     "metadata": {},
     "output_type": "display_data"
    },
    {
     "data": {
      "application/vnd.jupyter.widget-view+json": {
       "model_id": "4e8b02af5673443b988bd9b48760140b",
       "version_major": 2,
       "version_minor": 0
      },
      "text/plain": [
       "VBox(children=(Label(value='Images being processed'), IntProgress(value=0, max=4)))"
      ]
     },
     "metadata": {},
     "output_type": "display_data"
    }
   ],
   "source": [
    "# start batch process\n",
    "\n",
    "# progress bar\n",
    "progress_label = Label('Directories being processed')\n",
    "progress_bar = IntProgress(min=0, max=number_of_input_dirs)\n",
    "progress_widget = VBox([progress_label, progress_bar])\n",
    "display(progress_widget)\n",
    "\n",
    "for index, directory_path in enumerate(input_directory_paths_list, start=1):\n",
    "    \n",
    "    # update progress bar label\n",
    "    progress_label.value = f'Processing directory: {directory_path.name} . . . {index}/{number_of_input_dirs}'\n",
    "    \n",
    "    # load directory path as class & process\n",
    "    issue = Agrtfn(directory_path)\n",
    "    issue.get_image_paths_list()\n",
    "    issue.ocr()\n",
    "    \n",
    "    #update progress bar value\n",
    "    progress_bar.value = index\n",
    "\n",
    "print(f'Processed {index} directories')"
   ]
  },
  {
   "cell_type": "code",
   "execution_count": null,
   "metadata": {},
   "outputs": [],
   "source": []
  }
 ],
 "metadata": {
  "kernelspec": {
   "display_name": "Python 3",
   "language": "python",
   "name": "python3"
  },
  "language_info": {
   "codemirror_mode": {
    "name": "ipython",
    "version": 3
   },
   "file_extension": ".py",
   "mimetype": "text/x-python",
   "name": "python",
   "nbconvert_exporter": "python",
   "pygments_lexer": "ipython3",
   "version": "3.7.4"
  },
  "toc": {
   "base_numbering": 1,
   "nav_menu": {},
   "number_sections": true,
   "sideBar": true,
   "skip_h1_title": false,
   "title_cell": "Table of Contents",
   "title_sidebar": "Contents",
   "toc_cell": false,
   "toc_position": {},
   "toc_section_display": true,
   "toc_window_display": false
  }
 },
 "nbformat": 4,
 "nbformat_minor": 2
}
