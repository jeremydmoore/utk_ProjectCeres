{
 "cells": [
  {
   "cell_type": "markdown",
   "metadata": {},
   "source": [
    "# Create Project CERES Deliverables for Tennessee farm and home science (agrtfn)"
   ]
  },
  {
   "cell_type": "code",
   "execution_count": 74,
   "metadata": {
    "code_folding": []
   },
   "outputs": [
    {
     "data": {
      "text/html": [
       "<style>.container { width:95% !important; }</style>"
      ],
      "text/plain": [
       "<IPython.core.display.HTML object>"
      ]
     },
     "metadata": {},
     "output_type": "display_data"
    }
   ],
   "source": [
    "# importing and options\n",
    "import time\n",
    "from pathlib import Path\n",
    "\n",
    "import pandas as pd\n",
    "from ipywidgets import IntProgress, Label, VBox\n",
    "from IPython.display import display\n",
    "\n",
    "# == display 95% width\n",
    "from IPython.core.display import display, HTML\n",
    "display(HTML(\"<style>.container { width:95% !important; }</style>\"))\n",
    "\n",
    "# set pandas option to display wider column info, use -1 to expand to largest necessary width\n",
    "pd.set_option('max_colwidth', -1)"
   ]
  },
  {
   "cell_type": "markdown",
   "metadata": {},
   "source": [
    "## Load data from CSV"
   ]
  },
  {
   "cell_type": "code",
   "execution_count": 75,
   "metadata": {
    "code_folding": []
   },
   "outputs": [
    {
     "data": {
      "text/html": [
       "<div>\n",
       "<style scoped>\n",
       "    .dataframe tbody tr th:only-of-type {\n",
       "        vertical-align: middle;\n",
       "    }\n",
       "\n",
       "    .dataframe tbody tr th {\n",
       "        vertical-align: top;\n",
       "    }\n",
       "\n",
       "    .dataframe thead th {\n",
       "        text-align: right;\n",
       "    }\n",
       "</style>\n",
       "<table border=\"1\" class=\"dataframe\">\n",
       "  <thead>\n",
       "    <tr style=\"text-align: right;\">\n",
       "      <th></th>\n",
       "      <th>adminDB</th>\n",
       "      <th>title</th>\n",
       "      <th>date_from_utk_metadata_app</th>\n",
       "      <th>crl_deliverable_directory</th>\n",
       "    </tr>\n",
       "  </thead>\n",
       "  <tbody>\n",
       "    <tr>\n",
       "      <th>0</th>\n",
       "      <td>0012_004266_000001</td>\n",
       "      <td>Tennessee farm news, January 2, 1925</td>\n",
       "      <td>January 2, 1921</td>\n",
       "      <td>NaN</td>\n",
       "    </tr>\n",
       "    <tr>\n",
       "      <th>1</th>\n",
       "      <td>0012_004266_000002</td>\n",
       "      <td>Tennessee farm news, January 9, 1921</td>\n",
       "      <td>January 9, 1921</td>\n",
       "      <td>NaN</td>\n",
       "    </tr>\n",
       "    <tr>\n",
       "      <th>2</th>\n",
       "      <td>0012_004266_000003</td>\n",
       "      <td>Tennessee farm news, July 4, 1921</td>\n",
       "      <td>July 13, 1925</td>\n",
       "      <td>NaN</td>\n",
       "    </tr>\n",
       "    <tr>\n",
       "      <th>3</th>\n",
       "      <td>0012_004266_000004</td>\n",
       "      <td>Tennessee farm news, July 11, 1921</td>\n",
       "      <td>July 13, 1925</td>\n",
       "      <td>NaN</td>\n",
       "    </tr>\n",
       "    <tr>\n",
       "      <th>4</th>\n",
       "      <td>0012_004266_000005</td>\n",
       "      <td>Tennessee farm news, July 16, 1921</td>\n",
       "      <td>July 13, 1925</td>\n",
       "      <td>NaN</td>\n",
       "    </tr>\n",
       "  </tbody>\n",
       "</table>\n",
       "</div>"
      ],
      "text/plain": [
       "              adminDB                                 title  \\\n",
       "0  0012_004266_000001  Tennessee farm news, January 2, 1925   \n",
       "1  0012_004266_000002  Tennessee farm news, January 9, 1921   \n",
       "2  0012_004266_000003  Tennessee farm news, July 4, 1921      \n",
       "3  0012_004266_000004  Tennessee farm news, July 11, 1921     \n",
       "4  0012_004266_000005  Tennessee farm news, July 16, 1921     \n",
       "\n",
       "  date_from_utk_metadata_app  crl_deliverable_directory  \n",
       "0  January 2, 1921           NaN                         \n",
       "1  January 9, 1921           NaN                         \n",
       "2  July 13, 1925             NaN                         \n",
       "3  July 13, 1925             NaN                         \n",
       "4  July 13, 1925             NaN                         "
      ]
     },
     "execution_count": 75,
     "metadata": {},
     "output_type": "execute_result"
    }
   ],
   "source": [
    "# exported Google Docs spreadsheet as csv\n",
    "meta_df = pd.read_csv('data/agrtfn_crl_deliverables.csv')\n",
    "meta_df.head(5)"
   ]
  },
  {
   "cell_type": "code",
   "execution_count": 76,
   "metadata": {},
   "outputs": [
    {
     "data": {
      "text/html": [
       "<div>\n",
       "<style scoped>\n",
       "    .dataframe tbody tr th:only-of-type {\n",
       "        vertical-align: middle;\n",
       "    }\n",
       "\n",
       "    .dataframe tbody tr th {\n",
       "        vertical-align: top;\n",
       "    }\n",
       "\n",
       "    .dataframe thead th {\n",
       "        text-align: right;\n",
       "    }\n",
       "</style>\n",
       "<table border=\"1\" class=\"dataframe\">\n",
       "  <thead>\n",
       "    <tr style=\"text-align: right;\">\n",
       "      <th></th>\n",
       "      <th>adminDB</th>\n",
       "      <th>title</th>\n",
       "      <th>date_from_utk_metadata_app</th>\n",
       "    </tr>\n",
       "  </thead>\n",
       "  <tbody>\n",
       "    <tr>\n",
       "      <th>0</th>\n",
       "      <td>0012_004266_000001</td>\n",
       "      <td>Tennessee farm news, January 2, 1925</td>\n",
       "      <td>January 2, 1921</td>\n",
       "    </tr>\n",
       "    <tr>\n",
       "      <th>1</th>\n",
       "      <td>0012_004266_000002</td>\n",
       "      <td>Tennessee farm news, January 9, 1921</td>\n",
       "      <td>January 9, 1921</td>\n",
       "    </tr>\n",
       "    <tr>\n",
       "      <th>2</th>\n",
       "      <td>0012_004266_000003</td>\n",
       "      <td>Tennessee farm news, July 4, 1921</td>\n",
       "      <td>July 13, 1925</td>\n",
       "    </tr>\n",
       "    <tr>\n",
       "      <th>3</th>\n",
       "      <td>0012_004266_000004</td>\n",
       "      <td>Tennessee farm news, July 11, 1921</td>\n",
       "      <td>July 13, 1925</td>\n",
       "    </tr>\n",
       "    <tr>\n",
       "      <th>4</th>\n",
       "      <td>0012_004266_000005</td>\n",
       "      <td>Tennessee farm news, July 16, 1921</td>\n",
       "      <td>July 13, 1925</td>\n",
       "    </tr>\n",
       "  </tbody>\n",
       "</table>\n",
       "</div>"
      ],
      "text/plain": [
       "              adminDB                                 title  \\\n",
       "0  0012_004266_000001  Tennessee farm news, January 2, 1925   \n",
       "1  0012_004266_000002  Tennessee farm news, January 9, 1921   \n",
       "2  0012_004266_000003  Tennessee farm news, July 4, 1921      \n",
       "3  0012_004266_000004  Tennessee farm news, July 11, 1921     \n",
       "4  0012_004266_000005  Tennessee farm news, July 16, 1921     \n",
       "\n",
       "  date_from_utk_metadata_app  \n",
       "0  January 2, 1921            \n",
       "1  January 9, 1921            \n",
       "2  July 13, 1925              \n",
       "3  July 13, 1925              \n",
       "4  July 13, 1925              "
      ]
     },
     "execution_count": 76,
     "metadata": {},
     "output_type": "execute_result"
    }
   ],
   "source": [
    "# drop unfilled crl_deliverable_directory\n",
    "meta_df = meta_df.drop(labels='crl_deliverable_directory', axis=1)\n",
    "meta_df.head(5)"
   ]
  },
  {
   "cell_type": "markdown",
   "metadata": {},
   "source": [
    "## Split date from title"
   ]
  },
  {
   "cell_type": "code",
   "execution_count": 77,
   "metadata": {},
   "outputs": [
    {
     "data": {
      "text/plain": [
       "0    January 2, 1925\n",
       "1    January 9, 1921\n",
       "2    July 4, 1921   \n",
       "3    July 11, 1921  \n",
       "4    July 16, 1921  \n",
       "Name: title, dtype: object"
      ]
     },
     "execution_count": 77,
     "metadata": {},
     "output_type": "execute_result"
    }
   ],
   "source": [
    "# split by comma and space then get everything after first match\n",
    "meta_df['title'].str.split(', ', n=1).str[1].head(5)"
   ]
  },
  {
   "cell_type": "code",
   "execution_count": 78,
   "metadata": {
    "scrolled": true
   },
   "outputs": [
    {
     "data": {
      "text/html": [
       "<div>\n",
       "<style scoped>\n",
       "    .dataframe tbody tr th:only-of-type {\n",
       "        vertical-align: middle;\n",
       "    }\n",
       "\n",
       "    .dataframe tbody tr th {\n",
       "        vertical-align: top;\n",
       "    }\n",
       "\n",
       "    .dataframe thead th {\n",
       "        text-align: right;\n",
       "    }\n",
       "</style>\n",
       "<table border=\"1\" class=\"dataframe\">\n",
       "  <thead>\n",
       "    <tr style=\"text-align: right;\">\n",
       "      <th></th>\n",
       "      <th>adminDB</th>\n",
       "      <th>title</th>\n",
       "      <th>date_from_utk_metadata_app</th>\n",
       "      <th>date</th>\n",
       "    </tr>\n",
       "  </thead>\n",
       "  <tbody>\n",
       "    <tr>\n",
       "      <th>0</th>\n",
       "      <td>0012_004266_000001</td>\n",
       "      <td>Tennessee farm news, January 2, 1925</td>\n",
       "      <td>January 2, 1921</td>\n",
       "      <td>January 2, 1925</td>\n",
       "    </tr>\n",
       "    <tr>\n",
       "      <th>1</th>\n",
       "      <td>0012_004266_000002</td>\n",
       "      <td>Tennessee farm news, January 9, 1921</td>\n",
       "      <td>January 9, 1921</td>\n",
       "      <td>January 9, 1921</td>\n",
       "    </tr>\n",
       "    <tr>\n",
       "      <th>2</th>\n",
       "      <td>0012_004266_000003</td>\n",
       "      <td>Tennessee farm news, July 4, 1921</td>\n",
       "      <td>July 13, 1925</td>\n",
       "      <td>July 4, 1921</td>\n",
       "    </tr>\n",
       "    <tr>\n",
       "      <th>3</th>\n",
       "      <td>0012_004266_000004</td>\n",
       "      <td>Tennessee farm news, July 11, 1921</td>\n",
       "      <td>July 13, 1925</td>\n",
       "      <td>July 11, 1921</td>\n",
       "    </tr>\n",
       "    <tr>\n",
       "      <th>4</th>\n",
       "      <td>0012_004266_000005</td>\n",
       "      <td>Tennessee farm news, July 16, 1921</td>\n",
       "      <td>July 13, 1925</td>\n",
       "      <td>July 16, 1921</td>\n",
       "    </tr>\n",
       "  </tbody>\n",
       "</table>\n",
       "</div>"
      ],
      "text/plain": [
       "              adminDB                                 title  \\\n",
       "0  0012_004266_000001  Tennessee farm news, January 2, 1925   \n",
       "1  0012_004266_000002  Tennessee farm news, January 9, 1921   \n",
       "2  0012_004266_000003  Tennessee farm news, July 4, 1921      \n",
       "3  0012_004266_000004  Tennessee farm news, July 11, 1921     \n",
       "4  0012_004266_000005  Tennessee farm news, July 16, 1921     \n",
       "\n",
       "  date_from_utk_metadata_app             date  \n",
       "0  January 2, 1921            January 2, 1925  \n",
       "1  January 9, 1921            January 9, 1921  \n",
       "2  July 13, 1925              July 4, 1921     \n",
       "3  July 13, 1925              July 11, 1921    \n",
       "4  July 13, 1925              July 16, 1921    "
      ]
     },
     "execution_count": 78,
     "metadata": {},
     "output_type": "execute_result"
    }
   ],
   "source": [
    "# add date_range to Dataframe by rsplitting on comma and taking the last field\n",
    "meta_df['date'] = meta_df['title'].str.split(', ', n=1).str[1]\n",
    "meta_df.head(5)"
   ]
  },
  {
   "cell_type": "markdown",
   "metadata": {},
   "source": [
    "## Convert date into yyyy, mm, dd"
   ]
  },
  {
   "cell_type": "code",
   "execution_count": 79,
   "metadata": {
    "scrolled": true
   },
   "outputs": [
    {
     "data": {
      "text/plain": [
       "0    January\n",
       "1    January\n",
       "2    July   \n",
       "3    July   \n",
       "4    July   \n",
       "Name: date, dtype: object"
      ]
     },
     "execution_count": 79,
     "metadata": {},
     "output_type": "execute_result"
    }
   ],
   "source": [
    "# split date range by spaces and get the first month\n",
    "meta_df['date'].str.split().str[0].head(5)"
   ]
  },
  {
   "cell_type": "code",
   "execution_count": 80,
   "metadata": {
    "code_folding": []
   },
   "outputs": [
    {
     "data": {
      "text/html": [
       "<div>\n",
       "<style scoped>\n",
       "    .dataframe tbody tr th:only-of-type {\n",
       "        vertical-align: middle;\n",
       "    }\n",
       "\n",
       "    .dataframe tbody tr th {\n",
       "        vertical-align: top;\n",
       "    }\n",
       "\n",
       "    .dataframe thead th {\n",
       "        text-align: right;\n",
       "    }\n",
       "</style>\n",
       "<table border=\"1\" class=\"dataframe\">\n",
       "  <thead>\n",
       "    <tr style=\"text-align: right;\">\n",
       "      <th></th>\n",
       "      <th>adminDB</th>\n",
       "      <th>title</th>\n",
       "      <th>date_from_utk_metadata_app</th>\n",
       "      <th>date</th>\n",
       "      <th>Month</th>\n",
       "    </tr>\n",
       "  </thead>\n",
       "  <tbody>\n",
       "    <tr>\n",
       "      <th>0</th>\n",
       "      <td>0012_004266_000001</td>\n",
       "      <td>Tennessee farm news, January 2, 1925</td>\n",
       "      <td>January 2, 1921</td>\n",
       "      <td>January 2, 1925</td>\n",
       "      <td>January</td>\n",
       "    </tr>\n",
       "    <tr>\n",
       "      <th>1</th>\n",
       "      <td>0012_004266_000002</td>\n",
       "      <td>Tennessee farm news, January 9, 1921</td>\n",
       "      <td>January 9, 1921</td>\n",
       "      <td>January 9, 1921</td>\n",
       "      <td>January</td>\n",
       "    </tr>\n",
       "    <tr>\n",
       "      <th>2</th>\n",
       "      <td>0012_004266_000003</td>\n",
       "      <td>Tennessee farm news, July 4, 1921</td>\n",
       "      <td>July 13, 1925</td>\n",
       "      <td>July 4, 1921</td>\n",
       "      <td>July</td>\n",
       "    </tr>\n",
       "    <tr>\n",
       "      <th>3</th>\n",
       "      <td>0012_004266_000004</td>\n",
       "      <td>Tennessee farm news, July 11, 1921</td>\n",
       "      <td>July 13, 1925</td>\n",
       "      <td>July 11, 1921</td>\n",
       "      <td>July</td>\n",
       "    </tr>\n",
       "    <tr>\n",
       "      <th>4</th>\n",
       "      <td>0012_004266_000005</td>\n",
       "      <td>Tennessee farm news, July 16, 1921</td>\n",
       "      <td>July 13, 1925</td>\n",
       "      <td>July 16, 1921</td>\n",
       "      <td>July</td>\n",
       "    </tr>\n",
       "  </tbody>\n",
       "</table>\n",
       "</div>"
      ],
      "text/plain": [
       "              adminDB                                 title  \\\n",
       "0  0012_004266_000001  Tennessee farm news, January 2, 1925   \n",
       "1  0012_004266_000002  Tennessee farm news, January 9, 1921   \n",
       "2  0012_004266_000003  Tennessee farm news, July 4, 1921      \n",
       "3  0012_004266_000004  Tennessee farm news, July 11, 1921     \n",
       "4  0012_004266_000005  Tennessee farm news, July 16, 1921     \n",
       "\n",
       "  date_from_utk_metadata_app             date    Month  \n",
       "0  January 2, 1921            January 2, 1925  January  \n",
       "1  January 9, 1921            January 9, 1921  January  \n",
       "2  July 13, 1925              July 4, 1921     July     \n",
       "3  July 13, 1925              July 11, 1921    July     \n",
       "4  July 13, 1925              July 16, 1921    July     "
      ]
     },
     "execution_count": 80,
     "metadata": {},
     "output_type": "execute_result"
    }
   ],
   "source": [
    "# add the month to the DataFrame\n",
    "meta_df['Month'] = meta_df['date'].str.split().str[0]\n",
    "meta_df.head(5)"
   ]
  },
  {
   "cell_type": "code",
   "execution_count": 81,
   "metadata": {
    "code_folding": []
   },
   "outputs": [
    {
     "data": {
      "text/html": [
       "<div>\n",
       "<style scoped>\n",
       "    .dataframe tbody tr th:only-of-type {\n",
       "        vertical-align: middle;\n",
       "    }\n",
       "\n",
       "    .dataframe tbody tr th {\n",
       "        vertical-align: top;\n",
       "    }\n",
       "\n",
       "    .dataframe thead th {\n",
       "        text-align: right;\n",
       "    }\n",
       "</style>\n",
       "<table border=\"1\" class=\"dataframe\">\n",
       "  <thead>\n",
       "    <tr style=\"text-align: right;\">\n",
       "      <th></th>\n",
       "      <th>adminDB</th>\n",
       "      <th>title</th>\n",
       "      <th>date_from_utk_metadata_app</th>\n",
       "      <th>date</th>\n",
       "      <th>Month</th>\n",
       "      <th>yyyy</th>\n",
       "    </tr>\n",
       "  </thead>\n",
       "  <tbody>\n",
       "    <tr>\n",
       "      <th>0</th>\n",
       "      <td>0012_004266_000001</td>\n",
       "      <td>Tennessee farm news, January 2, 1925</td>\n",
       "      <td>January 2, 1921</td>\n",
       "      <td>January 2, 1925</td>\n",
       "      <td>January</td>\n",
       "      <td>1925</td>\n",
       "    </tr>\n",
       "    <tr>\n",
       "      <th>1</th>\n",
       "      <td>0012_004266_000002</td>\n",
       "      <td>Tennessee farm news, January 9, 1921</td>\n",
       "      <td>January 9, 1921</td>\n",
       "      <td>January 9, 1921</td>\n",
       "      <td>January</td>\n",
       "      <td>1921</td>\n",
       "    </tr>\n",
       "    <tr>\n",
       "      <th>2</th>\n",
       "      <td>0012_004266_000003</td>\n",
       "      <td>Tennessee farm news, July 4, 1921</td>\n",
       "      <td>July 13, 1925</td>\n",
       "      <td>July 4, 1921</td>\n",
       "      <td>July</td>\n",
       "      <td>1921</td>\n",
       "    </tr>\n",
       "    <tr>\n",
       "      <th>3</th>\n",
       "      <td>0012_004266_000004</td>\n",
       "      <td>Tennessee farm news, July 11, 1921</td>\n",
       "      <td>July 13, 1925</td>\n",
       "      <td>July 11, 1921</td>\n",
       "      <td>July</td>\n",
       "      <td>1921</td>\n",
       "    </tr>\n",
       "    <tr>\n",
       "      <th>4</th>\n",
       "      <td>0012_004266_000005</td>\n",
       "      <td>Tennessee farm news, July 16, 1921</td>\n",
       "      <td>July 13, 1925</td>\n",
       "      <td>July 16, 1921</td>\n",
       "      <td>July</td>\n",
       "      <td>1921</td>\n",
       "    </tr>\n",
       "  </tbody>\n",
       "</table>\n",
       "</div>"
      ],
      "text/plain": [
       "              adminDB                                 title  \\\n",
       "0  0012_004266_000001  Tennessee farm news, January 2, 1925   \n",
       "1  0012_004266_000002  Tennessee farm news, January 9, 1921   \n",
       "2  0012_004266_000003  Tennessee farm news, July 4, 1921      \n",
       "3  0012_004266_000004  Tennessee farm news, July 11, 1921     \n",
       "4  0012_004266_000005  Tennessee farm news, July 16, 1921     \n",
       "\n",
       "  date_from_utk_metadata_app             date    Month  yyyy  \n",
       "0  January 2, 1921            January 2, 1925  January  1925  \n",
       "1  January 9, 1921            January 9, 1921  January  1921  \n",
       "2  July 13, 1925              July 4, 1921     July     1921  \n",
       "3  July 13, 1925              July 11, 1921    July     1921  \n",
       "4  July 13, 1925              July 16, 1921    July     1921  "
      ]
     },
     "execution_count": 81,
     "metadata": {},
     "output_type": "execute_result"
    }
   ],
   "source": [
    "# split yyyy from date range and add to Dataframe\n",
    "meta_df['yyyy'] = meta_df['date'].str.split().str[-1]\n",
    "meta_df.head(5)"
   ]
  },
  {
   "cell_type": "code",
   "execution_count": 82,
   "metadata": {
    "code_folding": []
   },
   "outputs": [
    {
     "data": {
      "text/plain": [
       "'01'"
      ]
     },
     "execution_count": 82,
     "metadata": {},
     "output_type": "execute_result"
    }
   ],
   "source": [
    "# convert month to mm, e.g. January -> 01\n",
    "str(time.strptime(meta_df['Month'][0], '%B').tm_mon).zfill(2)"
   ]
  },
  {
   "cell_type": "code",
   "execution_count": 83,
   "metadata": {
    "code_folding": []
   },
   "outputs": [
    {
     "data": {
      "text/plain": [
       "['01', '01', '07', '07', '07', '07']"
      ]
     },
     "execution_count": 83,
     "metadata": {},
     "output_type": "execute_result"
    }
   ],
   "source": [
    "# create a list of what the mm column should be\n",
    "# due to formatting issues getting time.strptime to work on a Pandas column\n",
    "mm_list = []\n",
    "for index, value in enumerate(meta_df['Month']):\n",
    "    try:\n",
    "        mm = str(time.strptime(value, '%B').tm_mon).zfill(2)\n",
    "    except ValueError:\n",
    "        print(index, value)\n",
    "    mm_list.append(mm)\n",
    "mm_list[:6]"
   ]
  },
  {
   "cell_type": "code",
   "execution_count": 84,
   "metadata": {
    "code_folding": [
     0
    ]
   },
   "outputs": [
    {
     "data": {
      "text/html": [
       "<div>\n",
       "<style scoped>\n",
       "    .dataframe tbody tr th:only-of-type {\n",
       "        vertical-align: middle;\n",
       "    }\n",
       "\n",
       "    .dataframe tbody tr th {\n",
       "        vertical-align: top;\n",
       "    }\n",
       "\n",
       "    .dataframe thead th {\n",
       "        text-align: right;\n",
       "    }\n",
       "</style>\n",
       "<table border=\"1\" class=\"dataframe\">\n",
       "  <thead>\n",
       "    <tr style=\"text-align: right;\">\n",
       "      <th></th>\n",
       "      <th>adminDB</th>\n",
       "      <th>title</th>\n",
       "      <th>date_from_utk_metadata_app</th>\n",
       "      <th>date</th>\n",
       "      <th>Month</th>\n",
       "      <th>yyyy</th>\n",
       "      <th>mm</th>\n",
       "    </tr>\n",
       "  </thead>\n",
       "  <tbody>\n",
       "    <tr>\n",
       "      <th>3446</th>\n",
       "      <td>0012_004266_003448</td>\n",
       "      <td>Tennessee farm and home news, September 15, 1947</td>\n",
       "      <td>NaN</td>\n",
       "      <td>September 15, 1947</td>\n",
       "      <td>September</td>\n",
       "      <td>1947</td>\n",
       "      <td>09</td>\n",
       "    </tr>\n",
       "    <tr>\n",
       "      <th>3447</th>\n",
       "      <td>0012_004266_003449</td>\n",
       "      <td>Tennessee farm and home news, April 2, 1951</td>\n",
       "      <td>NaN</td>\n",
       "      <td>April 2, 1951</td>\n",
       "      <td>April</td>\n",
       "      <td>1951</td>\n",
       "      <td>04</td>\n",
       "    </tr>\n",
       "    <tr>\n",
       "      <th>3448</th>\n",
       "      <td>0012_004266_003450</td>\n",
       "      <td>Tennessee farm and home news, January 27, 1947</td>\n",
       "      <td>NaN</td>\n",
       "      <td>January 27, 1947</td>\n",
       "      <td>January</td>\n",
       "      <td>1947</td>\n",
       "      <td>01</td>\n",
       "    </tr>\n",
       "    <tr>\n",
       "      <th>3449</th>\n",
       "      <td>0012_004266_003452</td>\n",
       "      <td>Tennessee farm and home news, July 1, 1935</td>\n",
       "      <td>NaN</td>\n",
       "      <td>July 1, 1935</td>\n",
       "      <td>July</td>\n",
       "      <td>1935</td>\n",
       "      <td>07</td>\n",
       "    </tr>\n",
       "    <tr>\n",
       "      <th>3450</th>\n",
       "      <td>0012_004266_003453</td>\n",
       "      <td>Tennessee farm and home news, March 20, 1939</td>\n",
       "      <td>NaN</td>\n",
       "      <td>March 20, 1939</td>\n",
       "      <td>March</td>\n",
       "      <td>1939</td>\n",
       "      <td>03</td>\n",
       "    </tr>\n",
       "  </tbody>\n",
       "</table>\n",
       "</div>"
      ],
      "text/plain": [
       "                 adminDB                                             title  \\\n",
       "3446  0012_004266_003448  Tennessee farm and home news, September 15, 1947   \n",
       "3447  0012_004266_003449  Tennessee farm and home news, April 2, 1951        \n",
       "3448  0012_004266_003450  Tennessee farm and home news, January 27, 1947     \n",
       "3449  0012_004266_003452  Tennessee farm and home news, July 1, 1935         \n",
       "3450  0012_004266_003453  Tennessee farm and home news, March 20, 1939       \n",
       "\n",
       "     date_from_utk_metadata_app                date      Month  yyyy  mm  \n",
       "3446  NaN                        September 15, 1947  September  1947  09  \n",
       "3447  NaN                        April 2, 1951       April      1951  04  \n",
       "3448  NaN                        January 27, 1947    January    1947  01  \n",
       "3449  NaN                        July 1, 1935        July       1935  07  \n",
       "3450  NaN                        March 20, 1939      March      1939  03  "
      ]
     },
     "execution_count": 84,
     "metadata": {},
     "output_type": "execute_result"
    }
   ],
   "source": [
    "# add mm column to DataFrame using list\n",
    "meta_df['mm'] = mm_list\n",
    "meta_df.tail(5)"
   ]
  },
  {
   "cell_type": "code",
   "execution_count": 85,
   "metadata": {},
   "outputs": [
    {
     "data": {
      "text/html": [
       "<div>\n",
       "<style scoped>\n",
       "    .dataframe tbody tr th:only-of-type {\n",
       "        vertical-align: middle;\n",
       "    }\n",
       "\n",
       "    .dataframe tbody tr th {\n",
       "        vertical-align: top;\n",
       "    }\n",
       "\n",
       "    .dataframe thead th {\n",
       "        text-align: right;\n",
       "    }\n",
       "</style>\n",
       "<table border=\"1\" class=\"dataframe\">\n",
       "  <thead>\n",
       "    <tr style=\"text-align: right;\">\n",
       "      <th></th>\n",
       "      <th>adminDB</th>\n",
       "      <th>title</th>\n",
       "      <th>date_from_utk_metadata_app</th>\n",
       "      <th>date</th>\n",
       "      <th>Month</th>\n",
       "      <th>yyyy</th>\n",
       "      <th>mm</th>\n",
       "      <th>dd</th>\n",
       "    </tr>\n",
       "  </thead>\n",
       "  <tbody>\n",
       "    <tr>\n",
       "      <th>0</th>\n",
       "      <td>0012_004266_000001</td>\n",
       "      <td>Tennessee farm news, January 2, 1925</td>\n",
       "      <td>January 2, 1921</td>\n",
       "      <td>January 2, 1925</td>\n",
       "      <td>January</td>\n",
       "      <td>1925</td>\n",
       "      <td>01</td>\n",
       "      <td>02</td>\n",
       "    </tr>\n",
       "    <tr>\n",
       "      <th>1</th>\n",
       "      <td>0012_004266_000002</td>\n",
       "      <td>Tennessee farm news, January 9, 1921</td>\n",
       "      <td>January 9, 1921</td>\n",
       "      <td>January 9, 1921</td>\n",
       "      <td>January</td>\n",
       "      <td>1921</td>\n",
       "      <td>01</td>\n",
       "      <td>09</td>\n",
       "    </tr>\n",
       "    <tr>\n",
       "      <th>2</th>\n",
       "      <td>0012_004266_000003</td>\n",
       "      <td>Tennessee farm news, July 4, 1921</td>\n",
       "      <td>July 13, 1925</td>\n",
       "      <td>July 4, 1921</td>\n",
       "      <td>July</td>\n",
       "      <td>1921</td>\n",
       "      <td>07</td>\n",
       "      <td>04</td>\n",
       "    </tr>\n",
       "    <tr>\n",
       "      <th>3</th>\n",
       "      <td>0012_004266_000004</td>\n",
       "      <td>Tennessee farm news, July 11, 1921</td>\n",
       "      <td>July 13, 1925</td>\n",
       "      <td>July 11, 1921</td>\n",
       "      <td>July</td>\n",
       "      <td>1921</td>\n",
       "      <td>07</td>\n",
       "      <td>11</td>\n",
       "    </tr>\n",
       "    <tr>\n",
       "      <th>4</th>\n",
       "      <td>0012_004266_000005</td>\n",
       "      <td>Tennessee farm news, July 16, 1921</td>\n",
       "      <td>July 13, 1925</td>\n",
       "      <td>July 16, 1921</td>\n",
       "      <td>July</td>\n",
       "      <td>1921</td>\n",
       "      <td>07</td>\n",
       "      <td>16</td>\n",
       "    </tr>\n",
       "  </tbody>\n",
       "</table>\n",
       "</div>"
      ],
      "text/plain": [
       "              adminDB                                 title  \\\n",
       "0  0012_004266_000001  Tennessee farm news, January 2, 1925   \n",
       "1  0012_004266_000002  Tennessee farm news, January 9, 1921   \n",
       "2  0012_004266_000003  Tennessee farm news, July 4, 1921      \n",
       "3  0012_004266_000004  Tennessee farm news, July 11, 1921     \n",
       "4  0012_004266_000005  Tennessee farm news, July 16, 1921     \n",
       "\n",
       "  date_from_utk_metadata_app             date    Month  yyyy  mm  dd  \n",
       "0  January 2, 1921            January 2, 1925  January  1925  01  02  \n",
       "1  January 9, 1921            January 9, 1921  January  1921  01  09  \n",
       "2  July 13, 1925              July 4, 1921     July     1921  07  04  \n",
       "3  July 13, 1925              July 11, 1921    July     1921  07  11  \n",
       "4  July 13, 1925              July 16, 1921    July     1921  07  16  "
      ]
     },
     "execution_count": 85,
     "metadata": {},
     "output_type": "execute_result"
    }
   ],
   "source": [
    "# add dd to DataFrame\n",
    "meta_df['dd'] = meta_df['date'].str.split().str[-2].str.strip(',').str.zfill(2)\n",
    "meta_df.head(5)"
   ]
  },
  {
   "cell_type": "markdown",
   "metadata": {},
   "source": [
    "## Map old to new directory"
   ]
  },
  {
   "cell_type": "code",
   "execution_count": 86,
   "metadata": {
    "code_folding": []
   },
   "outputs": [
    {
     "data": {
      "text/html": [
       "<div>\n",
       "<style scoped>\n",
       "    .dataframe tbody tr th:only-of-type {\n",
       "        vertical-align: middle;\n",
       "    }\n",
       "\n",
       "    .dataframe tbody tr th {\n",
       "        vertical-align: top;\n",
       "    }\n",
       "\n",
       "    .dataframe thead th {\n",
       "        text-align: right;\n",
       "    }\n",
       "</style>\n",
       "<table border=\"1\" class=\"dataframe\">\n",
       "  <thead>\n",
       "    <tr style=\"text-align: right;\">\n",
       "      <th></th>\n",
       "      <th>adminDB</th>\n",
       "      <th>title</th>\n",
       "      <th>date_from_utk_metadata_app</th>\n",
       "      <th>date</th>\n",
       "      <th>Month</th>\n",
       "      <th>yyyy</th>\n",
       "      <th>mm</th>\n",
       "      <th>dd</th>\n",
       "      <th>old_directory_name</th>\n",
       "    </tr>\n",
       "  </thead>\n",
       "  <tbody>\n",
       "    <tr>\n",
       "      <th>0</th>\n",
       "      <td>0012_004266_000001</td>\n",
       "      <td>Tennessee farm news, January 2, 1925</td>\n",
       "      <td>January 2, 1921</td>\n",
       "      <td>January 2, 1925</td>\n",
       "      <td>January</td>\n",
       "      <td>1925</td>\n",
       "      <td>01</td>\n",
       "      <td>02</td>\n",
       "      <td>0012_004266_000001</td>\n",
       "    </tr>\n",
       "    <tr>\n",
       "      <th>1</th>\n",
       "      <td>0012_004266_000002</td>\n",
       "      <td>Tennessee farm news, January 9, 1921</td>\n",
       "      <td>January 9, 1921</td>\n",
       "      <td>January 9, 1921</td>\n",
       "      <td>January</td>\n",
       "      <td>1921</td>\n",
       "      <td>01</td>\n",
       "      <td>09</td>\n",
       "      <td>0012_004266_000002</td>\n",
       "    </tr>\n",
       "    <tr>\n",
       "      <th>2</th>\n",
       "      <td>0012_004266_000003</td>\n",
       "      <td>Tennessee farm news, July 4, 1921</td>\n",
       "      <td>July 13, 1925</td>\n",
       "      <td>July 4, 1921</td>\n",
       "      <td>July</td>\n",
       "      <td>1921</td>\n",
       "      <td>07</td>\n",
       "      <td>04</td>\n",
       "      <td>0012_004266_000003</td>\n",
       "    </tr>\n",
       "    <tr>\n",
       "      <th>3</th>\n",
       "      <td>0012_004266_000004</td>\n",
       "      <td>Tennessee farm news, July 11, 1921</td>\n",
       "      <td>July 13, 1925</td>\n",
       "      <td>July 11, 1921</td>\n",
       "      <td>July</td>\n",
       "      <td>1921</td>\n",
       "      <td>07</td>\n",
       "      <td>11</td>\n",
       "      <td>0012_004266_000004</td>\n",
       "    </tr>\n",
       "    <tr>\n",
       "      <th>4</th>\n",
       "      <td>0012_004266_000005</td>\n",
       "      <td>Tennessee farm news, July 16, 1921</td>\n",
       "      <td>July 13, 1925</td>\n",
       "      <td>July 16, 1921</td>\n",
       "      <td>July</td>\n",
       "      <td>1921</td>\n",
       "      <td>07</td>\n",
       "      <td>16</td>\n",
       "      <td>0012_004266_000005</td>\n",
       "    </tr>\n",
       "  </tbody>\n",
       "</table>\n",
       "</div>"
      ],
      "text/plain": [
       "              adminDB                                 title  \\\n",
       "0  0012_004266_000001  Tennessee farm news, January 2, 1925   \n",
       "1  0012_004266_000002  Tennessee farm news, January 9, 1921   \n",
       "2  0012_004266_000003  Tennessee farm news, July 4, 1921      \n",
       "3  0012_004266_000004  Tennessee farm news, July 11, 1921     \n",
       "4  0012_004266_000005  Tennessee farm news, July 16, 1921     \n",
       "\n",
       "  date_from_utk_metadata_app             date    Month  yyyy  mm  dd  \\\n",
       "0  January 2, 1921            January 2, 1925  January  1925  01  02   \n",
       "1  January 9, 1921            January 9, 1921  January  1921  01  09   \n",
       "2  July 13, 1925              July 4, 1921     July     1921  07  04   \n",
       "3  July 13, 1925              July 11, 1921    July     1921  07  11   \n",
       "4  July 13, 1925              July 16, 1921    July     1921  07  16   \n",
       "\n",
       "   old_directory_name  \n",
       "0  0012_004266_000001  \n",
       "1  0012_004266_000002  \n",
       "2  0012_004266_000003  \n",
       "3  0012_004266_000004  \n",
       "4  0012_004266_000005  "
      ]
     },
     "execution_count": 86,
     "metadata": {},
     "output_type": "execute_result"
    }
   ],
   "source": [
    "# explicitly define adminDB as old_directory_name\n",
    "meta_df['old_directory_name'] = meta_df['adminDB']\n",
    "meta_df.head(5)"
   ]
  },
  {
   "cell_type": "code",
   "execution_count": 87,
   "metadata": {
    "code_folding": [
     0
    ],
    "scrolled": true
   },
   "outputs": [
    {
     "data": {
      "text/html": [
       "<div>\n",
       "<style scoped>\n",
       "    .dataframe tbody tr th:only-of-type {\n",
       "        vertical-align: middle;\n",
       "    }\n",
       "\n",
       "    .dataframe tbody tr th {\n",
       "        vertical-align: top;\n",
       "    }\n",
       "\n",
       "    .dataframe thead th {\n",
       "        text-align: right;\n",
       "    }\n",
       "</style>\n",
       "<table border=\"1\" class=\"dataframe\">\n",
       "  <thead>\n",
       "    <tr style=\"text-align: right;\">\n",
       "      <th></th>\n",
       "      <th>adminDB</th>\n",
       "      <th>title</th>\n",
       "      <th>date_from_utk_metadata_app</th>\n",
       "      <th>date</th>\n",
       "      <th>Month</th>\n",
       "      <th>yyyy</th>\n",
       "      <th>mm</th>\n",
       "      <th>dd</th>\n",
       "      <th>old_directory_name</th>\n",
       "      <th>new_directory_name</th>\n",
       "    </tr>\n",
       "  </thead>\n",
       "  <tbody>\n",
       "    <tr>\n",
       "      <th>0</th>\n",
       "      <td>0012_004266_000001</td>\n",
       "      <td>Tennessee farm news, January 2, 1925</td>\n",
       "      <td>January 2, 1921</td>\n",
       "      <td>January 2, 1925</td>\n",
       "      <td>January</td>\n",
       "      <td>1925</td>\n",
       "      <td>01</td>\n",
       "      <td>02</td>\n",
       "      <td>0012_004266_000001</td>\n",
       "      <td>1925_01_02</td>\n",
       "    </tr>\n",
       "    <tr>\n",
       "      <th>1</th>\n",
       "      <td>0012_004266_000002</td>\n",
       "      <td>Tennessee farm news, January 9, 1921</td>\n",
       "      <td>January 9, 1921</td>\n",
       "      <td>January 9, 1921</td>\n",
       "      <td>January</td>\n",
       "      <td>1921</td>\n",
       "      <td>01</td>\n",
       "      <td>09</td>\n",
       "      <td>0012_004266_000002</td>\n",
       "      <td>1921_01_09</td>\n",
       "    </tr>\n",
       "    <tr>\n",
       "      <th>2</th>\n",
       "      <td>0012_004266_000003</td>\n",
       "      <td>Tennessee farm news, July 4, 1921</td>\n",
       "      <td>July 13, 1925</td>\n",
       "      <td>July 4, 1921</td>\n",
       "      <td>July</td>\n",
       "      <td>1921</td>\n",
       "      <td>07</td>\n",
       "      <td>04</td>\n",
       "      <td>0012_004266_000003</td>\n",
       "      <td>1921_07_04</td>\n",
       "    </tr>\n",
       "    <tr>\n",
       "      <th>3</th>\n",
       "      <td>0012_004266_000004</td>\n",
       "      <td>Tennessee farm news, July 11, 1921</td>\n",
       "      <td>July 13, 1925</td>\n",
       "      <td>July 11, 1921</td>\n",
       "      <td>July</td>\n",
       "      <td>1921</td>\n",
       "      <td>07</td>\n",
       "      <td>11</td>\n",
       "      <td>0012_004266_000004</td>\n",
       "      <td>1921_07_11</td>\n",
       "    </tr>\n",
       "    <tr>\n",
       "      <th>4</th>\n",
       "      <td>0012_004266_000005</td>\n",
       "      <td>Tennessee farm news, July 16, 1921</td>\n",
       "      <td>July 13, 1925</td>\n",
       "      <td>July 16, 1921</td>\n",
       "      <td>July</td>\n",
       "      <td>1921</td>\n",
       "      <td>07</td>\n",
       "      <td>16</td>\n",
       "      <td>0012_004266_000005</td>\n",
       "      <td>1921_07_16</td>\n",
       "    </tr>\n",
       "  </tbody>\n",
       "</table>\n",
       "</div>"
      ],
      "text/plain": [
       "              adminDB                                 title  \\\n",
       "0  0012_004266_000001  Tennessee farm news, January 2, 1925   \n",
       "1  0012_004266_000002  Tennessee farm news, January 9, 1921   \n",
       "2  0012_004266_000003  Tennessee farm news, July 4, 1921      \n",
       "3  0012_004266_000004  Tennessee farm news, July 11, 1921     \n",
       "4  0012_004266_000005  Tennessee farm news, July 16, 1921     \n",
       "\n",
       "  date_from_utk_metadata_app             date    Month  yyyy  mm  dd  \\\n",
       "0  January 2, 1921            January 2, 1925  January  1925  01  02   \n",
       "1  January 9, 1921            January 9, 1921  January  1921  01  09   \n",
       "2  July 13, 1925              July 4, 1921     July     1921  07  04   \n",
       "3  July 13, 1925              July 11, 1921    July     1921  07  11   \n",
       "4  July 13, 1925              July 16, 1921    July     1921  07  16   \n",
       "\n",
       "   old_directory_name new_directory_name  \n",
       "0  0012_004266_000001  1925_01_02         \n",
       "1  0012_004266_000002  1921_01_09         \n",
       "2  0012_004266_000003  1921_07_04         \n",
       "3  0012_004266_000004  1921_07_11         \n",
       "4  0012_004266_000005  1921_07_16         "
      ]
     },
     "execution_count": 87,
     "metadata": {},
     "output_type": "execute_result"
    }
   ],
   "source": [
    "# add new_directory_name from yyyy, mm, and dd columns\n",
    "meta_df['new_directory_name'] = meta_df['yyyy'].map(str) + '_' + meta_df['mm'].map(str) + '_' + meta_df['dd'].map(str)\n",
    "meta_df.head(5)"
   ]
  },
  {
   "cell_type": "code",
   "execution_count": 88,
   "metadata": {
    "code_folding": [
     0
    ]
   },
   "outputs": [
    {
     "data": {
      "text/plain": [
       "adminDB                       3451\n",
       "title                         3451\n",
       "date_from_utk_metadata_app    1517\n",
       "date                          3451\n",
       "Month                         3451\n",
       "yyyy                          3451\n",
       "mm                            3451\n",
       "dd                            3451\n",
       "old_directory_name            3451\n",
       "new_directory_name            3451\n",
       "dtype: int64"
      ]
     },
     "execution_count": 88,
     "metadata": {},
     "output_type": "execute_result"
    }
   ],
   "source": [
    "# verify that we have a matching number of old_ and new_directory_name(s)\n",
    "meta_df.count()"
   ]
  },
  {
   "cell_type": "code",
   "execution_count": 89,
   "metadata": {},
   "outputs": [
    {
     "name": "stdout",
     "output_type": "stream",
     "text": [
      "1925_08_17\n",
      "1930_10_27\n",
      "1933_04_03\n",
      "1937_05_03\n",
      "1947_03_10\n",
      "1935_07_01\n"
     ]
    }
   ],
   "source": [
    "dir_names = []\n",
    "extra_dir_names = []\n",
    "for new_directory_name in meta_df.new_directory_name:\n",
    "    if new_directory_name not in dir_names:\n",
    "        dir_names.append(new_directory_name)\n",
    "    else:\n",
    "        print(new_directory_name)\n",
    "        extra_dir_names.append(new_directory_name)"
   ]
  },
  {
   "cell_type": "code",
   "execution_count": 90,
   "metadata": {
    "scrolled": true
   },
   "outputs": [
    {
     "name": "stdout",
     "output_type": "stream",
     "text": [
      "*****\n",
      "1925_08_17\n",
      "adminDB                       0012_004266_000214                  \n",
      "title                         Tennessee farm news, August 17, 1925\n",
      "date_from_utk_metadata_app    August 17, 1925                     \n",
      "date                          August 17, 1925                     \n",
      "Month                         August                              \n",
      "yyyy                          1925                                \n",
      "mm                            08                                  \n",
      "dd                            17                                  \n",
      "old_directory_name            0012_004266_000214                  \n",
      "new_directory_name            1925_08_17                          \n",
      "Name: 213, dtype: object\n",
      "=====\n",
      "*****\n",
      "1925_08_17\n",
      "adminDB                       0012_004266_000215                  \n",
      "title                         Tennessee farm news, August 17, 1925\n",
      "date_from_utk_metadata_app    August 17, 1925                     \n",
      "date                          August 17, 1925                     \n",
      "Month                         August                              \n",
      "yyyy                          1925                                \n",
      "mm                            08                                  \n",
      "dd                            17                                  \n",
      "old_directory_name            0012_004266_000215                  \n",
      "new_directory_name            1925_08_17                          \n",
      "Name: 214, dtype: object\n",
      "=====\n",
      "*****\n",
      "1930_10_27\n",
      "adminDB                       0012_004266_000485                   \n",
      "title                         Tennessee farm news, October 27, 1930\n",
      "date_from_utk_metadata_app    October 27, 1930                     \n",
      "date                          October 27, 1930                     \n",
      "Month                         October                              \n",
      "yyyy                          1930                                 \n",
      "mm                            10                                   \n",
      "dd                            27                                   \n",
      "old_directory_name            0012_004266_000485                   \n",
      "new_directory_name            1930_10_27                           \n",
      "Name: 484, dtype: object\n",
      "=====\n",
      "*****\n",
      "1930_10_27\n",
      "adminDB                       0012_004266_000486                   \n",
      "title                         Tennessee farm news, October 27, 1930\n",
      "date_from_utk_metadata_app    October 27, 1930                     \n",
      "date                          October 27, 1930                     \n",
      "Month                         October                              \n",
      "yyyy                          1930                                 \n",
      "mm                            10                                   \n",
      "dd                            27                                   \n",
      "old_directory_name            0012_004266_000486                   \n",
      "new_directory_name            1930_10_27                           \n",
      "Name: 485, dtype: object\n",
      "=====\n",
      "*****\n",
      "1933_04_03\n",
      "adminDB                       0012_004266_000608                \n",
      "title                         Tennessee farm news, April 3, 1933\n",
      "date_from_utk_metadata_app    April 3, 1933                     \n",
      "date                          April 3, 1933                     \n",
      "Month                         April                             \n",
      "yyyy                          1933                              \n",
      "mm                            04                                \n",
      "dd                            03                                \n",
      "old_directory_name            0012_004266_000608                \n",
      "new_directory_name            1933_04_03                        \n",
      "Name: 607, dtype: object\n",
      "=====\n",
      "*****\n",
      "1933_04_03\n",
      "adminDB                       0012_004266_000609                \n",
      "title                         Tennessee farm news, April 3, 1933\n",
      "date_from_utk_metadata_app    April 3, 1933                     \n",
      "date                          April 3, 1933                     \n",
      "Month                         April                             \n",
      "yyyy                          1933                              \n",
      "mm                            04                                \n",
      "dd                            03                                \n",
      "old_directory_name            0012_004266_000609                \n",
      "new_directory_name            1933_04_03                        \n",
      "Name: 608, dtype: object\n",
      "=====\n",
      "*****\n",
      "1935_07_01\n",
      "adminDB                       0012_004266_000724               \n",
      "title                         Tennessee farm news, July 1, 1935\n",
      "date_from_utk_metadata_app    July 1, 1935                     \n",
      "date                          July 1, 1935                     \n",
      "Month                         July                             \n",
      "yyyy                          1935                             \n",
      "mm                            07                               \n",
      "dd                            01                               \n",
      "old_directory_name            0012_004266_000724               \n",
      "new_directory_name            1935_07_01                       \n",
      "Name: 723, dtype: object\n",
      "=====\n",
      "*****\n",
      "1937_05_03\n",
      "adminDB                       0012_004266_000820                       \n",
      "title                         Tennessee farm and home news, May 3, 1937\n",
      "date_from_utk_metadata_app    May 3, 1937                              \n",
      "date                          May 3, 1937                              \n",
      "Month                         May                                      \n",
      "yyyy                          1937                                     \n",
      "mm                            05                                       \n",
      "dd                            03                                       \n",
      "old_directory_name            0012_004266_000820                       \n",
      "new_directory_name            1937_05_03                               \n",
      "Name: 819, dtype: object\n",
      "=====\n",
      "*****\n",
      "1937_05_03\n",
      "adminDB                       0012_004266_000824                       \n",
      "title                         Tennessee farm and home news, May 3, 1937\n",
      "date_from_utk_metadata_app    May 3, 1937                              \n",
      "date                          May 3, 1937                              \n",
      "Month                         May                                      \n",
      "yyyy                          1937                                     \n",
      "mm                            05                                       \n",
      "dd                            03                                       \n",
      "old_directory_name            0012_004266_000824                       \n",
      "new_directory_name            1937_05_03                               \n",
      "Name: 823, dtype: object\n",
      "=====\n",
      "*****\n",
      "1947_03_10\n",
      "adminDB                       0012_004266_001329                          \n",
      "title                         Tennessee farm and home news, March 10, 1947\n",
      "date_from_utk_metadata_app    March 3, 1947                               \n",
      "date                          March 10, 1947                              \n",
      "Month                         March                                       \n",
      "yyyy                          1947                                        \n",
      "mm                            03                                          \n",
      "dd                            10                                          \n",
      "old_directory_name            0012_004266_001329                          \n",
      "new_directory_name            1947_03_10                                  \n",
      "Name: 1328, dtype: object\n",
      "=====\n",
      "*****\n",
      "1947_03_10\n",
      "adminDB                       0012_004266_001330                          \n",
      "title                         Tennessee farm and home news, March 10, 1947\n",
      "date_from_utk_metadata_app    March 10, 1947                              \n",
      "date                          March 10, 1947                              \n",
      "Month                         March                                       \n",
      "yyyy                          1947                                        \n",
      "mm                            03                                          \n",
      "dd                            10                                          \n",
      "old_directory_name            0012_004266_001330                          \n",
      "new_directory_name            1947_03_10                                  \n",
      "Name: 1329, dtype: object\n",
      "=====\n",
      "*****\n",
      "1935_07_01\n",
      "adminDB                       0012_004266_003452                        \n",
      "title                         Tennessee farm and home news, July 1, 1935\n",
      "date_from_utk_metadata_app    NaN                                       \n",
      "date                          July 1, 1935                              \n",
      "Month                         July                                      \n",
      "yyyy                          1935                                      \n",
      "mm                            07                                        \n",
      "dd                            01                                        \n",
      "old_directory_name            0012_004266_003452                        \n",
      "new_directory_name            1935_07_01                                \n",
      "Name: 3449, dtype: object\n",
      "=====\n"
     ]
    }
   ],
   "source": [
    "for index, value in enumerate(meta_df.new_directory_name):\n",
    "    if value in extra_dir_names:\n",
    "        print('*****')\n",
    "        print(value)\n",
    "        print(meta_df.iloc[index])\n",
    "        print('=====')"
   ]
  },
  {
   "cell_type": "markdown",
   "metadata": {},
   "source": [
    "## Convert pages value to integer"
   ]
  },
  {
   "cell_type": "code",
   "execution_count": 14,
   "metadata": {
    "code_folding": [
     0
    ]
   },
   "outputs": [
    {
     "data": {
      "text/html": [
       "<div>\n",
       "<style scoped>\n",
       "    .dataframe tbody tr th:only-of-type {\n",
       "        vertical-align: middle;\n",
       "    }\n",
       "\n",
       "    .dataframe tbody tr th {\n",
       "        vertical-align: top;\n",
       "    }\n",
       "\n",
       "    .dataframe thead th {\n",
       "        text-align: right;\n",
       "    }\n",
       "</style>\n",
       "<table border=\"1\" class=\"dataframe\">\n",
       "  <thead>\n",
       "    <tr style=\"text-align: right;\">\n",
       "      <th></th>\n",
       "      <th>adminDB</th>\n",
       "      <th>title</th>\n",
       "      <th>extent</th>\n",
       "      <th>date_range</th>\n",
       "      <th>Month</th>\n",
       "      <th>yyyy</th>\n",
       "      <th>mm</th>\n",
       "      <th>old_directory_name</th>\n",
       "      <th>new_directory_name</th>\n",
       "      <th>pages</th>\n",
       "    </tr>\n",
       "  </thead>\n",
       "  <tbody>\n",
       "    <tr>\n",
       "      <th>0</th>\n",
       "      <td>0012_004267_000001</td>\n",
       "      <td>Tennessee farm and home science, progress report 1, January - March 1952</td>\n",
       "      <td>12 pages</td>\n",
       "      <td>January - March 1952</td>\n",
       "      <td>January</td>\n",
       "      <td>1952</td>\n",
       "      <td>01</td>\n",
       "      <td>0012_004267_000001</td>\n",
       "      <td>1952_01</td>\n",
       "      <td>12</td>\n",
       "    </tr>\n",
       "    <tr>\n",
       "      <th>1</th>\n",
       "      <td>0012_004267_000002</td>\n",
       "      <td>Tennessee farm and home science, progress report 2, April - June 1952</td>\n",
       "      <td>12 pages</td>\n",
       "      <td>April - June 1952</td>\n",
       "      <td>April</td>\n",
       "      <td>1952</td>\n",
       "      <td>04</td>\n",
       "      <td>0012_004267_000002</td>\n",
       "      <td>1952_04</td>\n",
       "      <td>12</td>\n",
       "    </tr>\n",
       "    <tr>\n",
       "      <th>2</th>\n",
       "      <td>0012_004267_000003</td>\n",
       "      <td>Tennessee farm and home science, progress report 3, July - September 1952</td>\n",
       "      <td>12 pages</td>\n",
       "      <td>July - September 1952</td>\n",
       "      <td>July</td>\n",
       "      <td>1952</td>\n",
       "      <td>07</td>\n",
       "      <td>0012_004267_000003</td>\n",
       "      <td>1952_07</td>\n",
       "      <td>12</td>\n",
       "    </tr>\n",
       "    <tr>\n",
       "      <th>3</th>\n",
       "      <td>0012_004267_000004</td>\n",
       "      <td>Tennessee farm and home science, progress report 4, October - December 1952</td>\n",
       "      <td>12 pages</td>\n",
       "      <td>October - December 1952</td>\n",
       "      <td>October</td>\n",
       "      <td>1952</td>\n",
       "      <td>10</td>\n",
       "      <td>0012_004267_000004</td>\n",
       "      <td>1952_10</td>\n",
       "      <td>12</td>\n",
       "    </tr>\n",
       "    <tr>\n",
       "      <th>4</th>\n",
       "      <td>0012_004267_000005</td>\n",
       "      <td>Tennessee farm and home science, progress report 5, January - March 1953</td>\n",
       "      <td>12 pages</td>\n",
       "      <td>January - March 1953</td>\n",
       "      <td>January</td>\n",
       "      <td>1953</td>\n",
       "      <td>01</td>\n",
       "      <td>0012_004267_000005</td>\n",
       "      <td>1953_01</td>\n",
       "      <td>12</td>\n",
       "    </tr>\n",
       "  </tbody>\n",
       "</table>\n",
       "</div>"
      ],
      "text/plain": [
       "              adminDB  \\\n",
       "0  0012_004267_000001   \n",
       "1  0012_004267_000002   \n",
       "2  0012_004267_000003   \n",
       "3  0012_004267_000004   \n",
       "4  0012_004267_000005   \n",
       "\n",
       "                                                                         title  \\\n",
       "0  Tennessee farm and home science, progress report 1, January - March 1952      \n",
       "1  Tennessee farm and home science, progress report 2, April - June 1952         \n",
       "2  Tennessee farm and home science, progress report 3, July - September 1952     \n",
       "3  Tennessee farm and home science, progress report 4, October - December 1952   \n",
       "4  Tennessee farm and home science, progress report 5, January - March 1953      \n",
       "\n",
       "     extent                date_range    Month  yyyy  mm  old_directory_name  \\\n",
       "0  12 pages   January - March 1952     January  1952  01  0012_004267_000001   \n",
       "1  12 pages   April - June 1952        April    1952  04  0012_004267_000002   \n",
       "2  12 pages   July - September 1952    July     1952  07  0012_004267_000003   \n",
       "3  12 pages   October - December 1952  October  1952  10  0012_004267_000004   \n",
       "4  12 pages   January - March 1953     January  1953  01  0012_004267_000005   \n",
       "\n",
       "  new_directory_name pages  \n",
       "0  1952_01            12    \n",
       "1  1952_04            12    \n",
       "2  1952_07            12    \n",
       "3  1952_10            12    \n",
       "4  1953_01            12    "
      ]
     },
     "execution_count": 14,
     "metadata": {},
     "output_type": "execute_result"
    }
   ],
   "source": [
    "# Add the number of pages, without \" pages\", from the extent field\n",
    "df_tn_farm_and_home_science['pages'] = df_tn_farm_and_home_science['extent'].str.split().str[0]\n",
    "df_tn_farm_and_home_science.head(5)"
   ]
  },
  {
   "cell_type": "code",
   "execution_count": 15,
   "metadata": {},
   "outputs": [
    {
     "data": {
      "text/plain": [
       "'1952_01'"
      ]
     },
     "execution_count": 15,
     "metadata": {},
     "output_type": "execute_result"
    }
   ],
   "source": [
    "df_tn_farm_and_home_science['new_directory_name'][0]"
   ]
  },
  {
   "cell_type": "markdown",
   "metadata": {},
   "source": [
    "## Batch process directories"
   ]
  },
  {
   "cell_type": "code",
   "execution_count": 16,
   "metadata": {
    "code_folding": []
   },
   "outputs": [],
   "source": [
    "# create class for processing individual volumes\n",
    "class Agrtfn:\n",
    "    def __init__(self, directory_path):\n",
    "        self.directory_path = Path(directory_path)\n",
    "        self.number_of_pages = int(df_tn_farm_and_home_science[df_tn_farm_and_home_science[\"old_directory_name\"].str.contains(directory_path.name)]['pages'].to_string(index=False))\n",
    "        \n",
    "    def get_image_paths_list(self):\n",
    "        \n",
    "        image_paths_list = sorted(self.directory_path.glob('*.tif'))\n",
    "        \n",
    "        # delete all macOS index files that start with '.'\n",
    "        deleted_dot_files = False\n",
    "        for image_path in image_paths_list:\n",
    "            if image_path.name.startswith('.'):\n",
    "                image_path.unlink()  # delete\n",
    "                deleted_dot_files = True\n",
    "        if deleted_dot_files:  # re-create the list\n",
    "            image_paths_list = sorted(self.directory_path.glob('*.tif'))\n",
    "        \n",
    "        self.image_paths_list = image_paths_list\n",
    "        self.number_of_images = len(self.image_paths_list)\n",
    "        \n",
    "        if self.number_of_images != self.number_of_pages:\n",
    "            print(f'# of images != # of pages described in metadata')\n",
    "            print(f'images: {self.number_of_images}')\n",
    "            print(f'pages: {self.number_of_pages}')\n",
    "            return None\n",
    "        \n",
    "        return self.image_paths_list\n",
    "    \n",
    "    def process(self):\n",
    "        \n",
    "        # progress bar\n",
    "        progress_label = Label('Images being processed')\n",
    "        progress_bar = IntProgress(min=0, max=self.number_of_images)\n",
    "        progress_widget = VBox([progress_label, progress_bar])\n",
    "        display(progress_widget)\n",
    "        \n",
    "        # get output directory name\n",
    "        output_directory_name = df_tn_farm_and_home_science[df_tn_farm_and_home_science[\"old_directory_name\"].str.contains(directory_path.name)]['new_directory_name'].to_string(index=False)\n",
    "        # strip spaces from output_directory_name\n",
    "        self.output_directory_name = output_directory_name.strip()\n",
    "        # set output directory path and make directory\n",
    "        self.output_directory_path = batch_output_directory_path.joinpath(self.output_directory_name)\n",
    "        self.output_directory_path.mkdir()\n",
    "        \n",
    "        # for each *.tif in self.directory_path\n",
    "        for index, image_path in enumerate(self.image_paths_list, start=1):\n",
    "            \n",
    "            # update progress bar label\n",
    "            progress_label.value = f'Processing image: {image_path.name} . . . {index}/{self.number_of_images}'\n",
    "            \n",
    "            # NO extension at the end for Tesseract processing\n",
    "            pdf_output_path = self.output_directory_path.joinpath(f'{str(index).zfill(3)}')\n",
    "            \n",
    "            # OCR with Tesseract\n",
    "            !tesseract {str(image_path)} {str(pdf_output_path)} pdf 2>/dev/null\n",
    "            \n",
    "            # set output path with extension at end\n",
    "            pdf_output_path = self.output_directory_path.joinpath(f'{str(index).zfill(3)}.pdf')\n",
    "            \n",
    "            # update progress bar value\n",
    "            progress_bar.value = index\n",
    "            \n",
    "        self.pdf_paths_list = list(self.output_directory_path.glob('*.pdf'))\n",
    "        self.number_of_pdfs = len(self.pdf_paths_list)\n",
    "        \n",
    "        if self.number_of_pdfs != self.number_of_pdfs:\n",
    "            print(f'# of PDFs != # of images to OCR')\n",
    "            print(f'PDFs: {self.number_of_pdfs}')\n",
    "            print(f'images: {self.number_of_images}')\n",
    "            return None\n",
    "        else:\n",
    "            return self.pdf_paths_list"
   ]
  },
  {
   "cell_type": "code",
   "execution_count": 17,
   "metadata": {
    "code_folding": [],
    "run_control": {
     "marked": false
    }
   },
   "outputs": [
    {
     "name": "stdout",
     "output_type": "stream",
     "text": [
      "batch_input directory: /Volumes/fluffy/ProjectCeres/00_for_CRL/agrtfhs\n",
      "\t135 directories to batch process\n",
      "\n",
      "batch_output directory: /Volumes/fluffy/ProjectCeres/00_for_CRL/agrtfhs_batch_output\n"
     ]
    }
   ],
   "source": [
    "# Set batch_input and batch_output directories\n",
    "\n",
    "# set project identifier and root directory path\n",
    "project_identifier = 'agrtfhs'\n",
    "root_directory_path = Path('/Volumes/fluffy/ProjectCeres/00_for_CRL/')\n",
    "\n",
    "# set batch_input and batch_output directory paths from root and project identifier\n",
    "batch_input_directory_path = root_directory_path.joinpath(project_identifier)\n",
    "batch_output_directory_path = root_directory_path.joinpath(f'{project_identifier}_batch_output')\n",
    "batch_output_directory_path.mkdir()\n",
    "\n",
    "# create batch_input directory paths list\n",
    "batch_input_directory_paths_list = [x for x in batch_input_directory_path.iterdir() if x.is_dir()]\n",
    "number_of_input_dirs = len(batch_input_directory_paths_list)\n",
    "\n",
    "print(f'batch_input directory: {batch_input_directory_path}')\n",
    "print(f'\\t{number_of_input_dirs} directories to batch process\\n')\n",
    "print(f'batch_output directory: {batch_output_directory_path}')"
   ]
  },
  {
   "cell_type": "code",
   "execution_count": 18,
   "metadata": {
    "code_folding": [],
    "scrolled": false
   },
   "outputs": [
    {
     "data": {
      "application/vnd.jupyter.widget-view+json": {
       "model_id": "2489fa06204849e1aca7a07c8cd646bb",
       "version_major": 2,
       "version_minor": 0
      },
      "text/plain": [
       "VBox(children=(Label(value='Directories being processed'), IntProgress(value=0, max=135)))"
      ]
     },
     "metadata": {},
     "output_type": "display_data"
    },
    {
     "data": {
      "application/vnd.jupyter.widget-view+json": {
       "model_id": "f4b6b483254f4c06a0e487bf38943da0",
       "version_major": 2,
       "version_minor": 0
      },
      "text/plain": [
       "VBox(children=(Label(value='Images being processed'), IntProgress(value=0, max=12)))"
      ]
     },
     "metadata": {},
     "output_type": "display_data"
    },
    {
     "data": {
      "application/vnd.jupyter.widget-view+json": {
       "model_id": "68d08119f4de4e27bad7607b103da649",
       "version_major": 2,
       "version_minor": 0
      },
      "text/plain": [
       "VBox(children=(Label(value='Images being processed'), IntProgress(value=0, max=12)))"
      ]
     },
     "metadata": {},
     "output_type": "display_data"
    },
    {
     "data": {
      "application/vnd.jupyter.widget-view+json": {
       "model_id": "2d30b564df264de78afd2b6c36bb0937",
       "version_major": 2,
       "version_minor": 0
      },
      "text/plain": [
       "VBox(children=(Label(value='Images being processed'), IntProgress(value=0, max=12)))"
      ]
     },
     "metadata": {},
     "output_type": "display_data"
    },
    {
     "data": {
      "application/vnd.jupyter.widget-view+json": {
       "model_id": "ac1c500b29e245f29752a268153929cf",
       "version_major": 2,
       "version_minor": 0
      },
      "text/plain": [
       "VBox(children=(Label(value='Images being processed'), IntProgress(value=0, max=12)))"
      ]
     },
     "metadata": {},
     "output_type": "display_data"
    },
    {
     "data": {
      "application/vnd.jupyter.widget-view+json": {
       "model_id": "ed87e0bc412f4478b0b54a828b61c152",
       "version_major": 2,
       "version_minor": 0
      },
      "text/plain": [
       "VBox(children=(Label(value='Images being processed'), IntProgress(value=0, max=12)))"
      ]
     },
     "metadata": {},
     "output_type": "display_data"
    },
    {
     "data": {
      "application/vnd.jupyter.widget-view+json": {
       "model_id": "c514603481f34f0eb00cd5635f2acd9c",
       "version_major": 2,
       "version_minor": 0
      },
      "text/plain": [
       "VBox(children=(Label(value='Images being processed'), IntProgress(value=0, max=12)))"
      ]
     },
     "metadata": {},
     "output_type": "display_data"
    },
    {
     "data": {
      "application/vnd.jupyter.widget-view+json": {
       "model_id": "71f10db80b9c42559e9f9ee632082599",
       "version_major": 2,
       "version_minor": 0
      },
      "text/plain": [
       "VBox(children=(Label(value='Images being processed'), IntProgress(value=0, max=12)))"
      ]
     },
     "metadata": {},
     "output_type": "display_data"
    },
    {
     "data": {
      "application/vnd.jupyter.widget-view+json": {
       "model_id": "90b4d8459e264751880219829fad3f11",
       "version_major": 2,
       "version_minor": 0
      },
      "text/plain": [
       "VBox(children=(Label(value='Images being processed'), IntProgress(value=0, max=12)))"
      ]
     },
     "metadata": {},
     "output_type": "display_data"
    },
    {
     "data": {
      "application/vnd.jupyter.widget-view+json": {
       "model_id": "07220f0e12c544fd879bba051a8624e4",
       "version_major": 2,
       "version_minor": 0
      },
      "text/plain": [
       "VBox(children=(Label(value='Images being processed'), IntProgress(value=0, max=12)))"
      ]
     },
     "metadata": {},
     "output_type": "display_data"
    },
    {
     "data": {
      "application/vnd.jupyter.widget-view+json": {
       "model_id": "03b6bf85ec0749b2b69b50515858f5e7",
       "version_major": 2,
       "version_minor": 0
      },
      "text/plain": [
       "VBox(children=(Label(value='Images being processed'), IntProgress(value=0, max=12)))"
      ]
     },
     "metadata": {},
     "output_type": "display_data"
    },
    {
     "data": {
      "application/vnd.jupyter.widget-view+json": {
       "model_id": "ec63c13696af427babfad7eeb1f850ae",
       "version_major": 2,
       "version_minor": 0
      },
      "text/plain": [
       "VBox(children=(Label(value='Images being processed'), IntProgress(value=0, max=12)))"
      ]
     },
     "metadata": {},
     "output_type": "display_data"
    },
    {
     "data": {
      "application/vnd.jupyter.widget-view+json": {
       "model_id": "b98d24fe85e8492597e17c541eb5ea1f",
       "version_major": 2,
       "version_minor": 0
      },
      "text/plain": [
       "VBox(children=(Label(value='Images being processed'), IntProgress(value=0, max=12)))"
      ]
     },
     "metadata": {},
     "output_type": "display_data"
    },
    {
     "data": {
      "application/vnd.jupyter.widget-view+json": {
       "model_id": "d1f208d286de47ca8738dae26a15e364",
       "version_major": 2,
       "version_minor": 0
      },
      "text/plain": [
       "VBox(children=(Label(value='Images being processed'), IntProgress(value=0, max=12)))"
      ]
     },
     "metadata": {},
     "output_type": "display_data"
    },
    {
     "data": {
      "application/vnd.jupyter.widget-view+json": {
       "model_id": "3ec8b4ea33ee4760b2b7419ef8efcb62",
       "version_major": 2,
       "version_minor": 0
      },
      "text/plain": [
       "VBox(children=(Label(value='Images being processed'), IntProgress(value=0, max=12)))"
      ]
     },
     "metadata": {},
     "output_type": "display_data"
    },
    {
     "data": {
      "application/vnd.jupyter.widget-view+json": {
       "model_id": "273ed5252a41415e931be591274b4bf1",
       "version_major": 2,
       "version_minor": 0
      },
      "text/plain": [
       "VBox(children=(Label(value='Images being processed'), IntProgress(value=0, max=12)))"
      ]
     },
     "metadata": {},
     "output_type": "display_data"
    },
    {
     "data": {
      "application/vnd.jupyter.widget-view+json": {
       "model_id": "335c3e9c492a410e8da5ac07f18b8e7e",
       "version_major": 2,
       "version_minor": 0
      },
      "text/plain": [
       "VBox(children=(Label(value='Images being processed'), IntProgress(value=0, max=12)))"
      ]
     },
     "metadata": {},
     "output_type": "display_data"
    },
    {
     "data": {
      "application/vnd.jupyter.widget-view+json": {
       "model_id": "7781880668804fd1a4821f11fe53b899",
       "version_major": 2,
       "version_minor": 0
      },
      "text/plain": [
       "VBox(children=(Label(value='Images being processed'), IntProgress(value=0, max=12)))"
      ]
     },
     "metadata": {},
     "output_type": "display_data"
    },
    {
     "data": {
      "application/vnd.jupyter.widget-view+json": {
       "model_id": "8137aaa8ed624279ba8ed01dd4c3b237",
       "version_major": 2,
       "version_minor": 0
      },
      "text/plain": [
       "VBox(children=(Label(value='Images being processed'), IntProgress(value=0, max=12)))"
      ]
     },
     "metadata": {},
     "output_type": "display_data"
    },
    {
     "data": {
      "application/vnd.jupyter.widget-view+json": {
       "model_id": "d0b14cf1b5f94ad199a6172044c47bd7",
       "version_major": 2,
       "version_minor": 0
      },
      "text/plain": [
       "VBox(children=(Label(value='Images being processed'), IntProgress(value=0, max=12)))"
      ]
     },
     "metadata": {},
     "output_type": "display_data"
    },
    {
     "data": {
      "application/vnd.jupyter.widget-view+json": {
       "model_id": "0303b1c8ecb045fe9b04fbd733bc6c2c",
       "version_major": 2,
       "version_minor": 0
      },
      "text/plain": [
       "VBox(children=(Label(value='Images being processed'), IntProgress(value=0, max=12)))"
      ]
     },
     "metadata": {},
     "output_type": "display_data"
    },
    {
     "data": {
      "application/vnd.jupyter.widget-view+json": {
       "model_id": "d027f6ebc71a4d578a198192a91725c1",
       "version_major": 2,
       "version_minor": 0
      },
      "text/plain": [
       "VBox(children=(Label(value='Images being processed'), IntProgress(value=0, max=12)))"
      ]
     },
     "metadata": {},
     "output_type": "display_data"
    },
    {
     "data": {
      "application/vnd.jupyter.widget-view+json": {
       "model_id": "b2a6ba8e16d943cd9ae972eb95462352",
       "version_major": 2,
       "version_minor": 0
      },
      "text/plain": [
       "VBox(children=(Label(value='Images being processed'), IntProgress(value=0, max=12)))"
      ]
     },
     "metadata": {},
     "output_type": "display_data"
    },
    {
     "data": {
      "application/vnd.jupyter.widget-view+json": {
       "model_id": "1938d8d99e8c4bde9726d83cf5ed79a1",
       "version_major": 2,
       "version_minor": 0
      },
      "text/plain": [
       "VBox(children=(Label(value='Images being processed'), IntProgress(value=0, max=12)))"
      ]
     },
     "metadata": {},
     "output_type": "display_data"
    },
    {
     "data": {
      "application/vnd.jupyter.widget-view+json": {
       "model_id": "f61b21867ac1498e994c5c56a0b5a5fb",
       "version_major": 2,
       "version_minor": 0
      },
      "text/plain": [
       "VBox(children=(Label(value='Images being processed'), IntProgress(value=0, max=12)))"
      ]
     },
     "metadata": {},
     "output_type": "display_data"
    },
    {
     "data": {
      "application/vnd.jupyter.widget-view+json": {
       "model_id": "dcd497704e584cfeb3e7da2ec29b3e81",
       "version_major": 2,
       "version_minor": 0
      },
      "text/plain": [
       "VBox(children=(Label(value='Images being processed'), IntProgress(value=0, max=16)))"
      ]
     },
     "metadata": {},
     "output_type": "display_data"
    },
    {
     "data": {
      "application/vnd.jupyter.widget-view+json": {
       "model_id": "9ef6d585f6064353a28036821078ac13",
       "version_major": 2,
       "version_minor": 0
      },
      "text/plain": [
       "VBox(children=(Label(value='Images being processed'), IntProgress(value=0, max=12)))"
      ]
     },
     "metadata": {},
     "output_type": "display_data"
    },
    {
     "data": {
      "application/vnd.jupyter.widget-view+json": {
       "model_id": "8afd1fd4fbb448f8841c2112f5fed901",
       "version_major": 2,
       "version_minor": 0
      },
      "text/plain": [
       "VBox(children=(Label(value='Images being processed'), IntProgress(value=0, max=12)))"
      ]
     },
     "metadata": {},
     "output_type": "display_data"
    },
    {
     "data": {
      "application/vnd.jupyter.widget-view+json": {
       "model_id": "a72e7621ca594de4b90f5d07c639997e",
       "version_major": 2,
       "version_minor": 0
      },
      "text/plain": [
       "VBox(children=(Label(value='Images being processed'), IntProgress(value=0, max=12)))"
      ]
     },
     "metadata": {},
     "output_type": "display_data"
    },
    {
     "data": {
      "application/vnd.jupyter.widget-view+json": {
       "model_id": "036dac71217d491cb12021b1c6e500b3",
       "version_major": 2,
       "version_minor": 0
      },
      "text/plain": [
       "VBox(children=(Label(value='Images being processed'), IntProgress(value=0, max=12)))"
      ]
     },
     "metadata": {},
     "output_type": "display_data"
    },
    {
     "data": {
      "application/vnd.jupyter.widget-view+json": {
       "model_id": "372586f5f6f24f7b8a3ac14a99741b0a",
       "version_major": 2,
       "version_minor": 0
      },
      "text/plain": [
       "VBox(children=(Label(value='Images being processed'), IntProgress(value=0, max=12)))"
      ]
     },
     "metadata": {},
     "output_type": "display_data"
    },
    {
     "data": {
      "application/vnd.jupyter.widget-view+json": {
       "model_id": "03a0a1d6ade348f78285590e6240af8e",
       "version_major": 2,
       "version_minor": 0
      },
      "text/plain": [
       "VBox(children=(Label(value='Images being processed'), IntProgress(value=0, max=12)))"
      ]
     },
     "metadata": {},
     "output_type": "display_data"
    },
    {
     "data": {
      "application/vnd.jupyter.widget-view+json": {
       "model_id": "9025daf15e0b4c1ba0cc41cdecf89173",
       "version_major": 2,
       "version_minor": 0
      },
      "text/plain": [
       "VBox(children=(Label(value='Images being processed'), IntProgress(value=0, max=12)))"
      ]
     },
     "metadata": {},
     "output_type": "display_data"
    },
    {
     "data": {
      "application/vnd.jupyter.widget-view+json": {
       "model_id": "13371d051a1f4348b11517c965264acb",
       "version_major": 2,
       "version_minor": 0
      },
      "text/plain": [
       "VBox(children=(Label(value='Images being processed'), IntProgress(value=0, max=16)))"
      ]
     },
     "metadata": {},
     "output_type": "display_data"
    },
    {
     "data": {
      "application/vnd.jupyter.widget-view+json": {
       "model_id": "7bfad578eaeb49619fca4e51d49cf2a7",
       "version_major": 2,
       "version_minor": 0
      },
      "text/plain": [
       "VBox(children=(Label(value='Images being processed'), IntProgress(value=0, max=12)))"
      ]
     },
     "metadata": {},
     "output_type": "display_data"
    },
    {
     "data": {
      "application/vnd.jupyter.widget-view+json": {
       "model_id": "2e5c36dd7f12471cbae1ca1a509fdfd7",
       "version_major": 2,
       "version_minor": 0
      },
      "text/plain": [
       "VBox(children=(Label(value='Images being processed'), IntProgress(value=0, max=12)))"
      ]
     },
     "metadata": {},
     "output_type": "display_data"
    },
    {
     "data": {
      "application/vnd.jupyter.widget-view+json": {
       "model_id": "13b765a5e8dc4cf0a16b499bd593041d",
       "version_major": 2,
       "version_minor": 0
      },
      "text/plain": [
       "VBox(children=(Label(value='Images being processed'), IntProgress(value=0, max=12)))"
      ]
     },
     "metadata": {},
     "output_type": "display_data"
    },
    {
     "data": {
      "application/vnd.jupyter.widget-view+json": {
       "model_id": "2f81fbb707e94d24bfb6e557cf8c1777",
       "version_major": 2,
       "version_minor": 0
      },
      "text/plain": [
       "VBox(children=(Label(value='Images being processed'), IntProgress(value=0, max=12)))"
      ]
     },
     "metadata": {},
     "output_type": "display_data"
    },
    {
     "data": {
      "application/vnd.jupyter.widget-view+json": {
       "model_id": "170187bff7f845bab909ceef2a56fbf4",
       "version_major": 2,
       "version_minor": 0
      },
      "text/plain": [
       "VBox(children=(Label(value='Images being processed'), IntProgress(value=0, max=16)))"
      ]
     },
     "metadata": {},
     "output_type": "display_data"
    },
    {
     "data": {
      "application/vnd.jupyter.widget-view+json": {
       "model_id": "fa598fbc073c44b5895d650f5866b1ca",
       "version_major": 2,
       "version_minor": 0
      },
      "text/plain": [
       "VBox(children=(Label(value='Images being processed'), IntProgress(value=0, max=16)))"
      ]
     },
     "metadata": {},
     "output_type": "display_data"
    },
    {
     "data": {
      "application/vnd.jupyter.widget-view+json": {
       "model_id": "b67cf6a2e9af44f9a0722bdc1c1c615c",
       "version_major": 2,
       "version_minor": 0
      },
      "text/plain": [
       "VBox(children=(Label(value='Images being processed'), IntProgress(value=0, max=16)))"
      ]
     },
     "metadata": {},
     "output_type": "display_data"
    },
    {
     "data": {
      "application/vnd.jupyter.widget-view+json": {
       "model_id": "510f6e7a9986446789544b37e2fb260a",
       "version_major": 2,
       "version_minor": 0
      },
      "text/plain": [
       "VBox(children=(Label(value='Images being processed'), IntProgress(value=0, max=20)))"
      ]
     },
     "metadata": {},
     "output_type": "display_data"
    },
    {
     "data": {
      "application/vnd.jupyter.widget-view+json": {
       "model_id": "6f4d707574a84d96be869c81ae2608fd",
       "version_major": 2,
       "version_minor": 0
      },
      "text/plain": [
       "VBox(children=(Label(value='Images being processed'), IntProgress(value=0, max=16)))"
      ]
     },
     "metadata": {},
     "output_type": "display_data"
    },
    {
     "data": {
      "application/vnd.jupyter.widget-view+json": {
       "model_id": "7c6a3997e21448a786e28167569ad242",
       "version_major": 2,
       "version_minor": 0
      },
      "text/plain": [
       "VBox(children=(Label(value='Images being processed'), IntProgress(value=0, max=16)))"
      ]
     },
     "metadata": {},
     "output_type": "display_data"
    },
    {
     "data": {
      "application/vnd.jupyter.widget-view+json": {
       "model_id": "f6fcd2a05e1948e7923efb67bcd83013",
       "version_major": 2,
       "version_minor": 0
      },
      "text/plain": [
       "VBox(children=(Label(value='Images being processed'), IntProgress(value=0, max=24)))"
      ]
     },
     "metadata": {},
     "output_type": "display_data"
    },
    {
     "data": {
      "application/vnd.jupyter.widget-view+json": {
       "model_id": "32bb094a794c41cda6b0fc39e4927b36",
       "version_major": 2,
       "version_minor": 0
      },
      "text/plain": [
       "VBox(children=(Label(value='Images being processed'), IntProgress(value=0, max=20)))"
      ]
     },
     "metadata": {},
     "output_type": "display_data"
    },
    {
     "data": {
      "application/vnd.jupyter.widget-view+json": {
       "model_id": "0b0760b552a245b0b743a4f79ea54dff",
       "version_major": 2,
       "version_minor": 0
      },
      "text/plain": [
       "VBox(children=(Label(value='Images being processed'), IntProgress(value=0, max=16)))"
      ]
     },
     "metadata": {},
     "output_type": "display_data"
    },
    {
     "data": {
      "application/vnd.jupyter.widget-view+json": {
       "model_id": "5a024d6104d048ed91338fd66d26116f",
       "version_major": 2,
       "version_minor": 0
      },
      "text/plain": [
       "VBox(children=(Label(value='Images being processed'), IntProgress(value=0, max=12)))"
      ]
     },
     "metadata": {},
     "output_type": "display_data"
    },
    {
     "data": {
      "application/vnd.jupyter.widget-view+json": {
       "model_id": "c00496e901ac4a03a077289386375389",
       "version_major": 2,
       "version_minor": 0
      },
      "text/plain": [
       "VBox(children=(Label(value='Images being processed'), IntProgress(value=0, max=16)))"
      ]
     },
     "metadata": {},
     "output_type": "display_data"
    },
    {
     "data": {
      "application/vnd.jupyter.widget-view+json": {
       "model_id": "53841343bf7f46ba8c970efabd7fcecf",
       "version_major": 2,
       "version_minor": 0
      },
      "text/plain": [
       "VBox(children=(Label(value='Images being processed'), IntProgress(value=0, max=20)))"
      ]
     },
     "metadata": {},
     "output_type": "display_data"
    },
    {
     "data": {
      "application/vnd.jupyter.widget-view+json": {
       "model_id": "0680951b9da34665944474bf0116d14b",
       "version_major": 2,
       "version_minor": 0
      },
      "text/plain": [
       "VBox(children=(Label(value='Images being processed'), IntProgress(value=0, max=24)))"
      ]
     },
     "metadata": {},
     "output_type": "display_data"
    },
    {
     "data": {
      "application/vnd.jupyter.widget-view+json": {
       "model_id": "6256591e7cbb4227b1130f506c2fbdcd",
       "version_major": 2,
       "version_minor": 0
      },
      "text/plain": [
       "VBox(children=(Label(value='Images being processed'), IntProgress(value=0, max=16)))"
      ]
     },
     "metadata": {},
     "output_type": "display_data"
    },
    {
     "data": {
      "application/vnd.jupyter.widget-view+json": {
       "model_id": "a4e6abcf168a4cfcaaa23cf94be57f24",
       "version_major": 2,
       "version_minor": 0
      },
      "text/plain": [
       "VBox(children=(Label(value='Images being processed'), IntProgress(value=0, max=16)))"
      ]
     },
     "metadata": {},
     "output_type": "display_data"
    },
    {
     "data": {
      "application/vnd.jupyter.widget-view+json": {
       "model_id": "898bb879f70f4e3dbd0635939de0cc77",
       "version_major": 2,
       "version_minor": 0
      },
      "text/plain": [
       "VBox(children=(Label(value='Images being processed'), IntProgress(value=0, max=24)))"
      ]
     },
     "metadata": {},
     "output_type": "display_data"
    },
    {
     "data": {
      "application/vnd.jupyter.widget-view+json": {
       "model_id": "b00a3f9d64c34e2c8e4b35dffd55ddab",
       "version_major": 2,
       "version_minor": 0
      },
      "text/plain": [
       "VBox(children=(Label(value='Images being processed'), IntProgress(value=0, max=20)))"
      ]
     },
     "metadata": {},
     "output_type": "display_data"
    },
    {
     "data": {
      "application/vnd.jupyter.widget-view+json": {
       "model_id": "7b6f9e42db374fa7829f8b8ef723e7ff",
       "version_major": 2,
       "version_minor": 0
      },
      "text/plain": [
       "VBox(children=(Label(value='Images being processed'), IntProgress(value=0, max=20)))"
      ]
     },
     "metadata": {},
     "output_type": "display_data"
    },
    {
     "data": {
      "application/vnd.jupyter.widget-view+json": {
       "model_id": "432617d0be2c4a68b951ea78b3e9df4c",
       "version_major": 2,
       "version_minor": 0
      },
      "text/plain": [
       "VBox(children=(Label(value='Images being processed'), IntProgress(value=0, max=24)))"
      ]
     },
     "metadata": {},
     "output_type": "display_data"
    },
    {
     "data": {
      "application/vnd.jupyter.widget-view+json": {
       "model_id": "2b0d8c2b14604b788b7f344571f640b9",
       "version_major": 2,
       "version_minor": 0
      },
      "text/plain": [
       "VBox(children=(Label(value='Images being processed'), IntProgress(value=0, max=32)))"
      ]
     },
     "metadata": {},
     "output_type": "display_data"
    },
    {
     "data": {
      "application/vnd.jupyter.widget-view+json": {
       "model_id": "274cdb1cc78e4e2b86b6ba0b9899fc06",
       "version_major": 2,
       "version_minor": 0
      },
      "text/plain": [
       "VBox(children=(Label(value='Images being processed'), IntProgress(value=0, max=20)))"
      ]
     },
     "metadata": {},
     "output_type": "display_data"
    },
    {
     "data": {
      "application/vnd.jupyter.widget-view+json": {
       "model_id": "bd9dd659307e4afa95b29f5f0447984f",
       "version_major": 2,
       "version_minor": 0
      },
      "text/plain": [
       "VBox(children=(Label(value='Images being processed'), IntProgress(value=0, max=20)))"
      ]
     },
     "metadata": {},
     "output_type": "display_data"
    },
    {
     "data": {
      "application/vnd.jupyter.widget-view+json": {
       "model_id": "ebdaa7b4c9ae4f068387df59dff7a54c",
       "version_major": 2,
       "version_minor": 0
      },
      "text/plain": [
       "VBox(children=(Label(value='Images being processed'), IntProgress(value=0, max=24)))"
      ]
     },
     "metadata": {},
     "output_type": "display_data"
    },
    {
     "data": {
      "application/vnd.jupyter.widget-view+json": {
       "model_id": "05e5c32982b04ed4b10dcd334ef81a58",
       "version_major": 2,
       "version_minor": 0
      },
      "text/plain": [
       "VBox(children=(Label(value='Images being processed'), IntProgress(value=0, max=36)))"
      ]
     },
     "metadata": {},
     "output_type": "display_data"
    },
    {
     "data": {
      "application/vnd.jupyter.widget-view+json": {
       "model_id": "83adb748fba14fc0b978d8cf45a473a6",
       "version_major": 2,
       "version_minor": 0
      },
      "text/plain": [
       "VBox(children=(Label(value='Images being processed'), IntProgress(value=0, max=32)))"
      ]
     },
     "metadata": {},
     "output_type": "display_data"
    },
    {
     "data": {
      "application/vnd.jupyter.widget-view+json": {
       "model_id": "338d135309384c2db71cb7ce79d43676",
       "version_major": 2,
       "version_minor": 0
      },
      "text/plain": [
       "VBox(children=(Label(value='Images being processed'), IntProgress(value=0, max=36)))"
      ]
     },
     "metadata": {},
     "output_type": "display_data"
    },
    {
     "data": {
      "application/vnd.jupyter.widget-view+json": {
       "model_id": "ea02337cb7394b2bacc9eb46273e9ce4",
       "version_major": 2,
       "version_minor": 0
      },
      "text/plain": [
       "VBox(children=(Label(value='Images being processed'), IntProgress(value=0, max=28)))"
      ]
     },
     "metadata": {},
     "output_type": "display_data"
    },
    {
     "data": {
      "application/vnd.jupyter.widget-view+json": {
       "model_id": "53ad1f8620104004ba7d1e0aa723d5ed",
       "version_major": 2,
       "version_minor": 0
      },
      "text/plain": [
       "VBox(children=(Label(value='Images being processed'), IntProgress(value=0, max=36)))"
      ]
     },
     "metadata": {},
     "output_type": "display_data"
    },
    {
     "data": {
      "application/vnd.jupyter.widget-view+json": {
       "model_id": "3f1a0d4d2e004c768595e7b421218693",
       "version_major": 2,
       "version_minor": 0
      },
      "text/plain": [
       "VBox(children=(Label(value='Images being processed'), IntProgress(value=0, max=32)))"
      ]
     },
     "metadata": {},
     "output_type": "display_data"
    },
    {
     "data": {
      "application/vnd.jupyter.widget-view+json": {
       "model_id": "4cc679a1aa384ff69c8caffb3340117a",
       "version_major": 2,
       "version_minor": 0
      },
      "text/plain": [
       "VBox(children=(Label(value='Images being processed'), IntProgress(value=0, max=36)))"
      ]
     },
     "metadata": {},
     "output_type": "display_data"
    },
    {
     "data": {
      "application/vnd.jupyter.widget-view+json": {
       "model_id": "c6da6e937fec4d3b8ce040d19bc1124b",
       "version_major": 2,
       "version_minor": 0
      },
      "text/plain": [
       "VBox(children=(Label(value='Images being processed'), IntProgress(value=0, max=24)))"
      ]
     },
     "metadata": {},
     "output_type": "display_data"
    },
    {
     "data": {
      "application/vnd.jupyter.widget-view+json": {
       "model_id": "61af8359ac6448cbae27fadd3daacac3",
       "version_major": 2,
       "version_minor": 0
      },
      "text/plain": [
       "VBox(children=(Label(value='Images being processed'), IntProgress(value=0, max=36)))"
      ]
     },
     "metadata": {},
     "output_type": "display_data"
    },
    {
     "data": {
      "application/vnd.jupyter.widget-view+json": {
       "model_id": "e18b7607aa6d4b79aa321c50a7035b34",
       "version_major": 2,
       "version_minor": 0
      },
      "text/plain": [
       "VBox(children=(Label(value='Images being processed'), IntProgress(value=0, max=40)))"
      ]
     },
     "metadata": {},
     "output_type": "display_data"
    },
    {
     "data": {
      "application/vnd.jupyter.widget-view+json": {
       "model_id": "a03d55e13411460483234c3ed8114d43",
       "version_major": 2,
       "version_minor": 0
      },
      "text/plain": [
       "VBox(children=(Label(value='Images being processed'), IntProgress(value=0, max=36)))"
      ]
     },
     "metadata": {},
     "output_type": "display_data"
    },
    {
     "data": {
      "application/vnd.jupyter.widget-view+json": {
       "model_id": "cd46d1d9e3df451a913bab6feddec439",
       "version_major": 2,
       "version_minor": 0
      },
      "text/plain": [
       "VBox(children=(Label(value='Images being processed'), IntProgress(value=0, max=36)))"
      ]
     },
     "metadata": {},
     "output_type": "display_data"
    },
    {
     "data": {
      "application/vnd.jupyter.widget-view+json": {
       "model_id": "8c53431c9b4a4356a8db28b97d979c8d",
       "version_major": 2,
       "version_minor": 0
      },
      "text/plain": [
       "VBox(children=(Label(value='Images being processed'), IntProgress(value=0, max=40)))"
      ]
     },
     "metadata": {},
     "output_type": "display_data"
    },
    {
     "data": {
      "application/vnd.jupyter.widget-view+json": {
       "model_id": "bc608add97f94d22b435c11eda5ee9e2",
       "version_major": 2,
       "version_minor": 0
      },
      "text/plain": [
       "VBox(children=(Label(value='Images being processed'), IntProgress(value=0, max=32)))"
      ]
     },
     "metadata": {},
     "output_type": "display_data"
    },
    {
     "data": {
      "application/vnd.jupyter.widget-view+json": {
       "model_id": "226b90db8a814083bb1536c0192006e2",
       "version_major": 2,
       "version_minor": 0
      },
      "text/plain": [
       "VBox(children=(Label(value='Images being processed'), IntProgress(value=0, max=20)))"
      ]
     },
     "metadata": {},
     "output_type": "display_data"
    },
    {
     "data": {
      "application/vnd.jupyter.widget-view+json": {
       "model_id": "a0c399c1b0c748f682d8a1baa5a20765",
       "version_major": 2,
       "version_minor": 0
      },
      "text/plain": [
       "VBox(children=(Label(value='Images being processed'), IntProgress(value=0, max=40)))"
      ]
     },
     "metadata": {},
     "output_type": "display_data"
    },
    {
     "data": {
      "application/vnd.jupyter.widget-view+json": {
       "model_id": "3ef924e786204cf49390863be88ced3d",
       "version_major": 2,
       "version_minor": 0
      },
      "text/plain": [
       "VBox(children=(Label(value='Images being processed'), IntProgress(value=0, max=40)))"
      ]
     },
     "metadata": {},
     "output_type": "display_data"
    },
    {
     "data": {
      "application/vnd.jupyter.widget-view+json": {
       "model_id": "6d4d7f7847a1483b92d0becfbb51ab36",
       "version_major": 2,
       "version_minor": 0
      },
      "text/plain": [
       "VBox(children=(Label(value='Images being processed'), IntProgress(value=0, max=36)))"
      ]
     },
     "metadata": {},
     "output_type": "display_data"
    },
    {
     "data": {
      "application/vnd.jupyter.widget-view+json": {
       "model_id": "914400b37b7446768012579c1bad748c",
       "version_major": 2,
       "version_minor": 0
      },
      "text/plain": [
       "VBox(children=(Label(value='Images being processed'), IntProgress(value=0, max=36)))"
      ]
     },
     "metadata": {},
     "output_type": "display_data"
    },
    {
     "data": {
      "application/vnd.jupyter.widget-view+json": {
       "model_id": "f45e8380e990491c9827722ff7014a5e",
       "version_major": 2,
       "version_minor": 0
      },
      "text/plain": [
       "VBox(children=(Label(value='Images being processed'), IntProgress(value=0, max=40)))"
      ]
     },
     "metadata": {},
     "output_type": "display_data"
    },
    {
     "data": {
      "application/vnd.jupyter.widget-view+json": {
       "model_id": "4c41960c9aa145698b4abb722dd0ba8e",
       "version_major": 2,
       "version_minor": 0
      },
      "text/plain": [
       "VBox(children=(Label(value='Images being processed'), IntProgress(value=0, max=36)))"
      ]
     },
     "metadata": {},
     "output_type": "display_data"
    },
    {
     "data": {
      "application/vnd.jupyter.widget-view+json": {
       "model_id": "6a887bacd70343f6aa073f5891657bae",
       "version_major": 2,
       "version_minor": 0
      },
      "text/plain": [
       "VBox(children=(Label(value='Images being processed'), IntProgress(value=0, max=36)))"
      ]
     },
     "metadata": {},
     "output_type": "display_data"
    },
    {
     "data": {
      "application/vnd.jupyter.widget-view+json": {
       "model_id": "ee5d8c530b1e4732acf88099209f9b95",
       "version_major": 2,
       "version_minor": 0
      },
      "text/plain": [
       "VBox(children=(Label(value='Images being processed'), IntProgress(value=0, max=40)))"
      ]
     },
     "metadata": {},
     "output_type": "display_data"
    },
    {
     "data": {
      "application/vnd.jupyter.widget-view+json": {
       "model_id": "6700454433db4ad4afc437f35d39f709",
       "version_major": 2,
       "version_minor": 0
      },
      "text/plain": [
       "VBox(children=(Label(value='Images being processed'), IntProgress(value=0, max=48)))"
      ]
     },
     "metadata": {},
     "output_type": "display_data"
    },
    {
     "data": {
      "application/vnd.jupyter.widget-view+json": {
       "model_id": "945357937f7f40b2b9c2485390cbfb5e",
       "version_major": 2,
       "version_minor": 0
      },
      "text/plain": [
       "VBox(children=(Label(value='Images being processed'), IntProgress(value=0, max=40)))"
      ]
     },
     "metadata": {},
     "output_type": "display_data"
    },
    {
     "data": {
      "application/vnd.jupyter.widget-view+json": {
       "model_id": "c58d36c574e84edca7059dcedaa1caca",
       "version_major": 2,
       "version_minor": 0
      },
      "text/plain": [
       "VBox(children=(Label(value='Images being processed'), IntProgress(value=0, max=40)))"
      ]
     },
     "metadata": {},
     "output_type": "display_data"
    },
    {
     "data": {
      "application/vnd.jupyter.widget-view+json": {
       "model_id": "58744a73066d42868a5a74996dc9fa25",
       "version_major": 2,
       "version_minor": 0
      },
      "text/plain": [
       "VBox(children=(Label(value='Images being processed'), IntProgress(value=0, max=28)))"
      ]
     },
     "metadata": {},
     "output_type": "display_data"
    },
    {
     "data": {
      "application/vnd.jupyter.widget-view+json": {
       "model_id": "393d83c44b76422e845128e2a0308197",
       "version_major": 2,
       "version_minor": 0
      },
      "text/plain": [
       "VBox(children=(Label(value='Images being processed'), IntProgress(value=0, max=20)))"
      ]
     },
     "metadata": {},
     "output_type": "display_data"
    },
    {
     "data": {
      "application/vnd.jupyter.widget-view+json": {
       "model_id": "d2990316c1b14710a89fd15d15fdcd56",
       "version_major": 2,
       "version_minor": 0
      },
      "text/plain": [
       "VBox(children=(Label(value='Images being processed'), IntProgress(value=0, max=36)))"
      ]
     },
     "metadata": {},
     "output_type": "display_data"
    },
    {
     "data": {
      "application/vnd.jupyter.widget-view+json": {
       "model_id": "36f154f93d1344bbb5f7732a1e4f3d6b",
       "version_major": 2,
       "version_minor": 0
      },
      "text/plain": [
       "VBox(children=(Label(value='Images being processed'), IntProgress(value=0, max=44)))"
      ]
     },
     "metadata": {},
     "output_type": "display_data"
    },
    {
     "data": {
      "application/vnd.jupyter.widget-view+json": {
       "model_id": "5cfc478a0c4643f299dad93dcd6da918",
       "version_major": 2,
       "version_minor": 0
      },
      "text/plain": [
       "VBox(children=(Label(value='Images being processed'), IntProgress(value=0, max=48)))"
      ]
     },
     "metadata": {},
     "output_type": "display_data"
    },
    {
     "data": {
      "application/vnd.jupyter.widget-view+json": {
       "model_id": "74d3db27856649a0b8d1fc58e7c7b1d2",
       "version_major": 2,
       "version_minor": 0
      },
      "text/plain": [
       "VBox(children=(Label(value='Images being processed'), IntProgress(value=0, max=48)))"
      ]
     },
     "metadata": {},
     "output_type": "display_data"
    },
    {
     "data": {
      "application/vnd.jupyter.widget-view+json": {
       "model_id": "163ecfab3fb9449f9790f57a2fca9828",
       "version_major": 2,
       "version_minor": 0
      },
      "text/plain": [
       "VBox(children=(Label(value='Images being processed'), IntProgress(value=0, max=56)))"
      ]
     },
     "metadata": {},
     "output_type": "display_data"
    },
    {
     "data": {
      "application/vnd.jupyter.widget-view+json": {
       "model_id": "336db48f5d9f4eaf9d0d012bdb3eaa9d",
       "version_major": 2,
       "version_minor": 0
      },
      "text/plain": [
       "VBox(children=(Label(value='Images being processed'), IntProgress(value=0, max=48)))"
      ]
     },
     "metadata": {},
     "output_type": "display_data"
    },
    {
     "data": {
      "application/vnd.jupyter.widget-view+json": {
       "model_id": "8210828c88084dec93ae2ae6926395e7",
       "version_major": 2,
       "version_minor": 0
      },
      "text/plain": [
       "VBox(children=(Label(value='Images being processed'), IntProgress(value=0, max=24)))"
      ]
     },
     "metadata": {},
     "output_type": "display_data"
    },
    {
     "data": {
      "application/vnd.jupyter.widget-view+json": {
       "model_id": "11a9c55c06a84baa97ceafe856810d00",
       "version_major": 2,
       "version_minor": 0
      },
      "text/plain": [
       "VBox(children=(Label(value='Images being processed'), IntProgress(value=0, max=44)))"
      ]
     },
     "metadata": {},
     "output_type": "display_data"
    },
    {
     "data": {
      "application/vnd.jupyter.widget-view+json": {
       "model_id": "4004191c2586470084b2f6b7e156f11e",
       "version_major": 2,
       "version_minor": 0
      },
      "text/plain": [
       "VBox(children=(Label(value='Images being processed'), IntProgress(value=0, max=36)))"
      ]
     },
     "metadata": {},
     "output_type": "display_data"
    },
    {
     "data": {
      "application/vnd.jupyter.widget-view+json": {
       "model_id": "dcd35fb596d74c2f94874f7cebd0681f",
       "version_major": 2,
       "version_minor": 0
      },
      "text/plain": [
       "VBox(children=(Label(value='Images being processed'), IntProgress(value=0, max=32)))"
      ]
     },
     "metadata": {},
     "output_type": "display_data"
    },
    {
     "data": {
      "application/vnd.jupyter.widget-view+json": {
       "model_id": "a268714e04c449d098b0a90ad2752d86",
       "version_major": 2,
       "version_minor": 0
      },
      "text/plain": [
       "VBox(children=(Label(value='Images being processed'), IntProgress(value=0, max=36)))"
      ]
     },
     "metadata": {},
     "output_type": "display_data"
    },
    {
     "data": {
      "application/vnd.jupyter.widget-view+json": {
       "model_id": "3dd71b6f79a84db0abf3f6627f8ad021",
       "version_major": 2,
       "version_minor": 0
      },
      "text/plain": [
       "VBox(children=(Label(value='Images being processed'), IntProgress(value=0, max=16)))"
      ]
     },
     "metadata": {},
     "output_type": "display_data"
    },
    {
     "data": {
      "application/vnd.jupyter.widget-view+json": {
       "model_id": "0f74719528a64d92b6c23a2b205bd99c",
       "version_major": 2,
       "version_minor": 0
      },
      "text/plain": [
       "VBox(children=(Label(value='Images being processed'), IntProgress(value=0, max=32)))"
      ]
     },
     "metadata": {},
     "output_type": "display_data"
    },
    {
     "data": {
      "application/vnd.jupyter.widget-view+json": {
       "model_id": "e7b074fe4b4149f68e984dac421fee06",
       "version_major": 2,
       "version_minor": 0
      },
      "text/plain": [
       "VBox(children=(Label(value='Images being processed'), IntProgress(value=0, max=32)))"
      ]
     },
     "metadata": {},
     "output_type": "display_data"
    },
    {
     "data": {
      "application/vnd.jupyter.widget-view+json": {
       "model_id": "ceae39170d8d48e2b410125a27f661cd",
       "version_major": 2,
       "version_minor": 0
      },
      "text/plain": [
       "VBox(children=(Label(value='Images being processed'), IntProgress(value=0, max=32)))"
      ]
     },
     "metadata": {},
     "output_type": "display_data"
    },
    {
     "data": {
      "application/vnd.jupyter.widget-view+json": {
       "model_id": "fd751813449847feb78be22b031d33d4",
       "version_major": 2,
       "version_minor": 0
      },
      "text/plain": [
       "VBox(children=(Label(value='Images being processed'), IntProgress(value=0, max=16)))"
      ]
     },
     "metadata": {},
     "output_type": "display_data"
    },
    {
     "data": {
      "application/vnd.jupyter.widget-view+json": {
       "model_id": "69043fc474ef4891bb49c35c483e0a62",
       "version_major": 2,
       "version_minor": 0
      },
      "text/plain": [
       "VBox(children=(Label(value='Images being processed'), IntProgress(value=0, max=32)))"
      ]
     },
     "metadata": {},
     "output_type": "display_data"
    },
    {
     "data": {
      "application/vnd.jupyter.widget-view+json": {
       "model_id": "51ddab45615446f499f1c0f9752c42bb",
       "version_major": 2,
       "version_minor": 0
      },
      "text/plain": [
       "VBox(children=(Label(value='Images being processed'), IntProgress(value=0, max=28)))"
      ]
     },
     "metadata": {},
     "output_type": "display_data"
    },
    {
     "data": {
      "application/vnd.jupyter.widget-view+json": {
       "model_id": "d1f59425eb1043fbbe27b93c488399d2",
       "version_major": 2,
       "version_minor": 0
      },
      "text/plain": [
       "VBox(children=(Label(value='Images being processed'), IntProgress(value=0, max=16)))"
      ]
     },
     "metadata": {},
     "output_type": "display_data"
    },
    {
     "data": {
      "application/vnd.jupyter.widget-view+json": {
       "model_id": "10acdee7e83f472282c39ed27ba39c5a",
       "version_major": 2,
       "version_minor": 0
      },
      "text/plain": [
       "VBox(children=(Label(value='Images being processed'), IntProgress(value=0, max=20)))"
      ]
     },
     "metadata": {},
     "output_type": "display_data"
    },
    {
     "data": {
      "application/vnd.jupyter.widget-view+json": {
       "model_id": "fccd0dac797b4684a773da77e00a1aa7",
       "version_major": 2,
       "version_minor": 0
      },
      "text/plain": [
       "VBox(children=(Label(value='Images being processed'), IntProgress(value=0, max=16)))"
      ]
     },
     "metadata": {},
     "output_type": "display_data"
    },
    {
     "data": {
      "application/vnd.jupyter.widget-view+json": {
       "model_id": "9cf530caddc446e89fcc8010367a2a37",
       "version_major": 2,
       "version_minor": 0
      },
      "text/plain": [
       "VBox(children=(Label(value='Images being processed'), IntProgress(value=0, max=12)))"
      ]
     },
     "metadata": {},
     "output_type": "display_data"
    },
    {
     "data": {
      "application/vnd.jupyter.widget-view+json": {
       "model_id": "2644980a21334ff08c3c2801864d2e97",
       "version_major": 2,
       "version_minor": 0
      },
      "text/plain": [
       "VBox(children=(Label(value='Images being processed'), IntProgress(value=0, max=12)))"
      ]
     },
     "metadata": {},
     "output_type": "display_data"
    },
    {
     "data": {
      "application/vnd.jupyter.widget-view+json": {
       "model_id": "7a80aa7857504a7e84386729c7dbe94d",
       "version_major": 2,
       "version_minor": 0
      },
      "text/plain": [
       "VBox(children=(Label(value='Images being processed'), IntProgress(value=0, max=16)))"
      ]
     },
     "metadata": {},
     "output_type": "display_data"
    },
    {
     "data": {
      "application/vnd.jupyter.widget-view+json": {
       "model_id": "1a08d20d22fd4329afa7d909385f948d",
       "version_major": 2,
       "version_minor": 0
      },
      "text/plain": [
       "VBox(children=(Label(value='Images being processed'), IntProgress(value=0, max=24)))"
      ]
     },
     "metadata": {},
     "output_type": "display_data"
    },
    {
     "data": {
      "application/vnd.jupyter.widget-view+json": {
       "model_id": "1e2316098d284579b0e8bcd2694f31a4",
       "version_major": 2,
       "version_minor": 0
      },
      "text/plain": [
       "VBox(children=(Label(value='Images being processed'), IntProgress(value=0, max=24)))"
      ]
     },
     "metadata": {},
     "output_type": "display_data"
    },
    {
     "data": {
      "application/vnd.jupyter.widget-view+json": {
       "model_id": "a3ab6d3ec08640079b3bae9aecff29ce",
       "version_major": 2,
       "version_minor": 0
      },
      "text/plain": [
       "VBox(children=(Label(value='Images being processed'), IntProgress(value=0, max=36)))"
      ]
     },
     "metadata": {},
     "output_type": "display_data"
    },
    {
     "data": {
      "application/vnd.jupyter.widget-view+json": {
       "model_id": "256b43fb5c0e43e890734019a65a3a97",
       "version_major": 2,
       "version_minor": 0
      },
      "text/plain": [
       "VBox(children=(Label(value='Images being processed'), IntProgress(value=0, max=24)))"
      ]
     },
     "metadata": {},
     "output_type": "display_data"
    },
    {
     "data": {
      "application/vnd.jupyter.widget-view+json": {
       "model_id": "6c414d5d3ec94c0e8b312bbd42049ed0",
       "version_major": 2,
       "version_minor": 0
      },
      "text/plain": [
       "VBox(children=(Label(value='Images being processed'), IntProgress(value=0, max=24)))"
      ]
     },
     "metadata": {},
     "output_type": "display_data"
    },
    {
     "data": {
      "application/vnd.jupyter.widget-view+json": {
       "model_id": "01f45a8b1e30400582b9b821b0c32417",
       "version_major": 2,
       "version_minor": 0
      },
      "text/plain": [
       "VBox(children=(Label(value='Images being processed'), IntProgress(value=0, max=20)))"
      ]
     },
     "metadata": {},
     "output_type": "display_data"
    },
    {
     "data": {
      "application/vnd.jupyter.widget-view+json": {
       "model_id": "a9b002856d1e421399bd72223f7b526e",
       "version_major": 2,
       "version_minor": 0
      },
      "text/plain": [
       "VBox(children=(Label(value='Images being processed'), IntProgress(value=0, max=16)))"
      ]
     },
     "metadata": {},
     "output_type": "display_data"
    },
    {
     "data": {
      "application/vnd.jupyter.widget-view+json": {
       "model_id": "252627216a394d008d8b00181b7b65ec",
       "version_major": 2,
       "version_minor": 0
      },
      "text/plain": [
       "VBox(children=(Label(value='Images being processed'), IntProgress(value=0, max=24)))"
      ]
     },
     "metadata": {},
     "output_type": "display_data"
    },
    {
     "data": {
      "application/vnd.jupyter.widget-view+json": {
       "model_id": "778924ee75064cc79d0a7efe51f03c84",
       "version_major": 2,
       "version_minor": 0
      },
      "text/plain": [
       "VBox(children=(Label(value='Images being processed'), IntProgress(value=0, max=24)))"
      ]
     },
     "metadata": {},
     "output_type": "display_data"
    },
    {
     "data": {
      "application/vnd.jupyter.widget-view+json": {
       "model_id": "041ebb3ebcf341c99146bf0b767068e6",
       "version_major": 2,
       "version_minor": 0
      },
      "text/plain": [
       "VBox(children=(Label(value='Images being processed'), IntProgress(value=0, max=24)))"
      ]
     },
     "metadata": {},
     "output_type": "display_data"
    },
    {
     "data": {
      "application/vnd.jupyter.widget-view+json": {
       "model_id": "494641f979094165a57944aa8bfc4131",
       "version_major": 2,
       "version_minor": 0
      },
      "text/plain": [
       "VBox(children=(Label(value='Images being processed'), IntProgress(value=0, max=44)))"
      ]
     },
     "metadata": {},
     "output_type": "display_data"
    },
    {
     "data": {
      "application/vnd.jupyter.widget-view+json": {
       "model_id": "dcdbdd92715a4b7ebb987ce2a645fe2a",
       "version_major": 2,
       "version_minor": 0
      },
      "text/plain": [
       "VBox(children=(Label(value='Images being processed'), IntProgress(value=0, max=20)))"
      ]
     },
     "metadata": {},
     "output_type": "display_data"
    },
    {
     "data": {
      "application/vnd.jupyter.widget-view+json": {
       "model_id": "a5e1d6dc5ab34170896d6a4980f01509",
       "version_major": 2,
       "version_minor": 0
      },
      "text/plain": [
       "VBox(children=(Label(value='Images being processed'), IntProgress(value=0, max=24)))"
      ]
     },
     "metadata": {},
     "output_type": "display_data"
    },
    {
     "data": {
      "application/vnd.jupyter.widget-view+json": {
       "model_id": "dba21a6631324f13ae2aec4aaf878369",
       "version_major": 2,
       "version_minor": 0
      },
      "text/plain": [
       "VBox(children=(Label(value='Images being processed'), IntProgress(value=0, max=24)))"
      ]
     },
     "metadata": {},
     "output_type": "display_data"
    },
    {
     "data": {
      "application/vnd.jupyter.widget-view+json": {
       "model_id": "b0dc689a003f496ab75b53c64d1ea3fb",
       "version_major": 2,
       "version_minor": 0
      },
      "text/plain": [
       "VBox(children=(Label(value='Images being processed'), IntProgress(value=0, max=24)))"
      ]
     },
     "metadata": {},
     "output_type": "display_data"
    },
    {
     "data": {
      "application/vnd.jupyter.widget-view+json": {
       "model_id": "684bacc777a74e14b18c3f1fd5eac02a",
       "version_major": 2,
       "version_minor": 0
      },
      "text/plain": [
       "VBox(children=(Label(value='Images being processed'), IntProgress(value=0, max=24)))"
      ]
     },
     "metadata": {},
     "output_type": "display_data"
    },
    {
     "data": {
      "application/vnd.jupyter.widget-view+json": {
       "model_id": "08cc0c42a6aa4bd1a61a3ce289d482c3",
       "version_major": 2,
       "version_minor": 0
      },
      "text/plain": [
       "VBox(children=(Label(value='Images being processed'), IntProgress(value=0, max=32)))"
      ]
     },
     "metadata": {},
     "output_type": "display_data"
    },
    {
     "data": {
      "application/vnd.jupyter.widget-view+json": {
       "model_id": "34ccbdf8fd9b4802952a743d96e705a1",
       "version_major": 2,
       "version_minor": 0
      },
      "text/plain": [
       "VBox(children=(Label(value='Images being processed'), IntProgress(value=0, max=28)))"
      ]
     },
     "metadata": {},
     "output_type": "display_data"
    },
    {
     "data": {
      "application/vnd.jupyter.widget-view+json": {
       "model_id": "bfc3afc208fc4f178a624fe028bbf7b8",
       "version_major": 2,
       "version_minor": 0
      },
      "text/plain": [
       "VBox(children=(Label(value='Images being processed'), IntProgress(value=0, max=52)))"
      ]
     },
     "metadata": {},
     "output_type": "display_data"
    },
    {
     "data": {
      "application/vnd.jupyter.widget-view+json": {
       "model_id": "d9caa05ddc8847028e7c1987f3261bda",
       "version_major": 2,
       "version_minor": 0
      },
      "text/plain": [
       "VBox(children=(Label(value='Images being processed'), IntProgress(value=0, max=28)))"
      ]
     },
     "metadata": {},
     "output_type": "display_data"
    },
    {
     "data": {
      "application/vnd.jupyter.widget-view+json": {
       "model_id": "534a7be5c1b4436892b5a1dedb942607",
       "version_major": 2,
       "version_minor": 0
      },
      "text/plain": [
       "VBox(children=(Label(value='Images being processed'), IntProgress(value=0, max=28)))"
      ]
     },
     "metadata": {},
     "output_type": "display_data"
    },
    {
     "data": {
      "application/vnd.jupyter.widget-view+json": {
       "model_id": "17eba7958d7848668d2ae85a1ab652c4",
       "version_major": 2,
       "version_minor": 0
      },
      "text/plain": [
       "VBox(children=(Label(value='Images being processed'), IntProgress(value=0, max=32)))"
      ]
     },
     "metadata": {},
     "output_type": "display_data"
    },
    {
     "data": {
      "application/vnd.jupyter.widget-view+json": {
       "model_id": "ff2c866264a4494fbf7e05326a951952",
       "version_major": 2,
       "version_minor": 0
      },
      "text/plain": [
       "VBox(children=(Label(value='Images being processed'), IntProgress(value=0, max=32)))"
      ]
     },
     "metadata": {},
     "output_type": "display_data"
    },
    {
     "name": "stdout",
     "output_type": "stream",
     "text": [
      "Processed 135 directories\n"
     ]
    }
   ],
   "source": [
    "# start batch process\n",
    "\n",
    "# progress bar\n",
    "progress_label = Label('Directories being processed')\n",
    "progress_bar = IntProgress(min=0, max=number_of_input_dirs)\n",
    "progress_widget = VBox([progress_label, progress_bar])\n",
    "display(progress_widget)\n",
    "\n",
    "for index, directory_path in enumerate(batch_input_directory_paths_list, start=1):\n",
    "    \n",
    "    # update progress bar label\n",
    "    progress_label.value = f'Processing directory: {directory_path.name} . . . {index}/{number_of_input_dirs}'\n",
    "    \n",
    "    # load directory path as class & process\n",
    "    issue = Agrtfn(directory_path)\n",
    "    issue.get_image_paths_list()\n",
    "    issue.process()\n",
    "    \n",
    "    #update progress bar value\n",
    "    progress_bar.value = index\n",
    "\n",
    "print(f'Processed {index} directories')"
   ]
  },
  {
   "cell_type": "code",
   "execution_count": 18,
   "metadata": {},
   "outputs": [
    {
     "ename": "NameError",
     "evalue": "name 'df' is not defined",
     "output_type": "error",
     "traceback": [
      "\u001b[0;31m---------------------------------------------------------------------------\u001b[0m",
      "\u001b[0;31mNameError\u001b[0m                                 Traceback (most recent call last)",
      "\u001b[0;32m<ipython-input-18-00cf07b74dcd>\u001b[0m in \u001b[0;36m<module>\u001b[0;34m\u001b[0m\n\u001b[0;32m----> 1\u001b[0;31m \u001b[0mdf\u001b[0m\u001b[0;34m\u001b[0m\u001b[0;34m\u001b[0m\u001b[0m\n\u001b[0m",
      "\u001b[0;31mNameError\u001b[0m: name 'df' is not defined"
     ]
    }
   ],
   "source": [
    "df"
   ]
  },
  {
   "cell_type": "code",
   "execution_count": 21,
   "metadata": {},
   "outputs": [],
   "source": [
    "output_df = df_tn_farm_and_home_science['new_directory_name']"
   ]
  },
  {
   "cell_type": "code",
   "execution_count": 23,
   "metadata": {},
   "outputs": [],
   "source": [
    "output_df.to_clipboard(index=False, header=False, excel=True, sep='\\t')"
   ]
  },
  {
   "cell_type": "code",
   "execution_count": 24,
   "metadata": {},
   "outputs": [],
   "source": [
    "from pathlib import Path"
   ]
  },
  {
   "cell_type": "code",
   "execution_count": null,
   "metadata": {},
   "outputs": [],
   "source": []
  }
 ],
 "metadata": {
  "kernelspec": {
   "display_name": "Python 3",
   "language": "python",
   "name": "python3"
  },
  "language_info": {
   "codemirror_mode": {
    "name": "ipython",
    "version": 3
   },
   "file_extension": ".py",
   "mimetype": "text/x-python",
   "name": "python",
   "nbconvert_exporter": "python",
   "pygments_lexer": "ipython3",
   "version": "3.7.3"
  },
  "toc": {
   "base_numbering": 1,
   "nav_menu": {},
   "number_sections": true,
   "sideBar": true,
   "skip_h1_title": false,
   "title_cell": "Table of Contents",
   "title_sidebar": "Contents",
   "toc_cell": false,
   "toc_position": {},
   "toc_section_display": true,
   "toc_window_display": false
  }
 },
 "nbformat": 4,
 "nbformat_minor": 2
}
