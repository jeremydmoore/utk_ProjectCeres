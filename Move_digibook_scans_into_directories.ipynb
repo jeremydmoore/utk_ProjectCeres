{
 "cells": [
  {
   "cell_type": "markdown",
   "metadata": {},
   "source": [
    "## Project Ceres - Move Digibook UTESC Images into Directories\n",
    "\n",
    "Digibook scans for UT extension special circulars were all scanned into a single folder\n",
    "\n",
    "Need to copy images into directories using the AdminDB numbers"
   ]
  },
  {
   "cell_type": "code",
   "execution_count": 1,
   "metadata": {
    "code_folding": []
   },
   "outputs": [],
   "source": [
    "# importing\n",
    "import shutil\n",
    "from pathlib import Path\n",
    "\n",
    "from ipywidgets import IntProgress, Label, VBox\n",
    "from IPython.display import display"
   ]
  },
  {
   "cell_type": "code",
   "execution_count": 2,
   "metadata": {},
   "outputs": [],
   "source": [
    "convert_to_admin_db_numbers_directory_path = Path('data/00_UTSpecialCirculars_toAdminDBNumbers')"
   ]
  },
  {
   "cell_type": "code",
   "execution_count": 3,
   "metadata": {},
   "outputs": [],
   "source": [
    "# get image paths list\n",
    "image_paths_list = sorted([x for x in convert_to_admin_db_numbers_directory_path.iterdir() if str(x).endswith('.tif')])"
   ]
  },
  {
   "cell_type": "code",
   "execution_count": 4,
   "metadata": {},
   "outputs": [
    {
     "name": "stdout",
     "output_type": "stream",
     "text": [
      "1951 *.tif files to process\n"
     ]
    }
   ],
   "source": [
    "print(f'{len(image_paths_list)} *.tif files to process')"
   ]
  },
  {
   "cell_type": "code",
   "execution_count": 5,
   "metadata": {
    "code_folding": []
   },
   "outputs": [
    {
     "name": "stdout",
     "output_type": "stream",
     "text": [
      "[24, 25, 26, 28, 29, 31, 32, 33, 34, 35, 36, 37, 38, 40, 41, 42, 43, 45, 46, 47, 48, 49, 50, 51, 52, 53, 54, 55, 56, 57, 58, 59, 61, 62, 63, 64, 65, 66, 67, 68, 69, 70, 71, 72, 73, 74, 75, 76, 77, 78, 79, 80, 81, 82, 83, 84, 85, 86, 87, 88, 89, 90, 91, 92, 93, 100, 101, 102, 103, 104, 105, 106, 107, 108, 109, 110, 111, 112, 113, 114, 115, 116, 119, 120, 121, 122, 123, 124, 126, 127, 128, 130, 131, 132, 133, 134, 135, 136, 137, 138, 140, 141, 142, 143, 144, 145, 146, 147, 148, 149, 150, 151, 152, 153, 158, 162, 168, 170, 171, 172, 173, 174, 175, 176, 177, 178, 179, 188, 191, 192, 194, 198, 234, 235, 241, 242, 243, 245, 247, 248, 249, 250, 251, 252, 253, 254, 255, 256, 257, 259, 260, 262, 263, 264, 265, 266, 267, 268, 270, 271, 273, 274, 276, 278, 283, 285, 287, 288, 289, 290, 292, 293, 294, 296, 307, 308, 309, 311, 312, 313, 314, 315, 316, 317, 319, 320, 323, 324, 325, 326, 327, 328, 330, 331, 332, 333, 335, 336, 337, 340, 342, 346, 361, 369, 375, 380, 383, 387, 388, 389, 392, 394, 395, 425, 446, 451, 459, 629]\n"
     ]
    }
   ],
   "source": [
    "# circular names and numbers (because some have letters in them -- NOTE manually renamed the ones with letters)\n",
    "circulars_item_list = sorted(set([int(str(x.name).split('_', 3)[2]) for x in image_paths_list]))\n",
    "print(circulars_item_list)"
   ]
  },
  {
   "cell_type": "code",
   "execution_count": 6,
   "metadata": {
    "code_folding": []
   },
   "outputs": [
    {
     "data": {
      "text/plain": [
       "218"
      ]
     },
     "execution_count": 6,
     "metadata": {},
     "output_type": "execute_result"
    }
   ],
   "source": [
    "# number of items\n",
    "len(circulars_item_list)"
   ]
  },
  {
   "cell_type": "code",
   "execution_count": 7,
   "metadata": {
    "code_folding": []
   },
   "outputs": [
    {
     "data": {
      "application/vnd.jupyter.widget-view+json": {
       "model_id": "0ac3aadc1f444f8b93e6c2118c04618d",
       "version_major": 2,
       "version_minor": 0
      },
      "text/plain": [
       "VBox(children=(Label(value='extension circular being processed'), IntProgress(value=0, max=218)))"
      ]
     },
     "metadata": {},
     "output_type": "display_data"
    },
    {
     "name": "stdout",
     "output_type": "stream",
     "text": [
      "1951 files moved and renamed for adminDB numbers\n"
     ]
    }
   ],
   "source": [
    "# copy images into AdminDB folders\n",
    "\n",
    "# progress bar\n",
    "progress_label = Label('extension circular being processed')\n",
    "progress_bar = IntProgress(min=0, max=len(circulars_item_list))\n",
    "progress_widget = VBox([progress_label, progress_bar])\n",
    "display(progress_widget)\n",
    "\n",
    "count = 0\n",
    "\n",
    "# loop through images\n",
    "for outer_loop_index, circular_item_number in enumerate(circulars_item_list, start=1):\n",
    "    \n",
    "    label = f'Processing extension circular #{circular_item_number} . . .'\n",
    "    progress_label.value = label\n",
    "    \n",
    "    # create adminDB directory\n",
    "    adminDB_directory_name = f'0012_004268_{str(outer_loop_index).zfill(4)}'\n",
    "    adminDB_directory_path = convert_to_admin_db_numbers_directory_path.parents[0].joinpath('utesc_adminDB', adminDB_directory_name)\n",
    "    adminDB_directory_path.mkdir(parents=True, exist_ok=True)\n",
    "    \n",
    "    # get image_list to copy into directory\n",
    "    circular_item_image_name_stub = f'0012_004268_{str(circular_item_number).zfill(4)}'\n",
    "    circular_item_image_paths_list = sorted(convert_to_admin_db_numbers_directory_path.glob(f'{circular_item_image_name_stub}_*.tif'))\n",
    "    \n",
    "    # copy item into adminDB directory\n",
    "    for image_path in circular_item_image_paths_list:\n",
    "        copy_item_path = adminDB_directory_path.joinpath(image_path.name)\n",
    "        shutil.copyfile(image_path, copy_item_path)\n",
    "        \n",
    "        if copy_item_path.is_file() and copy_item_path.stat().st_size == image_path.stat().st_size:\n",
    "            image_path.unlink()\n",
    "    \n",
    "    # rename items in adminDB directory to match directory name\n",
    "    image_paths_to_rename_list = [x for x in sorted(adminDB_directory_path.glob('*.tif'))]\n",
    "    \n",
    "    for index, image_path in enumerate(image_paths_to_rename_list, start=1):\n",
    "        adminDB_image_file_name = f'{adminDB_directory_name}_{str(index).zfill(4)}.tif'\n",
    "        adminDB_image_file_path = image_path.parents[0].joinpath(adminDB_image_file_name)\n",
    "        \n",
    "        image_path.rename(adminDB_image_file_path)\n",
    "    \n",
    "    image_paths_list = sorted(adminDB_directory_path.glob('*.tif'))\n",
    "    \n",
    "    count += len(image_paths_list)\n",
    "        \n",
    "    progress_bar.value = outer_loop_index\n",
    "        \n",
    "print(f'{count} files moved and renamed for adminDB numbers')"
   ]
  },
  {
   "cell_type": "code",
   "execution_count": null,
   "metadata": {},
   "outputs": [],
   "source": []
  }
 ],
 "metadata": {
  "kernelspec": {
   "display_name": "Python 3",
   "language": "python",
   "name": "python3"
  },
  "language_info": {
   "codemirror_mode": {
    "name": "ipython",
    "version": 3
   },
   "file_extension": ".py",
   "mimetype": "text/x-python",
   "name": "python",
   "nbconvert_exporter": "python",
   "pygments_lexer": "ipython3",
   "version": "3.7.2"
  },
  "toc": {
   "base_numbering": 1,
   "nav_menu": {},
   "number_sections": true,
   "sideBar": true,
   "skip_h1_title": false,
   "title_cell": "Table of Contents",
   "title_sidebar": "Contents",
   "toc_cell": false,
   "toc_position": {},
   "toc_section_display": true,
   "toc_window_display": false
  }
 },
 "nbformat": 4,
 "nbformat_minor": 2
}
