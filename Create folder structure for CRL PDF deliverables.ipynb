{
 "cells": [
  {
   "cell_type": "markdown",
   "metadata": {},
   "source": [
    "# Importing and Options"
   ]
  },
  {
   "cell_type": "code",
   "execution_count": 1,
   "metadata": {},
   "outputs": [
    {
     "data": {
      "text/html": [
       "<style>.container { width:95% !important; }</style>"
      ],
      "text/plain": [
       "<IPython.core.display.HTML object>"
      ]
     },
     "metadata": {},
     "output_type": "display_data"
    }
   ],
   "source": [
    "# importing and options\n",
    "import time\n",
    "from pathlib import Path\n",
    "from shutil import copy, rmtree\n",
    "\n",
    "import numpy as np\n",
    "import pandas as pd\n",
    "from PIL import Image\n",
    "from tqdm.auto import tqdm\n",
    "\n",
    "# == display 95% width\n",
    "from IPython.core.display import display, HTML\n",
    "display(HTML(\"<style>.container { width:95% !important; }</style>\"))\n",
    "\n",
    "# set pandas option to display wider column info, use -1 to expand to largest necessary width\n",
    "pd.set_option('max_colwidth', -1)"
   ]
  },
  {
   "cell_type": "markdown",
   "metadata": {},
   "source": [
    "# Create folder structure for CRL deliverables\n",
    "\n",
    "Deprecated Structure:\n",
    "\n",
    "Root:\n",
    "oclc#/\n",
    "       \n",
    "       v.1/\n",
    "        \n",
    "            1934-01-01/\n",
    "            \n",
    "                        001.tif\n",
    "                        002.tif\n",
    "                        last pg.tif\n",
    "            1934-02-01/\n",
    "            \n",
    "                        001.tif\n",
    "                        002.tif\n",
    "                        last pg.tif\n",
    "            1934-03-01/\n",
    "            \n",
    "                        001.tif\n",
    "                        002.tif\n",
    "                        last pg.tif\n",
    "                        \n",
    "        v.2/\n",
    "        \n",
    "            1935-01-01/\n",
    "            \n",
    "                        001.tif\n",
    "                        002.tif\n",
    "                        last pg.tif\n",
    "                        \n",
    "Levels:\n",
    "1. oclc number for print title\n",
    "2. volume, written as v. with number\n",
    "3. issue level, written as yyyy-mm-dd or yyyy-mm if no day\n",
    "4. individual page TIFFs 001.tif through last page"
   ]
  },
  {
   "cell_type": "markdown",
   "metadata": {},
   "source": [
    "## New folder structure received from CRL on 2019-04-04\n",
    "\n",
    "1. issue level date, written yyyy_mm_dd, or yyyy_mm if no day\n",
    "1. individual PDFs 0001.pdf, 0002.pdf, through last page\n",
    "1. no instructions given on creating PDFs\n",
    " - create PDFs with Pillow?\n",
    " \n",
    "From Amy Wood (Wood@crl.edu)\n",
    "\n",
    "*When you are ready to deliver the images and the metadata, please email my colleague, Maritza  Kellum, at mkellum@crl.edu  She is the best person to advise you on the file naming as well.  I have copied her on this email.*\n",
    "\n",
    "*We have recently migrated to a new digital delivery system.  To load files into that system we use the following file naming:\n",
    "Scans are placed into folders separated by issue. The folders are labeled using issue dates and underscores (yyyy_mm_dd). If there are multiple issues in a single year without month information, then the folders are labeled according to year, volume, and issue number (yyyy_v.#_no.#).*\n",
    "\n"
   ]
  },
  {
   "cell_type": "markdown",
   "metadata": {},
   "source": [
    "# Processing Tennessee Farm and Home Science\n",
    "1. Import csv with titles\n",
    " - ```Tennessee farm and home science, progress report 1, January - March 1952```\n",
    "1. convert title into starting month and year\n",
    " - ```January 1952```\n",
    "1. convert month and year into yyyy_mm\n",
    " - ```1952_01```"
   ]
  },
  {
   "cell_type": "markdown",
   "metadata": {},
   "source": [
    "## Load data"
   ]
  },
  {
   "cell_type": "code",
   "execution_count": 2,
   "metadata": {},
   "outputs": [],
   "source": [
    "# exported Google Docs spreadsheet as csv\n",
    "df_tn_farm_and_home_science = pd.read_csv('data/tennessee_farm_and_home_science.csv')"
   ]
  },
  {
   "cell_type": "code",
   "execution_count": 3,
   "metadata": {
    "scrolled": false
   },
   "outputs": [
    {
     "data": {
      "text/html": [
       "<div>\n",
       "<style scoped>\n",
       "    .dataframe tbody tr th:only-of-type {\n",
       "        vertical-align: middle;\n",
       "    }\n",
       "\n",
       "    .dataframe tbody tr th {\n",
       "        vertical-align: top;\n",
       "    }\n",
       "\n",
       "    .dataframe thead th {\n",
       "        text-align: right;\n",
       "    }\n",
       "</style>\n",
       "<table border=\"1\" class=\"dataframe\">\n",
       "  <thead>\n",
       "    <tr style=\"text-align: right;\">\n",
       "      <th></th>\n",
       "      <th>adminDB</th>\n",
       "      <th>title</th>\n",
       "      <th>extent</th>\n",
       "    </tr>\n",
       "  </thead>\n",
       "  <tbody>\n",
       "    <tr>\n",
       "      <th>0</th>\n",
       "      <td>0012_004267_000001</td>\n",
       "      <td>Tennessee farm and home science, progress report 1, January - March 1952</td>\n",
       "      <td>12 pages</td>\n",
       "    </tr>\n",
       "    <tr>\n",
       "      <th>1</th>\n",
       "      <td>0012_004267_000002</td>\n",
       "      <td>Tennessee farm and home science, progress report 2, April - June 1952</td>\n",
       "      <td>12 pages</td>\n",
       "    </tr>\n",
       "    <tr>\n",
       "      <th>2</th>\n",
       "      <td>0012_004267_000003</td>\n",
       "      <td>Tennessee farm and home science, progress report 3, July - September 1952</td>\n",
       "      <td>12 pages</td>\n",
       "    </tr>\n",
       "    <tr>\n",
       "      <th>3</th>\n",
       "      <td>0012_004267_000004</td>\n",
       "      <td>Tennessee farm and home science, progress report 4, October - December 1952</td>\n",
       "      <td>12 pages</td>\n",
       "    </tr>\n",
       "    <tr>\n",
       "      <th>4</th>\n",
       "      <td>0012_004267_000005</td>\n",
       "      <td>Tennessee farm and home science, progress report 5, January - March 1953</td>\n",
       "      <td>12 pages</td>\n",
       "    </tr>\n",
       "  </tbody>\n",
       "</table>\n",
       "</div>"
      ],
      "text/plain": [
       "              adminDB  \\\n",
       "0  0012_004267_000001   \n",
       "1  0012_004267_000002   \n",
       "2  0012_004267_000003   \n",
       "3  0012_004267_000004   \n",
       "4  0012_004267_000005   \n",
       "\n",
       "                                                                         title  \\\n",
       "0  Tennessee farm and home science, progress report 1, January - March 1952      \n",
       "1  Tennessee farm and home science, progress report 2, April - June 1952         \n",
       "2  Tennessee farm and home science, progress report 3, July - September 1952     \n",
       "3  Tennessee farm and home science, progress report 4, October - December 1952   \n",
       "4  Tennessee farm and home science, progress report 5, January - March 1953      \n",
       "\n",
       "     extent  \n",
       "0  12 pages  \n",
       "1  12 pages  \n",
       "2  12 pages  \n",
       "3  12 pages  \n",
       "4  12 pages  "
      ]
     },
     "execution_count": 3,
     "metadata": {},
     "output_type": "execute_result"
    }
   ],
   "source": [
    "df_tn_farm_and_home_science.head(5)"
   ]
  },
  {
   "cell_type": "code",
   "execution_count": 4,
   "metadata": {},
   "outputs": [
    {
     "data": {
      "text/html": [
       "<div>\n",
       "<style scoped>\n",
       "    .dataframe tbody tr th:only-of-type {\n",
       "        vertical-align: middle;\n",
       "    }\n",
       "\n",
       "    .dataframe tbody tr th {\n",
       "        vertical-align: top;\n",
       "    }\n",
       "\n",
       "    .dataframe thead th {\n",
       "        text-align: right;\n",
       "    }\n",
       "</style>\n",
       "<table border=\"1\" class=\"dataframe\">\n",
       "  <thead>\n",
       "    <tr style=\"text-align: right;\">\n",
       "      <th></th>\n",
       "      <th>adminDB</th>\n",
       "      <th>title</th>\n",
       "      <th>extent</th>\n",
       "    </tr>\n",
       "  </thead>\n",
       "  <tbody>\n",
       "    <tr>\n",
       "      <th>0</th>\n",
       "      <td>0012_004267_000001</td>\n",
       "      <td>Tennessee farm and home science, progress report 1, January - March 1952</td>\n",
       "      <td>12 pages</td>\n",
       "    </tr>\n",
       "    <tr>\n",
       "      <th>1</th>\n",
       "      <td>0012_004267_000002</td>\n",
       "      <td>Tennessee farm and home science, progress report 2, April - June 1952</td>\n",
       "      <td>12 pages</td>\n",
       "    </tr>\n",
       "    <tr>\n",
       "      <th>2</th>\n",
       "      <td>0012_004267_000003</td>\n",
       "      <td>Tennessee farm and home science, progress report 3, July - September 1952</td>\n",
       "      <td>12 pages</td>\n",
       "    </tr>\n",
       "    <tr>\n",
       "      <th>3</th>\n",
       "      <td>0012_004267_000004</td>\n",
       "      <td>Tennessee farm and home science, progress report 4, October - December 1952</td>\n",
       "      <td>12 pages</td>\n",
       "    </tr>\n",
       "    <tr>\n",
       "      <th>4</th>\n",
       "      <td>0012_004267_000005</td>\n",
       "      <td>Tennessee farm and home science, progress report 5, January - March 1953</td>\n",
       "      <td>12 pages</td>\n",
       "    </tr>\n",
       "  </tbody>\n",
       "</table>\n",
       "</div>"
      ],
      "text/plain": [
       "              adminDB  \\\n",
       "0  0012_004267_000001   \n",
       "1  0012_004267_000002   \n",
       "2  0012_004267_000003   \n",
       "3  0012_004267_000004   \n",
       "4  0012_004267_000005   \n",
       "\n",
       "                                                                         title  \\\n",
       "0  Tennessee farm and home science, progress report 1, January - March 1952      \n",
       "1  Tennessee farm and home science, progress report 2, April - June 1952         \n",
       "2  Tennessee farm and home science, progress report 3, July - September 1952     \n",
       "3  Tennessee farm and home science, progress report 4, October - December 1952   \n",
       "4  Tennessee farm and home science, progress report 5, January - March 1953      \n",
       "\n",
       "     extent  \n",
       "0  12 pages  \n",
       "1  12 pages  \n",
       "2  12 pages  \n",
       "3  12 pages  \n",
       "4  12 pages  "
      ]
     },
     "execution_count": 4,
     "metadata": {},
     "output_type": "execute_result"
    }
   ],
   "source": [
    "df_tn_farm_and_home_science.head(5)"
   ]
  },
  {
   "cell_type": "code",
   "execution_count": 5,
   "metadata": {},
   "outputs": [
    {
     "name": "stdout",
     "output_type": "stream",
     "text": [
      "adminDB\n",
      "title\n",
      "extent\n"
     ]
    }
   ],
   "source": [
    "for value in df_tn_farm_and_home_science:\n",
    "    print(value)"
   ]
  },
  {
   "cell_type": "code",
   "execution_count": 6,
   "metadata": {},
   "outputs": [
    {
     "data": {
      "text/plain": [
       "'Tennessee farm and home science, progress report 1, January - March 1952'"
      ]
     },
     "execution_count": 6,
     "metadata": {},
     "output_type": "execute_result"
    }
   ],
   "source": [
    "df_tn_farm_and_home_science['title'][0]"
   ]
  },
  {
   "cell_type": "code",
   "execution_count": 7,
   "metadata": {},
   "outputs": [],
   "source": [
    "# rsplit the title value for the first index in dataframe with spaces and get the last field\n",
    "df_tn_farm_and_home_science['yyyy'] = df_tn_farm_and_home_science['title'][0].rsplit(' ')[-1]"
   ]
  },
  {
   "cell_type": "code",
   "execution_count": 8,
   "metadata": {},
   "outputs": [
    {
     "data": {
      "text/html": [
       "<div>\n",
       "<style scoped>\n",
       "    .dataframe tbody tr th:only-of-type {\n",
       "        vertical-align: middle;\n",
       "    }\n",
       "\n",
       "    .dataframe tbody tr th {\n",
       "        vertical-align: top;\n",
       "    }\n",
       "\n",
       "    .dataframe thead th {\n",
       "        text-align: right;\n",
       "    }\n",
       "</style>\n",
       "<table border=\"1\" class=\"dataframe\">\n",
       "  <thead>\n",
       "    <tr style=\"text-align: right;\">\n",
       "      <th></th>\n",
       "      <th>adminDB</th>\n",
       "      <th>title</th>\n",
       "      <th>extent</th>\n",
       "      <th>yyyy</th>\n",
       "    </tr>\n",
       "  </thead>\n",
       "  <tbody>\n",
       "    <tr>\n",
       "      <th>0</th>\n",
       "      <td>0012_004267_000001</td>\n",
       "      <td>Tennessee farm and home science, progress report 1, January - March 1952</td>\n",
       "      <td>12 pages</td>\n",
       "      <td>1952</td>\n",
       "    </tr>\n",
       "    <tr>\n",
       "      <th>1</th>\n",
       "      <td>0012_004267_000002</td>\n",
       "      <td>Tennessee farm and home science, progress report 2, April - June 1952</td>\n",
       "      <td>12 pages</td>\n",
       "      <td>1952</td>\n",
       "    </tr>\n",
       "    <tr>\n",
       "      <th>2</th>\n",
       "      <td>0012_004267_000003</td>\n",
       "      <td>Tennessee farm and home science, progress report 3, July - September 1952</td>\n",
       "      <td>12 pages</td>\n",
       "      <td>1952</td>\n",
       "    </tr>\n",
       "    <tr>\n",
       "      <th>3</th>\n",
       "      <td>0012_004267_000004</td>\n",
       "      <td>Tennessee farm and home science, progress report 4, October - December 1952</td>\n",
       "      <td>12 pages</td>\n",
       "      <td>1952</td>\n",
       "    </tr>\n",
       "    <tr>\n",
       "      <th>4</th>\n",
       "      <td>0012_004267_000005</td>\n",
       "      <td>Tennessee farm and home science, progress report 5, January - March 1953</td>\n",
       "      <td>12 pages</td>\n",
       "      <td>1953</td>\n",
       "    </tr>\n",
       "  </tbody>\n",
       "</table>\n",
       "</div>"
      ],
      "text/plain": [
       "              adminDB  \\\n",
       "0  0012_004267_000001   \n",
       "1  0012_004267_000002   \n",
       "2  0012_004267_000003   \n",
       "3  0012_004267_000004   \n",
       "4  0012_004267_000005   \n",
       "\n",
       "                                                                         title  \\\n",
       "0  Tennessee farm and home science, progress report 1, January - March 1952      \n",
       "1  Tennessee farm and home science, progress report 2, April - June 1952         \n",
       "2  Tennessee farm and home science, progress report 3, July - September 1952     \n",
       "3  Tennessee farm and home science, progress report 4, October - December 1952   \n",
       "4  Tennessee farm and home science, progress report 5, January - March 1953      \n",
       "\n",
       "     extent  yyyy  \n",
       "0  12 pages  1952  \n",
       "1  12 pages  1952  \n",
       "2  12 pages  1952  \n",
       "3  12 pages  1952  \n",
       "4  12 pages  1953  "
      ]
     },
     "execution_count": 8,
     "metadata": {},
     "output_type": "execute_result"
    }
   ],
   "source": [
    "# add yyyy to DataFrame\n",
    "\n",
    "# https://stackoverflow.com/a/52269469\n",
    "# rsplit by ' ' (the default) and get the last field\n",
    "df_tn_farm_and_home_science['yyyy'] = df_tn_farm_and_home_science['title'].str.rsplit().str[-1]\n",
    "df_tn_farm_and_home_science.head(5)"
   ]
  },
  {
   "cell_type": "code",
   "execution_count": 9,
   "metadata": {},
   "outputs": [
    {
     "data": {
      "text/html": [
       "<div>\n",
       "<style scoped>\n",
       "    .dataframe tbody tr th:only-of-type {\n",
       "        vertical-align: middle;\n",
       "    }\n",
       "\n",
       "    .dataframe tbody tr th {\n",
       "        vertical-align: top;\n",
       "    }\n",
       "\n",
       "    .dataframe thead th {\n",
       "        text-align: right;\n",
       "    }\n",
       "</style>\n",
       "<table border=\"1\" class=\"dataframe\">\n",
       "  <thead>\n",
       "    <tr style=\"text-align: right;\">\n",
       "      <th></th>\n",
       "      <th>adminDB</th>\n",
       "      <th>title</th>\n",
       "      <th>extent</th>\n",
       "    </tr>\n",
       "  </thead>\n",
       "  <tbody>\n",
       "    <tr>\n",
       "      <th>0</th>\n",
       "      <td>0012_004267_000001</td>\n",
       "      <td>Tennessee farm and home science, progress report 1, January - March 1952</td>\n",
       "      <td>12 pages</td>\n",
       "    </tr>\n",
       "    <tr>\n",
       "      <th>1</th>\n",
       "      <td>0012_004267_000002</td>\n",
       "      <td>Tennessee farm and home science, progress report 2, April - June 1952</td>\n",
       "      <td>12 pages</td>\n",
       "    </tr>\n",
       "    <tr>\n",
       "      <th>2</th>\n",
       "      <td>0012_004267_000003</td>\n",
       "      <td>Tennessee farm and home science, progress report 3, July - September 1952</td>\n",
       "      <td>12 pages</td>\n",
       "    </tr>\n",
       "    <tr>\n",
       "      <th>3</th>\n",
       "      <td>0012_004267_000004</td>\n",
       "      <td>Tennessee farm and home science, progress report 4, October - December 1952</td>\n",
       "      <td>12 pages</td>\n",
       "    </tr>\n",
       "    <tr>\n",
       "      <th>4</th>\n",
       "      <td>0012_004267_000005</td>\n",
       "      <td>Tennessee farm and home science, progress report 5, January - March 1953</td>\n",
       "      <td>12 pages</td>\n",
       "    </tr>\n",
       "  </tbody>\n",
       "</table>\n",
       "</div>"
      ],
      "text/plain": [
       "              adminDB  \\\n",
       "0  0012_004267_000001   \n",
       "1  0012_004267_000002   \n",
       "2  0012_004267_000003   \n",
       "3  0012_004267_000004   \n",
       "4  0012_004267_000005   \n",
       "\n",
       "                                                                         title  \\\n",
       "0  Tennessee farm and home science, progress report 1, January - March 1952      \n",
       "1  Tennessee farm and home science, progress report 2, April - June 1952         \n",
       "2  Tennessee farm and home science, progress report 3, July - September 1952     \n",
       "3  Tennessee farm and home science, progress report 4, October - December 1952   \n",
       "4  Tennessee farm and home science, progress report 5, January - March 1953      \n",
       "\n",
       "     extent  \n",
       "0  12 pages  \n",
       "1  12 pages  \n",
       "2  12 pages  \n",
       "3  12 pages  \n",
       "4  12 pages  "
      ]
     },
     "execution_count": 9,
     "metadata": {},
     "output_type": "execute_result"
    }
   ],
   "source": [
    "# drop yyyy from DataFrame as it makes more sent to rsplit by ',' and get the last field\n",
    "df_tn_farm_and_home_science = df_tn_farm_and_home_science.drop(columns='yyyy')\n",
    "df_tn_farm_and_home_science.head(5)"
   ]
  },
  {
   "cell_type": "markdown",
   "metadata": {},
   "source": [
    "## Date Range from Title"
   ]
  },
  {
   "cell_type": "code",
   "execution_count": 10,
   "metadata": {},
   "outputs": [
    {
     "data": {
      "text/plain": [
       "0     January - March 1952   \n",
       "1     April - June 1952      \n",
       "2     July - September 1952  \n",
       "3     October - December 1952\n",
       "4     January - March 1953   \n",
       "Name: title, dtype: object"
      ]
     },
     "execution_count": 10,
     "metadata": {},
     "output_type": "execute_result"
    }
   ],
   "source": [
    "# rsplit by comma and get the last field\n",
    "df_tn_farm_and_home_science['title'].str.rsplit(',').str[-1].head(5)"
   ]
  },
  {
   "cell_type": "code",
   "execution_count": 11,
   "metadata": {},
   "outputs": [
    {
     "data": {
      "text/html": [
       "<div>\n",
       "<style scoped>\n",
       "    .dataframe tbody tr th:only-of-type {\n",
       "        vertical-align: middle;\n",
       "    }\n",
       "\n",
       "    .dataframe tbody tr th {\n",
       "        vertical-align: top;\n",
       "    }\n",
       "\n",
       "    .dataframe thead th {\n",
       "        text-align: right;\n",
       "    }\n",
       "</style>\n",
       "<table border=\"1\" class=\"dataframe\">\n",
       "  <thead>\n",
       "    <tr style=\"text-align: right;\">\n",
       "      <th></th>\n",
       "      <th>adminDB</th>\n",
       "      <th>title</th>\n",
       "      <th>extent</th>\n",
       "      <th>date_range</th>\n",
       "    </tr>\n",
       "  </thead>\n",
       "  <tbody>\n",
       "    <tr>\n",
       "      <th>0</th>\n",
       "      <td>0012_004267_000001</td>\n",
       "      <td>Tennessee farm and home science, progress report 1, January - March 1952</td>\n",
       "      <td>12 pages</td>\n",
       "      <td>January - March 1952</td>\n",
       "    </tr>\n",
       "    <tr>\n",
       "      <th>1</th>\n",
       "      <td>0012_004267_000002</td>\n",
       "      <td>Tennessee farm and home science, progress report 2, April - June 1952</td>\n",
       "      <td>12 pages</td>\n",
       "      <td>April - June 1952</td>\n",
       "    </tr>\n",
       "    <tr>\n",
       "      <th>2</th>\n",
       "      <td>0012_004267_000003</td>\n",
       "      <td>Tennessee farm and home science, progress report 3, July - September 1952</td>\n",
       "      <td>12 pages</td>\n",
       "      <td>July - September 1952</td>\n",
       "    </tr>\n",
       "    <tr>\n",
       "      <th>3</th>\n",
       "      <td>0012_004267_000004</td>\n",
       "      <td>Tennessee farm and home science, progress report 4, October - December 1952</td>\n",
       "      <td>12 pages</td>\n",
       "      <td>October - December 1952</td>\n",
       "    </tr>\n",
       "    <tr>\n",
       "      <th>4</th>\n",
       "      <td>0012_004267_000005</td>\n",
       "      <td>Tennessee farm and home science, progress report 5, January - March 1953</td>\n",
       "      <td>12 pages</td>\n",
       "      <td>January - March 1953</td>\n",
       "    </tr>\n",
       "  </tbody>\n",
       "</table>\n",
       "</div>"
      ],
      "text/plain": [
       "              adminDB  \\\n",
       "0  0012_004267_000001   \n",
       "1  0012_004267_000002   \n",
       "2  0012_004267_000003   \n",
       "3  0012_004267_000004   \n",
       "4  0012_004267_000005   \n",
       "\n",
       "                                                                         title  \\\n",
       "0  Tennessee farm and home science, progress report 1, January - March 1952      \n",
       "1  Tennessee farm and home science, progress report 2, April - June 1952         \n",
       "2  Tennessee farm and home science, progress report 3, July - September 1952     \n",
       "3  Tennessee farm and home science, progress report 4, October - December 1952   \n",
       "4  Tennessee farm and home science, progress report 5, January - March 1953      \n",
       "\n",
       "     extent                date_range  \n",
       "0  12 pages   January - March 1952     \n",
       "1  12 pages   April - June 1952        \n",
       "2  12 pages   July - September 1952    \n",
       "3  12 pages   October - December 1952  \n",
       "4  12 pages   January - March 1953     "
      ]
     },
     "execution_count": 11,
     "metadata": {},
     "output_type": "execute_result"
    }
   ],
   "source": [
    "# add date_range to Dataframe by rsplitting on comma and taking the last field\n",
    "df_tn_farm_and_home_science['date_range'] = df_tn_farm_and_home_science['title'].str.rsplit(',').str[-1]\n",
    "df_tn_farm_and_home_science.head(5)"
   ]
  },
  {
   "cell_type": "markdown",
   "metadata": {},
   "source": [
    "## Month"
   ]
  },
  {
   "cell_type": "code",
   "execution_count": 12,
   "metadata": {
    "scrolled": true
   },
   "outputs": [
    {
     "data": {
      "text/plain": [
       "0    January\n",
       "1    April  \n",
       "2    July   \n",
       "3    October\n",
       "4    January\n",
       "Name: date_range, dtype: object"
      ]
     },
     "execution_count": 12,
     "metadata": {},
     "output_type": "execute_result"
    }
   ],
   "source": [
    "# split date range by spaces and get the first month\n",
    "df_tn_farm_and_home_science['date_range'].str.split().str[0].head(5)"
   ]
  },
  {
   "cell_type": "code",
   "execution_count": 13,
   "metadata": {},
   "outputs": [
    {
     "data": {
      "text/html": [
       "<div>\n",
       "<style scoped>\n",
       "    .dataframe tbody tr th:only-of-type {\n",
       "        vertical-align: middle;\n",
       "    }\n",
       "\n",
       "    .dataframe tbody tr th {\n",
       "        vertical-align: top;\n",
       "    }\n",
       "\n",
       "    .dataframe thead th {\n",
       "        text-align: right;\n",
       "    }\n",
       "</style>\n",
       "<table border=\"1\" class=\"dataframe\">\n",
       "  <thead>\n",
       "    <tr style=\"text-align: right;\">\n",
       "      <th></th>\n",
       "      <th>adminDB</th>\n",
       "      <th>title</th>\n",
       "      <th>extent</th>\n",
       "      <th>date_range</th>\n",
       "      <th>Month</th>\n",
       "    </tr>\n",
       "  </thead>\n",
       "  <tbody>\n",
       "    <tr>\n",
       "      <th>0</th>\n",
       "      <td>0012_004267_000001</td>\n",
       "      <td>Tennessee farm and home science, progress report 1, January - March 1952</td>\n",
       "      <td>12 pages</td>\n",
       "      <td>January - March 1952</td>\n",
       "      <td>January</td>\n",
       "    </tr>\n",
       "    <tr>\n",
       "      <th>1</th>\n",
       "      <td>0012_004267_000002</td>\n",
       "      <td>Tennessee farm and home science, progress report 2, April - June 1952</td>\n",
       "      <td>12 pages</td>\n",
       "      <td>April - June 1952</td>\n",
       "      <td>April</td>\n",
       "    </tr>\n",
       "    <tr>\n",
       "      <th>2</th>\n",
       "      <td>0012_004267_000003</td>\n",
       "      <td>Tennessee farm and home science, progress report 3, July - September 1952</td>\n",
       "      <td>12 pages</td>\n",
       "      <td>July - September 1952</td>\n",
       "      <td>July</td>\n",
       "    </tr>\n",
       "    <tr>\n",
       "      <th>3</th>\n",
       "      <td>0012_004267_000004</td>\n",
       "      <td>Tennessee farm and home science, progress report 4, October - December 1952</td>\n",
       "      <td>12 pages</td>\n",
       "      <td>October - December 1952</td>\n",
       "      <td>October</td>\n",
       "    </tr>\n",
       "    <tr>\n",
       "      <th>4</th>\n",
       "      <td>0012_004267_000005</td>\n",
       "      <td>Tennessee farm and home science, progress report 5, January - March 1953</td>\n",
       "      <td>12 pages</td>\n",
       "      <td>January - March 1953</td>\n",
       "      <td>January</td>\n",
       "    </tr>\n",
       "  </tbody>\n",
       "</table>\n",
       "</div>"
      ],
      "text/plain": [
       "              adminDB  \\\n",
       "0  0012_004267_000001   \n",
       "1  0012_004267_000002   \n",
       "2  0012_004267_000003   \n",
       "3  0012_004267_000004   \n",
       "4  0012_004267_000005   \n",
       "\n",
       "                                                                         title  \\\n",
       "0  Tennessee farm and home science, progress report 1, January - March 1952      \n",
       "1  Tennessee farm and home science, progress report 2, April - June 1952         \n",
       "2  Tennessee farm and home science, progress report 3, July - September 1952     \n",
       "3  Tennessee farm and home science, progress report 4, October - December 1952   \n",
       "4  Tennessee farm and home science, progress report 5, January - March 1953      \n",
       "\n",
       "     extent                date_range    Month  \n",
       "0  12 pages   January - March 1952     January  \n",
       "1  12 pages   April - June 1952        April    \n",
       "2  12 pages   July - September 1952    July     \n",
       "3  12 pages   October - December 1952  October  \n",
       "4  12 pages   January - March 1953     January  "
      ]
     },
     "execution_count": 13,
     "metadata": {},
     "output_type": "execute_result"
    }
   ],
   "source": [
    "# add the month to the DataFrame\n",
    "df_tn_farm_and_home_science['Month'] = df_tn_farm_and_home_science['date_range'].str.split().str[0]\n",
    "df_tn_farm_and_home_science.head(5)"
   ]
  },
  {
   "cell_type": "markdown",
   "metadata": {},
   "source": [
    "## yyyy"
   ]
  },
  {
   "cell_type": "code",
   "execution_count": 14,
   "metadata": {},
   "outputs": [
    {
     "data": {
      "text/html": [
       "<div>\n",
       "<style scoped>\n",
       "    .dataframe tbody tr th:only-of-type {\n",
       "        vertical-align: middle;\n",
       "    }\n",
       "\n",
       "    .dataframe tbody tr th {\n",
       "        vertical-align: top;\n",
       "    }\n",
       "\n",
       "    .dataframe thead th {\n",
       "        text-align: right;\n",
       "    }\n",
       "</style>\n",
       "<table border=\"1\" class=\"dataframe\">\n",
       "  <thead>\n",
       "    <tr style=\"text-align: right;\">\n",
       "      <th></th>\n",
       "      <th>adminDB</th>\n",
       "      <th>title</th>\n",
       "      <th>extent</th>\n",
       "      <th>date_range</th>\n",
       "      <th>Month</th>\n",
       "      <th>yyyy</th>\n",
       "    </tr>\n",
       "  </thead>\n",
       "  <tbody>\n",
       "    <tr>\n",
       "      <th>0</th>\n",
       "      <td>0012_004267_000001</td>\n",
       "      <td>Tennessee farm and home science, progress report 1, January - March 1952</td>\n",
       "      <td>12 pages</td>\n",
       "      <td>January - March 1952</td>\n",
       "      <td>January</td>\n",
       "      <td>1952</td>\n",
       "    </tr>\n",
       "    <tr>\n",
       "      <th>1</th>\n",
       "      <td>0012_004267_000002</td>\n",
       "      <td>Tennessee farm and home science, progress report 2, April - June 1952</td>\n",
       "      <td>12 pages</td>\n",
       "      <td>April - June 1952</td>\n",
       "      <td>April</td>\n",
       "      <td>1952</td>\n",
       "    </tr>\n",
       "    <tr>\n",
       "      <th>2</th>\n",
       "      <td>0012_004267_000003</td>\n",
       "      <td>Tennessee farm and home science, progress report 3, July - September 1952</td>\n",
       "      <td>12 pages</td>\n",
       "      <td>July - September 1952</td>\n",
       "      <td>July</td>\n",
       "      <td>1952</td>\n",
       "    </tr>\n",
       "    <tr>\n",
       "      <th>3</th>\n",
       "      <td>0012_004267_000004</td>\n",
       "      <td>Tennessee farm and home science, progress report 4, October - December 1952</td>\n",
       "      <td>12 pages</td>\n",
       "      <td>October - December 1952</td>\n",
       "      <td>October</td>\n",
       "      <td>1952</td>\n",
       "    </tr>\n",
       "    <tr>\n",
       "      <th>4</th>\n",
       "      <td>0012_004267_000005</td>\n",
       "      <td>Tennessee farm and home science, progress report 5, January - March 1953</td>\n",
       "      <td>12 pages</td>\n",
       "      <td>January - March 1953</td>\n",
       "      <td>January</td>\n",
       "      <td>1953</td>\n",
       "    </tr>\n",
       "  </tbody>\n",
       "</table>\n",
       "</div>"
      ],
      "text/plain": [
       "              adminDB  \\\n",
       "0  0012_004267_000001   \n",
       "1  0012_004267_000002   \n",
       "2  0012_004267_000003   \n",
       "3  0012_004267_000004   \n",
       "4  0012_004267_000005   \n",
       "\n",
       "                                                                         title  \\\n",
       "0  Tennessee farm and home science, progress report 1, January - March 1952      \n",
       "1  Tennessee farm and home science, progress report 2, April - June 1952         \n",
       "2  Tennessee farm and home science, progress report 3, July - September 1952     \n",
       "3  Tennessee farm and home science, progress report 4, October - December 1952   \n",
       "4  Tennessee farm and home science, progress report 5, January - March 1953      \n",
       "\n",
       "     extent                date_range    Month  yyyy  \n",
       "0  12 pages   January - March 1952     January  1952  \n",
       "1  12 pages   April - June 1952        April    1952  \n",
       "2  12 pages   July - September 1952    July     1952  \n",
       "3  12 pages   October - December 1952  October  1952  \n",
       "4  12 pages   January - March 1953     January  1953  "
      ]
     },
     "execution_count": 14,
     "metadata": {},
     "output_type": "execute_result"
    }
   ],
   "source": [
    "# add yyyy to the DataFrame\n",
    "df_tn_farm_and_home_science['yyyy'] = df_tn_farm_and_home_science['date_range'].str.split().str[-1]\n",
    "df_tn_farm_and_home_science.head(5)"
   ]
  },
  {
   "cell_type": "markdown",
   "metadata": {},
   "source": [
    "## mm"
   ]
  },
  {
   "cell_type": "code",
   "execution_count": 15,
   "metadata": {},
   "outputs": [
    {
     "data": {
      "text/plain": [
       "'01'"
      ]
     },
     "execution_count": 15,
     "metadata": {},
     "output_type": "execute_result"
    }
   ],
   "source": [
    "# convert month to mm, e.g. January -> 01\n",
    "str(time.strptime(df_tn_farm_and_home_science['Month'][0], '%B').tm_mon).zfill(2)"
   ]
  },
  {
   "cell_type": "code",
   "execution_count": 16,
   "metadata": {
    "scrolled": false
   },
   "outputs": [
    {
     "data": {
      "text/plain": [
       "['01', '04', '07', '10', '01', '04']"
      ]
     },
     "execution_count": 16,
     "metadata": {},
     "output_type": "execute_result"
    }
   ],
   "source": [
    "# create list of mm as that's easier to understand than trying to time.strptime a Pandas column\n",
    "mm_list = []\n",
    "for value in df_tn_farm_and_home_science['Month']:\n",
    "    mm = str(time.strptime(value, '%B').tm_mon).zfill(2)\n",
    "    mm_list.append(mm)\n",
    "mm_list[:6]"
   ]
  },
  {
   "cell_type": "code",
   "execution_count": 17,
   "metadata": {},
   "outputs": [
    {
     "data": {
      "text/html": [
       "<div>\n",
       "<style scoped>\n",
       "    .dataframe tbody tr th:only-of-type {\n",
       "        vertical-align: middle;\n",
       "    }\n",
       "\n",
       "    .dataframe tbody tr th {\n",
       "        vertical-align: top;\n",
       "    }\n",
       "\n",
       "    .dataframe thead th {\n",
       "        text-align: right;\n",
       "    }\n",
       "</style>\n",
       "<table border=\"1\" class=\"dataframe\">\n",
       "  <thead>\n",
       "    <tr style=\"text-align: right;\">\n",
       "      <th></th>\n",
       "      <th>adminDB</th>\n",
       "      <th>title</th>\n",
       "      <th>extent</th>\n",
       "      <th>date_range</th>\n",
       "      <th>Month</th>\n",
       "      <th>yyyy</th>\n",
       "      <th>mm</th>\n",
       "    </tr>\n",
       "  </thead>\n",
       "  <tbody>\n",
       "    <tr>\n",
       "      <th>130</th>\n",
       "      <td>0012_004267_000131</td>\n",
       "      <td>Tennessee farm and home science, progress report 152, October - December 1989</td>\n",
       "      <td>52 pages</td>\n",
       "      <td>October - December 1989</td>\n",
       "      <td>October</td>\n",
       "      <td>1989</td>\n",
       "      <td>10</td>\n",
       "    </tr>\n",
       "    <tr>\n",
       "      <th>131</th>\n",
       "      <td>0012_004267_000132</td>\n",
       "      <td>Tennessee farm and home science, progress report 153, January - March 1990</td>\n",
       "      <td>28 pages</td>\n",
       "      <td>January - March 1990</td>\n",
       "      <td>January</td>\n",
       "      <td>1990</td>\n",
       "      <td>01</td>\n",
       "    </tr>\n",
       "    <tr>\n",
       "      <th>132</th>\n",
       "      <td>0012_004267_000133</td>\n",
       "      <td>Tennessee farm and home science, progress report 154, April - June 1990</td>\n",
       "      <td>28 pages</td>\n",
       "      <td>April - June 1990</td>\n",
       "      <td>April</td>\n",
       "      <td>1990</td>\n",
       "      <td>04</td>\n",
       "    </tr>\n",
       "    <tr>\n",
       "      <th>133</th>\n",
       "      <td>0012_004267_000134</td>\n",
       "      <td>Tennessee farm and home science, progress report 155, July - September 1990</td>\n",
       "      <td>32 pages</td>\n",
       "      <td>July - September 1990</td>\n",
       "      <td>July</td>\n",
       "      <td>1990</td>\n",
       "      <td>07</td>\n",
       "    </tr>\n",
       "    <tr>\n",
       "      <th>134</th>\n",
       "      <td>0012_004267_000135</td>\n",
       "      <td>Tennessee farm and home science, progress report 156, October - December 1990</td>\n",
       "      <td>32 pages</td>\n",
       "      <td>October - December 1990</td>\n",
       "      <td>October</td>\n",
       "      <td>1990</td>\n",
       "      <td>10</td>\n",
       "    </tr>\n",
       "  </tbody>\n",
       "</table>\n",
       "</div>"
      ],
      "text/plain": [
       "                adminDB  \\\n",
       "130  0012_004267_000131   \n",
       "131  0012_004267_000132   \n",
       "132  0012_004267_000133   \n",
       "133  0012_004267_000134   \n",
       "134  0012_004267_000135   \n",
       "\n",
       "                                                                             title  \\\n",
       "130  Tennessee farm and home science, progress report 152, October - December 1989   \n",
       "131  Tennessee farm and home science, progress report 153, January - March 1990      \n",
       "132  Tennessee farm and home science, progress report 154, April - June 1990         \n",
       "133  Tennessee farm and home science, progress report 155, July - September 1990     \n",
       "134  Tennessee farm and home science, progress report 156, October - December 1990   \n",
       "\n",
       "       extent                date_range    Month  yyyy  mm  \n",
       "130  52 pages   October - December 1989  October  1989  10  \n",
       "131  28 pages   January - March 1990     January  1990  01  \n",
       "132  28 pages   April - June 1990        April    1990  04  \n",
       "133  32 pages   July - September 1990    July     1990  07  \n",
       "134  32 pages   October - December 1990  October  1990  10  "
      ]
     },
     "execution_count": 17,
     "metadata": {},
     "output_type": "execute_result"
    }
   ],
   "source": [
    "# add mm to DataFrame\n",
    "df_tn_farm_and_home_science['mm'] = mm_list\n",
    "df_tn_farm_and_home_science.tail(5)"
   ]
  },
  {
   "cell_type": "markdown",
   "metadata": {},
   "source": [
    "## old_directory_name"
   ]
  },
  {
   "cell_type": "code",
   "execution_count": 18,
   "metadata": {},
   "outputs": [
    {
     "data": {
      "text/html": [
       "<div>\n",
       "<style scoped>\n",
       "    .dataframe tbody tr th:only-of-type {\n",
       "        vertical-align: middle;\n",
       "    }\n",
       "\n",
       "    .dataframe tbody tr th {\n",
       "        vertical-align: top;\n",
       "    }\n",
       "\n",
       "    .dataframe thead th {\n",
       "        text-align: right;\n",
       "    }\n",
       "</style>\n",
       "<table border=\"1\" class=\"dataframe\">\n",
       "  <thead>\n",
       "    <tr style=\"text-align: right;\">\n",
       "      <th></th>\n",
       "      <th>adminDB</th>\n",
       "      <th>title</th>\n",
       "      <th>extent</th>\n",
       "      <th>date_range</th>\n",
       "      <th>Month</th>\n",
       "      <th>yyyy</th>\n",
       "      <th>mm</th>\n",
       "      <th>old_directory_name</th>\n",
       "    </tr>\n",
       "  </thead>\n",
       "  <tbody>\n",
       "    <tr>\n",
       "      <th>0</th>\n",
       "      <td>0012_004267_000001</td>\n",
       "      <td>Tennessee farm and home science, progress report 1, January - March 1952</td>\n",
       "      <td>12 pages</td>\n",
       "      <td>January - March 1952</td>\n",
       "      <td>January</td>\n",
       "      <td>1952</td>\n",
       "      <td>01</td>\n",
       "      <td>0012_004267_000001</td>\n",
       "    </tr>\n",
       "    <tr>\n",
       "      <th>1</th>\n",
       "      <td>0012_004267_000002</td>\n",
       "      <td>Tennessee farm and home science, progress report 2, April - June 1952</td>\n",
       "      <td>12 pages</td>\n",
       "      <td>April - June 1952</td>\n",
       "      <td>April</td>\n",
       "      <td>1952</td>\n",
       "      <td>04</td>\n",
       "      <td>0012_004267_000002</td>\n",
       "    </tr>\n",
       "    <tr>\n",
       "      <th>2</th>\n",
       "      <td>0012_004267_000003</td>\n",
       "      <td>Tennessee farm and home science, progress report 3, July - September 1952</td>\n",
       "      <td>12 pages</td>\n",
       "      <td>July - September 1952</td>\n",
       "      <td>July</td>\n",
       "      <td>1952</td>\n",
       "      <td>07</td>\n",
       "      <td>0012_004267_000003</td>\n",
       "    </tr>\n",
       "    <tr>\n",
       "      <th>3</th>\n",
       "      <td>0012_004267_000004</td>\n",
       "      <td>Tennessee farm and home science, progress report 4, October - December 1952</td>\n",
       "      <td>12 pages</td>\n",
       "      <td>October - December 1952</td>\n",
       "      <td>October</td>\n",
       "      <td>1952</td>\n",
       "      <td>10</td>\n",
       "      <td>0012_004267_000004</td>\n",
       "    </tr>\n",
       "    <tr>\n",
       "      <th>4</th>\n",
       "      <td>0012_004267_000005</td>\n",
       "      <td>Tennessee farm and home science, progress report 5, January - March 1953</td>\n",
       "      <td>12 pages</td>\n",
       "      <td>January - March 1953</td>\n",
       "      <td>January</td>\n",
       "      <td>1953</td>\n",
       "      <td>01</td>\n",
       "      <td>0012_004267_000005</td>\n",
       "    </tr>\n",
       "  </tbody>\n",
       "</table>\n",
       "</div>"
      ],
      "text/plain": [
       "              adminDB  \\\n",
       "0  0012_004267_000001   \n",
       "1  0012_004267_000002   \n",
       "2  0012_004267_000003   \n",
       "3  0012_004267_000004   \n",
       "4  0012_004267_000005   \n",
       "\n",
       "                                                                         title  \\\n",
       "0  Tennessee farm and home science, progress report 1, January - March 1952      \n",
       "1  Tennessee farm and home science, progress report 2, April - June 1952         \n",
       "2  Tennessee farm and home science, progress report 3, July - September 1952     \n",
       "3  Tennessee farm and home science, progress report 4, October - December 1952   \n",
       "4  Tennessee farm and home science, progress report 5, January - March 1953      \n",
       "\n",
       "     extent                date_range    Month  yyyy  mm  old_directory_name  \n",
       "0  12 pages   January - March 1952     January  1952  01  0012_004267_000001  \n",
       "1  12 pages   April - June 1952        April    1952  04  0012_004267_000002  \n",
       "2  12 pages   July - September 1952    July     1952  07  0012_004267_000003  \n",
       "3  12 pages   October - December 1952  October  1952  10  0012_004267_000004  \n",
       "4  12 pages   January - March 1953     January  1953  01  0012_004267_000005  "
      ]
     },
     "execution_count": 18,
     "metadata": {},
     "output_type": "execute_result"
    }
   ],
   "source": [
    "df_tn_farm_and_home_science['old_directory_name'] = df_tn_farm_and_home_science['adminDB']\n",
    "df_tn_farm_and_home_science.head(5)"
   ]
  },
  {
   "cell_type": "markdown",
   "metadata": {},
   "source": [
    "## new_directory_name"
   ]
  },
  {
   "cell_type": "code",
   "execution_count": 19,
   "metadata": {},
   "outputs": [
    {
     "data": {
      "text/plain": [
       "adminDB               135\n",
       "title                 135\n",
       "extent                135\n",
       "date_range            135\n",
       "Month                 135\n",
       "yyyy                  135\n",
       "mm                    135\n",
       "old_directory_name    135\n",
       "new_directory_name    135\n",
       "dtype: int64"
      ]
     },
     "execution_count": 19,
     "metadata": {},
     "output_type": "execute_result"
    }
   ],
   "source": [
    "df_tn_farm_and_home_science['new_directory_name'] = df_tn_farm_and_home_science['yyyy'].map(str) + '_' + df_tn_farm_and_home_science['mm'].map(str)\n",
    "df_tn_farm_and_home_science.count() ## verify that we have a unique number of old_ and new_directory_name(s)"
   ]
  },
  {
   "cell_type": "markdown",
   "metadata": {},
   "source": [
    "## pages"
   ]
  },
  {
   "cell_type": "code",
   "execution_count": 20,
   "metadata": {},
   "outputs": [
    {
     "data": {
      "text/html": [
       "<div>\n",
       "<style scoped>\n",
       "    .dataframe tbody tr th:only-of-type {\n",
       "        vertical-align: middle;\n",
       "    }\n",
       "\n",
       "    .dataframe tbody tr th {\n",
       "        vertical-align: top;\n",
       "    }\n",
       "\n",
       "    .dataframe thead th {\n",
       "        text-align: right;\n",
       "    }\n",
       "</style>\n",
       "<table border=\"1\" class=\"dataframe\">\n",
       "  <thead>\n",
       "    <tr style=\"text-align: right;\">\n",
       "      <th></th>\n",
       "      <th>adminDB</th>\n",
       "      <th>title</th>\n",
       "      <th>extent</th>\n",
       "      <th>date_range</th>\n",
       "      <th>Month</th>\n",
       "      <th>yyyy</th>\n",
       "      <th>mm</th>\n",
       "      <th>old_directory_name</th>\n",
       "      <th>new_directory_name</th>\n",
       "      <th>pages</th>\n",
       "    </tr>\n",
       "  </thead>\n",
       "  <tbody>\n",
       "    <tr>\n",
       "      <th>0</th>\n",
       "      <td>0012_004267_000001</td>\n",
       "      <td>Tennessee farm and home science, progress report 1, January - March 1952</td>\n",
       "      <td>12 pages</td>\n",
       "      <td>January - March 1952</td>\n",
       "      <td>January</td>\n",
       "      <td>1952</td>\n",
       "      <td>01</td>\n",
       "      <td>0012_004267_000001</td>\n",
       "      <td>1952_01</td>\n",
       "      <td>12</td>\n",
       "    </tr>\n",
       "    <tr>\n",
       "      <th>1</th>\n",
       "      <td>0012_004267_000002</td>\n",
       "      <td>Tennessee farm and home science, progress report 2, April - June 1952</td>\n",
       "      <td>12 pages</td>\n",
       "      <td>April - June 1952</td>\n",
       "      <td>April</td>\n",
       "      <td>1952</td>\n",
       "      <td>04</td>\n",
       "      <td>0012_004267_000002</td>\n",
       "      <td>1952_04</td>\n",
       "      <td>12</td>\n",
       "    </tr>\n",
       "    <tr>\n",
       "      <th>2</th>\n",
       "      <td>0012_004267_000003</td>\n",
       "      <td>Tennessee farm and home science, progress report 3, July - September 1952</td>\n",
       "      <td>12 pages</td>\n",
       "      <td>July - September 1952</td>\n",
       "      <td>July</td>\n",
       "      <td>1952</td>\n",
       "      <td>07</td>\n",
       "      <td>0012_004267_000003</td>\n",
       "      <td>1952_07</td>\n",
       "      <td>12</td>\n",
       "    </tr>\n",
       "    <tr>\n",
       "      <th>3</th>\n",
       "      <td>0012_004267_000004</td>\n",
       "      <td>Tennessee farm and home science, progress report 4, October - December 1952</td>\n",
       "      <td>12 pages</td>\n",
       "      <td>October - December 1952</td>\n",
       "      <td>October</td>\n",
       "      <td>1952</td>\n",
       "      <td>10</td>\n",
       "      <td>0012_004267_000004</td>\n",
       "      <td>1952_10</td>\n",
       "      <td>12</td>\n",
       "    </tr>\n",
       "    <tr>\n",
       "      <th>4</th>\n",
       "      <td>0012_004267_000005</td>\n",
       "      <td>Tennessee farm and home science, progress report 5, January - March 1953</td>\n",
       "      <td>12 pages</td>\n",
       "      <td>January - March 1953</td>\n",
       "      <td>January</td>\n",
       "      <td>1953</td>\n",
       "      <td>01</td>\n",
       "      <td>0012_004267_000005</td>\n",
       "      <td>1953_01</td>\n",
       "      <td>12</td>\n",
       "    </tr>\n",
       "  </tbody>\n",
       "</table>\n",
       "</div>"
      ],
      "text/plain": [
       "              adminDB  \\\n",
       "0  0012_004267_000001   \n",
       "1  0012_004267_000002   \n",
       "2  0012_004267_000003   \n",
       "3  0012_004267_000004   \n",
       "4  0012_004267_000005   \n",
       "\n",
       "                                                                         title  \\\n",
       "0  Tennessee farm and home science, progress report 1, January - March 1952      \n",
       "1  Tennessee farm and home science, progress report 2, April - June 1952         \n",
       "2  Tennessee farm and home science, progress report 3, July - September 1952     \n",
       "3  Tennessee farm and home science, progress report 4, October - December 1952   \n",
       "4  Tennessee farm and home science, progress report 5, January - March 1953      \n",
       "\n",
       "     extent                date_range    Month  yyyy  mm  old_directory_name  \\\n",
       "0  12 pages   January - March 1952     January  1952  01  0012_004267_000001   \n",
       "1  12 pages   April - June 1952        April    1952  04  0012_004267_000002   \n",
       "2  12 pages   July - September 1952    July     1952  07  0012_004267_000003   \n",
       "3  12 pages   October - December 1952  October  1952  10  0012_004267_000004   \n",
       "4  12 pages   January - March 1953     January  1953  01  0012_004267_000005   \n",
       "\n",
       "  new_directory_name pages  \n",
       "0  1952_01            12    \n",
       "1  1952_04            12    \n",
       "2  1952_07            12    \n",
       "3  1952_10            12    \n",
       "4  1953_01            12    "
      ]
     },
     "execution_count": 20,
     "metadata": {},
     "output_type": "execute_result"
    }
   ],
   "source": [
    "# get just the number of pages, without \" pages\"\n",
    "df_tn_farm_and_home_science['pages'] = df_tn_farm_and_home_science['extent'].str.split().str[0]\n",
    "df_tn_farm_and_home_science.head(5)"
   ]
  },
  {
   "cell_type": "markdown",
   "metadata": {},
   "source": [
    "## Process directory path"
   ]
  },
  {
   "cell_type": "code",
   "execution_count": 21,
   "metadata": {},
   "outputs": [],
   "source": [
    "# set data path\n",
    "data_directory_path = Path('/Volumes/fluffy/ProjectCeres/00_for_CRL/')\n",
    "tn_farm_and_home_science_directory_path = data_directory_path.joinpath('agrtfhs')"
   ]
  },
  {
   "cell_type": "code",
   "execution_count": 22,
   "metadata": {},
   "outputs": [
    {
     "data": {
      "text/plain": [
       "135"
      ]
     },
     "execution_count": 22,
     "metadata": {},
     "output_type": "execute_result"
    }
   ],
   "source": [
    "# get list of directores in data path\n",
    "directories_path_list = sorted([x for x in tn_farm_and_home_science_directory_path.iterdir() if x.is_dir()])\n",
    "len(directories_path_list)"
   ]
  },
  {
   "cell_type": "code",
   "execution_count": 23,
   "metadata": {},
   "outputs": [
    {
     "data": {
      "text/plain": [
       "0    1952_01\n",
       "Name: new_directory_name, dtype: object"
      ]
     },
     "execution_count": 23,
     "metadata": {},
     "output_type": "execute_result"
    }
   ],
   "source": [
    "# get new directory name from old directory name\n",
    "df_tn_farm_and_home_science[df_tn_farm_and_home_science[\"old_directory_name\"].str.contains(directories_path_list[0].name)]['new_directory_name']"
   ]
  },
  {
   "cell_type": "code",
   "execution_count": 24,
   "metadata": {},
   "outputs": [
    {
     "data": {
      "application/vnd.jupyter.widget-view+json": {
       "model_id": "b19ab3d35eb34c2ba7c183f286083206",
       "version_major": 2,
       "version_minor": 0
      },
      "text/plain": [
       "HBox(children=(IntProgress(value=0, description='Processing Directories', max=135, style=ProgressStyle(descrip…"
      ]
     },
     "metadata": {},
     "output_type": "display_data"
    },
    {
     "data": {
      "application/vnd.jupyter.widget-view+json": {
       "model_id": "",
       "version_major": 2,
       "version_minor": 0
      },
      "text/plain": [
       "HBox(children=(IntProgress(value=0, description='Processing Images', max=12, style=ProgressStyle(description_w…"
      ]
     },
     "metadata": {},
     "output_type": "display_data"
    },
    {
     "data": {
      "application/vnd.jupyter.widget-view+json": {
       "model_id": "",
       "version_major": 2,
       "version_minor": 0
      },
      "text/plain": [
       "HBox(children=(IntProgress(value=0, description='Processing Images', max=12, style=ProgressStyle(description_w…"
      ]
     },
     "metadata": {},
     "output_type": "display_data"
    },
    {
     "data": {
      "application/vnd.jupyter.widget-view+json": {
       "model_id": "",
       "version_major": 2,
       "version_minor": 0
      },
      "text/plain": [
       "HBox(children=(IntProgress(value=0, description='Processing Images', max=12, style=ProgressStyle(description_w…"
      ]
     },
     "metadata": {},
     "output_type": "display_data"
    },
    {
     "data": {
      "application/vnd.jupyter.widget-view+json": {
       "model_id": "",
       "version_major": 2,
       "version_minor": 0
      },
      "text/plain": [
       "HBox(children=(IntProgress(value=0, description='Processing Images', max=12, style=ProgressStyle(description_w…"
      ]
     },
     "metadata": {},
     "output_type": "display_data"
    },
    {
     "data": {
      "application/vnd.jupyter.widget-view+json": {
       "model_id": "",
       "version_major": 2,
       "version_minor": 0
      },
      "text/plain": [
       "HBox(children=(IntProgress(value=0, description='Processing Images', max=12, style=ProgressStyle(description_w…"
      ]
     },
     "metadata": {},
     "output_type": "display_data"
    },
    {
     "data": {
      "application/vnd.jupyter.widget-view+json": {
       "model_id": "",
       "version_major": 2,
       "version_minor": 0
      },
      "text/plain": [
       "HBox(children=(IntProgress(value=0, description='Processing Images', max=12, style=ProgressStyle(description_w…"
      ]
     },
     "metadata": {},
     "output_type": "display_data"
    },
    {
     "data": {
      "application/vnd.jupyter.widget-view+json": {
       "model_id": "",
       "version_major": 2,
       "version_minor": 0
      },
      "text/plain": [
       "HBox(children=(IntProgress(value=0, description='Processing Images', max=12, style=ProgressStyle(description_w…"
      ]
     },
     "metadata": {},
     "output_type": "display_data"
    },
    {
     "data": {
      "application/vnd.jupyter.widget-view+json": {
       "model_id": "",
       "version_major": 2,
       "version_minor": 0
      },
      "text/plain": [
       "HBox(children=(IntProgress(value=0, description='Processing Images', max=12, style=ProgressStyle(description_w…"
      ]
     },
     "metadata": {},
     "output_type": "display_data"
    },
    {
     "data": {
      "application/vnd.jupyter.widget-view+json": {
       "model_id": "",
       "version_major": 2,
       "version_minor": 0
      },
      "text/plain": [
       "HBox(children=(IntProgress(value=0, description='Processing Images', max=12, style=ProgressStyle(description_w…"
      ]
     },
     "metadata": {},
     "output_type": "display_data"
    },
    {
     "data": {
      "application/vnd.jupyter.widget-view+json": {
       "model_id": "",
       "version_major": 2,
       "version_minor": 0
      },
      "text/plain": [
       "HBox(children=(IntProgress(value=0, description='Processing Images', max=12, style=ProgressStyle(description_w…"
      ]
     },
     "metadata": {},
     "output_type": "display_data"
    },
    {
     "data": {
      "application/vnd.jupyter.widget-view+json": {
       "model_id": "",
       "version_major": 2,
       "version_minor": 0
      },
      "text/plain": [
       "HBox(children=(IntProgress(value=0, description='Processing Images', max=12, style=ProgressStyle(description_w…"
      ]
     },
     "metadata": {},
     "output_type": "display_data"
    },
    {
     "data": {
      "application/vnd.jupyter.widget-view+json": {
       "model_id": "",
       "version_major": 2,
       "version_minor": 0
      },
      "text/plain": [
       "HBox(children=(IntProgress(value=0, description='Processing Images', max=12, style=ProgressStyle(description_w…"
      ]
     },
     "metadata": {},
     "output_type": "display_data"
    },
    {
     "data": {
      "application/vnd.jupyter.widget-view+json": {
       "model_id": "",
       "version_major": 2,
       "version_minor": 0
      },
      "text/plain": [
       "HBox(children=(IntProgress(value=0, description='Processing Images', max=12, style=ProgressStyle(description_w…"
      ]
     },
     "metadata": {},
     "output_type": "display_data"
    },
    {
     "data": {
      "application/vnd.jupyter.widget-view+json": {
       "model_id": "",
       "version_major": 2,
       "version_minor": 0
      },
      "text/plain": [
       "HBox(children=(IntProgress(value=0, description='Processing Images', max=12, style=ProgressStyle(description_w…"
      ]
     },
     "metadata": {},
     "output_type": "display_data"
    },
    {
     "data": {
      "application/vnd.jupyter.widget-view+json": {
       "model_id": "",
       "version_major": 2,
       "version_minor": 0
      },
      "text/plain": [
       "HBox(children=(IntProgress(value=0, description='Processing Images', max=12, style=ProgressStyle(description_w…"
      ]
     },
     "metadata": {},
     "output_type": "display_data"
    },
    {
     "data": {
      "application/vnd.jupyter.widget-view+json": {
       "model_id": "",
       "version_major": 2,
       "version_minor": 0
      },
      "text/plain": [
       "HBox(children=(IntProgress(value=0, description='Processing Images', max=12, style=ProgressStyle(description_w…"
      ]
     },
     "metadata": {},
     "output_type": "display_data"
    },
    {
     "data": {
      "application/vnd.jupyter.widget-view+json": {
       "model_id": "",
       "version_major": 2,
       "version_minor": 0
      },
      "text/plain": [
       "HBox(children=(IntProgress(value=0, description='Processing Images', max=12, style=ProgressStyle(description_w…"
      ]
     },
     "metadata": {},
     "output_type": "display_data"
    },
    {
     "data": {
      "application/vnd.jupyter.widget-view+json": {
       "model_id": "",
       "version_major": 2,
       "version_minor": 0
      },
      "text/plain": [
       "HBox(children=(IntProgress(value=0, description='Processing Images', max=12, style=ProgressStyle(description_w…"
      ]
     },
     "metadata": {},
     "output_type": "display_data"
    },
    {
     "data": {
      "application/vnd.jupyter.widget-view+json": {
       "model_id": "",
       "version_major": 2,
       "version_minor": 0
      },
      "text/plain": [
       "HBox(children=(IntProgress(value=0, description='Processing Images', max=12, style=ProgressStyle(description_w…"
      ]
     },
     "metadata": {},
     "output_type": "display_data"
    },
    {
     "data": {
      "application/vnd.jupyter.widget-view+json": {
       "model_id": "",
       "version_major": 2,
       "version_minor": 0
      },
      "text/plain": [
       "HBox(children=(IntProgress(value=0, description='Processing Images', max=12, style=ProgressStyle(description_w…"
      ]
     },
     "metadata": {},
     "output_type": "display_data"
    },
    {
     "data": {
      "application/vnd.jupyter.widget-view+json": {
       "model_id": "",
       "version_major": 2,
       "version_minor": 0
      },
      "text/plain": [
       "HBox(children=(IntProgress(value=0, description='Processing Images', max=12, style=ProgressStyle(description_w…"
      ]
     },
     "metadata": {},
     "output_type": "display_data"
    },
    {
     "data": {
      "application/vnd.jupyter.widget-view+json": {
       "model_id": "",
       "version_major": 2,
       "version_minor": 0
      },
      "text/plain": [
       "HBox(children=(IntProgress(value=0, description='Processing Images', max=12, style=ProgressStyle(description_w…"
      ]
     },
     "metadata": {},
     "output_type": "display_data"
    },
    {
     "data": {
      "application/vnd.jupyter.widget-view+json": {
       "model_id": "",
       "version_major": 2,
       "version_minor": 0
      },
      "text/plain": [
       "HBox(children=(IntProgress(value=0, description='Processing Images', max=12, style=ProgressStyle(description_w…"
      ]
     },
     "metadata": {},
     "output_type": "display_data"
    },
    {
     "data": {
      "application/vnd.jupyter.widget-view+json": {
       "model_id": "",
       "version_major": 2,
       "version_minor": 0
      },
      "text/plain": [
       "HBox(children=(IntProgress(value=0, description='Processing Images', max=12, style=ProgressStyle(description_w…"
      ]
     },
     "metadata": {},
     "output_type": "display_data"
    },
    {
     "data": {
      "application/vnd.jupyter.widget-view+json": {
       "model_id": "",
       "version_major": 2,
       "version_minor": 0
      },
      "text/plain": [
       "HBox(children=(IntProgress(value=0, description='Processing Images', max=16, style=ProgressStyle(description_w…"
      ]
     },
     "metadata": {},
     "output_type": "display_data"
    },
    {
     "data": {
      "application/vnd.jupyter.widget-view+json": {
       "model_id": "",
       "version_major": 2,
       "version_minor": 0
      },
      "text/plain": [
       "HBox(children=(IntProgress(value=0, description='Processing Images', max=12, style=ProgressStyle(description_w…"
      ]
     },
     "metadata": {},
     "output_type": "display_data"
    },
    {
     "data": {
      "application/vnd.jupyter.widget-view+json": {
       "model_id": "",
       "version_major": 2,
       "version_minor": 0
      },
      "text/plain": [
       "HBox(children=(IntProgress(value=0, description='Processing Images', max=12, style=ProgressStyle(description_w…"
      ]
     },
     "metadata": {},
     "output_type": "display_data"
    },
    {
     "data": {
      "application/vnd.jupyter.widget-view+json": {
       "model_id": "",
       "version_major": 2,
       "version_minor": 0
      },
      "text/plain": [
       "HBox(children=(IntProgress(value=0, description='Processing Images', max=12, style=ProgressStyle(description_w…"
      ]
     },
     "metadata": {},
     "output_type": "display_data"
    },
    {
     "data": {
      "application/vnd.jupyter.widget-view+json": {
       "model_id": "",
       "version_major": 2,
       "version_minor": 0
      },
      "text/plain": [
       "HBox(children=(IntProgress(value=0, description='Processing Images', max=12, style=ProgressStyle(description_w…"
      ]
     },
     "metadata": {},
     "output_type": "display_data"
    },
    {
     "data": {
      "application/vnd.jupyter.widget-view+json": {
       "model_id": "",
       "version_major": 2,
       "version_minor": 0
      },
      "text/plain": [
       "HBox(children=(IntProgress(value=0, description='Processing Images', max=12, style=ProgressStyle(description_w…"
      ]
     },
     "metadata": {},
     "output_type": "display_data"
    },
    {
     "data": {
      "application/vnd.jupyter.widget-view+json": {
       "model_id": "",
       "version_major": 2,
       "version_minor": 0
      },
      "text/plain": [
       "HBox(children=(IntProgress(value=0, description='Processing Images', max=12, style=ProgressStyle(description_w…"
      ]
     },
     "metadata": {},
     "output_type": "display_data"
    },
    {
     "data": {
      "application/vnd.jupyter.widget-view+json": {
       "model_id": "",
       "version_major": 2,
       "version_minor": 0
      },
      "text/plain": [
       "HBox(children=(IntProgress(value=0, description='Processing Images', max=12, style=ProgressStyle(description_w…"
      ]
     },
     "metadata": {},
     "output_type": "display_data"
    },
    {
     "data": {
      "application/vnd.jupyter.widget-view+json": {
       "model_id": "",
       "version_major": 2,
       "version_minor": 0
      },
      "text/plain": [
       "HBox(children=(IntProgress(value=0, description='Processing Images', max=16, style=ProgressStyle(description_w…"
      ]
     },
     "metadata": {},
     "output_type": "display_data"
    },
    {
     "data": {
      "application/vnd.jupyter.widget-view+json": {
       "model_id": "",
       "version_major": 2,
       "version_minor": 0
      },
      "text/plain": [
       "HBox(children=(IntProgress(value=0, description='Processing Images', max=12, style=ProgressStyle(description_w…"
      ]
     },
     "metadata": {},
     "output_type": "display_data"
    },
    {
     "data": {
      "application/vnd.jupyter.widget-view+json": {
       "model_id": "",
       "version_major": 2,
       "version_minor": 0
      },
      "text/plain": [
       "HBox(children=(IntProgress(value=0, description='Processing Images', max=12, style=ProgressStyle(description_w…"
      ]
     },
     "metadata": {},
     "output_type": "display_data"
    },
    {
     "data": {
      "application/vnd.jupyter.widget-view+json": {
       "model_id": "",
       "version_major": 2,
       "version_minor": 0
      },
      "text/plain": [
       "HBox(children=(IntProgress(value=0, description='Processing Images', max=12, style=ProgressStyle(description_w…"
      ]
     },
     "metadata": {},
     "output_type": "display_data"
    },
    {
     "data": {
      "application/vnd.jupyter.widget-view+json": {
       "model_id": "",
       "version_major": 2,
       "version_minor": 0
      },
      "text/plain": [
       "HBox(children=(IntProgress(value=0, description='Processing Images', max=12, style=ProgressStyle(description_w…"
      ]
     },
     "metadata": {},
     "output_type": "display_data"
    },
    {
     "data": {
      "application/vnd.jupyter.widget-view+json": {
       "model_id": "",
       "version_major": 2,
       "version_minor": 0
      },
      "text/plain": [
       "HBox(children=(IntProgress(value=0, description='Processing Images', max=16, style=ProgressStyle(description_w…"
      ]
     },
     "metadata": {},
     "output_type": "display_data"
    },
    {
     "data": {
      "application/vnd.jupyter.widget-view+json": {
       "model_id": "",
       "version_major": 2,
       "version_minor": 0
      },
      "text/plain": [
       "HBox(children=(IntProgress(value=0, description='Processing Images', max=16, style=ProgressStyle(description_w…"
      ]
     },
     "metadata": {},
     "output_type": "display_data"
    },
    {
     "data": {
      "application/vnd.jupyter.widget-view+json": {
       "model_id": "",
       "version_major": 2,
       "version_minor": 0
      },
      "text/plain": [
       "HBox(children=(IntProgress(value=0, description='Processing Images', max=16, style=ProgressStyle(description_w…"
      ]
     },
     "metadata": {},
     "output_type": "display_data"
    },
    {
     "data": {
      "application/vnd.jupyter.widget-view+json": {
       "model_id": "",
       "version_major": 2,
       "version_minor": 0
      },
      "text/plain": [
       "HBox(children=(IntProgress(value=0, description='Processing Images', max=20, style=ProgressStyle(description_w…"
      ]
     },
     "metadata": {},
     "output_type": "display_data"
    },
    {
     "data": {
      "application/vnd.jupyter.widget-view+json": {
       "model_id": "",
       "version_major": 2,
       "version_minor": 0
      },
      "text/plain": [
       "HBox(children=(IntProgress(value=0, description='Processing Images', max=16, style=ProgressStyle(description_w…"
      ]
     },
     "metadata": {},
     "output_type": "display_data"
    },
    {
     "data": {
      "application/vnd.jupyter.widget-view+json": {
       "model_id": "",
       "version_major": 2,
       "version_minor": 0
      },
      "text/plain": [
       "HBox(children=(IntProgress(value=0, description='Processing Images', max=16, style=ProgressStyle(description_w…"
      ]
     },
     "metadata": {},
     "output_type": "display_data"
    },
    {
     "data": {
      "application/vnd.jupyter.widget-view+json": {
       "model_id": "",
       "version_major": 2,
       "version_minor": 0
      },
      "text/plain": [
       "HBox(children=(IntProgress(value=0, description='Processing Images', max=24, style=ProgressStyle(description_w…"
      ]
     },
     "metadata": {},
     "output_type": "display_data"
    },
    {
     "data": {
      "application/vnd.jupyter.widget-view+json": {
       "model_id": "",
       "version_major": 2,
       "version_minor": 0
      },
      "text/plain": [
       "HBox(children=(IntProgress(value=0, description='Processing Images', max=20, style=ProgressStyle(description_w…"
      ]
     },
     "metadata": {},
     "output_type": "display_data"
    },
    {
     "data": {
      "application/vnd.jupyter.widget-view+json": {
       "model_id": "",
       "version_major": 2,
       "version_minor": 0
      },
      "text/plain": [
       "HBox(children=(IntProgress(value=0, description='Processing Images', max=16, style=ProgressStyle(description_w…"
      ]
     },
     "metadata": {},
     "output_type": "display_data"
    },
    {
     "data": {
      "application/vnd.jupyter.widget-view+json": {
       "model_id": "",
       "version_major": 2,
       "version_minor": 0
      },
      "text/plain": [
       "HBox(children=(IntProgress(value=0, description='Processing Images', max=12, style=ProgressStyle(description_w…"
      ]
     },
     "metadata": {},
     "output_type": "display_data"
    },
    {
     "data": {
      "application/vnd.jupyter.widget-view+json": {
       "model_id": "",
       "version_major": 2,
       "version_minor": 0
      },
      "text/plain": [
       "HBox(children=(IntProgress(value=0, description='Processing Images', max=16, style=ProgressStyle(description_w…"
      ]
     },
     "metadata": {},
     "output_type": "display_data"
    },
    {
     "data": {
      "application/vnd.jupyter.widget-view+json": {
       "model_id": "",
       "version_major": 2,
       "version_minor": 0
      },
      "text/plain": [
       "HBox(children=(IntProgress(value=0, description='Processing Images', max=20, style=ProgressStyle(description_w…"
      ]
     },
     "metadata": {},
     "output_type": "display_data"
    },
    {
     "data": {
      "application/vnd.jupyter.widget-view+json": {
       "model_id": "",
       "version_major": 2,
       "version_minor": 0
      },
      "text/plain": [
       "HBox(children=(IntProgress(value=0, description='Processing Images', max=24, style=ProgressStyle(description_w…"
      ]
     },
     "metadata": {},
     "output_type": "display_data"
    },
    {
     "data": {
      "application/vnd.jupyter.widget-view+json": {
       "model_id": "",
       "version_major": 2,
       "version_minor": 0
      },
      "text/plain": [
       "HBox(children=(IntProgress(value=0, description='Processing Images', max=16, style=ProgressStyle(description_w…"
      ]
     },
     "metadata": {},
     "output_type": "display_data"
    },
    {
     "data": {
      "application/vnd.jupyter.widget-view+json": {
       "model_id": "",
       "version_major": 2,
       "version_minor": 0
      },
      "text/plain": [
       "HBox(children=(IntProgress(value=0, description='Processing Images', max=16, style=ProgressStyle(description_w…"
      ]
     },
     "metadata": {},
     "output_type": "display_data"
    },
    {
     "data": {
      "application/vnd.jupyter.widget-view+json": {
       "model_id": "",
       "version_major": 2,
       "version_minor": 0
      },
      "text/plain": [
       "HBox(children=(IntProgress(value=0, description='Processing Images', max=24, style=ProgressStyle(description_w…"
      ]
     },
     "metadata": {},
     "output_type": "display_data"
    },
    {
     "data": {
      "application/vnd.jupyter.widget-view+json": {
       "model_id": "",
       "version_major": 2,
       "version_minor": 0
      },
      "text/plain": [
       "HBox(children=(IntProgress(value=0, description='Processing Images', max=20, style=ProgressStyle(description_w…"
      ]
     },
     "metadata": {},
     "output_type": "display_data"
    },
    {
     "data": {
      "application/vnd.jupyter.widget-view+json": {
       "model_id": "",
       "version_major": 2,
       "version_minor": 0
      },
      "text/plain": [
       "HBox(children=(IntProgress(value=0, description='Processing Images', max=20, style=ProgressStyle(description_w…"
      ]
     },
     "metadata": {},
     "output_type": "display_data"
    },
    {
     "data": {
      "application/vnd.jupyter.widget-view+json": {
       "model_id": "",
       "version_major": 2,
       "version_minor": 0
      },
      "text/plain": [
       "HBox(children=(IntProgress(value=0, description='Processing Images', max=24, style=ProgressStyle(description_w…"
      ]
     },
     "metadata": {},
     "output_type": "display_data"
    },
    {
     "data": {
      "application/vnd.jupyter.widget-view+json": {
       "model_id": "",
       "version_major": 2,
       "version_minor": 0
      },
      "text/plain": [
       "HBox(children=(IntProgress(value=0, description='Processing Images', max=32, style=ProgressStyle(description_w…"
      ]
     },
     "metadata": {},
     "output_type": "display_data"
    },
    {
     "data": {
      "application/vnd.jupyter.widget-view+json": {
       "model_id": "",
       "version_major": 2,
       "version_minor": 0
      },
      "text/plain": [
       "HBox(children=(IntProgress(value=0, description='Processing Images', max=20, style=ProgressStyle(description_w…"
      ]
     },
     "metadata": {},
     "output_type": "display_data"
    },
    {
     "data": {
      "application/vnd.jupyter.widget-view+json": {
       "model_id": "",
       "version_major": 2,
       "version_minor": 0
      },
      "text/plain": [
       "HBox(children=(IntProgress(value=0, description='Processing Images', max=20, style=ProgressStyle(description_w…"
      ]
     },
     "metadata": {},
     "output_type": "display_data"
    },
    {
     "data": {
      "application/vnd.jupyter.widget-view+json": {
       "model_id": "",
       "version_major": 2,
       "version_minor": 0
      },
      "text/plain": [
       "HBox(children=(IntProgress(value=0, description='Processing Images', max=24, style=ProgressStyle(description_w…"
      ]
     },
     "metadata": {},
     "output_type": "display_data"
    },
    {
     "data": {
      "application/vnd.jupyter.widget-view+json": {
       "model_id": "",
       "version_major": 2,
       "version_minor": 0
      },
      "text/plain": [
       "HBox(children=(IntProgress(value=0, description='Processing Images', max=36, style=ProgressStyle(description_w…"
      ]
     },
     "metadata": {},
     "output_type": "display_data"
    },
    {
     "data": {
      "application/vnd.jupyter.widget-view+json": {
       "model_id": "",
       "version_major": 2,
       "version_minor": 0
      },
      "text/plain": [
       "HBox(children=(IntProgress(value=0, description='Processing Images', max=32, style=ProgressStyle(description_w…"
      ]
     },
     "metadata": {},
     "output_type": "display_data"
    },
    {
     "data": {
      "application/vnd.jupyter.widget-view+json": {
       "model_id": "",
       "version_major": 2,
       "version_minor": 0
      },
      "text/plain": [
       "HBox(children=(IntProgress(value=0, description='Processing Images', max=36, style=ProgressStyle(description_w…"
      ]
     },
     "metadata": {},
     "output_type": "display_data"
    },
    {
     "data": {
      "application/vnd.jupyter.widget-view+json": {
       "model_id": "",
       "version_major": 2,
       "version_minor": 0
      },
      "text/plain": [
       "HBox(children=(IntProgress(value=0, description='Processing Images', max=28, style=ProgressStyle(description_w…"
      ]
     },
     "metadata": {},
     "output_type": "display_data"
    },
    {
     "data": {
      "application/vnd.jupyter.widget-view+json": {
       "model_id": "",
       "version_major": 2,
       "version_minor": 0
      },
      "text/plain": [
       "HBox(children=(IntProgress(value=0, description='Processing Images', max=36, style=ProgressStyle(description_w…"
      ]
     },
     "metadata": {},
     "output_type": "display_data"
    },
    {
     "data": {
      "application/vnd.jupyter.widget-view+json": {
       "model_id": "",
       "version_major": 2,
       "version_minor": 0
      },
      "text/plain": [
       "HBox(children=(IntProgress(value=0, description='Processing Images', max=32, style=ProgressStyle(description_w…"
      ]
     },
     "metadata": {},
     "output_type": "display_data"
    },
    {
     "data": {
      "application/vnd.jupyter.widget-view+json": {
       "model_id": "",
       "version_major": 2,
       "version_minor": 0
      },
      "text/plain": [
       "HBox(children=(IntProgress(value=0, description='Processing Images', max=36, style=ProgressStyle(description_w…"
      ]
     },
     "metadata": {},
     "output_type": "display_data"
    },
    {
     "data": {
      "application/vnd.jupyter.widget-view+json": {
       "model_id": "",
       "version_major": 2,
       "version_minor": 0
      },
      "text/plain": [
       "HBox(children=(IntProgress(value=0, description='Processing Images', max=24, style=ProgressStyle(description_w…"
      ]
     },
     "metadata": {},
     "output_type": "display_data"
    },
    {
     "data": {
      "application/vnd.jupyter.widget-view+json": {
       "model_id": "",
       "version_major": 2,
       "version_minor": 0
      },
      "text/plain": [
       "HBox(children=(IntProgress(value=0, description='Processing Images', max=36, style=ProgressStyle(description_w…"
      ]
     },
     "metadata": {},
     "output_type": "display_data"
    },
    {
     "data": {
      "application/vnd.jupyter.widget-view+json": {
       "model_id": "",
       "version_major": 2,
       "version_minor": 0
      },
      "text/plain": [
       "HBox(children=(IntProgress(value=0, description='Processing Images', max=40, style=ProgressStyle(description_w…"
      ]
     },
     "metadata": {},
     "output_type": "display_data"
    },
    {
     "data": {
      "application/vnd.jupyter.widget-view+json": {
       "model_id": "",
       "version_major": 2,
       "version_minor": 0
      },
      "text/plain": [
       "HBox(children=(IntProgress(value=0, description='Processing Images', max=36, style=ProgressStyle(description_w…"
      ]
     },
     "metadata": {},
     "output_type": "display_data"
    },
    {
     "data": {
      "application/vnd.jupyter.widget-view+json": {
       "model_id": "",
       "version_major": 2,
       "version_minor": 0
      },
      "text/plain": [
       "HBox(children=(IntProgress(value=0, description='Processing Images', max=36, style=ProgressStyle(description_w…"
      ]
     },
     "metadata": {},
     "output_type": "display_data"
    },
    {
     "data": {
      "application/vnd.jupyter.widget-view+json": {
       "model_id": "",
       "version_major": 2,
       "version_minor": 0
      },
      "text/plain": [
       "HBox(children=(IntProgress(value=0, description='Processing Images', max=40, style=ProgressStyle(description_w…"
      ]
     },
     "metadata": {},
     "output_type": "display_data"
    },
    {
     "data": {
      "application/vnd.jupyter.widget-view+json": {
       "model_id": "",
       "version_major": 2,
       "version_minor": 0
      },
      "text/plain": [
       "HBox(children=(IntProgress(value=0, description='Processing Images', max=32, style=ProgressStyle(description_w…"
      ]
     },
     "metadata": {},
     "output_type": "display_data"
    },
    {
     "data": {
      "application/vnd.jupyter.widget-view+json": {
       "model_id": "",
       "version_major": 2,
       "version_minor": 0
      },
      "text/plain": [
       "HBox(children=(IntProgress(value=0, description='Processing Images', max=20, style=ProgressStyle(description_w…"
      ]
     },
     "metadata": {},
     "output_type": "display_data"
    },
    {
     "data": {
      "application/vnd.jupyter.widget-view+json": {
       "model_id": "",
       "version_major": 2,
       "version_minor": 0
      },
      "text/plain": [
       "HBox(children=(IntProgress(value=0, description='Processing Images', max=40, style=ProgressStyle(description_w…"
      ]
     },
     "metadata": {},
     "output_type": "display_data"
    },
    {
     "data": {
      "application/vnd.jupyter.widget-view+json": {
       "model_id": "",
       "version_major": 2,
       "version_minor": 0
      },
      "text/plain": [
       "HBox(children=(IntProgress(value=0, description='Processing Images', max=40, style=ProgressStyle(description_w…"
      ]
     },
     "metadata": {},
     "output_type": "display_data"
    },
    {
     "data": {
      "application/vnd.jupyter.widget-view+json": {
       "model_id": "",
       "version_major": 2,
       "version_minor": 0
      },
      "text/plain": [
       "HBox(children=(IntProgress(value=0, description='Processing Images', max=36, style=ProgressStyle(description_w…"
      ]
     },
     "metadata": {},
     "output_type": "display_data"
    },
    {
     "data": {
      "application/vnd.jupyter.widget-view+json": {
       "model_id": "",
       "version_major": 2,
       "version_minor": 0
      },
      "text/plain": [
       "HBox(children=(IntProgress(value=0, description='Processing Images', max=36, style=ProgressStyle(description_w…"
      ]
     },
     "metadata": {},
     "output_type": "display_data"
    },
    {
     "data": {
      "application/vnd.jupyter.widget-view+json": {
       "model_id": "",
       "version_major": 2,
       "version_minor": 0
      },
      "text/plain": [
       "HBox(children=(IntProgress(value=0, description='Processing Images', max=40, style=ProgressStyle(description_w…"
      ]
     },
     "metadata": {},
     "output_type": "display_data"
    },
    {
     "data": {
      "application/vnd.jupyter.widget-view+json": {
       "model_id": "",
       "version_major": 2,
       "version_minor": 0
      },
      "text/plain": [
       "HBox(children=(IntProgress(value=0, description='Processing Images', max=36, style=ProgressStyle(description_w…"
      ]
     },
     "metadata": {},
     "output_type": "display_data"
    },
    {
     "data": {
      "application/vnd.jupyter.widget-view+json": {
       "model_id": "",
       "version_major": 2,
       "version_minor": 0
      },
      "text/plain": [
       "HBox(children=(IntProgress(value=0, description='Processing Images', max=36, style=ProgressStyle(description_w…"
      ]
     },
     "metadata": {},
     "output_type": "display_data"
    },
    {
     "data": {
      "application/vnd.jupyter.widget-view+json": {
       "model_id": "",
       "version_major": 2,
       "version_minor": 0
      },
      "text/plain": [
       "HBox(children=(IntProgress(value=0, description='Processing Images', max=40, style=ProgressStyle(description_w…"
      ]
     },
     "metadata": {},
     "output_type": "display_data"
    },
    {
     "data": {
      "application/vnd.jupyter.widget-view+json": {
       "model_id": "",
       "version_major": 2,
       "version_minor": 0
      },
      "text/plain": [
       "HBox(children=(IntProgress(value=0, description='Processing Images', max=48, style=ProgressStyle(description_w…"
      ]
     },
     "metadata": {},
     "output_type": "display_data"
    },
    {
     "data": {
      "application/vnd.jupyter.widget-view+json": {
       "model_id": "",
       "version_major": 2,
       "version_minor": 0
      },
      "text/plain": [
       "HBox(children=(IntProgress(value=0, description='Processing Images', max=40, style=ProgressStyle(description_w…"
      ]
     },
     "metadata": {},
     "output_type": "display_data"
    },
    {
     "data": {
      "application/vnd.jupyter.widget-view+json": {
       "model_id": "",
       "version_major": 2,
       "version_minor": 0
      },
      "text/plain": [
       "HBox(children=(IntProgress(value=0, description='Processing Images', max=40, style=ProgressStyle(description_w…"
      ]
     },
     "metadata": {},
     "output_type": "display_data"
    },
    {
     "data": {
      "application/vnd.jupyter.widget-view+json": {
       "model_id": "",
       "version_major": 2,
       "version_minor": 0
      },
      "text/plain": [
       "HBox(children=(IntProgress(value=0, description='Processing Images', max=28, style=ProgressStyle(description_w…"
      ]
     },
     "metadata": {},
     "output_type": "display_data"
    },
    {
     "data": {
      "application/vnd.jupyter.widget-view+json": {
       "model_id": "",
       "version_major": 2,
       "version_minor": 0
      },
      "text/plain": [
       "HBox(children=(IntProgress(value=0, description='Processing Images', max=20, style=ProgressStyle(description_w…"
      ]
     },
     "metadata": {},
     "output_type": "display_data"
    },
    {
     "data": {
      "application/vnd.jupyter.widget-view+json": {
       "model_id": "",
       "version_major": 2,
       "version_minor": 0
      },
      "text/plain": [
       "HBox(children=(IntProgress(value=0, description='Processing Images', max=36, style=ProgressStyle(description_w…"
      ]
     },
     "metadata": {},
     "output_type": "display_data"
    },
    {
     "data": {
      "application/vnd.jupyter.widget-view+json": {
       "model_id": "",
       "version_major": 2,
       "version_minor": 0
      },
      "text/plain": [
       "HBox(children=(IntProgress(value=0, description='Processing Images', max=44, style=ProgressStyle(description_w…"
      ]
     },
     "metadata": {},
     "output_type": "display_data"
    },
    {
     "data": {
      "application/vnd.jupyter.widget-view+json": {
       "model_id": "",
       "version_major": 2,
       "version_minor": 0
      },
      "text/plain": [
       "HBox(children=(IntProgress(value=0, description='Processing Images', max=48, style=ProgressStyle(description_w…"
      ]
     },
     "metadata": {},
     "output_type": "display_data"
    },
    {
     "data": {
      "application/vnd.jupyter.widget-view+json": {
       "model_id": "",
       "version_major": 2,
       "version_minor": 0
      },
      "text/plain": [
       "HBox(children=(IntProgress(value=0, description='Processing Images', max=48, style=ProgressStyle(description_w…"
      ]
     },
     "metadata": {},
     "output_type": "display_data"
    },
    {
     "data": {
      "application/vnd.jupyter.widget-view+json": {
       "model_id": "",
       "version_major": 2,
       "version_minor": 0
      },
      "text/plain": [
       "HBox(children=(IntProgress(value=0, description='Processing Images', max=56, style=ProgressStyle(description_w…"
      ]
     },
     "metadata": {},
     "output_type": "display_data"
    },
    {
     "data": {
      "application/vnd.jupyter.widget-view+json": {
       "model_id": "",
       "version_major": 2,
       "version_minor": 0
      },
      "text/plain": [
       "HBox(children=(IntProgress(value=0, description='Processing Images', max=48, style=ProgressStyle(description_w…"
      ]
     },
     "metadata": {},
     "output_type": "display_data"
    },
    {
     "data": {
      "application/vnd.jupyter.widget-view+json": {
       "model_id": "",
       "version_major": 2,
       "version_minor": 0
      },
      "text/plain": [
       "HBox(children=(IntProgress(value=0, description='Processing Images', max=24, style=ProgressStyle(description_w…"
      ]
     },
     "metadata": {},
     "output_type": "display_data"
    },
    {
     "data": {
      "application/vnd.jupyter.widget-view+json": {
       "model_id": "",
       "version_major": 2,
       "version_minor": 0
      },
      "text/plain": [
       "HBox(children=(IntProgress(value=0, description='Processing Images', max=44, style=ProgressStyle(description_w…"
      ]
     },
     "metadata": {},
     "output_type": "display_data"
    },
    {
     "data": {
      "application/vnd.jupyter.widget-view+json": {
       "model_id": "",
       "version_major": 2,
       "version_minor": 0
      },
      "text/plain": [
       "HBox(children=(IntProgress(value=0, description='Processing Images', max=36, style=ProgressStyle(description_w…"
      ]
     },
     "metadata": {},
     "output_type": "display_data"
    },
    {
     "data": {
      "application/vnd.jupyter.widget-view+json": {
       "model_id": "",
       "version_major": 2,
       "version_minor": 0
      },
      "text/plain": [
       "HBox(children=(IntProgress(value=0, description='Processing Images', max=32, style=ProgressStyle(description_w…"
      ]
     },
     "metadata": {},
     "output_type": "display_data"
    },
    {
     "data": {
      "application/vnd.jupyter.widget-view+json": {
       "model_id": "",
       "version_major": 2,
       "version_minor": 0
      },
      "text/plain": [
       "HBox(children=(IntProgress(value=0, description='Processing Images', max=36, style=ProgressStyle(description_w…"
      ]
     },
     "metadata": {},
     "output_type": "display_data"
    },
    {
     "data": {
      "application/vnd.jupyter.widget-view+json": {
       "model_id": "",
       "version_major": 2,
       "version_minor": 0
      },
      "text/plain": [
       "HBox(children=(IntProgress(value=0, description='Processing Images', max=16, style=ProgressStyle(description_w…"
      ]
     },
     "metadata": {},
     "output_type": "display_data"
    },
    {
     "data": {
      "application/vnd.jupyter.widget-view+json": {
       "model_id": "",
       "version_major": 2,
       "version_minor": 0
      },
      "text/plain": [
       "HBox(children=(IntProgress(value=0, description='Processing Images', max=32, style=ProgressStyle(description_w…"
      ]
     },
     "metadata": {},
     "output_type": "display_data"
    },
    {
     "data": {
      "application/vnd.jupyter.widget-view+json": {
       "model_id": "",
       "version_major": 2,
       "version_minor": 0
      },
      "text/plain": [
       "HBox(children=(IntProgress(value=0, description='Processing Images', max=32, style=ProgressStyle(description_w…"
      ]
     },
     "metadata": {},
     "output_type": "display_data"
    },
    {
     "data": {
      "application/vnd.jupyter.widget-view+json": {
       "model_id": "",
       "version_major": 2,
       "version_minor": 0
      },
      "text/plain": [
       "HBox(children=(IntProgress(value=0, description='Processing Images', max=32, style=ProgressStyle(description_w…"
      ]
     },
     "metadata": {},
     "output_type": "display_data"
    },
    {
     "data": {
      "application/vnd.jupyter.widget-view+json": {
       "model_id": "",
       "version_major": 2,
       "version_minor": 0
      },
      "text/plain": [
       "HBox(children=(IntProgress(value=0, description='Processing Images', max=16, style=ProgressStyle(description_w…"
      ]
     },
     "metadata": {},
     "output_type": "display_data"
    },
    {
     "data": {
      "application/vnd.jupyter.widget-view+json": {
       "model_id": "",
       "version_major": 2,
       "version_minor": 0
      },
      "text/plain": [
       "HBox(children=(IntProgress(value=0, description='Processing Images', max=32, style=ProgressStyle(description_w…"
      ]
     },
     "metadata": {},
     "output_type": "display_data"
    },
    {
     "data": {
      "application/vnd.jupyter.widget-view+json": {
       "model_id": "",
       "version_major": 2,
       "version_minor": 0
      },
      "text/plain": [
       "HBox(children=(IntProgress(value=0, description='Processing Images', max=28, style=ProgressStyle(description_w…"
      ]
     },
     "metadata": {},
     "output_type": "display_data"
    },
    {
     "data": {
      "application/vnd.jupyter.widget-view+json": {
       "model_id": "",
       "version_major": 2,
       "version_minor": 0
      },
      "text/plain": [
       "HBox(children=(IntProgress(value=0, description='Processing Images', max=16, style=ProgressStyle(description_w…"
      ]
     },
     "metadata": {},
     "output_type": "display_data"
    },
    {
     "data": {
      "application/vnd.jupyter.widget-view+json": {
       "model_id": "",
       "version_major": 2,
       "version_minor": 0
      },
      "text/plain": [
       "HBox(children=(IntProgress(value=0, description='Processing Images', max=20, style=ProgressStyle(description_w…"
      ]
     },
     "metadata": {},
     "output_type": "display_data"
    },
    {
     "data": {
      "application/vnd.jupyter.widget-view+json": {
       "model_id": "",
       "version_major": 2,
       "version_minor": 0
      },
      "text/plain": [
       "HBox(children=(IntProgress(value=0, description='Processing Images', max=16, style=ProgressStyle(description_w…"
      ]
     },
     "metadata": {},
     "output_type": "display_data"
    },
    {
     "data": {
      "application/vnd.jupyter.widget-view+json": {
       "model_id": "",
       "version_major": 2,
       "version_minor": 0
      },
      "text/plain": [
       "HBox(children=(IntProgress(value=0, description='Processing Images', max=12, style=ProgressStyle(description_w…"
      ]
     },
     "metadata": {},
     "output_type": "display_data"
    },
    {
     "data": {
      "application/vnd.jupyter.widget-view+json": {
       "model_id": "",
       "version_major": 2,
       "version_minor": 0
      },
      "text/plain": [
       "HBox(children=(IntProgress(value=0, description='Processing Images', max=12, style=ProgressStyle(description_w…"
      ]
     },
     "metadata": {},
     "output_type": "display_data"
    },
    {
     "data": {
      "application/vnd.jupyter.widget-view+json": {
       "model_id": "",
       "version_major": 2,
       "version_minor": 0
      },
      "text/plain": [
       "HBox(children=(IntProgress(value=0, description='Processing Images', max=16, style=ProgressStyle(description_w…"
      ]
     },
     "metadata": {},
     "output_type": "display_data"
    },
    {
     "data": {
      "application/vnd.jupyter.widget-view+json": {
       "model_id": "",
       "version_major": 2,
       "version_minor": 0
      },
      "text/plain": [
       "HBox(children=(IntProgress(value=0, description='Processing Images', max=24, style=ProgressStyle(description_w…"
      ]
     },
     "metadata": {},
     "output_type": "display_data"
    },
    {
     "data": {
      "application/vnd.jupyter.widget-view+json": {
       "model_id": "",
       "version_major": 2,
       "version_minor": 0
      },
      "text/plain": [
       "HBox(children=(IntProgress(value=0, description='Processing Images', max=24, style=ProgressStyle(description_w…"
      ]
     },
     "metadata": {},
     "output_type": "display_data"
    },
    {
     "data": {
      "application/vnd.jupyter.widget-view+json": {
       "model_id": "",
       "version_major": 2,
       "version_minor": 0
      },
      "text/plain": [
       "HBox(children=(IntProgress(value=0, description='Processing Images', max=36, style=ProgressStyle(description_w…"
      ]
     },
     "metadata": {},
     "output_type": "display_data"
    },
    {
     "data": {
      "application/vnd.jupyter.widget-view+json": {
       "model_id": "",
       "version_major": 2,
       "version_minor": 0
      },
      "text/plain": [
       "HBox(children=(IntProgress(value=0, description='Processing Images', max=24, style=ProgressStyle(description_w…"
      ]
     },
     "metadata": {},
     "output_type": "display_data"
    },
    {
     "data": {
      "application/vnd.jupyter.widget-view+json": {
       "model_id": "",
       "version_major": 2,
       "version_minor": 0
      },
      "text/plain": [
       "HBox(children=(IntProgress(value=0, description='Processing Images', max=24, style=ProgressStyle(description_w…"
      ]
     },
     "metadata": {},
     "output_type": "display_data"
    },
    {
     "data": {
      "application/vnd.jupyter.widget-view+json": {
       "model_id": "",
       "version_major": 2,
       "version_minor": 0
      },
      "text/plain": [
       "HBox(children=(IntProgress(value=0, description='Processing Images', max=20, style=ProgressStyle(description_w…"
      ]
     },
     "metadata": {},
     "output_type": "display_data"
    },
    {
     "data": {
      "application/vnd.jupyter.widget-view+json": {
       "model_id": "",
       "version_major": 2,
       "version_minor": 0
      },
      "text/plain": [
       "HBox(children=(IntProgress(value=0, description='Processing Images', max=16, style=ProgressStyle(description_w…"
      ]
     },
     "metadata": {},
     "output_type": "display_data"
    },
    {
     "data": {
      "application/vnd.jupyter.widget-view+json": {
       "model_id": "",
       "version_major": 2,
       "version_minor": 0
      },
      "text/plain": [
       "HBox(children=(IntProgress(value=0, description='Processing Images', max=24, style=ProgressStyle(description_w…"
      ]
     },
     "metadata": {},
     "output_type": "display_data"
    },
    {
     "data": {
      "application/vnd.jupyter.widget-view+json": {
       "model_id": "",
       "version_major": 2,
       "version_minor": 0
      },
      "text/plain": [
       "HBox(children=(IntProgress(value=0, description='Processing Images', max=24, style=ProgressStyle(description_w…"
      ]
     },
     "metadata": {},
     "output_type": "display_data"
    },
    {
     "data": {
      "application/vnd.jupyter.widget-view+json": {
       "model_id": "",
       "version_major": 2,
       "version_minor": 0
      },
      "text/plain": [
       "HBox(children=(IntProgress(value=0, description='Processing Images', max=24, style=ProgressStyle(description_w…"
      ]
     },
     "metadata": {},
     "output_type": "display_data"
    },
    {
     "data": {
      "application/vnd.jupyter.widget-view+json": {
       "model_id": "",
       "version_major": 2,
       "version_minor": 0
      },
      "text/plain": [
       "HBox(children=(IntProgress(value=0, description='Processing Images', max=44, style=ProgressStyle(description_w…"
      ]
     },
     "metadata": {},
     "output_type": "display_data"
    },
    {
     "data": {
      "application/vnd.jupyter.widget-view+json": {
       "model_id": "",
       "version_major": 2,
       "version_minor": 0
      },
      "text/plain": [
       "HBox(children=(IntProgress(value=0, description='Processing Images', max=20, style=ProgressStyle(description_w…"
      ]
     },
     "metadata": {},
     "output_type": "display_data"
    },
    {
     "data": {
      "application/vnd.jupyter.widget-view+json": {
       "model_id": "",
       "version_major": 2,
       "version_minor": 0
      },
      "text/plain": [
       "HBox(children=(IntProgress(value=0, description='Processing Images', max=24, style=ProgressStyle(description_w…"
      ]
     },
     "metadata": {},
     "output_type": "display_data"
    },
    {
     "data": {
      "application/vnd.jupyter.widget-view+json": {
       "model_id": "",
       "version_major": 2,
       "version_minor": 0
      },
      "text/plain": [
       "HBox(children=(IntProgress(value=0, description='Processing Images', max=24, style=ProgressStyle(description_w…"
      ]
     },
     "metadata": {},
     "output_type": "display_data"
    },
    {
     "data": {
      "application/vnd.jupyter.widget-view+json": {
       "model_id": "",
       "version_major": 2,
       "version_minor": 0
      },
      "text/plain": [
       "HBox(children=(IntProgress(value=0, description='Processing Images', max=24, style=ProgressStyle(description_w…"
      ]
     },
     "metadata": {},
     "output_type": "display_data"
    },
    {
     "data": {
      "application/vnd.jupyter.widget-view+json": {
       "model_id": "",
       "version_major": 2,
       "version_minor": 0
      },
      "text/plain": [
       "HBox(children=(IntProgress(value=0, description='Processing Images', max=24, style=ProgressStyle(description_w…"
      ]
     },
     "metadata": {},
     "output_type": "display_data"
    },
    {
     "data": {
      "application/vnd.jupyter.widget-view+json": {
       "model_id": "",
       "version_major": 2,
       "version_minor": 0
      },
      "text/plain": [
       "HBox(children=(IntProgress(value=0, description='Processing Images', max=32, style=ProgressStyle(description_w…"
      ]
     },
     "metadata": {},
     "output_type": "display_data"
    },
    {
     "data": {
      "application/vnd.jupyter.widget-view+json": {
       "model_id": "",
       "version_major": 2,
       "version_minor": 0
      },
      "text/plain": [
       "HBox(children=(IntProgress(value=0, description='Processing Images', max=28, style=ProgressStyle(description_w…"
      ]
     },
     "metadata": {},
     "output_type": "display_data"
    },
    {
     "data": {
      "application/vnd.jupyter.widget-view+json": {
       "model_id": "",
       "version_major": 2,
       "version_minor": 0
      },
      "text/plain": [
       "HBox(children=(IntProgress(value=0, description='Processing Images', max=52, style=ProgressStyle(description_w…"
      ]
     },
     "metadata": {},
     "output_type": "display_data"
    },
    {
     "data": {
      "application/vnd.jupyter.widget-view+json": {
       "model_id": "",
       "version_major": 2,
       "version_minor": 0
      },
      "text/plain": [
       "HBox(children=(IntProgress(value=0, description='Processing Images', max=28, style=ProgressStyle(description_w…"
      ]
     },
     "metadata": {},
     "output_type": "display_data"
    },
    {
     "data": {
      "application/vnd.jupyter.widget-view+json": {
       "model_id": "",
       "version_major": 2,
       "version_minor": 0
      },
      "text/plain": [
       "HBox(children=(IntProgress(value=0, description='Processing Images', max=28, style=ProgressStyle(description_w…"
      ]
     },
     "metadata": {},
     "output_type": "display_data"
    },
    {
     "data": {
      "application/vnd.jupyter.widget-view+json": {
       "model_id": "",
       "version_major": 2,
       "version_minor": 0
      },
      "text/plain": [
       "HBox(children=(IntProgress(value=0, description='Processing Images', max=32, style=ProgressStyle(description_w…"
      ]
     },
     "metadata": {},
     "output_type": "display_data"
    },
    {
     "data": {
      "application/vnd.jupyter.widget-view+json": {
       "model_id": "",
       "version_major": 2,
       "version_minor": 0
      },
      "text/plain": [
       "HBox(children=(IntProgress(value=0, description='Processing Images', max=32, style=ProgressStyle(description_w…"
      ]
     },
     "metadata": {},
     "output_type": "display_data"
    },
    {
     "name": "stdout",
     "output_type": "stream",
     "text": [
      "\n"
     ]
    }
   ],
   "source": [
    "# create new directory using crl deliverable name\n",
    "# verify the number of pages from CVS is correct\n",
    "# copy images to new directory with new crl deliverable name\n",
    "# create PDF from TIF image using PIL\n",
    "\n",
    "output_directory_path = data_directory_path.joinpath('agrtfhs_for_crl')\n",
    "output_directory_path.mkdir(exist_ok=True)\n",
    "\n",
    "dir_progress_bar = tqdm(directories_path_list, desc='Processing Directories', unit='directories')\n",
    "for directory_path in dir_progress_bar:\n",
    "    \n",
    "    # get new_directory_name by searching for old_directory_name\n",
    "    new_name = df_tn_farm_and_home_science[df_tn_farm_and_home_science[\"old_directory_name\"].str.contains(directory_path.name)]['new_directory_name'].to_string(index=False)\n",
    "    # print(f'{directory_path.name} -> {new_name}')\n",
    "    \n",
    "    # get number of pages from CSV and number of images from directory_path\n",
    "    number_of_pages = int(df_tn_farm_and_home_science[df_tn_farm_and_home_science[\"old_directory_name\"].str.contains(directory_path.name)]['pages'].to_string(index=False))\n",
    "    image_paths_list = sorted(directory_path.glob('*.tif'))\n",
    "    \n",
    "    # delete all macOS index files that start with a '.'\n",
    "    for image_path in image_paths_list:\n",
    "        if image_path.name.startswith('.'):\n",
    "            image_path.unlink()\n",
    "    image_paths_list = sorted(directory_path.glob('*.tif'))\n",
    "    \n",
    "    number_of_images = len(image_paths_list)\n",
    "    \n",
    "    if number_of_pages != number_of_images:\n",
    "        print(f'Check # of pages ({number_of_pages}) vs images ({number_of_images}): {directory_path.name}')    \n",
    "    \n",
    "    # create new directory\n",
    "    new_directory_path = output_directory_path.joinpath(new_name)\n",
    "    new_directory_path.mkdir()\n",
    "    \n",
    "    image_progress_bar = tqdm(image_paths_list, desc='Processing Images', unit='images', leave=False)\n",
    "    # copy each image over to new directory\n",
    "    for index, image_path in enumerate(image_progress_bar, start=1):\n",
    "        new_file_name = f'{str(index).zfill(4)}.tif'\n",
    "        new_file_path = new_directory_path.joinpath(new_file_name)\n",
    "        \n",
    "        # copy image\n",
    "        copy(image_path, new_file_path)\n",
    "        \n",
    "        if new_file_path.is_file():\n",
    "            # convert image to PDF\n",
    "            image = Image.open(new_file_path)\n",
    "            pdf_file_name = f'{new_file_path.stem}.pdf'\n",
    "            pdf_file_path = new_directory_path.joinpath(pdf_file_name)\n",
    "            image.save(pdf_file_path)\n",
    "    "
   ]
  },
  {
   "cell_type": "markdown",
   "metadata": {},
   "source": [
    "# Tennessee Farm and Home News"
   ]
  },
  {
   "cell_type": "markdown",
   "metadata": {},
   "source": [
    "## Load data - as much as I have on 2019-04-10"
   ]
  },
  {
   "cell_type": "code",
   "execution_count": null,
   "metadata": {},
   "outputs": [],
   "source": [
    "# exported Google Docs spreadsheet as csv\n",
    "df_tn_farm_and_home_news = pd.read_csv('data/tennessee_farm_and_home_news.csv')\n",
    "df_tn_farm_and_home_news.head(5)"
   ]
  },
  {
   "cell_type": "markdown",
   "metadata": {},
   "source": [
    "## Date from title"
   ]
  },
  {
   "cell_type": "code",
   "execution_count": null,
   "metadata": {},
   "outputs": [],
   "source": [
    "# split on comma, but only split once to get the date\n",
    "df_tn_farm_and_home_news['title'].str.split(',', n=1).str[-1].head(5)"
   ]
  },
  {
   "cell_type": "code",
   "execution_count": null,
   "metadata": {},
   "outputs": [],
   "source": [
    "df_tn_farm_and_home_news['date'] = df_tn_farm_and_home_news['title'].str.split(',', n=1).str[-1]\n",
    "df_tn_farm_and_home_news.head(5)"
   ]
  },
  {
   "cell_type": "markdown",
   "metadata": {},
   "source": [
    "## Month"
   ]
  },
  {
   "cell_type": "code",
   "execution_count": null,
   "metadata": {},
   "outputs": [],
   "source": [
    "df_tn_farm_and_home_news['date'].str.split().str[0].tail(5)"
   ]
  },
  {
   "cell_type": "code",
   "execution_count": null,
   "metadata": {},
   "outputs": [],
   "source": [
    "df_tn_farm_and_home_news['Month'] = df_tn_farm_and_home_news['date'].str.split().str[0]\n",
    "df_tn_farm_and_home_news.head(5)"
   ]
  },
  {
   "cell_type": "markdown",
   "metadata": {},
   "source": [
    "## yyyy"
   ]
  },
  {
   "cell_type": "code",
   "execution_count": null,
   "metadata": {},
   "outputs": [],
   "source": [
    "df_tn_farm_and_home_news['date'].str.split().str[-1].tail(5)"
   ]
  },
  {
   "cell_type": "code",
   "execution_count": null,
   "metadata": {},
   "outputs": [],
   "source": [
    "df_tn_farm_and_home_news['yyyy'] = df_tn_farm_and_home_news['date'].str.split().str[-1]"
   ]
  },
  {
   "cell_type": "markdown",
   "metadata": {},
   "source": [
    "## mm"
   ]
  },
  {
   "cell_type": "code",
   "execution_count": null,
   "metadata": {},
   "outputs": [],
   "source": [
    "# convert month to mm, e.g. January -> 01\n",
    "str(time.strptime(df_tn_farm_and_home_news['Month'][2000], '%B').tm_mon).zfill(2)"
   ]
  },
  {
   "cell_type": "code",
   "execution_count": null,
   "metadata": {},
   "outputs": [],
   "source": [
    "# create list of mm\n",
    "mm_list = []\n",
    "for index, value in enumerate(df_tn_farm_and_home_news['Month'], start=1):\n",
    "    try:\n",
    "        try:\n",
    "            mm = str(time.strptime(value, '%B').tm_mon).zfill(2)\n",
    "            mm_list.append(mm)\n",
    "        except TypeError:  # errors if NAN value\n",
    "            if np.isnan(value):\n",
    "                pass\n",
    "            else:\n",
    "                print(f'index: {index}, value: {value}')\n",
    "    except ValueError:  # had errors in the metadata for the month, e.g. March11\n",
    "        print(index, value)\n",
    "mm_list[:6]"
   ]
  },
  {
   "cell_type": "code",
   "execution_count": null,
   "metadata": {},
   "outputs": [],
   "source": [
    "df_tn_farm_and_home_news.iloc[1887:1890, :]"
   ]
  },
  {
   "cell_type": "code",
   "execution_count": null,
   "metadata": {
    "scrolled": true
   },
   "outputs": [],
   "source": [
    "# add mm to DataFrame\n",
    "df_tn_farm_and_home_news['mm'] = mm_list\n",
    "df_tn_farm_and_home_news.tail(5)"
   ]
  },
  {
   "cell_type": "markdown",
   "metadata": {},
   "source": [
    "## dd"
   ]
  },
  {
   "cell_type": "code",
   "execution_count": null,
   "metadata": {},
   "outputs": [],
   "source": [
    "# get day from date field by splitting on comma and taking first value,\n",
    "# then splitting on space and taking 2nd value\n",
    "df_tn_farm_and_home_news['date'].str.split(',').str[0].str.split().str[1].head(5)"
   ]
  },
  {
   "cell_type": "code",
   "execution_count": null,
   "metadata": {},
   "outputs": [],
   "source": [
    "# split using above, but also zero-pad 2 digits\n",
    "df_tn_farm_and_home_news['date'].str.split(',').str[0].str.split().str[1].str.zfill(2).head(5)"
   ]
  },
  {
   "cell_type": "code",
   "execution_count": null,
   "metadata": {},
   "outputs": [],
   "source": [
    "# use above code to set as 'dd' column\n",
    "df_tn_farm_and_home_news['dd'] = df_tn_farm_and_home_news['date'].str.split(',').str[0].str.split().str[1].str.zfill(2)\n",
    "df_tn_farm_and_home_news.tail(5)"
   ]
  },
  {
   "cell_type": "markdown",
   "metadata": {},
   "source": [
    "## old_directory_name"
   ]
  },
  {
   "cell_type": "code",
   "execution_count": null,
   "metadata": {},
   "outputs": [],
   "source": [
    "df_tn_farm_and_home_news['old_directory_name'] = df_tn_farm_and_home_news['adminDB']\n",
    "df_tn_farm_and_home_news.head(5)"
   ]
  },
  {
   "cell_type": "markdown",
   "metadata": {},
   "source": [
    "## new_directory_name"
   ]
  },
  {
   "cell_type": "code",
   "execution_count": null,
   "metadata": {},
   "outputs": [],
   "source": [
    "df_tn_farm_and_home_news['new_directory_name'] = df_tn_farm_and_home_news['yyyy'].map(str) + '_' + df_tn_farm_and_home_news['mm'].map(str) + '_' + df_tn_farm_and_home_news['dd'].map(str)\n",
    "df_tn_farm_and_home_news.count() ## verify that we have a unique number of old_ and new_directory_name(s)"
   ]
  },
  {
   "cell_type": "markdown",
   "metadata": {},
   "source": [
    "## pages"
   ]
  },
  {
   "cell_type": "code",
   "execution_count": null,
   "metadata": {},
   "outputs": [],
   "source": [
    "# get just the number of pages, without \" pages\"\n",
    "df_tn_farm_and_home_news['pages'] = df_tn_farm_and_home_news['extent'].str.split().str[0]\n",
    "df_tn_farm_and_home_news.head(5)"
   ]
  },
  {
   "cell_type": "markdown",
   "metadata": {},
   "source": [
    "## Process directory path"
   ]
  },
  {
   "cell_type": "code",
   "execution_count": null,
   "metadata": {},
   "outputs": [],
   "source": [
    "tn_farm_and_home_news_directory_path = Path('data/tn_farm_and_home_news_adminDB')"
   ]
  }
 ],
 "metadata": {
  "kernelspec": {
   "display_name": "Python 3",
   "language": "python",
   "name": "python3"
  },
  "language_info": {
   "codemirror_mode": {
    "name": "ipython",
    "version": 3
   },
   "file_extension": ".py",
   "mimetype": "text/x-python",
   "name": "python",
   "nbconvert_exporter": "python",
   "pygments_lexer": "ipython3",
   "version": "3.7.3"
  },
  "toc": {
   "base_numbering": 1,
   "nav_menu": {},
   "number_sections": true,
   "sideBar": true,
   "skip_h1_title": false,
   "title_cell": "Table of Contents",
   "title_sidebar": "Contents",
   "toc_cell": false,
   "toc_position": {
    "height": "calc(100% - 180px)",
    "left": "10px",
    "top": "150px",
    "width": "422.9166564941406px"
   },
   "toc_section_display": true,
   "toc_window_display": false
  }
 },
 "nbformat": 4,
 "nbformat_minor": 2
}
