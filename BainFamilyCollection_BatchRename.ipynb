{
 "cells": [
  {
   "cell_type": "markdown",
   "metadata": {},
   "source": [
    "# Bain Family Collection - Batch Rename\n",
    "\n",
    "Scanned the front & back covers last, so the 3 directories need to be batch renamed"
   ]
  },
  {
   "cell_type": "code",
   "execution_count": 5,
   "metadata": {},
   "outputs": [],
   "source": [
    "# import\n",
    "from pathlib import Path\n",
    "import shutil"
   ]
  },
  {
   "cell_type": "code",
   "execution_count": 3,
   "metadata": {},
   "outputs": [
    {
     "data": {
      "text/plain": [
       "[WindowsPath('data/BainFamilyCollection_Box2'),\n",
       " WindowsPath('data/BainFamilyCollection_Box3'),\n",
       " WindowsPath('data/BainFamilyCollection_Box4')]"
      ]
     },
     "execution_count": 3,
     "metadata": {},
     "output_type": "execute_result"
    }
   ],
   "source": [
    "data_directory = Path('data')\n",
    "data_directory_paths_list = sorted([x for x in data_directory.iterdir() if x.is_dir()])\n",
    "data_directory_paths_list"
   ]
  },
  {
   "cell_type": "code",
   "execution_count": 7,
   "metadata": {},
   "outputs": [],
   "source": [
    "# batch rename images\n",
    "\n",
    "for data_directory_path in data_directory_paths_list:\n",
    "    \n",
    "    # get sorted image paths for renaming\n",
    "    image_paths_list = sorted([x for x in data_directory_path.iterdir() if str(x).endswith('.tif')])\n",
    "    \n",
    "    # create output directory\n",
    "    output_directory_path = data_directory_path.joinpath('renamed')\n",
    "    output_directory_path.mkdir(exist_ok=True)\n",
    "    \n",
    "    # rename images into output directory\n",
    "    for index, image_path in enumerate(image_paths_list, start=1):\n",
    "        \n",
    "        # create zero-padded image name\n",
    "        renamed_image_name = f'{data_directory_path.name}_{str(index).zfill(4)}.tif'\n",
    "        renamed_image_path = output_directory_path.joinpath(renamed_image_name)\n",
    "        shutil.copy(image_path, renamed_image_path)\n",
    "    \n",
    "        # if copied image is the same size as original, delete original\n",
    "        if renamed_image_path.stat().st_size == image_path.stat().st_size:\n",
    "            image_path.unlink()  "
   ]
  },
  {
   "cell_type": "code",
   "execution_count": null,
   "metadata": {},
   "outputs": [],
   "source": []
  }
 ],
 "metadata": {
  "kernelspec": {
   "display_name": "Python 3",
   "language": "python",
   "name": "python3"
  },
  "language_info": {
   "codemirror_mode": {
    "name": "ipython",
    "version": 3
   },
   "file_extension": ".py",
   "mimetype": "text/x-python",
   "name": "python",
   "nbconvert_exporter": "python",
   "pygments_lexer": "ipython3",
   "version": "3.6.8"
  }
 },
 "nbformat": 4,
 "nbformat_minor": 2
}
