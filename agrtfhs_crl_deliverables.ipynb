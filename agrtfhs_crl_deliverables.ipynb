{
 "cells": [
  {
   "cell_type": "markdown",
   "metadata": {},
   "source": [
    "# Create Project CERES Deliverables for Tennessee farm and home science (agrtfhs)\n",
    "\n",
    "\n",
    "\n",
    "## Processing Steps\n",
    "1. Import csv with titles into DataFrame\n",
    " - ```Tennessee farm and home science, progress report 1, January - March 1952```\n",
    "1. convert title into starting month and year\n",
    " - ```January 1952```\n",
    "1. convert month and year into yyyy_mm\n",
    " - ```1952_01```\n",
    "1. map adminDB directory to new yyyy_mm name\n",
    " - old_directory_name: ```0012_004267_000001```\n",
    " - new_directory_name: ```1952_01```\n",
    "1. get page numbers as simple integer\n",
    " - ```12 pages``` -> ```12```\n",
    "1. process each directory using DataFrame\n",
    " - verify number of images on disk vs. metadata\n",
    " - create new directory with yyyy_mm\n",
    " - OCR TIFF with Tesseract and output PDF into new directory as 001.pdf, 002.pdf, 00n.pdf"
   ]
  },
  {
   "cell_type": "code",
   "execution_count": 1,
   "metadata": {
    "code_folding": []
   },
   "outputs": [
    {
     "data": {
      "text/html": [
       "<style>.container { width:95% !important; }</style>"
      ],
      "text/plain": [
       "<IPython.core.display.HTML object>"
      ]
     },
     "metadata": {},
     "output_type": "display_data"
    }
   ],
   "source": [
    "# importing and options\n",
    "import time\n",
    "from pathlib import Path\n",
    "\n",
    "import pandas as pd\n",
    "from ipywidgets import IntProgress, Label, VBox\n",
    "from IPython.display import display\n",
    "\n",
    "# == display 95% width\n",
    "from IPython.core.display import display, HTML\n",
    "display(HTML(\"<style>.container { width:95% !important; }</style>\"))\n",
    "\n",
    "# set pandas option to display wider column info, use -1 to expand to largest necessary width\n",
    "pd.set_option('max_colwidth', -1)"
   ]
  },
  {
   "cell_type": "markdown",
   "metadata": {},
   "source": [
    "## Load data from CSV"
   ]
  },
  {
   "cell_type": "code",
   "execution_count": 2,
   "metadata": {
    "code_folding": [
     0
    ]
   },
   "outputs": [
    {
     "data": {
      "text/html": [
       "<div>\n",
       "<style scoped>\n",
       "    .dataframe tbody tr th:only-of-type {\n",
       "        vertical-align: middle;\n",
       "    }\n",
       "\n",
       "    .dataframe tbody tr th {\n",
       "        vertical-align: top;\n",
       "    }\n",
       "\n",
       "    .dataframe thead th {\n",
       "        text-align: right;\n",
       "    }\n",
       "</style>\n",
       "<table border=\"1\" class=\"dataframe\">\n",
       "  <thead>\n",
       "    <tr style=\"text-align: right;\">\n",
       "      <th></th>\n",
       "      <th>adminDB</th>\n",
       "      <th>title</th>\n",
       "      <th>extent</th>\n",
       "    </tr>\n",
       "  </thead>\n",
       "  <tbody>\n",
       "    <tr>\n",
       "      <th>0</th>\n",
       "      <td>0012_004267_000001</td>\n",
       "      <td>Tennessee farm and home science, progress report 1, January - March 1952</td>\n",
       "      <td>12 pages</td>\n",
       "    </tr>\n",
       "    <tr>\n",
       "      <th>1</th>\n",
       "      <td>0012_004267_000002</td>\n",
       "      <td>Tennessee farm and home science, progress report 2, April - June 1952</td>\n",
       "      <td>12 pages</td>\n",
       "    </tr>\n",
       "    <tr>\n",
       "      <th>2</th>\n",
       "      <td>0012_004267_000003</td>\n",
       "      <td>Tennessee farm and home science, progress report 3, July - September 1952</td>\n",
       "      <td>12 pages</td>\n",
       "    </tr>\n",
       "    <tr>\n",
       "      <th>3</th>\n",
       "      <td>0012_004267_000004</td>\n",
       "      <td>Tennessee farm and home science, progress report 4, October - December 1952</td>\n",
       "      <td>12 pages</td>\n",
       "    </tr>\n",
       "    <tr>\n",
       "      <th>4</th>\n",
       "      <td>0012_004267_000005</td>\n",
       "      <td>Tennessee farm and home science, progress report 5, January - March 1953</td>\n",
       "      <td>12 pages</td>\n",
       "    </tr>\n",
       "  </tbody>\n",
       "</table>\n",
       "</div>"
      ],
      "text/plain": [
       "              adminDB  \\\n",
       "0  0012_004267_000001   \n",
       "1  0012_004267_000002   \n",
       "2  0012_004267_000003   \n",
       "3  0012_004267_000004   \n",
       "4  0012_004267_000005   \n",
       "\n",
       "                                                                         title  \\\n",
       "0  Tennessee farm and home science, progress report 1, January - March 1952      \n",
       "1  Tennessee farm and home science, progress report 2, April - June 1952         \n",
       "2  Tennessee farm and home science, progress report 3, July - September 1952     \n",
       "3  Tennessee farm and home science, progress report 4, October - December 1952   \n",
       "4  Tennessee farm and home science, progress report 5, January - March 1953      \n",
       "\n",
       "     extent  \n",
       "0  12 pages  \n",
       "1  12 pages  \n",
       "2  12 pages  \n",
       "3  12 pages  \n",
       "4  12 pages  "
      ]
     },
     "execution_count": 2,
     "metadata": {},
     "output_type": "execute_result"
    }
   ],
   "source": [
    "# exported Google Docs spreadsheet as csv\n",
    "df_tn_farm_and_home_science = pd.read_csv('data/tennessee_farm_and_home_science.csv')\n",
    "df_tn_farm_and_home_science.head(5)"
   ]
  },
  {
   "cell_type": "markdown",
   "metadata": {},
   "source": [
    "## Split date range from title"
   ]
  },
  {
   "cell_type": "code",
   "execution_count": 3,
   "metadata": {},
   "outputs": [
    {
     "data": {
      "text/plain": [
       "0     January - March 1952   \n",
       "1     April - June 1952      \n",
       "2     July - September 1952  \n",
       "3     October - December 1952\n",
       "4     January - March 1953   \n",
       "Name: title, dtype: object"
      ]
     },
     "execution_count": 3,
     "metadata": {},
     "output_type": "execute_result"
    }
   ],
   "source": [
    "# rsplit by comma and get the last field\n",
    "df_tn_farm_and_home_science['title'].str.rsplit(',').str[-1].head(5)"
   ]
  },
  {
   "cell_type": "code",
   "execution_count": 4,
   "metadata": {},
   "outputs": [
    {
     "data": {
      "text/html": [
       "<div>\n",
       "<style scoped>\n",
       "    .dataframe tbody tr th:only-of-type {\n",
       "        vertical-align: middle;\n",
       "    }\n",
       "\n",
       "    .dataframe tbody tr th {\n",
       "        vertical-align: top;\n",
       "    }\n",
       "\n",
       "    .dataframe thead th {\n",
       "        text-align: right;\n",
       "    }\n",
       "</style>\n",
       "<table border=\"1\" class=\"dataframe\">\n",
       "  <thead>\n",
       "    <tr style=\"text-align: right;\">\n",
       "      <th></th>\n",
       "      <th>adminDB</th>\n",
       "      <th>title</th>\n",
       "      <th>extent</th>\n",
       "      <th>date_range</th>\n",
       "    </tr>\n",
       "  </thead>\n",
       "  <tbody>\n",
       "    <tr>\n",
       "      <th>0</th>\n",
       "      <td>0012_004267_000001</td>\n",
       "      <td>Tennessee farm and home science, progress report 1, January - March 1952</td>\n",
       "      <td>12 pages</td>\n",
       "      <td>January - March 1952</td>\n",
       "    </tr>\n",
       "    <tr>\n",
       "      <th>1</th>\n",
       "      <td>0012_004267_000002</td>\n",
       "      <td>Tennessee farm and home science, progress report 2, April - June 1952</td>\n",
       "      <td>12 pages</td>\n",
       "      <td>April - June 1952</td>\n",
       "    </tr>\n",
       "    <tr>\n",
       "      <th>2</th>\n",
       "      <td>0012_004267_000003</td>\n",
       "      <td>Tennessee farm and home science, progress report 3, July - September 1952</td>\n",
       "      <td>12 pages</td>\n",
       "      <td>July - September 1952</td>\n",
       "    </tr>\n",
       "    <tr>\n",
       "      <th>3</th>\n",
       "      <td>0012_004267_000004</td>\n",
       "      <td>Tennessee farm and home science, progress report 4, October - December 1952</td>\n",
       "      <td>12 pages</td>\n",
       "      <td>October - December 1952</td>\n",
       "    </tr>\n",
       "    <tr>\n",
       "      <th>4</th>\n",
       "      <td>0012_004267_000005</td>\n",
       "      <td>Tennessee farm and home science, progress report 5, January - March 1953</td>\n",
       "      <td>12 pages</td>\n",
       "      <td>January - March 1953</td>\n",
       "    </tr>\n",
       "  </tbody>\n",
       "</table>\n",
       "</div>"
      ],
      "text/plain": [
       "              adminDB  \\\n",
       "0  0012_004267_000001   \n",
       "1  0012_004267_000002   \n",
       "2  0012_004267_000003   \n",
       "3  0012_004267_000004   \n",
       "4  0012_004267_000005   \n",
       "\n",
       "                                                                         title  \\\n",
       "0  Tennessee farm and home science, progress report 1, January - March 1952      \n",
       "1  Tennessee farm and home science, progress report 2, April - June 1952         \n",
       "2  Tennessee farm and home science, progress report 3, July - September 1952     \n",
       "3  Tennessee farm and home science, progress report 4, October - December 1952   \n",
       "4  Tennessee farm and home science, progress report 5, January - March 1953      \n",
       "\n",
       "     extent                date_range  \n",
       "0  12 pages   January - March 1952     \n",
       "1  12 pages   April - June 1952        \n",
       "2  12 pages   July - September 1952    \n",
       "3  12 pages   October - December 1952  \n",
       "4  12 pages   January - March 1953     "
      ]
     },
     "execution_count": 4,
     "metadata": {},
     "output_type": "execute_result"
    }
   ],
   "source": [
    "# add date_range to Dataframe by rsplitting on comma and taking the last field\n",
    "df_tn_farm_and_home_science['date_range'] = df_tn_farm_and_home_science['title'].str.rsplit(',').str[-1]\n",
    "df_tn_farm_and_home_science.head(5)"
   ]
  },
  {
   "cell_type": "markdown",
   "metadata": {},
   "source": [
    "## Convert date range into yyyy and mm"
   ]
  },
  {
   "cell_type": "code",
   "execution_count": 5,
   "metadata": {},
   "outputs": [
    {
     "data": {
      "text/plain": [
       "0    January\n",
       "1    April  \n",
       "2    July   \n",
       "3    October\n",
       "4    January\n",
       "Name: date_range, dtype: object"
      ]
     },
     "execution_count": 5,
     "metadata": {},
     "output_type": "execute_result"
    }
   ],
   "source": [
    "# split date range by spaces and get the first month\n",
    "df_tn_farm_and_home_science['date_range'].str.split().str[0].head(5)"
   ]
  },
  {
   "cell_type": "code",
   "execution_count": 6,
   "metadata": {
    "code_folding": [
     0
    ]
   },
   "outputs": [
    {
     "data": {
      "text/html": [
       "<div>\n",
       "<style scoped>\n",
       "    .dataframe tbody tr th:only-of-type {\n",
       "        vertical-align: middle;\n",
       "    }\n",
       "\n",
       "    .dataframe tbody tr th {\n",
       "        vertical-align: top;\n",
       "    }\n",
       "\n",
       "    .dataframe thead th {\n",
       "        text-align: right;\n",
       "    }\n",
       "</style>\n",
       "<table border=\"1\" class=\"dataframe\">\n",
       "  <thead>\n",
       "    <tr style=\"text-align: right;\">\n",
       "      <th></th>\n",
       "      <th>adminDB</th>\n",
       "      <th>title</th>\n",
       "      <th>extent</th>\n",
       "      <th>date_range</th>\n",
       "      <th>Month</th>\n",
       "    </tr>\n",
       "  </thead>\n",
       "  <tbody>\n",
       "    <tr>\n",
       "      <th>0</th>\n",
       "      <td>0012_004267_000001</td>\n",
       "      <td>Tennessee farm and home science, progress report 1, January - March 1952</td>\n",
       "      <td>12 pages</td>\n",
       "      <td>January - March 1952</td>\n",
       "      <td>January</td>\n",
       "    </tr>\n",
       "    <tr>\n",
       "      <th>1</th>\n",
       "      <td>0012_004267_000002</td>\n",
       "      <td>Tennessee farm and home science, progress report 2, April - June 1952</td>\n",
       "      <td>12 pages</td>\n",
       "      <td>April - June 1952</td>\n",
       "      <td>April</td>\n",
       "    </tr>\n",
       "    <tr>\n",
       "      <th>2</th>\n",
       "      <td>0012_004267_000003</td>\n",
       "      <td>Tennessee farm and home science, progress report 3, July - September 1952</td>\n",
       "      <td>12 pages</td>\n",
       "      <td>July - September 1952</td>\n",
       "      <td>July</td>\n",
       "    </tr>\n",
       "    <tr>\n",
       "      <th>3</th>\n",
       "      <td>0012_004267_000004</td>\n",
       "      <td>Tennessee farm and home science, progress report 4, October - December 1952</td>\n",
       "      <td>12 pages</td>\n",
       "      <td>October - December 1952</td>\n",
       "      <td>October</td>\n",
       "    </tr>\n",
       "    <tr>\n",
       "      <th>4</th>\n",
       "      <td>0012_004267_000005</td>\n",
       "      <td>Tennessee farm and home science, progress report 5, January - March 1953</td>\n",
       "      <td>12 pages</td>\n",
       "      <td>January - March 1953</td>\n",
       "      <td>January</td>\n",
       "    </tr>\n",
       "  </tbody>\n",
       "</table>\n",
       "</div>"
      ],
      "text/plain": [
       "              adminDB  \\\n",
       "0  0012_004267_000001   \n",
       "1  0012_004267_000002   \n",
       "2  0012_004267_000003   \n",
       "3  0012_004267_000004   \n",
       "4  0012_004267_000005   \n",
       "\n",
       "                                                                         title  \\\n",
       "0  Tennessee farm and home science, progress report 1, January - March 1952      \n",
       "1  Tennessee farm and home science, progress report 2, April - June 1952         \n",
       "2  Tennessee farm and home science, progress report 3, July - September 1952     \n",
       "3  Tennessee farm and home science, progress report 4, October - December 1952   \n",
       "4  Tennessee farm and home science, progress report 5, January - March 1953      \n",
       "\n",
       "     extent                date_range    Month  \n",
       "0  12 pages   January - March 1952     January  \n",
       "1  12 pages   April - June 1952        April    \n",
       "2  12 pages   July - September 1952    July     \n",
       "3  12 pages   October - December 1952  October  \n",
       "4  12 pages   January - March 1953     January  "
      ]
     },
     "execution_count": 6,
     "metadata": {},
     "output_type": "execute_result"
    }
   ],
   "source": [
    "# add the month to the DataFrame\n",
    "df_tn_farm_and_home_science['Month'] = df_tn_farm_and_home_science['date_range'].str.split().str[0]\n",
    "df_tn_farm_and_home_science.head(5)"
   ]
  },
  {
   "cell_type": "code",
   "execution_count": 7,
   "metadata": {
    "code_folding": [
     0
    ]
   },
   "outputs": [
    {
     "data": {
      "text/html": [
       "<div>\n",
       "<style scoped>\n",
       "    .dataframe tbody tr th:only-of-type {\n",
       "        vertical-align: middle;\n",
       "    }\n",
       "\n",
       "    .dataframe tbody tr th {\n",
       "        vertical-align: top;\n",
       "    }\n",
       "\n",
       "    .dataframe thead th {\n",
       "        text-align: right;\n",
       "    }\n",
       "</style>\n",
       "<table border=\"1\" class=\"dataframe\">\n",
       "  <thead>\n",
       "    <tr style=\"text-align: right;\">\n",
       "      <th></th>\n",
       "      <th>adminDB</th>\n",
       "      <th>title</th>\n",
       "      <th>extent</th>\n",
       "      <th>date_range</th>\n",
       "      <th>Month</th>\n",
       "      <th>yyyy</th>\n",
       "    </tr>\n",
       "  </thead>\n",
       "  <tbody>\n",
       "    <tr>\n",
       "      <th>0</th>\n",
       "      <td>0012_004267_000001</td>\n",
       "      <td>Tennessee farm and home science, progress report 1, January - March 1952</td>\n",
       "      <td>12 pages</td>\n",
       "      <td>January - March 1952</td>\n",
       "      <td>January</td>\n",
       "      <td>1952</td>\n",
       "    </tr>\n",
       "    <tr>\n",
       "      <th>1</th>\n",
       "      <td>0012_004267_000002</td>\n",
       "      <td>Tennessee farm and home science, progress report 2, April - June 1952</td>\n",
       "      <td>12 pages</td>\n",
       "      <td>April - June 1952</td>\n",
       "      <td>April</td>\n",
       "      <td>1952</td>\n",
       "    </tr>\n",
       "    <tr>\n",
       "      <th>2</th>\n",
       "      <td>0012_004267_000003</td>\n",
       "      <td>Tennessee farm and home science, progress report 3, July - September 1952</td>\n",
       "      <td>12 pages</td>\n",
       "      <td>July - September 1952</td>\n",
       "      <td>July</td>\n",
       "      <td>1952</td>\n",
       "    </tr>\n",
       "    <tr>\n",
       "      <th>3</th>\n",
       "      <td>0012_004267_000004</td>\n",
       "      <td>Tennessee farm and home science, progress report 4, October - December 1952</td>\n",
       "      <td>12 pages</td>\n",
       "      <td>October - December 1952</td>\n",
       "      <td>October</td>\n",
       "      <td>1952</td>\n",
       "    </tr>\n",
       "    <tr>\n",
       "      <th>4</th>\n",
       "      <td>0012_004267_000005</td>\n",
       "      <td>Tennessee farm and home science, progress report 5, January - March 1953</td>\n",
       "      <td>12 pages</td>\n",
       "      <td>January - March 1953</td>\n",
       "      <td>January</td>\n",
       "      <td>1953</td>\n",
       "    </tr>\n",
       "  </tbody>\n",
       "</table>\n",
       "</div>"
      ],
      "text/plain": [
       "              adminDB  \\\n",
       "0  0012_004267_000001   \n",
       "1  0012_004267_000002   \n",
       "2  0012_004267_000003   \n",
       "3  0012_004267_000004   \n",
       "4  0012_004267_000005   \n",
       "\n",
       "                                                                         title  \\\n",
       "0  Tennessee farm and home science, progress report 1, January - March 1952      \n",
       "1  Tennessee farm and home science, progress report 2, April - June 1952         \n",
       "2  Tennessee farm and home science, progress report 3, July - September 1952     \n",
       "3  Tennessee farm and home science, progress report 4, October - December 1952   \n",
       "4  Tennessee farm and home science, progress report 5, January - March 1953      \n",
       "\n",
       "     extent                date_range    Month  yyyy  \n",
       "0  12 pages   January - March 1952     January  1952  \n",
       "1  12 pages   April - June 1952        April    1952  \n",
       "2  12 pages   July - September 1952    July     1952  \n",
       "3  12 pages   October - December 1952  October  1952  \n",
       "4  12 pages   January - March 1953     January  1953  "
      ]
     },
     "execution_count": 7,
     "metadata": {},
     "output_type": "execute_result"
    }
   ],
   "source": [
    "# split yyyy from date range and add to Dataframe\n",
    "df_tn_farm_and_home_science['yyyy'] = df_tn_farm_and_home_science['date_range'].str.split().str[-1]\n",
    "df_tn_farm_and_home_science.head(5)"
   ]
  },
  {
   "cell_type": "code",
   "execution_count": 8,
   "metadata": {
    "code_folding": [
     0
    ]
   },
   "outputs": [
    {
     "data": {
      "text/plain": [
       "'01'"
      ]
     },
     "execution_count": 8,
     "metadata": {},
     "output_type": "execute_result"
    }
   ],
   "source": [
    "# convert month to mm, e.g. January -> 01\n",
    "str(time.strptime(df_tn_farm_and_home_science['Month'][0], '%B').tm_mon).zfill(2)"
   ]
  },
  {
   "cell_type": "code",
   "execution_count": 9,
   "metadata": {
    "code_folding": [
     0
    ]
   },
   "outputs": [
    {
     "data": {
      "text/plain": [
       "['01', '04', '07', '10', '01', '04']"
      ]
     },
     "execution_count": 9,
     "metadata": {},
     "output_type": "execute_result"
    }
   ],
   "source": [
    "# create a list of what the mm column should be\n",
    "# due to formatting issues getting time.strptime to work on a Pandas column\n",
    "mm_list = []\n",
    "for value in df_tn_farm_and_home_science['Month']:\n",
    "    mm = str(time.strptime(value, '%B').tm_mon).zfill(2)\n",
    "    mm_list.append(mm)\n",
    "mm_list[:6]"
   ]
  },
  {
   "cell_type": "code",
   "execution_count": 10,
   "metadata": {
    "code_folding": [
     0
    ]
   },
   "outputs": [
    {
     "data": {
      "text/html": [
       "<div>\n",
       "<style scoped>\n",
       "    .dataframe tbody tr th:only-of-type {\n",
       "        vertical-align: middle;\n",
       "    }\n",
       "\n",
       "    .dataframe tbody tr th {\n",
       "        vertical-align: top;\n",
       "    }\n",
       "\n",
       "    .dataframe thead th {\n",
       "        text-align: right;\n",
       "    }\n",
       "</style>\n",
       "<table border=\"1\" class=\"dataframe\">\n",
       "  <thead>\n",
       "    <tr style=\"text-align: right;\">\n",
       "      <th></th>\n",
       "      <th>adminDB</th>\n",
       "      <th>title</th>\n",
       "      <th>extent</th>\n",
       "      <th>date_range</th>\n",
       "      <th>Month</th>\n",
       "      <th>yyyy</th>\n",
       "      <th>mm</th>\n",
       "    </tr>\n",
       "  </thead>\n",
       "  <tbody>\n",
       "    <tr>\n",
       "      <th>130</th>\n",
       "      <td>0012_004267_000131</td>\n",
       "      <td>Tennessee farm and home science, progress report 152, October - December 1989</td>\n",
       "      <td>52 pages</td>\n",
       "      <td>October - December 1989</td>\n",
       "      <td>October</td>\n",
       "      <td>1989</td>\n",
       "      <td>10</td>\n",
       "    </tr>\n",
       "    <tr>\n",
       "      <th>131</th>\n",
       "      <td>0012_004267_000132</td>\n",
       "      <td>Tennessee farm and home science, progress report 153, January - March 1990</td>\n",
       "      <td>28 pages</td>\n",
       "      <td>January - March 1990</td>\n",
       "      <td>January</td>\n",
       "      <td>1990</td>\n",
       "      <td>01</td>\n",
       "    </tr>\n",
       "    <tr>\n",
       "      <th>132</th>\n",
       "      <td>0012_004267_000133</td>\n",
       "      <td>Tennessee farm and home science, progress report 154, April - June 1990</td>\n",
       "      <td>28 pages</td>\n",
       "      <td>April - June 1990</td>\n",
       "      <td>April</td>\n",
       "      <td>1990</td>\n",
       "      <td>04</td>\n",
       "    </tr>\n",
       "    <tr>\n",
       "      <th>133</th>\n",
       "      <td>0012_004267_000134</td>\n",
       "      <td>Tennessee farm and home science, progress report 155, July - September 1990</td>\n",
       "      <td>32 pages</td>\n",
       "      <td>July - September 1990</td>\n",
       "      <td>July</td>\n",
       "      <td>1990</td>\n",
       "      <td>07</td>\n",
       "    </tr>\n",
       "    <tr>\n",
       "      <th>134</th>\n",
       "      <td>0012_004267_000135</td>\n",
       "      <td>Tennessee farm and home science, progress report 156, October - December 1990</td>\n",
       "      <td>32 pages</td>\n",
       "      <td>October - December 1990</td>\n",
       "      <td>October</td>\n",
       "      <td>1990</td>\n",
       "      <td>10</td>\n",
       "    </tr>\n",
       "  </tbody>\n",
       "</table>\n",
       "</div>"
      ],
      "text/plain": [
       "                adminDB  \\\n",
       "130  0012_004267_000131   \n",
       "131  0012_004267_000132   \n",
       "132  0012_004267_000133   \n",
       "133  0012_004267_000134   \n",
       "134  0012_004267_000135   \n",
       "\n",
       "                                                                             title  \\\n",
       "130  Tennessee farm and home science, progress report 152, October - December 1989   \n",
       "131  Tennessee farm and home science, progress report 153, January - March 1990      \n",
       "132  Tennessee farm and home science, progress report 154, April - June 1990         \n",
       "133  Tennessee farm and home science, progress report 155, July - September 1990     \n",
       "134  Tennessee farm and home science, progress report 156, October - December 1990   \n",
       "\n",
       "       extent                date_range    Month  yyyy  mm  \n",
       "130  52 pages   October - December 1989  October  1989  10  \n",
       "131  28 pages   January - March 1990     January  1990  01  \n",
       "132  28 pages   April - June 1990        April    1990  04  \n",
       "133  32 pages   July - September 1990    July     1990  07  \n",
       "134  32 pages   October - December 1990  October  1990  10  "
      ]
     },
     "execution_count": 10,
     "metadata": {},
     "output_type": "execute_result"
    }
   ],
   "source": [
    "# add mm column to DataFrame using list\n",
    "df_tn_farm_and_home_science['mm'] = mm_list\n",
    "df_tn_farm_and_home_science.tail(5)"
   ]
  },
  {
   "cell_type": "markdown",
   "metadata": {},
   "source": [
    "## Map old to new directory"
   ]
  },
  {
   "cell_type": "code",
   "execution_count": 11,
   "metadata": {
    "code_folding": [
     0
    ]
   },
   "outputs": [
    {
     "data": {
      "text/html": [
       "<div>\n",
       "<style scoped>\n",
       "    .dataframe tbody tr th:only-of-type {\n",
       "        vertical-align: middle;\n",
       "    }\n",
       "\n",
       "    .dataframe tbody tr th {\n",
       "        vertical-align: top;\n",
       "    }\n",
       "\n",
       "    .dataframe thead th {\n",
       "        text-align: right;\n",
       "    }\n",
       "</style>\n",
       "<table border=\"1\" class=\"dataframe\">\n",
       "  <thead>\n",
       "    <tr style=\"text-align: right;\">\n",
       "      <th></th>\n",
       "      <th>adminDB</th>\n",
       "      <th>title</th>\n",
       "      <th>extent</th>\n",
       "      <th>date_range</th>\n",
       "      <th>Month</th>\n",
       "      <th>yyyy</th>\n",
       "      <th>mm</th>\n",
       "      <th>old_directory_name</th>\n",
       "    </tr>\n",
       "  </thead>\n",
       "  <tbody>\n",
       "    <tr>\n",
       "      <th>0</th>\n",
       "      <td>0012_004267_000001</td>\n",
       "      <td>Tennessee farm and home science, progress report 1, January - March 1952</td>\n",
       "      <td>12 pages</td>\n",
       "      <td>January - March 1952</td>\n",
       "      <td>January</td>\n",
       "      <td>1952</td>\n",
       "      <td>01</td>\n",
       "      <td>0012_004267_000001</td>\n",
       "    </tr>\n",
       "    <tr>\n",
       "      <th>1</th>\n",
       "      <td>0012_004267_000002</td>\n",
       "      <td>Tennessee farm and home science, progress report 2, April - June 1952</td>\n",
       "      <td>12 pages</td>\n",
       "      <td>April - June 1952</td>\n",
       "      <td>April</td>\n",
       "      <td>1952</td>\n",
       "      <td>04</td>\n",
       "      <td>0012_004267_000002</td>\n",
       "    </tr>\n",
       "    <tr>\n",
       "      <th>2</th>\n",
       "      <td>0012_004267_000003</td>\n",
       "      <td>Tennessee farm and home science, progress report 3, July - September 1952</td>\n",
       "      <td>12 pages</td>\n",
       "      <td>July - September 1952</td>\n",
       "      <td>July</td>\n",
       "      <td>1952</td>\n",
       "      <td>07</td>\n",
       "      <td>0012_004267_000003</td>\n",
       "    </tr>\n",
       "    <tr>\n",
       "      <th>3</th>\n",
       "      <td>0012_004267_000004</td>\n",
       "      <td>Tennessee farm and home science, progress report 4, October - December 1952</td>\n",
       "      <td>12 pages</td>\n",
       "      <td>October - December 1952</td>\n",
       "      <td>October</td>\n",
       "      <td>1952</td>\n",
       "      <td>10</td>\n",
       "      <td>0012_004267_000004</td>\n",
       "    </tr>\n",
       "    <tr>\n",
       "      <th>4</th>\n",
       "      <td>0012_004267_000005</td>\n",
       "      <td>Tennessee farm and home science, progress report 5, January - March 1953</td>\n",
       "      <td>12 pages</td>\n",
       "      <td>January - March 1953</td>\n",
       "      <td>January</td>\n",
       "      <td>1953</td>\n",
       "      <td>01</td>\n",
       "      <td>0012_004267_000005</td>\n",
       "    </tr>\n",
       "  </tbody>\n",
       "</table>\n",
       "</div>"
      ],
      "text/plain": [
       "              adminDB  \\\n",
       "0  0012_004267_000001   \n",
       "1  0012_004267_000002   \n",
       "2  0012_004267_000003   \n",
       "3  0012_004267_000004   \n",
       "4  0012_004267_000005   \n",
       "\n",
       "                                                                         title  \\\n",
       "0  Tennessee farm and home science, progress report 1, January - March 1952      \n",
       "1  Tennessee farm and home science, progress report 2, April - June 1952         \n",
       "2  Tennessee farm and home science, progress report 3, July - September 1952     \n",
       "3  Tennessee farm and home science, progress report 4, October - December 1952   \n",
       "4  Tennessee farm and home science, progress report 5, January - March 1953      \n",
       "\n",
       "     extent                date_range    Month  yyyy  mm  old_directory_name  \n",
       "0  12 pages   January - March 1952     January  1952  01  0012_004267_000001  \n",
       "1  12 pages   April - June 1952        April    1952  04  0012_004267_000002  \n",
       "2  12 pages   July - September 1952    July     1952  07  0012_004267_000003  \n",
       "3  12 pages   October - December 1952  October  1952  10  0012_004267_000004  \n",
       "4  12 pages   January - March 1953     January  1953  01  0012_004267_000005  "
      ]
     },
     "execution_count": 11,
     "metadata": {},
     "output_type": "execute_result"
    }
   ],
   "source": [
    "# explicitly define adminDB as old_directory_name\n",
    "df_tn_farm_and_home_science['old_directory_name'] = df_tn_farm_and_home_science['adminDB']\n",
    "df_tn_farm_and_home_science.head(5)"
   ]
  },
  {
   "cell_type": "code",
   "execution_count": 12,
   "metadata": {
    "code_folding": [
     0
    ]
   },
   "outputs": [
    {
     "data": {
      "text/html": [
       "<div>\n",
       "<style scoped>\n",
       "    .dataframe tbody tr th:only-of-type {\n",
       "        vertical-align: middle;\n",
       "    }\n",
       "\n",
       "    .dataframe tbody tr th {\n",
       "        vertical-align: top;\n",
       "    }\n",
       "\n",
       "    .dataframe thead th {\n",
       "        text-align: right;\n",
       "    }\n",
       "</style>\n",
       "<table border=\"1\" class=\"dataframe\">\n",
       "  <thead>\n",
       "    <tr style=\"text-align: right;\">\n",
       "      <th></th>\n",
       "      <th>adminDB</th>\n",
       "      <th>title</th>\n",
       "      <th>extent</th>\n",
       "      <th>date_range</th>\n",
       "      <th>Month</th>\n",
       "      <th>yyyy</th>\n",
       "      <th>mm</th>\n",
       "      <th>old_directory_name</th>\n",
       "      <th>new_directory_name</th>\n",
       "    </tr>\n",
       "  </thead>\n",
       "  <tbody>\n",
       "    <tr>\n",
       "      <th>0</th>\n",
       "      <td>0012_004267_000001</td>\n",
       "      <td>Tennessee farm and home science, progress report 1, January - March 1952</td>\n",
       "      <td>12 pages</td>\n",
       "      <td>January - March 1952</td>\n",
       "      <td>January</td>\n",
       "      <td>1952</td>\n",
       "      <td>01</td>\n",
       "      <td>0012_004267_000001</td>\n",
       "      <td>1952_01</td>\n",
       "    </tr>\n",
       "    <tr>\n",
       "      <th>1</th>\n",
       "      <td>0012_004267_000002</td>\n",
       "      <td>Tennessee farm and home science, progress report 2, April - June 1952</td>\n",
       "      <td>12 pages</td>\n",
       "      <td>April - June 1952</td>\n",
       "      <td>April</td>\n",
       "      <td>1952</td>\n",
       "      <td>04</td>\n",
       "      <td>0012_004267_000002</td>\n",
       "      <td>1952_04</td>\n",
       "    </tr>\n",
       "    <tr>\n",
       "      <th>2</th>\n",
       "      <td>0012_004267_000003</td>\n",
       "      <td>Tennessee farm and home science, progress report 3, July - September 1952</td>\n",
       "      <td>12 pages</td>\n",
       "      <td>July - September 1952</td>\n",
       "      <td>July</td>\n",
       "      <td>1952</td>\n",
       "      <td>07</td>\n",
       "      <td>0012_004267_000003</td>\n",
       "      <td>1952_07</td>\n",
       "    </tr>\n",
       "    <tr>\n",
       "      <th>3</th>\n",
       "      <td>0012_004267_000004</td>\n",
       "      <td>Tennessee farm and home science, progress report 4, October - December 1952</td>\n",
       "      <td>12 pages</td>\n",
       "      <td>October - December 1952</td>\n",
       "      <td>October</td>\n",
       "      <td>1952</td>\n",
       "      <td>10</td>\n",
       "      <td>0012_004267_000004</td>\n",
       "      <td>1952_10</td>\n",
       "    </tr>\n",
       "    <tr>\n",
       "      <th>4</th>\n",
       "      <td>0012_004267_000005</td>\n",
       "      <td>Tennessee farm and home science, progress report 5, January - March 1953</td>\n",
       "      <td>12 pages</td>\n",
       "      <td>January - March 1953</td>\n",
       "      <td>January</td>\n",
       "      <td>1953</td>\n",
       "      <td>01</td>\n",
       "      <td>0012_004267_000005</td>\n",
       "      <td>1953_01</td>\n",
       "    </tr>\n",
       "  </tbody>\n",
       "</table>\n",
       "</div>"
      ],
      "text/plain": [
       "              adminDB  \\\n",
       "0  0012_004267_000001   \n",
       "1  0012_004267_000002   \n",
       "2  0012_004267_000003   \n",
       "3  0012_004267_000004   \n",
       "4  0012_004267_000005   \n",
       "\n",
       "                                                                         title  \\\n",
       "0  Tennessee farm and home science, progress report 1, January - March 1952      \n",
       "1  Tennessee farm and home science, progress report 2, April - June 1952         \n",
       "2  Tennessee farm and home science, progress report 3, July - September 1952     \n",
       "3  Tennessee farm and home science, progress report 4, October - December 1952   \n",
       "4  Tennessee farm and home science, progress report 5, January - March 1953      \n",
       "\n",
       "     extent                date_range    Month  yyyy  mm  old_directory_name  \\\n",
       "0  12 pages   January - March 1952     January  1952  01  0012_004267_000001   \n",
       "1  12 pages   April - June 1952        April    1952  04  0012_004267_000002   \n",
       "2  12 pages   July - September 1952    July     1952  07  0012_004267_000003   \n",
       "3  12 pages   October - December 1952  October  1952  10  0012_004267_000004   \n",
       "4  12 pages   January - March 1953     January  1953  01  0012_004267_000005   \n",
       "\n",
       "  new_directory_name  \n",
       "0  1952_01            \n",
       "1  1952_04            \n",
       "2  1952_07            \n",
       "3  1952_10            \n",
       "4  1953_01            "
      ]
     },
     "execution_count": 12,
     "metadata": {},
     "output_type": "execute_result"
    }
   ],
   "source": [
    "# add new_directory_name from yyyy and mm columns\n",
    "df_tn_farm_and_home_science['new_directory_name'] = df_tn_farm_and_home_science['yyyy'].map(str) + '_' + df_tn_farm_and_home_science['mm'].map(str)\n",
    "df_tn_farm_and_home_science.head(5)"
   ]
  },
  {
   "cell_type": "code",
   "execution_count": 13,
   "metadata": {
    "code_folding": [
     0
    ]
   },
   "outputs": [
    {
     "data": {
      "text/plain": [
       "adminDB               135\n",
       "title                 135\n",
       "extent                135\n",
       "date_range            135\n",
       "Month                 135\n",
       "yyyy                  135\n",
       "mm                    135\n",
       "old_directory_name    135\n",
       "new_directory_name    135\n",
       "dtype: int64"
      ]
     },
     "execution_count": 13,
     "metadata": {},
     "output_type": "execute_result"
    }
   ],
   "source": [
    "# verify that we have a matching number of old_ and new_directory_name(s)\n",
    "df_tn_farm_and_home_science.count()"
   ]
  },
  {
   "cell_type": "markdown",
   "metadata": {},
   "source": [
    "## Convert pages value to integer"
   ]
  },
  {
   "cell_type": "code",
   "execution_count": 14,
   "metadata": {
    "code_folding": [
     0
    ]
   },
   "outputs": [
    {
     "data": {
      "text/html": [
       "<div>\n",
       "<style scoped>\n",
       "    .dataframe tbody tr th:only-of-type {\n",
       "        vertical-align: middle;\n",
       "    }\n",
       "\n",
       "    .dataframe tbody tr th {\n",
       "        vertical-align: top;\n",
       "    }\n",
       "\n",
       "    .dataframe thead th {\n",
       "        text-align: right;\n",
       "    }\n",
       "</style>\n",
       "<table border=\"1\" class=\"dataframe\">\n",
       "  <thead>\n",
       "    <tr style=\"text-align: right;\">\n",
       "      <th></th>\n",
       "      <th>adminDB</th>\n",
       "      <th>title</th>\n",
       "      <th>extent</th>\n",
       "      <th>date_range</th>\n",
       "      <th>Month</th>\n",
       "      <th>yyyy</th>\n",
       "      <th>mm</th>\n",
       "      <th>old_directory_name</th>\n",
       "      <th>new_directory_name</th>\n",
       "      <th>pages</th>\n",
       "    </tr>\n",
       "  </thead>\n",
       "  <tbody>\n",
       "    <tr>\n",
       "      <th>0</th>\n",
       "      <td>0012_004267_000001</td>\n",
       "      <td>Tennessee farm and home science, progress report 1, January - March 1952</td>\n",
       "      <td>12 pages</td>\n",
       "      <td>January - March 1952</td>\n",
       "      <td>January</td>\n",
       "      <td>1952</td>\n",
       "      <td>01</td>\n",
       "      <td>0012_004267_000001</td>\n",
       "      <td>1952_01</td>\n",
       "      <td>12</td>\n",
       "    </tr>\n",
       "    <tr>\n",
       "      <th>1</th>\n",
       "      <td>0012_004267_000002</td>\n",
       "      <td>Tennessee farm and home science, progress report 2, April - June 1952</td>\n",
       "      <td>12 pages</td>\n",
       "      <td>April - June 1952</td>\n",
       "      <td>April</td>\n",
       "      <td>1952</td>\n",
       "      <td>04</td>\n",
       "      <td>0012_004267_000002</td>\n",
       "      <td>1952_04</td>\n",
       "      <td>12</td>\n",
       "    </tr>\n",
       "    <tr>\n",
       "      <th>2</th>\n",
       "      <td>0012_004267_000003</td>\n",
       "      <td>Tennessee farm and home science, progress report 3, July - September 1952</td>\n",
       "      <td>12 pages</td>\n",
       "      <td>July - September 1952</td>\n",
       "      <td>July</td>\n",
       "      <td>1952</td>\n",
       "      <td>07</td>\n",
       "      <td>0012_004267_000003</td>\n",
       "      <td>1952_07</td>\n",
       "      <td>12</td>\n",
       "    </tr>\n",
       "    <tr>\n",
       "      <th>3</th>\n",
       "      <td>0012_004267_000004</td>\n",
       "      <td>Tennessee farm and home science, progress report 4, October - December 1952</td>\n",
       "      <td>12 pages</td>\n",
       "      <td>October - December 1952</td>\n",
       "      <td>October</td>\n",
       "      <td>1952</td>\n",
       "      <td>10</td>\n",
       "      <td>0012_004267_000004</td>\n",
       "      <td>1952_10</td>\n",
       "      <td>12</td>\n",
       "    </tr>\n",
       "    <tr>\n",
       "      <th>4</th>\n",
       "      <td>0012_004267_000005</td>\n",
       "      <td>Tennessee farm and home science, progress report 5, January - March 1953</td>\n",
       "      <td>12 pages</td>\n",
       "      <td>January - March 1953</td>\n",
       "      <td>January</td>\n",
       "      <td>1953</td>\n",
       "      <td>01</td>\n",
       "      <td>0012_004267_000005</td>\n",
       "      <td>1953_01</td>\n",
       "      <td>12</td>\n",
       "    </tr>\n",
       "  </tbody>\n",
       "</table>\n",
       "</div>"
      ],
      "text/plain": [
       "              adminDB  \\\n",
       "0  0012_004267_000001   \n",
       "1  0012_004267_000002   \n",
       "2  0012_004267_000003   \n",
       "3  0012_004267_000004   \n",
       "4  0012_004267_000005   \n",
       "\n",
       "                                                                         title  \\\n",
       "0  Tennessee farm and home science, progress report 1, January - March 1952      \n",
       "1  Tennessee farm and home science, progress report 2, April - June 1952         \n",
       "2  Tennessee farm and home science, progress report 3, July - September 1952     \n",
       "3  Tennessee farm and home science, progress report 4, October - December 1952   \n",
       "4  Tennessee farm and home science, progress report 5, January - March 1953      \n",
       "\n",
       "     extent                date_range    Month  yyyy  mm  old_directory_name  \\\n",
       "0  12 pages   January - March 1952     January  1952  01  0012_004267_000001   \n",
       "1  12 pages   April - June 1952        April    1952  04  0012_004267_000002   \n",
       "2  12 pages   July - September 1952    July     1952  07  0012_004267_000003   \n",
       "3  12 pages   October - December 1952  October  1952  10  0012_004267_000004   \n",
       "4  12 pages   January - March 1953     January  1953  01  0012_004267_000005   \n",
       "\n",
       "  new_directory_name pages  \n",
       "0  1952_01            12    \n",
       "1  1952_04            12    \n",
       "2  1952_07            12    \n",
       "3  1952_10            12    \n",
       "4  1953_01            12    "
      ]
     },
     "execution_count": 14,
     "metadata": {},
     "output_type": "execute_result"
    }
   ],
   "source": [
    "# Add the number of pages, without \" pages\", from the extent field\n",
    "df_tn_farm_and_home_science['pages'] = df_tn_farm_and_home_science['extent'].str.split().str[0]\n",
    "df_tn_farm_and_home_science.head(5)"
   ]
  },
  {
   "cell_type": "code",
   "execution_count": 15,
   "metadata": {},
   "outputs": [
    {
     "data": {
      "text/plain": [
       "'1952_01'"
      ]
     },
     "execution_count": 15,
     "metadata": {},
     "output_type": "execute_result"
    }
   ],
   "source": [
    "df_tn_farm_and_home_science['new_directory_name'][0]"
   ]
  },
  {
   "cell_type": "markdown",
   "metadata": {},
   "source": [
    "## Batch process directories"
   ]
  },
  {
   "cell_type": "code",
   "execution_count": 16,
   "metadata": {
    "code_folding": [
     0
    ]
   },
   "outputs": [],
   "source": [
    "# create class for processing individual volumes\n",
    "class Agrtfn:\n",
    "    def __init__(self, directory_path):\n",
    "        self.directory_path = Path(directory_path)\n",
    "        self.number_of_pages = int(df_tn_farm_and_home_science[df_tn_farm_and_home_science[\"old_directory_name\"].str.contains(directory_path.name)]['pages'].to_string(index=False))\n",
    "        \n",
    "    def get_image_paths_list(self):\n",
    "        \n",
    "        image_paths_list = sorted(self.directory_path.glob('*.tif'))\n",
    "        \n",
    "        # delete all macOS index files that start with '.'\n",
    "        deleted_dot_files = False\n",
    "        for image_path in image_paths_list:\n",
    "            if image_path.name.startswith('.'):\n",
    "                image_path.unlink()  # delete\n",
    "                deleted_dot_files = True\n",
    "        if deleted_dot_files:  # re-create the list\n",
    "            image_paths_list = sorted(self.directory_path.glob('*.tif'))\n",
    "        \n",
    "        self.image_paths_list = image_paths_list\n",
    "        self.number_of_images = len(self.image_paths_list)\n",
    "        \n",
    "        if self.number_of_images != self.number_of_pages:\n",
    "            print(f'# of images != # of pages described in metadata')\n",
    "            print(f'images: {self.number_of_images}')\n",
    "            print(f'pages: {self.number_of_pages}')\n",
    "            return None\n",
    "        \n",
    "        return self.image_paths_list\n",
    "    \n",
    "    def process(self):\n",
    "        \n",
    "        # progress bar\n",
    "        progress_label = Label('Images being processed')\n",
    "        progress_bar = IntProgress(min=0, max=self.number_of_images)\n",
    "        progress_widget = VBox([progress_label, progress_bar])\n",
    "        display(progress_widget)\n",
    "        \n",
    "        # get output directory name\n",
    "        output_directory_name = df_tn_farm_and_home_science[df_tn_farm_and_home_science[\"old_directory_name\"].str.contains(directory_path.name)]['new_directory_name'].to_string(index=False)\n",
    "        # strip spaces from output_directory_name\n",
    "        self.output_directory_name = output_directory_name.strip()\n",
    "        # set output directory path and make directory\n",
    "        self.output_directory_path = batch_output_directory_path.joinpath(self.output_directory_name)\n",
    "        self.output_directory_path.mkdir()\n",
    "        \n",
    "        # for each *.tif in self.directory_path\n",
    "        for index, image_path in enumerate(self.image_paths_list, start=1):\n",
    "            \n",
    "            # update progress bar label\n",
    "            progress_label.value = f'Processing image: {image_path.name} . . . {index}/{self.number_of_images}'\n",
    "            \n",
    "            # NO extension at the end for Tesseract processing\n",
    "            pdf_output_path = self.output_directory_path.joinpath(f'{str(index).zfill(3)}')\n",
    "            \n",
    "            # OCR with Tesseract\n",
    "            !tesseract {str(image_path)} {str(pdf_output_path)} pdf 2>/dev/null\n",
    "            \n",
    "            # set output path with extension at end\n",
    "            pdf_output_path = self.output_directory_path.joinpath(f'{str(index).zfill(3)}.pdf')\n",
    "            \n",
    "            # update progress bar value\n",
    "            progress_bar.value = index\n",
    "            \n",
    "        self.pdf_paths_list = list(self.output_directory_path.glob('*.pdf'))\n",
    "        self.number_of_pdfs = len(self.pdf_paths_list)\n",
    "        \n",
    "        if self.number_of_pdfs != self.number_of_pdfs:\n",
    "            print(f'# of PDFs != # of images to OCR')\n",
    "            print(f'PDFs: {self.number_of_pdfs}')\n",
    "            print(f'images: {self.number_of_images}')\n",
    "            return None\n",
    "        else:\n",
    "            return self.pdf_paths_list"
   ]
  },
  {
   "cell_type": "code",
   "execution_count": 17,
   "metadata": {
    "code_folding": [
     0
    ],
    "run_control": {
     "marked": false
    }
   },
   "outputs": [
    {
     "name": "stdout",
     "output_type": "stream",
     "text": [
      "batch_input directory: /Volumes/fluffy/ProjectCeres/00_for_CRL/agrtfhs\n",
      "\t135 directories to batch process\n",
      "\n",
      "batch_output directory: /Volumes/fluffy/ProjectCeres/00_for_CRL/agrtfhs_batch_output\n"
     ]
    }
   ],
   "source": [
    "# Set batch_input and batch_output directories\n",
    "\n",
    "# set project identifier and root directory path\n",
    "project_identifier = 'agrtfhs'\n",
    "root_directory_path = Path('/Volumes/fluffy/ProjectCeres/00_for_CRL/')\n",
    "\n",
    "# set batch_input and batch_output directory paths from root and project identifier\n",
    "batch_input_directory_path = root_directory_path.joinpath(project_identifier)\n",
    "batch_output_directory_path = root_directory_path.joinpath(f'{project_identifier}_batch_output')\n",
    "batch_output_directory_path.mkdir()\n",
    "\n",
    "# create batch_input directory paths list\n",
    "batch_input_directory_paths_list = [x for x in batch_input_directory_path.iterdir() if x.is_dir()]\n",
    "number_of_input_dirs = len(batch_input_directory_paths_list)\n",
    "\n",
    "print(f'batch_input directory: {batch_input_directory_path}')\n",
    "print(f'\\t{number_of_input_dirs} directories to batch process\\n')\n",
    "print(f'batch_output directory: {batch_output_directory_path}')"
   ]
  },
  {
   "cell_type": "code",
   "execution_count": null,
   "metadata": {
    "code_folding": [
     0
    ],
    "scrolled": false
   },
   "outputs": [
    {
     "data": {
      "application/vnd.jupyter.widget-view+json": {
       "model_id": "2489fa06204849e1aca7a07c8cd646bb",
       "version_major": 2,
       "version_minor": 0
      },
      "text/plain": [
       "VBox(children=(Label(value='Directories being processed'), IntProgress(value=0, max=135)))"
      ]
     },
     "metadata": {},
     "output_type": "display_data"
    },
    {
     "data": {
      "application/vnd.jupyter.widget-view+json": {
       "model_id": "f4b6b483254f4c06a0e487bf38943da0",
       "version_major": 2,
       "version_minor": 0
      },
      "text/plain": [
       "VBox(children=(Label(value='Images being processed'), IntProgress(value=0, max=12)))"
      ]
     },
     "metadata": {},
     "output_type": "display_data"
    },
    {
     "data": {
      "application/vnd.jupyter.widget-view+json": {
       "model_id": "68d08119f4de4e27bad7607b103da649",
       "version_major": 2,
       "version_minor": 0
      },
      "text/plain": [
       "VBox(children=(Label(value='Images being processed'), IntProgress(value=0, max=12)))"
      ]
     },
     "metadata": {},
     "output_type": "display_data"
    },
    {
     "data": {
      "application/vnd.jupyter.widget-view+json": {
       "model_id": "2d30b564df264de78afd2b6c36bb0937",
       "version_major": 2,
       "version_minor": 0
      },
      "text/plain": [
       "VBox(children=(Label(value='Images being processed'), IntProgress(value=0, max=12)))"
      ]
     },
     "metadata": {},
     "output_type": "display_data"
    },
    {
     "data": {
      "application/vnd.jupyter.widget-view+json": {
       "model_id": "ac1c500b29e245f29752a268153929cf",
       "version_major": 2,
       "version_minor": 0
      },
      "text/plain": [
       "VBox(children=(Label(value='Images being processed'), IntProgress(value=0, max=12)))"
      ]
     },
     "metadata": {},
     "output_type": "display_data"
    },
    {
     "data": {
      "application/vnd.jupyter.widget-view+json": {
       "model_id": "ed87e0bc412f4478b0b54a828b61c152",
       "version_major": 2,
       "version_minor": 0
      },
      "text/plain": [
       "VBox(children=(Label(value='Images being processed'), IntProgress(value=0, max=12)))"
      ]
     },
     "metadata": {},
     "output_type": "display_data"
    },
    {
     "data": {
      "application/vnd.jupyter.widget-view+json": {
       "model_id": "c514603481f34f0eb00cd5635f2acd9c",
       "version_major": 2,
       "version_minor": 0
      },
      "text/plain": [
       "VBox(children=(Label(value='Images being processed'), IntProgress(value=0, max=12)))"
      ]
     },
     "metadata": {},
     "output_type": "display_data"
    },
    {
     "data": {
      "application/vnd.jupyter.widget-view+json": {
       "model_id": "71f10db80b9c42559e9f9ee632082599",
       "version_major": 2,
       "version_minor": 0
      },
      "text/plain": [
       "VBox(children=(Label(value='Images being processed'), IntProgress(value=0, max=12)))"
      ]
     },
     "metadata": {},
     "output_type": "display_data"
    },
    {
     "data": {
      "application/vnd.jupyter.widget-view+json": {
       "model_id": "90b4d8459e264751880219829fad3f11",
       "version_major": 2,
       "version_minor": 0
      },
      "text/plain": [
       "VBox(children=(Label(value='Images being processed'), IntProgress(value=0, max=12)))"
      ]
     },
     "metadata": {},
     "output_type": "display_data"
    },
    {
     "data": {
      "application/vnd.jupyter.widget-view+json": {
       "model_id": "07220f0e12c544fd879bba051a8624e4",
       "version_major": 2,
       "version_minor": 0
      },
      "text/plain": [
       "VBox(children=(Label(value='Images being processed'), IntProgress(value=0, max=12)))"
      ]
     },
     "metadata": {},
     "output_type": "display_data"
    },
    {
     "data": {
      "application/vnd.jupyter.widget-view+json": {
       "model_id": "03b6bf85ec0749b2b69b50515858f5e7",
       "version_major": 2,
       "version_minor": 0
      },
      "text/plain": [
       "VBox(children=(Label(value='Images being processed'), IntProgress(value=0, max=12)))"
      ]
     },
     "metadata": {},
     "output_type": "display_data"
    },
    {
     "data": {
      "application/vnd.jupyter.widget-view+json": {
       "model_id": "ec63c13696af427babfad7eeb1f850ae",
       "version_major": 2,
       "version_minor": 0
      },
      "text/plain": [
       "VBox(children=(Label(value='Images being processed'), IntProgress(value=0, max=12)))"
      ]
     },
     "metadata": {},
     "output_type": "display_data"
    },
    {
     "data": {
      "application/vnd.jupyter.widget-view+json": {
       "model_id": "b98d24fe85e8492597e17c541eb5ea1f",
       "version_major": 2,
       "version_minor": 0
      },
      "text/plain": [
       "VBox(children=(Label(value='Images being processed'), IntProgress(value=0, max=12)))"
      ]
     },
     "metadata": {},
     "output_type": "display_data"
    },
    {
     "data": {
      "application/vnd.jupyter.widget-view+json": {
       "model_id": "d1f208d286de47ca8738dae26a15e364",
       "version_major": 2,
       "version_minor": 0
      },
      "text/plain": [
       "VBox(children=(Label(value='Images being processed'), IntProgress(value=0, max=12)))"
      ]
     },
     "metadata": {},
     "output_type": "display_data"
    },
    {
     "data": {
      "application/vnd.jupyter.widget-view+json": {
       "model_id": "3ec8b4ea33ee4760b2b7419ef8efcb62",
       "version_major": 2,
       "version_minor": 0
      },
      "text/plain": [
       "VBox(children=(Label(value='Images being processed'), IntProgress(value=0, max=12)))"
      ]
     },
     "metadata": {},
     "output_type": "display_data"
    },
    {
     "data": {
      "application/vnd.jupyter.widget-view+json": {
       "model_id": "273ed5252a41415e931be591274b4bf1",
       "version_major": 2,
       "version_minor": 0
      },
      "text/plain": [
       "VBox(children=(Label(value='Images being processed'), IntProgress(value=0, max=12)))"
      ]
     },
     "metadata": {},
     "output_type": "display_data"
    },
    {
     "data": {
      "application/vnd.jupyter.widget-view+json": {
       "model_id": "335c3e9c492a410e8da5ac07f18b8e7e",
       "version_major": 2,
       "version_minor": 0
      },
      "text/plain": [
       "VBox(children=(Label(value='Images being processed'), IntProgress(value=0, max=12)))"
      ]
     },
     "metadata": {},
     "output_type": "display_data"
    },
    {
     "data": {
      "application/vnd.jupyter.widget-view+json": {
       "model_id": "7781880668804fd1a4821f11fe53b899",
       "version_major": 2,
       "version_minor": 0
      },
      "text/plain": [
       "VBox(children=(Label(value='Images being processed'), IntProgress(value=0, max=12)))"
      ]
     },
     "metadata": {},
     "output_type": "display_data"
    },
    {
     "data": {
      "application/vnd.jupyter.widget-view+json": {
       "model_id": "8137aaa8ed624279ba8ed01dd4c3b237",
       "version_major": 2,
       "version_minor": 0
      },
      "text/plain": [
       "VBox(children=(Label(value='Images being processed'), IntProgress(value=0, max=12)))"
      ]
     },
     "metadata": {},
     "output_type": "display_data"
    },
    {
     "data": {
      "application/vnd.jupyter.widget-view+json": {
       "model_id": "d0b14cf1b5f94ad199a6172044c47bd7",
       "version_major": 2,
       "version_minor": 0
      },
      "text/plain": [
       "VBox(children=(Label(value='Images being processed'), IntProgress(value=0, max=12)))"
      ]
     },
     "metadata": {},
     "output_type": "display_data"
    },
    {
     "data": {
      "application/vnd.jupyter.widget-view+json": {
       "model_id": "0303b1c8ecb045fe9b04fbd733bc6c2c",
       "version_major": 2,
       "version_minor": 0
      },
      "text/plain": [
       "VBox(children=(Label(value='Images being processed'), IntProgress(value=0, max=12)))"
      ]
     },
     "metadata": {},
     "output_type": "display_data"
    },
    {
     "data": {
      "application/vnd.jupyter.widget-view+json": {
       "model_id": "d027f6ebc71a4d578a198192a91725c1",
       "version_major": 2,
       "version_minor": 0
      },
      "text/plain": [
       "VBox(children=(Label(value='Images being processed'), IntProgress(value=0, max=12)))"
      ]
     },
     "metadata": {},
     "output_type": "display_data"
    },
    {
     "data": {
      "application/vnd.jupyter.widget-view+json": {
       "model_id": "b2a6ba8e16d943cd9ae972eb95462352",
       "version_major": 2,
       "version_minor": 0
      },
      "text/plain": [
       "VBox(children=(Label(value='Images being processed'), IntProgress(value=0, max=12)))"
      ]
     },
     "metadata": {},
     "output_type": "display_data"
    },
    {
     "data": {
      "application/vnd.jupyter.widget-view+json": {
       "model_id": "1938d8d99e8c4bde9726d83cf5ed79a1",
       "version_major": 2,
       "version_minor": 0
      },
      "text/plain": [
       "VBox(children=(Label(value='Images being processed'), IntProgress(value=0, max=12)))"
      ]
     },
     "metadata": {},
     "output_type": "display_data"
    },
    {
     "data": {
      "application/vnd.jupyter.widget-view+json": {
       "model_id": "f61b21867ac1498e994c5c56a0b5a5fb",
       "version_major": 2,
       "version_minor": 0
      },
      "text/plain": [
       "VBox(children=(Label(value='Images being processed'), IntProgress(value=0, max=12)))"
      ]
     },
     "metadata": {},
     "output_type": "display_data"
    },
    {
     "data": {
      "application/vnd.jupyter.widget-view+json": {
       "model_id": "dcd497704e584cfeb3e7da2ec29b3e81",
       "version_major": 2,
       "version_minor": 0
      },
      "text/plain": [
       "VBox(children=(Label(value='Images being processed'), IntProgress(value=0, max=16)))"
      ]
     },
     "metadata": {},
     "output_type": "display_data"
    },
    {
     "data": {
      "application/vnd.jupyter.widget-view+json": {
       "model_id": "9ef6d585f6064353a28036821078ac13",
       "version_major": 2,
       "version_minor": 0
      },
      "text/plain": [
       "VBox(children=(Label(value='Images being processed'), IntProgress(value=0, max=12)))"
      ]
     },
     "metadata": {},
     "output_type": "display_data"
    },
    {
     "data": {
      "application/vnd.jupyter.widget-view+json": {
       "model_id": "8afd1fd4fbb448f8841c2112f5fed901",
       "version_major": 2,
       "version_minor": 0
      },
      "text/plain": [
       "VBox(children=(Label(value='Images being processed'), IntProgress(value=0, max=12)))"
      ]
     },
     "metadata": {},
     "output_type": "display_data"
    },
    {
     "data": {
      "application/vnd.jupyter.widget-view+json": {
       "model_id": "a72e7621ca594de4b90f5d07c639997e",
       "version_major": 2,
       "version_minor": 0
      },
      "text/plain": [
       "VBox(children=(Label(value='Images being processed'), IntProgress(value=0, max=12)))"
      ]
     },
     "metadata": {},
     "output_type": "display_data"
    },
    {
     "data": {
      "application/vnd.jupyter.widget-view+json": {
       "model_id": "036dac71217d491cb12021b1c6e500b3",
       "version_major": 2,
       "version_minor": 0
      },
      "text/plain": [
       "VBox(children=(Label(value='Images being processed'), IntProgress(value=0, max=12)))"
      ]
     },
     "metadata": {},
     "output_type": "display_data"
    },
    {
     "data": {
      "application/vnd.jupyter.widget-view+json": {
       "model_id": "372586f5f6f24f7b8a3ac14a99741b0a",
       "version_major": 2,
       "version_minor": 0
      },
      "text/plain": [
       "VBox(children=(Label(value='Images being processed'), IntProgress(value=0, max=12)))"
      ]
     },
     "metadata": {},
     "output_type": "display_data"
    },
    {
     "data": {
      "application/vnd.jupyter.widget-view+json": {
       "model_id": "03a0a1d6ade348f78285590e6240af8e",
       "version_major": 2,
       "version_minor": 0
      },
      "text/plain": [
       "VBox(children=(Label(value='Images being processed'), IntProgress(value=0, max=12)))"
      ]
     },
     "metadata": {},
     "output_type": "display_data"
    },
    {
     "data": {
      "application/vnd.jupyter.widget-view+json": {
       "model_id": "9025daf15e0b4c1ba0cc41cdecf89173",
       "version_major": 2,
       "version_minor": 0
      },
      "text/plain": [
       "VBox(children=(Label(value='Images being processed'), IntProgress(value=0, max=12)))"
      ]
     },
     "metadata": {},
     "output_type": "display_data"
    },
    {
     "data": {
      "application/vnd.jupyter.widget-view+json": {
       "model_id": "13371d051a1f4348b11517c965264acb",
       "version_major": 2,
       "version_minor": 0
      },
      "text/plain": [
       "VBox(children=(Label(value='Images being processed'), IntProgress(value=0, max=16)))"
      ]
     },
     "metadata": {},
     "output_type": "display_data"
    },
    {
     "data": {
      "application/vnd.jupyter.widget-view+json": {
       "model_id": "7bfad578eaeb49619fca4e51d49cf2a7",
       "version_major": 2,
       "version_minor": 0
      },
      "text/plain": [
       "VBox(children=(Label(value='Images being processed'), IntProgress(value=0, max=12)))"
      ]
     },
     "metadata": {},
     "output_type": "display_data"
    },
    {
     "data": {
      "application/vnd.jupyter.widget-view+json": {
       "model_id": "2e5c36dd7f12471cbae1ca1a509fdfd7",
       "version_major": 2,
       "version_minor": 0
      },
      "text/plain": [
       "VBox(children=(Label(value='Images being processed'), IntProgress(value=0, max=12)))"
      ]
     },
     "metadata": {},
     "output_type": "display_data"
    },
    {
     "data": {
      "application/vnd.jupyter.widget-view+json": {
       "model_id": "13b765a5e8dc4cf0a16b499bd593041d",
       "version_major": 2,
       "version_minor": 0
      },
      "text/plain": [
       "VBox(children=(Label(value='Images being processed'), IntProgress(value=0, max=12)))"
      ]
     },
     "metadata": {},
     "output_type": "display_data"
    },
    {
     "data": {
      "application/vnd.jupyter.widget-view+json": {
       "model_id": "2f81fbb707e94d24bfb6e557cf8c1777",
       "version_major": 2,
       "version_minor": 0
      },
      "text/plain": [
       "VBox(children=(Label(value='Images being processed'), IntProgress(value=0, max=12)))"
      ]
     },
     "metadata": {},
     "output_type": "display_data"
    },
    {
     "data": {
      "application/vnd.jupyter.widget-view+json": {
       "model_id": "170187bff7f845bab909ceef2a56fbf4",
       "version_major": 2,
       "version_minor": 0
      },
      "text/plain": [
       "VBox(children=(Label(value='Images being processed'), IntProgress(value=0, max=16)))"
      ]
     },
     "metadata": {},
     "output_type": "display_data"
    },
    {
     "data": {
      "application/vnd.jupyter.widget-view+json": {
       "model_id": "fa598fbc073c44b5895d650f5866b1ca",
       "version_major": 2,
       "version_minor": 0
      },
      "text/plain": [
       "VBox(children=(Label(value='Images being processed'), IntProgress(value=0, max=16)))"
      ]
     },
     "metadata": {},
     "output_type": "display_data"
    },
    {
     "data": {
      "application/vnd.jupyter.widget-view+json": {
       "model_id": "b67cf6a2e9af44f9a0722bdc1c1c615c",
       "version_major": 2,
       "version_minor": 0
      },
      "text/plain": [
       "VBox(children=(Label(value='Images being processed'), IntProgress(value=0, max=16)))"
      ]
     },
     "metadata": {},
     "output_type": "display_data"
    },
    {
     "data": {
      "application/vnd.jupyter.widget-view+json": {
       "model_id": "510f6e7a9986446789544b37e2fb260a",
       "version_major": 2,
       "version_minor": 0
      },
      "text/plain": [
       "VBox(children=(Label(value='Images being processed'), IntProgress(value=0, max=20)))"
      ]
     },
     "metadata": {},
     "output_type": "display_data"
    },
    {
     "data": {
      "application/vnd.jupyter.widget-view+json": {
       "model_id": "6f4d707574a84d96be869c81ae2608fd",
       "version_major": 2,
       "version_minor": 0
      },
      "text/plain": [
       "VBox(children=(Label(value='Images being processed'), IntProgress(value=0, max=16)))"
      ]
     },
     "metadata": {},
     "output_type": "display_data"
    },
    {
     "data": {
      "application/vnd.jupyter.widget-view+json": {
       "model_id": "7c6a3997e21448a786e28167569ad242",
       "version_major": 2,
       "version_minor": 0
      },
      "text/plain": [
       "VBox(children=(Label(value='Images being processed'), IntProgress(value=0, max=16)))"
      ]
     },
     "metadata": {},
     "output_type": "display_data"
    },
    {
     "data": {
      "application/vnd.jupyter.widget-view+json": {
       "model_id": "f6fcd2a05e1948e7923efb67bcd83013",
       "version_major": 2,
       "version_minor": 0
      },
      "text/plain": [
       "VBox(children=(Label(value='Images being processed'), IntProgress(value=0, max=24)))"
      ]
     },
     "metadata": {},
     "output_type": "display_data"
    },
    {
     "data": {
      "application/vnd.jupyter.widget-view+json": {
       "model_id": "32bb094a794c41cda6b0fc39e4927b36",
       "version_major": 2,
       "version_minor": 0
      },
      "text/plain": [
       "VBox(children=(Label(value='Images being processed'), IntProgress(value=0, max=20)))"
      ]
     },
     "metadata": {},
     "output_type": "display_data"
    },
    {
     "data": {
      "application/vnd.jupyter.widget-view+json": {
       "model_id": "0b0760b552a245b0b743a4f79ea54dff",
       "version_major": 2,
       "version_minor": 0
      },
      "text/plain": [
       "VBox(children=(Label(value='Images being processed'), IntProgress(value=0, max=16)))"
      ]
     },
     "metadata": {},
     "output_type": "display_data"
    },
    {
     "data": {
      "application/vnd.jupyter.widget-view+json": {
       "model_id": "5a024d6104d048ed91338fd66d26116f",
       "version_major": 2,
       "version_minor": 0
      },
      "text/plain": [
       "VBox(children=(Label(value='Images being processed'), IntProgress(value=0, max=12)))"
      ]
     },
     "metadata": {},
     "output_type": "display_data"
    },
    {
     "data": {
      "application/vnd.jupyter.widget-view+json": {
       "model_id": "c00496e901ac4a03a077289386375389",
       "version_major": 2,
       "version_minor": 0
      },
      "text/plain": [
       "VBox(children=(Label(value='Images being processed'), IntProgress(value=0, max=16)))"
      ]
     },
     "metadata": {},
     "output_type": "display_data"
    },
    {
     "data": {
      "application/vnd.jupyter.widget-view+json": {
       "model_id": "53841343bf7f46ba8c970efabd7fcecf",
       "version_major": 2,
       "version_minor": 0
      },
      "text/plain": [
       "VBox(children=(Label(value='Images being processed'), IntProgress(value=0, max=20)))"
      ]
     },
     "metadata": {},
     "output_type": "display_data"
    },
    {
     "data": {
      "application/vnd.jupyter.widget-view+json": {
       "model_id": "0680951b9da34665944474bf0116d14b",
       "version_major": 2,
       "version_minor": 0
      },
      "text/plain": [
       "VBox(children=(Label(value='Images being processed'), IntProgress(value=0, max=24)))"
      ]
     },
     "metadata": {},
     "output_type": "display_data"
    },
    {
     "data": {
      "application/vnd.jupyter.widget-view+json": {
       "model_id": "6256591e7cbb4227b1130f506c2fbdcd",
       "version_major": 2,
       "version_minor": 0
      },
      "text/plain": [
       "VBox(children=(Label(value='Images being processed'), IntProgress(value=0, max=16)))"
      ]
     },
     "metadata": {},
     "output_type": "display_data"
    },
    {
     "data": {
      "application/vnd.jupyter.widget-view+json": {
       "model_id": "a4e6abcf168a4cfcaaa23cf94be57f24",
       "version_major": 2,
       "version_minor": 0
      },
      "text/plain": [
       "VBox(children=(Label(value='Images being processed'), IntProgress(value=0, max=16)))"
      ]
     },
     "metadata": {},
     "output_type": "display_data"
    },
    {
     "data": {
      "application/vnd.jupyter.widget-view+json": {
       "model_id": "898bb879f70f4e3dbd0635939de0cc77",
       "version_major": 2,
       "version_minor": 0
      },
      "text/plain": [
       "VBox(children=(Label(value='Images being processed'), IntProgress(value=0, max=24)))"
      ]
     },
     "metadata": {},
     "output_type": "display_data"
    },
    {
     "data": {
      "application/vnd.jupyter.widget-view+json": {
       "model_id": "b00a3f9d64c34e2c8e4b35dffd55ddab",
       "version_major": 2,
       "version_minor": 0
      },
      "text/plain": [
       "VBox(children=(Label(value='Images being processed'), IntProgress(value=0, max=20)))"
      ]
     },
     "metadata": {},
     "output_type": "display_data"
    },
    {
     "data": {
      "application/vnd.jupyter.widget-view+json": {
       "model_id": "7b6f9e42db374fa7829f8b8ef723e7ff",
       "version_major": 2,
       "version_minor": 0
      },
      "text/plain": [
       "VBox(children=(Label(value='Images being processed'), IntProgress(value=0, max=20)))"
      ]
     },
     "metadata": {},
     "output_type": "display_data"
    },
    {
     "data": {
      "application/vnd.jupyter.widget-view+json": {
       "model_id": "432617d0be2c4a68b951ea78b3e9df4c",
       "version_major": 2,
       "version_minor": 0
      },
      "text/plain": [
       "VBox(children=(Label(value='Images being processed'), IntProgress(value=0, max=24)))"
      ]
     },
     "metadata": {},
     "output_type": "display_data"
    },
    {
     "data": {
      "application/vnd.jupyter.widget-view+json": {
       "model_id": "2b0d8c2b14604b788b7f344571f640b9",
       "version_major": 2,
       "version_minor": 0
      },
      "text/plain": [
       "VBox(children=(Label(value='Images being processed'), IntProgress(value=0, max=32)))"
      ]
     },
     "metadata": {},
     "output_type": "display_data"
    },
    {
     "data": {
      "application/vnd.jupyter.widget-view+json": {
       "model_id": "274cdb1cc78e4e2b86b6ba0b9899fc06",
       "version_major": 2,
       "version_minor": 0
      },
      "text/plain": [
       "VBox(children=(Label(value='Images being processed'), IntProgress(value=0, max=20)))"
      ]
     },
     "metadata": {},
     "output_type": "display_data"
    },
    {
     "data": {
      "application/vnd.jupyter.widget-view+json": {
       "model_id": "bd9dd659307e4afa95b29f5f0447984f",
       "version_major": 2,
       "version_minor": 0
      },
      "text/plain": [
       "VBox(children=(Label(value='Images being processed'), IntProgress(value=0, max=20)))"
      ]
     },
     "metadata": {},
     "output_type": "display_data"
    },
    {
     "data": {
      "application/vnd.jupyter.widget-view+json": {
       "model_id": "ebdaa7b4c9ae4f068387df59dff7a54c",
       "version_major": 2,
       "version_minor": 0
      },
      "text/plain": [
       "VBox(children=(Label(value='Images being processed'), IntProgress(value=0, max=24)))"
      ]
     },
     "metadata": {},
     "output_type": "display_data"
    },
    {
     "data": {
      "application/vnd.jupyter.widget-view+json": {
       "model_id": "05e5c32982b04ed4b10dcd334ef81a58",
       "version_major": 2,
       "version_minor": 0
      },
      "text/plain": [
       "VBox(children=(Label(value='Images being processed'), IntProgress(value=0, max=36)))"
      ]
     },
     "metadata": {},
     "output_type": "display_data"
    },
    {
     "data": {
      "application/vnd.jupyter.widget-view+json": {
       "model_id": "83adb748fba14fc0b978d8cf45a473a6",
       "version_major": 2,
       "version_minor": 0
      },
      "text/plain": [
       "VBox(children=(Label(value='Images being processed'), IntProgress(value=0, max=32)))"
      ]
     },
     "metadata": {},
     "output_type": "display_data"
    },
    {
     "data": {
      "application/vnd.jupyter.widget-view+json": {
       "model_id": "338d135309384c2db71cb7ce79d43676",
       "version_major": 2,
       "version_minor": 0
      },
      "text/plain": [
       "VBox(children=(Label(value='Images being processed'), IntProgress(value=0, max=36)))"
      ]
     },
     "metadata": {},
     "output_type": "display_data"
    },
    {
     "data": {
      "application/vnd.jupyter.widget-view+json": {
       "model_id": "ea02337cb7394b2bacc9eb46273e9ce4",
       "version_major": 2,
       "version_minor": 0
      },
      "text/plain": [
       "VBox(children=(Label(value='Images being processed'), IntProgress(value=0, max=28)))"
      ]
     },
     "metadata": {},
     "output_type": "display_data"
    }
   ],
   "source": [
    "# start batch process\n",
    "\n",
    "# progress bar\n",
    "progress_label = Label('Directories being processed')\n",
    "progress_bar = IntProgress(min=0, max=number_of_input_dirs)\n",
    "progress_widget = VBox([progress_label, progress_bar])\n",
    "display(progress_widget)\n",
    "\n",
    "for index, directory_path in enumerate(batch_input_directory_paths_list, start=1):\n",
    "    \n",
    "    # update progress bar label\n",
    "    progress_label.value = f'Processing directory: {directory_path.name} . . . {index}/{number_of_input_dirs}'\n",
    "    \n",
    "    # load directory path as class & process\n",
    "    issue = Agrtfn(directory_path)\n",
    "    issue.get_image_paths_list()\n",
    "    issue.process()\n",
    "    \n",
    "    #update progress bar value\n",
    "    progress_bar.value = index\n",
    "\n",
    "print(f'Processed {index} directories')"
   ]
  },
  {
   "cell_type": "code",
   "execution_count": null,
   "metadata": {},
   "outputs": [],
   "source": []
  }
 ],
 "metadata": {
  "kernelspec": {
   "display_name": "Python 3",
   "language": "python",
   "name": "python3"
  },
  "language_info": {
   "codemirror_mode": {
    "name": "ipython",
    "version": 3
   },
   "file_extension": ".py",
   "mimetype": "text/x-python",
   "name": "python",
   "nbconvert_exporter": "python",
   "pygments_lexer": "ipython3",
   "version": "3.7.3"
  },
  "toc": {
   "base_numbering": 1,
   "nav_menu": {},
   "number_sections": true,
   "sideBar": true,
   "skip_h1_title": false,
   "title_cell": "Table of Contents",
   "title_sidebar": "Contents",
   "toc_cell": false,
   "toc_position": {},
   "toc_section_display": true,
   "toc_window_display": false
  }
 },
 "nbformat": 4,
 "nbformat_minor": 2
}
