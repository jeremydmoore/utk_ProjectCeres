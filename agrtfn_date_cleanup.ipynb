{
 "cells": [
  {
   "cell_type": "code",
   "execution_count": 1,
   "metadata": {
    "code_folding": [
     0
    ],
    "hide_input": false
   },
   "outputs": [
    {
     "data": {
      "text/html": [
       "<style>.container {width:85% !important;}</style>"
      ],
      "text/plain": [
       "<IPython.core.display.HTML object>"
      ]
     },
     "metadata": {},
     "output_type": "display_data"
    }
   ],
   "source": [
    "# import and display options\n",
    "%matplotlib notebook\n",
    "from pathlib import Path\n",
    "\n",
    "import cv2\n",
    "import ipywidgets as widgets\n",
    "import numpy as np\n",
    "import pandas as pd\n",
    "from IPython.display import display, HTML\n",
    "from ipywidgets import interact, IntProgress, Label, VBox, HBox\n",
    "from matplotlib import pyplot as plt\n",
    "\n",
    "display(HTML(\"<style>.container {width:85% !important;}</style>\"))"
   ]
  },
  {
   "cell_type": "code",
   "execution_count": 2,
   "metadata": {
    "code_folding": [
     0
    ],
    "hide_input": false
   },
   "outputs": [],
   "source": [
    "# hardcoded data directory and options for both serial titles and metadata fields\n",
    "data_directory_path = Path('data/')\n",
    "serial_titles_dict = {'Select a title': 'Select a title',\n",
    "                      'Tennessee farm news': 'agrtfn',\n",
    "                      'Tennessee farm and home science': 'agrtfhs',\n",
    "                      'UT Special extension circulars': 'agrutesc'\n",
    "                     }\n",
    "metadata_fields_list = ['Select a metadata field', 'date', 'title']"
   ]
  },
  {
   "cell_type": "code",
   "execution_count": 12,
   "metadata": {
    "code_folding": [
     41
    ]
   },
   "outputs": [],
   "source": [
    "# create interactive csv_path widget\n",
    "identifier_widget = widgets.RadioButtons(layout={'width': 'initial'},\n",
    "                                         style={\n",
    "                                             'description_width': 'initial'},\n",
    "                                         options=serial_titles_dict,\n",
    "                                         description='Serial Title:',\n",
    "                                         disabled=False\n",
    "                                        )\n",
    "metadata_field_widget = widgets.RadioButtons(layout={'width': 'initial'},\n",
    "                                            style={\n",
    "                                                'description_width': 'initial'},\n",
    "                                            options=metadata_fields_list,\n",
    "                                            description='Metadata field:',\n",
    "                                            disabled=False,\n",
    "                                           )\n",
    "\n",
    "csv_path_display_widget = widgets.Text(layout={'width': 'initial'},\n",
    "                                       description='CSV Path:')\n",
    "\n",
    "csv_path_exists_validity_widget = widgets.Valid(description='Does CSV exist?',\n",
    "                                               style={\n",
    "                                                'description_width': 'initial'})\n",
    "load_csv_button_widget = widgets.Button(description='Load CSV',\n",
    "                                        style={'description_width': 'initial'},\n",
    "                                       )\n",
    "\n",
    "load_csv_button_output_widget = widgets.Text(layout={'width': 'initial'})\n",
    "\n",
    "\n",
    "def on_button_clicked(b):\n",
    "    global meta\n",
    "    # csv_path = Path(csv_path_display_widget.value)\n",
    "    try:\n",
    "        dataframe = pd.read_csv(csv_path_display_widget.value)\n",
    "    except FileNotFoundError:\n",
    "        load_csv_button_output_widget.value = 'No dataframe; CSV path invalid'\n",
    "        return\n",
    "    metadata = MetadataField(csv_path_display_widget.value)\n",
    "    number_of_rows, number_of_columns = dataframe.shape\n",
    "    load_csv_button_output_widget.value = f'{metadata.csv_path.name} loaded as dataframe with {metadata.number_of_rows} rows and {metadata.number_of_columns} columns'\n",
    "    return metadata\n",
    "\n",
    "load_csv_button_widget.on_click(on_button_clicked)\n",
    "\n",
    "def select_csv(identifier, metadata_field):\n",
    "    csv_name = f'{identifier}_{metadata_field}.csv'\n",
    "    csv_path = data_directory_path.joinpath(csv_name)\n",
    "    csv_path_display_widget.value = str(csv_path.resolve())\n",
    "    csv_path_exists_validity_widget.value = csv_path.is_file()\n",
    "    # print(f'Path to CSV: {csv_path}')\n",
    "    return csv_path\n",
    "\n",
    "\n",
    "# csv_path_interactive_widget = widgets.interactive(select_csv, identifier=identifier_widget, metadata_field=metadata_field_widget)\n",
    "# output_csv_path_widget = interactive(select_csv, 'identifier'=identifier_widget, 'metadata_field'=metadata_field_widget)\n",
    "csv_path_interactive_widget = widgets.interactive_output(select_csv, {'identifier': identifier_widget, 'metadata_field': metadata_field_widget})"
   ]
  },
  {
   "cell_type": "code",
   "execution_count": 13,
   "metadata": {},
   "outputs": [],
   "source": [
    "class MetadataField():\n",
    "    def __init__(self, csv_path):\n",
    "        self.csv_path = Path(csv_path)\n",
    "        self.dataframe = pd.read_csv(self.csv_path)\n",
    "        self.number_of_rows, self.number_of_columns = self.dataframe.shape\n",
    "        "
   ]
  },
  {
   "cell_type": "code",
   "execution_count": 14,
   "metadata": {
    "code_folding": []
   },
   "outputs": [
    {
     "data": {
      "application/vnd.jupyter.widget-view+json": {
       "model_id": "2e21281ce41b41ff82f7434b130702e2",
       "version_major": 2,
       "version_minor": 0
      },
      "text/plain": [
       "VBox(children=(HBox(children=(RadioButtons(description='Serial Title:', layout=Layout(width='initial'), option…"
      ]
     },
     "metadata": {},
     "output_type": "display_data"
    }
   ],
   "source": [
    "# Select a title and metadata field to process\n",
    "row_1_widgets = HBox([identifier_widget, metadata_field_widget])\n",
    "\n",
    "row_2_widgets = csv_path_display_widget  # HBox([csv_path_display_widget])\n",
    "\n",
    "row_3_widgets = HBox([load_csv_button_widget, csv_path_exists_validity_widget])\n",
    "\n",
    "row_4_widgets = load_csv_button_output_widget\n",
    "\n",
    "my_widget = VBox([row_1_widgets, row_2_widgets, row_3_widgets, row_4_widgets])\n",
    "\n",
    "my_widget"
   ]
  },
  {
   "cell_type": "code",
   "execution_count": 17,
   "metadata": {},
   "outputs": [
    {
     "data": {
      "text/plain": [
       "Index(['date_crop_box', 'date_guess', 'image_id', 'image_name'], dtype='object')"
      ]
     },
     "execution_count": 17,
     "metadata": {},
     "output_type": "execute_result"
    }
   ],
   "source": [
    "metadata.dataframe.columns"
   ]
  },
  {
   "cell_type": "code",
   "execution_count": null,
   "metadata": {},
   "outputs": [],
   "source": []
  }
 ],
 "metadata": {
  "kernelspec": {
   "display_name": "Python 3",
   "language": "python",
   "name": "python3"
  },
  "language_info": {
   "codemirror_mode": {
    "name": "ipython",
    "version": 3
   },
   "file_extension": ".py",
   "mimetype": "text/x-python",
   "name": "python",
   "nbconvert_exporter": "python",
   "pygments_lexer": "ipython3",
   "version": "3.7.3"
  },
  "toc": {
   "base_numbering": 1,
   "nav_menu": {},
   "number_sections": true,
   "sideBar": true,
   "skip_h1_title": false,
   "title_cell": "Table of Contents",
   "title_sidebar": "Contents",
   "toc_cell": false,
   "toc_position": {},
   "toc_section_display": true,
   "toc_window_display": false
  }
 },
 "nbformat": 4,
 "nbformat_minor": 2
}
