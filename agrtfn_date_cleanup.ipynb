{
 "cells": [
  {
   "cell_type": "code",
   "execution_count": 49,
   "metadata": {
    "code_folding": [],
    "hide_input": false
   },
   "outputs": [
    {
     "data": {
      "text/html": [
       "<style>.container {width:85% !important;}</style>"
      ],
      "text/plain": [
       "<IPython.core.display.HTML object>"
      ]
     },
     "metadata": {},
     "output_type": "display_data"
    }
   ],
   "source": [
    "# import and display options\n",
    "%matplotlib notebook\n",
    "from pathlib import Path\n",
    "\n",
    "import cv2\n",
    "import ipywidgets as widgets\n",
    "import numpy as np\n",
    "import pandas as pd\n",
    "from dateutil.parser import parse\n",
    "from IPython.display import display, HTML\n",
    "from ipywidgets import interact, IntProgress, Label, VBox, HBox\n",
    "from matplotlib import pyplot as plt\n",
    "\n",
    "display(HTML(\"<style>.container {width:85% !important;}</style>\"))"
   ]
  },
  {
   "cell_type": "code",
   "execution_count": 55,
   "metadata": {
    "code_folding": [
     0
    ],
    "hide_input": false
   },
   "outputs": [],
   "source": [
    "# hardcoded data directory and options for both serial titles and metadata fields\n",
    "data_directory_path = Path('data/')\n",
    "serial_titles_dict = {'Select a title': 'Select a title',\n",
    "                      'Tennessee farm news': 'agrtfn',\n",
    "                      'Tennessee farm and home science': 'agrtfhs',\n",
    "                      'UT Special extension circulars': 'agrutesc'\n",
    "                     }\n",
    "metadata_fields_list = ['Select a metadata field', 'date', 'title']"
   ]
  },
  {
   "cell_type": "code",
   "execution_count": 56,
   "metadata": {
    "code_folding": [
     0,
     29,
     44
    ]
   },
   "outputs": [],
   "source": [
    "# create interactive csv_path widget\n",
    "identifier_widget = widgets.RadioButtons(layout={'width': 'initial'},\n",
    "                                         style={\n",
    "                                             'description_width': 'initial'},\n",
    "                                         options=serial_titles_dict,\n",
    "                                         description='Serial Title:',\n",
    "                                         disabled=False\n",
    "                                        )\n",
    "metadata_field_widget = widgets.RadioButtons(layout={'width': 'initial'},\n",
    "                                            style={\n",
    "                                                'description_width': 'initial'},\n",
    "                                            options=metadata_fields_list,\n",
    "                                            description='Metadata field:',\n",
    "                                            disabled=False,\n",
    "                                           )\n",
    "\n",
    "csv_path_display_widget = widgets.Text(layout={'width': 'initial'},\n",
    "                                       description='CSV Path:')\n",
    "\n",
    "csv_path_exists_validity_widget = widgets.Valid(description='Does CSV exist?',\n",
    "                                               style={\n",
    "                                                'description_width': 'initial'})\n",
    "load_csv_button_widget = widgets.Button(description='Load CSV',\n",
    "                                        style={'description_width': 'initial'},\n",
    "                                       )\n",
    "\n",
    "load_csv_button_output_widget = widgets.Text(layout={'width': 'initial'})\n",
    "\n",
    "\n",
    "def on_button_clicked(b):\n",
    "    global metadata\n",
    "    # csv_path = Path(csv_path_display_widget.value)\n",
    "    try:\n",
    "        dataframe = pd.read_csv(csv_path_display_widget.value)\n",
    "    except FileNotFoundError:\n",
    "        load_csv_button_output_widget.value = 'No dataframe; CSV path invalid'\n",
    "        return\n",
    "    metadata = MetadataField(csv_path_display_widget.value)\n",
    "    number_of_rows, number_of_columns = dataframe.shape\n",
    "    load_csv_button_output_widget.value = f'{metadata.csv_path.name} loaded as dataframe with {metadata.number_of_rows} rows and {metadata.number_of_columns} columns'\n",
    "    return metadata\n",
    "\n",
    "load_csv_button_widget.on_click(on_button_clicked)\n",
    "\n",
    "def select_csv(identifier, metadata_field):\n",
    "    csv_name = f'{identifier}_{metadata_field}.csv'\n",
    "    csv_path = data_directory_path.joinpath(csv_name)\n",
    "    csv_path_display_widget.value = str(csv_path.resolve())\n",
    "    csv_path_exists_validity_widget.value = csv_path.is_file()\n",
    "    # print(f'Path to CSV: {csv_path}')\n",
    "    return csv_path\n",
    "\n",
    "\n",
    "# csv_path_interactive_widget = widgets.interactive(select_csv, identifier=identifier_widget, metadata_field=metadata_field_widget)\n",
    "# output_csv_path_widget = interactive(select_csv, 'identifier'=identifier_widget, 'metadata_field'=metadata_field_widget)\n",
    "csv_path_interactive_widget = widgets.interactive_output(select_csv, {'identifier': identifier_widget, 'metadata_field': metadata_field_widget})"
   ]
  },
  {
   "cell_type": "code",
   "execution_count": 57,
   "metadata": {
    "code_folding": []
   },
   "outputs": [],
   "source": [
    "class MetadataField():\n",
    "    def __init__(self, csv_path):\n",
    "        self.csv_path = Path(csv_path)\n",
    "        self.dataframe = pd.read_csv(self.csv_path)\n",
    "        self.number_of_rows, self.number_of_columns = self.dataframe.shape      "
   ]
  },
  {
   "cell_type": "code",
   "execution_count": 58,
   "metadata": {
    "code_folding": [
     0
    ]
   },
   "outputs": [
    {
     "data": {
      "application/vnd.jupyter.widget-view+json": {
       "model_id": "4c4aed4146c74d399d3fce67a601b29f",
       "version_major": 2,
       "version_minor": 0
      },
      "text/plain": [
       "VBox(children=(HBox(children=(RadioButtons(description='Serial Title:', layout=Layout(width='initial'), option…"
      ]
     },
     "metadata": {},
     "output_type": "display_data"
    }
   ],
   "source": [
    "# Select a title and metadata field to process\n",
    "row_1_widgets = HBox([identifier_widget, metadata_field_widget])\n",
    "\n",
    "row_2_widgets = csv_path_display_widget  # HBox([csv_path_display_widget])\n",
    "\n",
    "row_3_widgets = HBox([load_csv_button_widget, csv_path_exists_validity_widget])\n",
    "\n",
    "row_4_widgets = load_csv_button_output_widget\n",
    "\n",
    "my_widget = VBox([row_1_widgets, row_2_widgets, row_3_widgets, row_4_widgets])\n",
    "\n",
    "my_widget"
   ]
  },
  {
   "cell_type": "code",
   "execution_count": 59,
   "metadata": {
    "scrolled": false
   },
   "outputs": [
    {
     "data": {
      "text/plain": [
       "Index(['date_crop_box', 'date_guess', 'image_id', 'image_name'], dtype='object')"
      ]
     },
     "execution_count": 59,
     "metadata": {},
     "output_type": "execute_result"
    }
   ],
   "source": [
    "metadata.dataframe.columns"
   ]
  },
  {
   "cell_type": "code",
   "execution_count": 38,
   "metadata": {
    "deletable": false,
    "editable": false,
    "run_control": {
     "frozen": true
    }
   },
   "outputs": [],
   "source": [
    "# write images_not_processed_list to text file QUICKLY with Python!\n",
    "output_path = Path('/Users/jeremy/Documents/GitHub/utk_ProjectCeres/data/agrtfn_date_to_process.txt')\n",
    "with open (output_path, 'w') as text_file:\n",
    "    text_file.write('\\n'.join(images_not_processed_list))"
   ]
  },
  {
   "cell_type": "code",
   "execution_count": 60,
   "metadata": {},
   "outputs": [
    {
     "data": {
      "text/plain": [
       "3062"
      ]
     },
     "execution_count": 60,
     "metadata": {},
     "output_type": "execute_result"
    }
   ],
   "source": [
    "image_names_list = metadata.dataframe.image_name.unique().tolist()\n",
    "len(image_names_list)"
   ]
  },
  {
   "cell_type": "code",
   "execution_count": null,
   "metadata": {},
   "outputs": [],
   "source": [
    "# create interactive date selection widget\n",
    "months_dict = {'January': 1,\n",
    "               'February': 2,\n",
    "               'March': 3,\n",
    "               'April': 4,\n",
    "               'May': 5,\n",
    "               'June': 6,\n",
    "               'July': 7,\n",
    "               'August': 8,\n",
    "               'September': 9,\n",
    "               'October': 10,\n",
    "               'November': 11,\n",
    "               'December': 12\n",
    "              }\n",
    "\n",
    "numbers_list = [0, 1, 2, 3, 4, 5, 6, 7, 8, 9]\n",
    "\n",
    "month_widget = widgets.RadioButtons(options=months_dict,\n",
    "                                   description='Month:')\n",
    "\n",
    "day_tens_widget = widgets.RadioButtons(options=numbers_list,\n",
    "                                      description='Day 10s:')\n",
    "day_ones_widget = widgets.RadioButtons(options=numbers_list,\n",
    "                                      description='Day 1s:')\n",
    "year_tens_widget = widgets.RadioButtons(options=number_list,\n",
    "                                       description='Year 10s:')\n",
    "year_ones_widget = widgets.RadioButtons(options=numbers_list,\n",
    "                                      description='Year 1s:')\n",
    "\n",
    "date_display_widget = widgets.Text(description='Date:')\n",
    "\n",
    "\n",
    "def select_date(month, day_tens, day_ones, year_tens, year_ones):\n",
    "    date = []\n",
    "\n",
    "    \n",
    "select_date_interactive_widget = widgets.interactive_output(select_date, {'month': month_widget,\n",
    "                                                                          'day_tens': day_tens_widget,\n",
    "                                                                          'day_ones': day_ones_widget,\n",
    "                                                                          'year_tens': year_tens_widget,\n",
    "                                                                          'year_ones': year_ones_widget}\n",
    "                                                           )\n",
    "\n",
    "# load_csv_button_widget = widgets.Button(description='Load CSV',\n",
    "#                                         style={'description_width': 'initial'},\n",
    "#                                        )\n",
    "\n",
    "# load_csv_button_output_widget = widgets.Text(layout={'width': 'initial'})\n",
    "    \n",
    "# def on_button_clicked(b):\n",
    "#     global metadata\n",
    "#     # csv_path = Path(csv_path_display_widget.value)\n",
    "#     try:\n",
    "#         dataframe = pd.read_csv(csv_path_display_widget.value)\n",
    "#     except FileNotFoundError:\n",
    "#         load_csv_button_output_widget.value = 'No dataframe; CSV path invalid'\n",
    "#         return\n",
    "#     metadata = MetadataField(csv_path_display_widget.value)\n",
    "#     number_of_rows, number_of_columns = dataframe.shape\n",
    "#     load_csv_button_output_widget.value = f'{metadata.csv_path.name} loaded as dataframe with {metadata.number_of_rows} rows and {metadata.number_of_columns} columns'\n",
    "#     return metadata\n",
    "\n",
    "# load_csv_button_widget.on_click(on_button_clicked)\n",
    "\n",
    "# def select_csv(identifier, metadata_field):\n",
    "#     csv_name = f'{identifier}_{metadata_field}.csv'\n",
    "#     csv_path = data_directory_path.joinpath(csv_name)\n",
    "#     csv_path_display_widget.value = str(csv_path.resolve())\n",
    "#     csv_path_exists_validity_widget.value = csv_path.is_file()\n",
    "#     # print(f'Path to CSV: {csv_path}')\n",
    "#     return csv_path\n",
    "\n",
    "\n",
    "# csv_path_interactive_widget = widgets.interactive(select_csv, identifier=identifier_widget, metadata_field=metadata_field_widget)\n",
    "# output_csv_path_widget = interactive(select_csv, 'identifier'=identifier_widget, 'metadata_field'=metadata_field_widget)\n",
    "# csv_path_interactive_widget = widgets.interactive_output(select_csv, {'identifier': identifier_widget, 'metadata_field': metadata_field_widget})"
   ]
  },
  {
   "cell_type": "code",
   "execution_count": 48,
   "metadata": {},
   "outputs": [
    {
     "name": "stdout",
     "output_type": "stream",
     "text": [
      "1\n",
      "1\n",
      "1\n",
      "1\n",
      "4\n",
      "1\n",
      "1\n",
      "2\n",
      "2\n",
      "1\n",
      "1\n",
      "1\n",
      "1\n",
      "1\n",
      "2\n",
      "3\n",
      "2\n",
      "1\n"
     ]
    },
    {
     "ename": "KeyboardInterrupt",
     "evalue": "",
     "output_type": "error",
     "traceback": [
      "\u001b[0;31m---------------------------------------------------------------------------\u001b[0m",
      "\u001b[0;31mKeyboardInterrupt\u001b[0m                         Traceback (most recent call last)",
      "\u001b[0;32m<ipython-input-48-3f5e292fb02a>\u001b[0m in \u001b[0;36m<module>\u001b[0;34m\u001b[0m\n\u001b[1;32m     15\u001b[0m     \u001b[0;31m# set image_path and load image\u001b[0m\u001b[0;34m\u001b[0m\u001b[0;34m\u001b[0m\u001b[0;34m\u001b[0m\u001b[0m\n\u001b[1;32m     16\u001b[0m     \u001b[0mimage_path\u001b[0m \u001b[0;34m=\u001b[0m \u001b[0mimage_data_directory_path\u001b[0m\u001b[0;34m.\u001b[0m\u001b[0mjoinpath\u001b[0m\u001b[0;34m(\u001b[0m\u001b[0mimage_name\u001b[0m\u001b[0;34m)\u001b[0m\u001b[0;34m\u001b[0m\u001b[0;34m\u001b[0m\u001b[0m\n\u001b[0;32m---> 17\u001b[0;31m     \u001b[0mimage\u001b[0m \u001b[0;34m=\u001b[0m \u001b[0mcv2\u001b[0m\u001b[0;34m.\u001b[0m\u001b[0mimread\u001b[0m\u001b[0;34m(\u001b[0m\u001b[0mstr\u001b[0m\u001b[0;34m(\u001b[0m\u001b[0mimage_path\u001b[0m\u001b[0;34m)\u001b[0m\u001b[0;34m)\u001b[0m\u001b[0;34m\u001b[0m\u001b[0;34m\u001b[0m\u001b[0m\n\u001b[0m\u001b[1;32m     18\u001b[0m \u001b[0;34m\u001b[0m\u001b[0m\n\u001b[1;32m     19\u001b[0m     \u001b[0;31m# get number of image_ids -- to be later renamed date_guess_id\u001b[0m\u001b[0;34m\u001b[0m\u001b[0;34m\u001b[0m\u001b[0;34m\u001b[0m\u001b[0m\n",
      "\u001b[0;31mKeyboardInterrupt\u001b[0m: "
     ]
    }
   ],
   "source": [
    "# process dates/images\n",
    "\n",
    "# images currently on external hard drive\n",
    "image_data_directory_path = Path('/Volumes/jmoor167/data/agrtfn/')\n",
    "\n",
    "# get unique list of image names to process\n",
    "image_names_list = metadata.dataframe['image_name'].unique().tolist()\n",
    "\n",
    "for image_name in image_names_list:\n",
    "    \n",
    "    # get a dataframe for all rows with image_name\n",
    "    image_name_dataframe = metadata.dataframe[metadata.dataframe['image_name'] == image_name]\n",
    "    \n",
    "    # set image_path and load image\n",
    "    image_path = image_data_directory_path.joinpath(image_name)\n",
    "    image = cv2.imread(str(image_path))\n",
    "    \n",
    "    # \n",
    "    \n",
    "    # get number of image_ids -- to be later renamed date_guess_id\n",
    "    number_of_date_guess = 2"
   ]
  },
  {
   "cell_type": "code",
   "execution_count": null,
   "metadata": {},
   "outputs": [],
   "source": []
  }
 ],
 "metadata": {
  "kernelspec": {
   "display_name": "Python 3",
   "language": "python",
   "name": "python3"
  },
  "language_info": {
   "codemirror_mode": {
    "name": "ipython",
    "version": 3
   },
   "file_extension": ".py",
   "mimetype": "text/x-python",
   "name": "python",
   "nbconvert_exporter": "python",
   "pygments_lexer": "ipython3",
   "version": "3.7.3"
  },
  "toc": {
   "base_numbering": 1,
   "nav_menu": {},
   "number_sections": true,
   "sideBar": true,
   "skip_h1_title": false,
   "title_cell": "Table of Contents",
   "title_sidebar": "Contents",
   "toc_cell": false,
   "toc_position": {},
   "toc_section_display": true,
   "toc_window_display": false
  }
 },
 "nbformat": 4,
 "nbformat_minor": 2
}
