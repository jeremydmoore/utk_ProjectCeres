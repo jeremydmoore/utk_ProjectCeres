{
 "cells": [
  {
   "cell_type": "code",
   "execution_count": 30,
   "metadata": {
    "code_folding": [
     0
    ]
   },
   "outputs": [
    {
     "data": {
      "text/html": [
       "<style>.container {width:85% !important;}</style>"
      ],
      "text/plain": [
       "<IPython.core.display.HTML object>"
      ]
     },
     "metadata": {},
     "output_type": "display_data"
    }
   ],
   "source": [
    "# import and display options\n",
    "%matplotlib notebook\n",
    "from pathlib import Path\n",
    "\n",
    "import cv2\n",
    "import ipywidgets as widgets\n",
    "import numpy as np\n",
    "import pandas as pd\n",
    "from IPython.display import display, HTML\n",
    "from ipywidgets import interact, IntProgress, Label, VBox, HBox\n",
    "from matplotlib import pyplot as plt\n",
    "\n",
    "display(HTML(\"<style>.container {width:85% !important;}</style>\"))"
   ]
  },
  {
   "cell_type": "code",
   "execution_count": 32,
   "metadata": {
    "code_folding": [
     0
    ]
   },
   "outputs": [],
   "source": [
    "# hardcoded data directory and options for both serial titles and metadata fields\n",
    "data_directory_path = Path('data/')\n",
    "serial_titles_dict = {'Tennessee farm news': 'agrtfn',\n",
    "                'Tennessee farm and home science': 'agrtfhs',\n",
    "                'UT Special extension circulars': 'agrutesc'\n",
    "                }\n",
    "metadata_fields_list = ['date', 'title']"
   ]
  },
  {
   "cell_type": "code",
   "execution_count": 37,
   "metadata": {
    "code_folding": [
     0
    ]
   },
   "outputs": [
    {
     "data": {
      "application/vnd.jupyter.widget-view+json": {
       "model_id": "e2002127b747494bbe71311ec5f03f03",
       "version_major": 2,
       "version_minor": 0
      },
      "text/plain": [
       "VBox(children=(HBox(children=(RadioButtons(description='Serial Title:', layout=Layout(width='initial'), option…"
      ]
     },
     "metadata": {},
     "output_type": "display_data"
    }
   ],
   "source": [
    "# select title and metadata field to process\n",
    "identifier_widget = widgets.RadioButtons(layout={'width': 'initial'},\n",
    "                                         style={\n",
    "                                             'description_width': 'initial'},\n",
    "                                         options=serial_titles_dict,\n",
    "                                         description='Serial Title:',\n",
    "                                         disabled=False\n",
    "                                        )\n",
    "metadata_field_widget = widgets.RadioButtons(layout={'width': 'initial'},\n",
    "                                            style={\n",
    "                                                'description_width': 'initial'},\n",
    "                                            options=metadata_fields_list,\n",
    "                                            description='Metadata field:',\n",
    "                                            disabled=False\n",
    "                                           )\n",
    "\n",
    "select_identifier_and_metadata_field_widget = HBox(\n",
    "    [identifier_widget, metadata_field_widget])\n",
    "\n",
    "def select_csv(identifier, metadata_field):\n",
    "    csv_name = f'{identifier}_{metadata_field}.csv'\n",
    "    csv_path = data_directory_path.joinpath(csv_name)\n",
    "    print(f'Path to CSV: {csv_path}')\n",
    "\n",
    "output_csv_path_widget = widgets.interactive_output(select_csv, {'identifier': identifier_widget,\n",
    "                                                                'metadata_field': metadata_field_widget})\n",
    "\n",
    "my_widget = VBox([select_identifier_and_metadata_field_widget, output_csv_path_widget])\n",
    "\n",
    "# display widget                  \n",
    "my_widget"
   ]
  }
 ],
 "metadata": {
  "kernelspec": {
   "display_name": "Python 3",
   "language": "python",
   "name": "python3"
  },
  "language_info": {
   "codemirror_mode": {
    "name": "ipython",
    "version": 3
   },
   "file_extension": ".py",
   "mimetype": "text/x-python",
   "name": "python",
   "nbconvert_exporter": "python",
   "pygments_lexer": "ipython3",
   "version": "3.7.3"
  },
  "toc": {
   "base_numbering": 1,
   "nav_menu": {},
   "number_sections": true,
   "sideBar": true,
   "skip_h1_title": false,
   "title_cell": "Table of Contents",
   "title_sidebar": "Contents",
   "toc_cell": false,
   "toc_position": {},
   "toc_section_display": true,
   "toc_window_display": false
  }
 },
 "nbformat": 4,
 "nbformat_minor": 2
}
