{
 "cells": [
  {
   "cell_type": "code",
   "execution_count": 1,
   "metadata": {},
   "outputs": [],
   "source": [
    "from pathlib import Path"
   ]
  },
  {
   "cell_type": "code",
   "execution_count": 5,
   "metadata": {},
   "outputs": [
    {
     "data": {
      "text/plain": [
       "96"
      ]
     },
     "execution_count": 5,
     "metadata": {},
     "output_type": "execute_result"
    }
   ],
   "source": [
    "rename_directory_path = Path('data/utesc_adminDB/00.rename/')\n",
    "directory_paths_list = sorted([x for x in rename_directory_path.iterdir() if x.is_dir()])\n",
    "len(directory_paths_list)"
   ]
  },
  {
   "cell_type": "code",
   "execution_count": 6,
   "metadata": {},
   "outputs": [],
   "source": [
    "start_number = 122\n",
    "for directory_path in directory_paths_list:\n",
    "    new_directory_name = f'0012_004268_{str(start_number).zfill(4)}'\n",
    "    new_directory_path = directory_path.parents[0].joinpath(new_directory_name)\n",
    "    directory_path.rename(new_directory_path)\n",
    "    image_paths_list = sorted([x for x in new_directory_path.iterdir() if x.is_file()])\n",
    "    image_number = 1\n",
    "    for image_path in image_paths_list:\n",
    "        new_image_name = f'{new_directory_name}_{str(image_number).zfill(4)}.tif'\n",
    "        new_image_path = new_directory_path.joinpath(new_image_name)\n",
    "        image_path.rename(new_image_path)\n",
    "        image_number += 1\n",
    "    start_number += 1"
   ]
  },
  {
   "cell_type": "code",
   "execution_count": null,
   "metadata": {},
   "outputs": [],
   "source": []
  }
 ],
 "metadata": {
  "kernelspec": {
   "display_name": "Python 3",
   "language": "python",
   "name": "python3"
  },
  "language_info": {
   "codemirror_mode": {
    "name": "ipython",
    "version": 3
   },
   "file_extension": ".py",
   "mimetype": "text/x-python",
   "name": "python",
   "nbconvert_exporter": "python",
   "pygments_lexer": "ipython3",
   "version": "3.6.8"
  }
 },
 "nbformat": 4,
 "nbformat_minor": 2
}
