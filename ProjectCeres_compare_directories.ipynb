{
 "cells": [
  {
   "cell_type": "code",
   "execution_count": 1,
   "metadata": {},
   "outputs": [],
   "source": [
    "from pathlib import Path"
   ]
  },
  {
   "cell_type": "code",
   "execution_count": 2,
   "metadata": {},
   "outputs": [],
   "source": [
    "local_path = Path('data/TNFarmNewsRescans/0.toAutocrop/')\n",
    "network_path = Path('z:ProjectCeres/work/Workstation3_Digibook/TNFarmNewsRescans/Box1/')"
   ]
  },
  {
   "cell_type": "code",
   "execution_count": 3,
   "metadata": {},
   "outputs": [
    {
     "data": {
      "text/plain": [
       "1004"
      ]
     },
     "execution_count": 3,
     "metadata": {},
     "output_type": "execute_result"
    }
   ],
   "source": [
    "local_file_paths_list = [x for x in local_path.iterdir() if x.is_file()]\n",
    "len(local_file_paths_list)"
   ]
  },
  {
   "cell_type": "code",
   "execution_count": 4,
   "metadata": {},
   "outputs": [
    {
     "data": {
      "text/plain": [
       "1024"
      ]
     },
     "execution_count": 4,
     "metadata": {},
     "output_type": "execute_result"
    }
   ],
   "source": [
    "network_file_paths_list = [x for x in network_path.iterdir() if x.is_file()]\n",
    "len(network_file_paths_list)"
   ]
  },
  {
   "cell_type": "code",
   "execution_count": 6,
   "metadata": {},
   "outputs": [
    {
     "data": {
      "text/plain": [
       "['0012_004266_000001_0001.tif',\n",
       " '0012_004266_000001_0002.tif',\n",
       " '0012_004266_000001_0003.tif',\n",
       " '0012_004266_000001_0004.tif',\n",
       " '0012_004266_000002_0001.tif']"
      ]
     },
     "execution_count": 6,
     "metadata": {},
     "output_type": "execute_result"
    }
   ],
   "source": [
    "local_file_names_list = [x.name for x in local_file_paths_list]\n",
    "local_file_names_list[:5]"
   ]
  },
  {
   "cell_type": "code",
   "execution_count": 7,
   "metadata": {},
   "outputs": [
    {
     "data": {
      "text/plain": [
       "['0012_004266_000001_0001.tif',\n",
       " '0012_004266_000001_0002.tif',\n",
       " '0012_004266_000001_0003.tif',\n",
       " '0012_004266_000001_0004.tif',\n",
       " '0012_004266_000002_0001.tif']"
      ]
     },
     "execution_count": 7,
     "metadata": {},
     "output_type": "execute_result"
    }
   ],
   "source": [
    "network_file_names_list = [x.name for x in network_file_paths_list]\n",
    "network_file_names_list[:5]"
   ]
  },
  {
   "cell_type": "code",
   "execution_count": 8,
   "metadata": {
    "scrolled": false
   },
   "outputs": [
    {
     "data": {
      "text/plain": [
       "['0012_004266_000200_0001.tif',\n",
       " '0012_004266_000200_0002.tif',\n",
       " '0012_004266_000200_0003.tif',\n",
       " '0012_004266_000200_0004.tif',\n",
       " '0012_004266_000202_0002.tif',\n",
       " '0012_004266_000202_0004.tif',\n",
       " '0012_004266_000203_0002.tif',\n",
       " '0012_004266_000203_0003.tif',\n",
       " '0012_004266_000203_0004.tif',\n",
       " '0012_004266_000204_0003.tif',\n",
       " '0012_004266_000205_0001.tif',\n",
       " '0012_004266_000205_0002.tif',\n",
       " '0012_004266_000206_0002.tif',\n",
       " '0012_004266_000206_0003.tif',\n",
       " '0012_004266_000206_0004.tif',\n",
       " '0012_004266_000207_0002.tif',\n",
       " '0012_004266_000207_0004.tif',\n",
       " '0012_004266_000208_0001.tif',\n",
       " '0012_004266_000208_0002.tif',\n",
       " '0012_004266_000208_0003.tif']"
      ]
     },
     "execution_count": 8,
     "metadata": {},
     "output_type": "execute_result"
    }
   ],
   "source": [
    "not_in_local_list = [x for x in network_file_names_list if x not in local_file_names_list]\n",
    "not_in_local_list"
   ]
  },
  {
   "cell_type": "code",
   "execution_count": 9,
   "metadata": {},
   "outputs": [
    {
     "data": {
      "text/plain": [
       "[]"
      ]
     },
     "execution_count": 9,
     "metadata": {},
     "output_type": "execute_result"
    }
   ],
   "source": [
    "not_in_network_list = [x for x in local_file_names_list if x not in network_file_names_list]\n",
    "not_in_network_list"
   ]
  },
  {
   "cell_type": "markdown",
   "metadata": {},
   "source": [
    "## I copied the images in cell 8 into the local directory"
   ]
  },
  {
   "cell_type": "code",
   "execution_count": 10,
   "metadata": {},
   "outputs": [
    {
     "data": {
      "text/plain": [
       "1024"
      ]
     },
     "execution_count": 10,
     "metadata": {},
     "output_type": "execute_result"
    }
   ],
   "source": [
    "local_file_paths_list = [x for x in local_path.iterdir() if x.is_file()]\n",
    "len(local_file_paths_list)"
   ]
  },
  {
   "cell_type": "code",
   "execution_count": 11,
   "metadata": {},
   "outputs": [
    {
     "data": {
      "text/plain": [
       "['0012_004266_000001_0001.tif',\n",
       " '0012_004266_000001_0002.tif',\n",
       " '0012_004266_000001_0003.tif',\n",
       " '0012_004266_000001_0004.tif',\n",
       " '0012_004266_000002_0001.tif']"
      ]
     },
     "execution_count": 11,
     "metadata": {},
     "output_type": "execute_result"
    }
   ],
   "source": [
    "local_file_names_list = [x.name for x in local_file_paths_list]\n",
    "local_file_names_list[:5]"
   ]
  },
  {
   "cell_type": "code",
   "execution_count": 12,
   "metadata": {},
   "outputs": [
    {
     "data": {
      "text/plain": [
       "[]"
      ]
     },
     "execution_count": 12,
     "metadata": {},
     "output_type": "execute_result"
    }
   ],
   "source": [
    "not_in_local_list = [x for x in network_file_names_list if x not in local_file_names_list]\n",
    "not_in_local_list"
   ]
  },
  {
   "cell_type": "code",
   "execution_count": 13,
   "metadata": {},
   "outputs": [
    {
     "data": {
      "text/plain": [
       "[]"
      ]
     },
     "execution_count": 13,
     "metadata": {},
     "output_type": "execute_result"
    }
   ],
   "source": [
    "not_in_network_list = [x for x in local_file_names_list if x not in network_file_names_list]\n",
    "not_in_network_list"
   ]
  }
 ],
 "metadata": {
  "kernelspec": {
   "display_name": "Python 3",
   "language": "python",
   "name": "python3"
  },
  "language_info": {
   "codemirror_mode": {
    "name": "ipython",
    "version": 3
   },
   "file_extension": ".py",
   "mimetype": "text/x-python",
   "name": "python",
   "nbconvert_exporter": "python",
   "pygments_lexer": "ipython3",
   "version": "3.7.2"
  },
  "toc": {
   "base_numbering": 1,
   "nav_menu": {},
   "number_sections": true,
   "sideBar": true,
   "skip_h1_title": false,
   "title_cell": "Table of Contents",
   "title_sidebar": "Contents",
   "toc_cell": false,
   "toc_position": {},
   "toc_section_display": true,
   "toc_window_display": false
  }
 },
 "nbformat": 4,
 "nbformat_minor": 2
}
