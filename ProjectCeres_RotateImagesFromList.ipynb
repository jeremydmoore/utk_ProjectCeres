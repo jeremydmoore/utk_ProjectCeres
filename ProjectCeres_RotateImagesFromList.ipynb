{
 "cells": [
  {
   "cell_type": "markdown",
   "metadata": {},
   "source": [
    "# Project Ceres: Rotate Images from List\n",
    "\n",
    "Need to:\n",
    "1. some of the images need to be rotated CW/CCW to a horizontal page\n",
    "1. save as uncompressed, 8-bit TIFF tagged with Gray Gamma 2.2"
   ]
  },
  {
   "cell_type": "code",
   "execution_count": 1,
   "metadata": {
    "code_folding": [
     0
    ]
   },
   "outputs": [],
   "source": [
    "# importing\n",
    "from pathlib import Path\n",
    "from subprocess import call\n",
    "\n",
    "from ipywidgets import IntProgress, Label, VBox\n",
    "from IPython.display import display\n",
    "from PIL import Image"
   ]
  },
  {
   "cell_type": "code",
   "execution_count": 2,
   "metadata": {
    "code_folding": []
   },
   "outputs": [],
   "source": [
    "def rotate_image(image_path, angle):\n",
    "    \n",
    "    # open image\n",
    "    image = Image.open(image_path)\n",
    "    \n",
    "    # rotate image\n",
    "    image = image.rotate(-angle, resample=Image.BICUBIC, expand=True)  # negative for cw\n",
    "    \n",
    "    # create output_directory\n",
    "    \n",
    "    output_directory = image_directory_path.joinpath('00_rotated')\n",
    "    output_directory.mkdir(exist_ok=True)\n",
    "    output_path = output_directory.joinpath(image_path.name)\n",
    "    \n",
    "    # save image\n",
    "    image.save(output_path, compression=None, dpi=(400., 400.))\n",
    "    \n",
    "    # use exiftool to copy ICC profile from original to output image\n",
    "    cmd = f' exiftool -tagsfromfile {str(image_path)} -ICC_Profile -overwrite_original -q {str(output_path)}'\n",
    "    call(cmd, shell=True)"
   ]
  },
  {
   "cell_type": "code",
   "execution_count": 9,
   "metadata": {
    "code_folding": []
   },
   "outputs": [
    {
     "data": {
      "application/vnd.jupyter.widget-view+json": {
       "model_id": "a9797156d06c43cfbefb3910a3a97608",
       "version_major": 2,
       "version_minor": 0
      },
      "text/plain": [
       "VBox(children=(Label(value='Images Being Rotated'), IntProgress(value=0, max=133)))"
      ]
     },
     "metadata": {},
     "output_type": "display_data"
    }
   ],
   "source": [
    "# Rotate images CW\n",
    "\n",
    "item_stub = 38\n",
    "total_pages = 133\n",
    "angle = 90\n",
    "\n",
    "image_directory_path = Path('data/UTSpecialCirculars_Box72/00_cropped')\n",
    "collection_stub = '0012_004268'\n",
    "item_stub = str(item_stub).zfill(4)  # zero-pad the item_stub\n",
    "\n",
    "# progress bar\n",
    "progress_label = Label('Images Being Rotated')\n",
    "progress_bar = IntProgress(min=0, max=total_pages)\n",
    "progress_widget = VBox([progress_label, progress_bar])\n",
    "display(progress_widget)\n",
    "\n",
    "for i in range(1, total_pages + 1):\n",
    "    \n",
    "    # set image name & path\n",
    "    image_name = f'{collection_stub}_{item_stub}_{str(i).zfill(4)}.tif'\n",
    "    image_path = image_directory_path.joinpath(image_name)\n",
    "    \n",
    "    # update progress bar\n",
    "    progress_label.value = f'{image_path.name} is being Rotated . . .'\n",
    "    \n",
    "    # rotate image\n",
    "    rotate_image(image_path, angle)\n",
    "    \n",
    "    # update progress bar\n",
    "    progress_bar.value = i\n",
    "    if progress_bar.value == total_pages:\n",
    "        progress_label.value = 'Rotations Finished'"
   ]
  },
  {
   "cell_type": "code",
   "execution_count": 10,
   "metadata": {
    "code_folding": [
     0
    ]
   },
   "outputs": [
    {
     "data": {
      "application/vnd.jupyter.widget-view+json": {
       "model_id": "8e247e62e16646a6965b01ca17fa99db",
       "version_major": 2,
       "version_minor": 0
      },
      "text/plain": [
       "VBox(children=(Label(value='Images Being Rotated'), IntProgress(value=0, max=40)))"
      ]
     },
     "metadata": {},
     "output_type": "display_data"
    }
   ],
   "source": [
    "# Rotate images CW\n",
    "\n",
    "item_stub = 40\n",
    "total_pages = 40\n",
    "angle = 90\n",
    "\n",
    "image_directory_path = Path('data/UTSpecialCirculars_Box72/00_cropped')\n",
    "collection_stub = '0012_004268'\n",
    "item_stub = str(item_stub).zfill(4)  # zero-pad the item_stub\n",
    "\n",
    "# progress bar\n",
    "progress_label = Label('Images Being Rotated')\n",
    "progress_bar = IntProgress(min=0, max=total_pages)\n",
    "progress_widget = VBox([progress_label, progress_bar])\n",
    "display(progress_widget)\n",
    "\n",
    "for i in range(1, total_pages + 1):\n",
    "    \n",
    "    # set image name & path\n",
    "    image_name = f'{collection_stub}_{item_stub}_{str(i).zfill(4)}.tif'\n",
    "    image_path = image_directory_path.joinpath(image_name)\n",
    "    \n",
    "    # update progress bar\n",
    "    progress_label.value = f'{image_path.name} is being Rotated . . .'\n",
    "    \n",
    "    # rotate image\n",
    "    rotate_image(image_path, angle)\n",
    "    \n",
    "    # update progress bar\n",
    "    progress_bar.value = i\n",
    "    if progress_bar.value == total_pages:\n",
    "        progress_label.value = 'Rotations Finished'"
   ]
  },
  {
   "cell_type": "code",
   "execution_count": 11,
   "metadata": {
    "code_folding": [
     0
    ]
   },
   "outputs": [
    {
     "data": {
      "application/vnd.jupyter.widget-view+json": {
       "model_id": "3bd5df4a8847463a898ab2105cb97ed5",
       "version_major": 2,
       "version_minor": 0
      },
      "text/plain": [
       "VBox(children=(Label(value='Images Being Rotated'), IntProgress(value=0, max=8)))"
      ]
     },
     "metadata": {},
     "output_type": "display_data"
    }
   ],
   "source": [
    "# Rotate images CW\n",
    "\n",
    "item_stub = 45\n",
    "total_pages = 8\n",
    "angle = 90\n",
    "\n",
    "image_directory_path = Path('data/UTSpecialCirculars_Box72/00_cropped')\n",
    "collection_stub = '0012_004268'\n",
    "item_stub = str(item_stub).zfill(4)  # zero-pad the item_stub\n",
    "\n",
    "# progress bar\n",
    "progress_label = Label('Images Being Rotated')\n",
    "progress_bar = IntProgress(min=0, max=total_pages)\n",
    "progress_widget = VBox([progress_label, progress_bar])\n",
    "display(progress_widget)\n",
    "\n",
    "for i in range(1, total_pages + 1):\n",
    "    \n",
    "    # set image name & path\n",
    "    image_name = f'{collection_stub}_{item_stub}_{str(i).zfill(4)}.tif'\n",
    "    image_path = image_directory_path.joinpath(image_name)\n",
    "    \n",
    "    # update progress bar\n",
    "    progress_label.value = f'{image_path.name} is being Rotated . . .'\n",
    "    \n",
    "    # rotate image\n",
    "    rotate_image(image_path, angle)\n",
    "    \n",
    "    # update progress bar\n",
    "    progress_bar.value = i\n",
    "    if progress_bar.value == total_pages:\n",
    "        progress_label.value = 'Rotations Finished'"
   ]
  },
  {
   "cell_type": "code",
   "execution_count": 12,
   "metadata": {
    "code_folding": [
     0
    ]
   },
   "outputs": [
    {
     "data": {
      "application/vnd.jupyter.widget-view+json": {
       "model_id": "68c8ae8e0f924b598e043e21c403bab4",
       "version_major": 2,
       "version_minor": 0
      },
      "text/plain": [
       "VBox(children=(Label(value='Images Being Rotated'), IntProgress(value=0, max=8)))"
      ]
     },
     "metadata": {},
     "output_type": "display_data"
    }
   ],
   "source": [
    "# Rotate images CW\n",
    "\n",
    "item_stub = 49\n",
    "total_pages = 8\n",
    "angle = 90\n",
    "\n",
    "image_directory_path = Path('data/UTSpecialCirculars_Box72/00_cropped')\n",
    "collection_stub = '0012_004268'\n",
    "item_stub = str(item_stub).zfill(4)  # zero-pad the item_stub\n",
    "\n",
    "# progress bar\n",
    "progress_label = Label('Images Being Rotated')\n",
    "progress_bar = IntProgress(min=0, max=total_pages)\n",
    "progress_widget = VBox([progress_label, progress_bar])\n",
    "display(progress_widget)\n",
    "\n",
    "for i in range(1, total_pages + 1):\n",
    "    \n",
    "    # set image name & path\n",
    "    image_name = f'{collection_stub}_{item_stub}_{str(i).zfill(4)}.tif'\n",
    "    image_path = image_directory_path.joinpath(image_name)\n",
    "    \n",
    "    # update progress bar\n",
    "    progress_label.value = f'{image_path.name} is being Rotated . . .'\n",
    "    \n",
    "    # rotate image\n",
    "    rotate_image(image_path, angle)\n",
    "    \n",
    "    # update progress bar\n",
    "    progress_bar.value = i\n",
    "    if progress_bar.value == total_pages:\n",
    "        progress_label.value = 'Rotations Finished'"
   ]
  },
  {
   "cell_type": "code",
   "execution_count": 15,
   "metadata": {
    "code_folding": [
     0
    ]
   },
   "outputs": [
    {
     "data": {
      "application/vnd.jupyter.widget-view+json": {
       "model_id": "80da4de7d4ef459d9c30ec4b3b4b4b46",
       "version_major": 2,
       "version_minor": 0
      },
      "text/plain": [
       "VBox(children=(Label(value='Images Being Rotated'), IntProgress(value=0, max=10)))"
      ]
     },
     "metadata": {},
     "output_type": "display_data"
    }
   ],
   "source": [
    "# Rotate images CW\n",
    "\n",
    "item_stub = 56\n",
    "total_pages = 10\n",
    "angle = 90\n",
    "\n",
    "image_directory_path = Path('data/UTSpecialCirculars_Box72/00_cropped')\n",
    "collection_stub = '0012_004268'\n",
    "item_stub = str(item_stub).zfill(4)  # zero-pad the item_stub\n",
    "\n",
    "# progress bar\n",
    "progress_label = Label('Images Being Rotated')\n",
    "progress_bar = IntProgress(min=0, max=total_pages)\n",
    "progress_widget = VBox([progress_label, progress_bar])\n",
    "display(progress_widget)\n",
    "\n",
    "for i in range(1, total_pages + 1):\n",
    "    \n",
    "    # set image name & path\n",
    "    image_name = f'{collection_stub}_{item_stub}_{str(i).zfill(4)}.tif'\n",
    "    image_path = image_directory_path.joinpath(image_name)\n",
    "    \n",
    "    # update progress bar\n",
    "    progress_label.value = f'{image_path.name} is being Rotated . . .'\n",
    "    \n",
    "    # rotate image\n",
    "    rotate_image(image_path, angle)\n",
    "    \n",
    "    # update progress bar\n",
    "    progress_bar.value = i\n",
    "    if progress_bar.value == total_pages:\n",
    "        progress_label.value = 'Rotations Finished'"
   ]
  },
  {
   "cell_type": "code",
   "execution_count": 16,
   "metadata": {
    "code_folding": [
     0
    ]
   },
   "outputs": [
    {
     "data": {
      "application/vnd.jupyter.widget-view+json": {
       "model_id": "3b5d12b1379c409ca255b4642a382991",
       "version_major": 2,
       "version_minor": 0
      },
      "text/plain": [
       "VBox(children=(Label(value='Images Being Rotated'), IntProgress(value=0, max=9)))"
      ]
     },
     "metadata": {},
     "output_type": "display_data"
    }
   ],
   "source": [
    "# Rotate images CW\n",
    "\n",
    "item_stub = 58\n",
    "total_pages = 9\n",
    "angle = 90\n",
    "\n",
    "image_directory_path = Path('data/UTSpecialCirculars_Box72/00_cropped')\n",
    "collection_stub = '0012_004268'\n",
    "item_stub = str(item_stub).zfill(4)  # zero-pad the item_stub\n",
    "\n",
    "# progress bar\n",
    "progress_label = Label('Images Being Rotated')\n",
    "progress_bar = IntProgress(min=0, max=total_pages)\n",
    "progress_widget = VBox([progress_label, progress_bar])\n",
    "display(progress_widget)\n",
    "\n",
    "for i in range(1, total_pages + 1):\n",
    "    \n",
    "    # set image name & path\n",
    "    image_name = f'{collection_stub}_{item_stub}_{str(i).zfill(4)}.tif'\n",
    "    image_path = image_directory_path.joinpath(image_name)\n",
    "    \n",
    "    # update progress bar\n",
    "    progress_label.value = f'{image_path.name} is being Rotated . . .'\n",
    "    \n",
    "    # rotate image\n",
    "    rotate_image(image_path, angle)\n",
    "    \n",
    "    # update progress bar\n",
    "    progress_bar.value = i\n",
    "    if progress_bar.value == total_pages:\n",
    "        progress_label.value = 'Rotations Finished'"
   ]
  },
  {
   "cell_type": "code",
   "execution_count": 3,
   "metadata": {},
   "outputs": [],
   "source": [
    "# box 72 rotation list after AutoCroppering\n",
    "image_list_rotate_90 = [(38, 22), (38, 29), (38, 56), (38, 65), (38, 128), (38, 130), (38, 132), (38, 133), (40, 21), (40, 23), (40, 24), (40, 31), (40, 32), (56, 3), (56, 4), (56, 8), (58, 3), (58, 4), (58, 7), (61, 3), (61, 7)]\n",
    "image_list_rotate_180 = [(49, 3), (49, 5), (49, 7), (58, 8), (58, 9)]\n",
    "image_list_rotate_270 = [(24, 6), (49, 9)]"
   ]
  },
  {
   "cell_type": "code",
   "execution_count": 6,
   "metadata": {},
   "outputs": [
    {
     "data": {
      "application/vnd.jupyter.widget-view+json": {
       "model_id": "554f0b0311e44889be0714cd265b2f0c",
       "version_major": 2,
       "version_minor": 0
      },
      "text/plain": [
       "VBox(children=(Label(value='21 images to rotate . . .'), IntProgress(value=0, max=21)))"
      ]
     },
     "metadata": {},
     "output_type": "display_data"
    }
   ],
   "source": [
    "# batch rotate 90 cw Box 72\n",
    "\n",
    "# progress bar\n",
    "progress_label = Label(f'{len(image_list_rotate_90)} images to rotate . . .')\n",
    "progress_bar = IntProgress(min=0, max=len(image_list_rotate_90))\n",
    "progress_widget = VBox([progress_label, progress_bar])\n",
    "display(progress_widget)\n",
    "\n",
    "# batch rotate cw\n",
    "for index, (item, image) in enumerate(image_list_rotate_90, start=1):\n",
    "    \n",
    "    image_directory_path = Path('data/UTSpecialCirculars_Box72/00_cropped')\n",
    "    \n",
    "    image_name = f'0012_004268_{str(item).zfill(4)}_{str(image).zfill(4)}.tif'\n",
    "    \n",
    "    image_path = image_directory_path.joinpath(image_name)\n",
    "    \n",
    "    progress_label.value = image_path.name\n",
    "    \n",
    "    rotate_image(image_path, 90)\n",
    "    \n",
    "    progress_bar.value = index"
   ]
  },
  {
   "cell_type": "code",
   "execution_count": 7,
   "metadata": {},
   "outputs": [
    {
     "data": {
      "application/vnd.jupyter.widget-view+json": {
       "model_id": "ae76c5a9735e42b89e8a035becfc072c",
       "version_major": 2,
       "version_minor": 0
      },
      "text/plain": [
       "VBox(children=(Label(value='5 images to rotate . . .'), IntProgress(value=0, max=5)))"
      ]
     },
     "metadata": {},
     "output_type": "display_data"
    }
   ],
   "source": [
    "# batch rotate 180 cw\n",
    "\n",
    "# progress bar\n",
    "progress_label = Label(f'{len(image_list_rotate_180)} images to rotate . . .')\n",
    "progress_bar = IntProgress(min=0, max=len(image_list_rotate_180))\n",
    "progress_widget = VBox([progress_label, progress_bar])\n",
    "display(progress_widget)\n",
    "\n",
    "# batch rotate cw\n",
    "for index, (item, image) in enumerate(image_list_rotate_180, start=1):\n",
    "    \n",
    "    image_directory_path = Path('data/UTSpecialCirculars_Box72/00_cropped')\n",
    "    \n",
    "    image_name = f'0012_004268_{str(item).zfill(4)}_{str(image).zfill(4)}.tif'\n",
    "    \n",
    "    image_path = image_directory_path.joinpath(image_name)\n",
    "    \n",
    "    progress_label.value = image_path.name\n",
    "    \n",
    "    rotate_image(image_path, 180)\n",
    "    \n",
    "    progress_bar.value = index"
   ]
  },
  {
   "cell_type": "code",
   "execution_count": 8,
   "metadata": {},
   "outputs": [
    {
     "data": {
      "application/vnd.jupyter.widget-view+json": {
       "model_id": "5662ed4ab0e147b38c6fa7e617f7d332",
       "version_major": 2,
       "version_minor": 0
      },
      "text/plain": [
       "VBox(children=(Label(value='2 images to rotate . . .'), IntProgress(value=0, max=2)))"
      ]
     },
     "metadata": {},
     "output_type": "display_data"
    }
   ],
   "source": [
    "# batch rotate 270 cw\n",
    "\n",
    "# progress bar\n",
    "progress_label = Label(f'{len(image_list_rotate_270)} images to rotate . . .')\n",
    "progress_bar = IntProgress(min=0, max=len(image_list_rotate_270))\n",
    "progress_widget = VBox([progress_label, progress_bar])\n",
    "display(progress_widget)\n",
    "\n",
    "# batch rotate cw\n",
    "for index, (item, image) in enumerate(image_list_rotate_270, start=1):\n",
    "    \n",
    "    image_directory_path = Path('data/UTSpecialCirculars_Box72/00_cropped')\n",
    "    \n",
    "    image_name = f'0012_004268_{str(item).zfill(4)}_{str(image).zfill(4)}.tif'\n",
    "    \n",
    "    image_path = image_directory_path.joinpath(image_name)\n",
    "    \n",
    "    progress_label.value = image_path.name\n",
    "    \n",
    "    rotate_image(image_path, 270)\n",
    "    \n",
    "    progress_bar.value = index"
   ]
  },
  {
   "cell_type": "code",
   "execution_count": 6,
   "metadata": {},
   "outputs": [],
   "source": [
    "# box 73 rotation list after AutoCroppering\n",
    "image_list_rotate_90 = [(72, 9)]\n",
    "image_list_rotate_270 = [(67, 1), (67, 2), (67, 4), (67, 6), (67, 7), (67, 9), (67, 10), (93, 4), (93, 5), (93, 6), (116, 1), (116, 2), (116, 3), (116, 4), (116, 5), (116, 6), (116, 7), (116, 8), (116, 9), (116, 10), (116, 11), (116, 12), (116, 13), (116, 14), (116, 15), (116, 16), (116, 17)]"
   ]
  },
  {
   "cell_type": "code",
   "execution_count": 7,
   "metadata": {},
   "outputs": [
    {
     "data": {
      "application/vnd.jupyter.widget-view+json": {
       "model_id": "3244d8c9df8a4984ae2fa88f1f844143",
       "version_major": 2,
       "version_minor": 0
      },
      "text/plain": [
       "VBox(children=(Label(value='1 images to rotate . . .'), IntProgress(value=0, max=1)))"
      ]
     },
     "metadata": {},
     "output_type": "display_data"
    }
   ],
   "source": [
    "# batch rotate 90 cw Box 73\n",
    "\n",
    "# progress bar\n",
    "progress_label = Label(f'{len(image_list_rotate_90)} images to rotate . . .')\n",
    "progress_bar = IntProgress(min=0, max=len(image_list_rotate_90))\n",
    "progress_widget = VBox([progress_label, progress_bar])\n",
    "display(progress_widget)\n",
    "\n",
    "# batch rotate cw\n",
    "for index, (item, image) in enumerate(image_list_rotate_90, start=1):\n",
    "    \n",
    "    image_directory_path = Path('data/UTSpecialCirculars_Box73/00_cropped')\n",
    "    \n",
    "    image_name = f'0012_004268_{str(item).zfill(4)}_{str(image).zfill(4)}.tif'\n",
    "    \n",
    "    image_path = image_directory_path.joinpath(image_name)\n",
    "    \n",
    "    progress_label.value = image_path.name\n",
    "    \n",
    "    rotate_image(image_path, 90)\n",
    "    \n",
    "    progress_bar.value = index"
   ]
  },
  {
   "cell_type": "code",
   "execution_count": 8,
   "metadata": {},
   "outputs": [
    {
     "data": {
      "application/vnd.jupyter.widget-view+json": {
       "model_id": "418af194326349c8a9ae9a0620a902db",
       "version_major": 2,
       "version_minor": 0
      },
      "text/plain": [
       "VBox(children=(Label(value='27 images to rotate . . .'), IntProgress(value=0, max=27)))"
      ]
     },
     "metadata": {},
     "output_type": "display_data"
    }
   ],
   "source": [
    "# batch rotate 270 cw box 73\n",
    "\n",
    "# progress bar\n",
    "progress_label = Label(f'{len(image_list_rotate_270)} images to rotate . . .')\n",
    "progress_bar = IntProgress(min=0, max=len(image_list_rotate_270))\n",
    "progress_widget = VBox([progress_label, progress_bar])\n",
    "display(progress_widget)\n",
    "\n",
    "# batch rotate cw\n",
    "for index, (item, image) in enumerate(image_list_rotate_270, start=1):\n",
    "    \n",
    "    image_directory_path = Path('data/UTSpecialCirculars_Box73/00_cropped')\n",
    "    \n",
    "    image_name = f'0012_004268_{str(item).zfill(4)}_{str(image).zfill(4)}.tif'\n",
    "    \n",
    "    image_path = image_directory_path.joinpath(image_name)\n",
    "    \n",
    "    progress_label.value = image_path.name\n",
    "    \n",
    "    rotate_image(image_path, 270)\n",
    "    \n",
    "    progress_bar.value = index"
   ]
  },
  {
   "cell_type": "code",
   "execution_count": null,
   "metadata": {},
   "outputs": [],
   "source": []
  }
 ],
 "metadata": {
  "kernelspec": {
   "display_name": "Python 3",
   "language": "python",
   "name": "python3"
  },
  "language_info": {
   "codemirror_mode": {
    "name": "ipython",
    "version": 3
   },
   "file_extension": ".py",
   "mimetype": "text/x-python",
   "name": "python",
   "nbconvert_exporter": "python",
   "pygments_lexer": "ipython3",
   "version": "3.6.8"
  },
  "varInspector": {
   "cols": {
    "lenName": 16,
    "lenType": 16,
    "lenVar": 40
   },
   "kernels_config": {
    "python": {
     "delete_cmd_postfix": "",
     "delete_cmd_prefix": "del ",
     "library": "var_list.py",
     "varRefreshCmd": "print(var_dic_list())"
    },
    "r": {
     "delete_cmd_postfix": ") ",
     "delete_cmd_prefix": "rm(",
     "library": "var_list.r",
     "varRefreshCmd": "cat(var_dic_list()) "
    }
   },
   "types_to_exclude": [
    "module",
    "function",
    "builtin_function_or_method",
    "instance",
    "_Feature"
   ],
   "window_display": false
  }
 },
 "nbformat": 4,
 "nbformat_minor": 2
}
