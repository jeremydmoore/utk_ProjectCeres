{
 "cells": [
  {
   "cell_type": "markdown",
   "metadata": {},
   "source": [
    "# Bain Family Collection Scrapbooks: Rotate Images from List\n",
    "\n",
    "Need to:\n",
    "1. some of the images need to be rotated CW/CCW to a vertical page\n",
    "1. save as uncompressed, 8-bit TIFF tagged with AdobeRGB"
   ]
  },
  {
   "cell_type": "code",
   "execution_count": 9,
   "metadata": {
    "code_folding": []
   },
   "outputs": [],
   "source": [
    "# importing\n",
    "from pathlib import Path\n",
    "from subprocess import call\n",
    "\n",
    "from ipywidgets import IntProgress, Label, VBox\n",
    "from IPython.display import display\n",
    "from PIL import Image"
   ]
  },
  {
   "cell_type": "code",
   "execution_count": 21,
   "metadata": {
    "code_folding": [
     0
    ]
   },
   "outputs": [],
   "source": [
    "def rotate_image(image_path, angle):\n",
    "    \n",
    "    # open image\n",
    "    image = Image.open(image_path)\n",
    "    \n",
    "    # rotate image\n",
    "    image = image.rotate(-angle, resample=Image.BICUBIC, expand=True)  # negative for cw\n",
    "    \n",
    "    # create output_directory\n",
    "    output_directory = directory_path.joinpath('rotated')\n",
    "    output_directory.mkdir(exist_ok=True)\n",
    "    output_path = output_directory.joinpath(image_path.name)\n",
    "    \n",
    "    # save image\n",
    "    image.save(output_path, compression=None, dpi=(600., 600.))\n",
    "    \n",
    "    # use exiftool to copy ICC profile from original to output image\n",
    "    cmd = f' exiftool -tagsfromfile {str(image_path)} -ICC_Profile -overwrite_original -q {str(output_path)}'\n",
    "    call(cmd, shell=True)"
   ]
  },
  {
   "cell_type": "code",
   "execution_count": 22,
   "metadata": {},
   "outputs": [],
   "source": [
    "images_to_rotate_cw_list=[(2, 28), (2, 66), (2, 68), (2, 72), (2, 80), (2, 82), (2, 90), (2, 94), (3, 10), (3, 22), (3, 25), (3, 26), (3, 28), (3, 33), (4, 1), (4, 11), (4, 13)]\n",
    "images_to_rotate_ccw_list = [(3, 30), (3, 34)]"
   ]
  },
  {
   "cell_type": "code",
   "execution_count": 20,
   "metadata": {
    "code_folding": [
     0
    ]
   },
   "outputs": [
    {
     "data": {
      "application/vnd.jupyter.widget-view+json": {
       "model_id": "b1aa84596ef443c8a131c0da10d75aa2",
       "version_major": 2,
       "version_minor": 0
      },
      "text/plain": [
       "VBox(children=(Label(value='17 images to rotate . . .'), IntProgress(value=0, max=17)))"
      ]
     },
     "metadata": {},
     "output_type": "display_data"
    },
    {
     "name": "stdout",
     "output_type": "stream",
     "text": [
      "data\\BainFamilyCollection_Box2\\BainFamilyCollection_Box2_0028.tif\n",
      "data\\BainFamilyCollection_Box2\\BainFamilyCollection_Box2_0066.tif\n",
      "data\\BainFamilyCollection_Box2\\BainFamilyCollection_Box2_0068.tif\n",
      "data\\BainFamilyCollection_Box2\\BainFamilyCollection_Box2_0072.tif\n",
      "data\\BainFamilyCollection_Box2\\BainFamilyCollection_Box2_0080.tif\n",
      "data\\BainFamilyCollection_Box2\\BainFamilyCollection_Box2_0082.tif\n",
      "data\\BainFamilyCollection_Box2\\BainFamilyCollection_Box2_0090.tif\n",
      "data\\BainFamilyCollection_Box2\\BainFamilyCollection_Box2_0094.tif\n",
      "data\\BainFamilyCollection_Box3\\BainFamilyCollection_Box3_0010.tif\n",
      "data\\BainFamilyCollection_Box3\\BainFamilyCollection_Box3_0022.tif\n",
      "data\\BainFamilyCollection_Box3\\BainFamilyCollection_Box3_0025.tif\n",
      "data\\BainFamilyCollection_Box3\\BainFamilyCollection_Box3_0026.tif\n",
      "data\\BainFamilyCollection_Box3\\BainFamilyCollection_Box3_0028.tif\n",
      "data\\BainFamilyCollection_Box3\\BainFamilyCollection_Box3_0033.tif\n",
      "data\\BainFamilyCollection_Box4\\BainFamilyCollection_Box4_0001.tif\n",
      "data\\BainFamilyCollection_Box4\\BainFamilyCollection_Box4_0011.tif\n",
      "data\\BainFamilyCollection_Box4\\BainFamilyCollection_Box4_0013.tif\n"
     ]
    }
   ],
   "source": [
    "# batch rotate cw\n",
    "images_to_rotate_list = images_to_rotate_cw_list\n",
    "\n",
    "# progress bar\n",
    "progress_label = Label(f'{len(images_to_rotate_list)} images to rotate . . .')\n",
    "progress_bar = IntProgress(min=0, max=len(images_to_rotate_list))\n",
    "progress_widget = VBox([progress_label, progress_bar])\n",
    "display(progress_widget)\n",
    "\n",
    "# batch rotate cw\n",
    "for index, (box, image) in enumerate(images_to_rotate_list, start=1):\n",
    "    \n",
    "    directory = f'data\\BainFamilyCollection_Box{box}'\n",
    "    directory_path = Path(directory)\n",
    "    image_name = f'BainFamilyCollection_Box{box}_{str(image).zfill(4)}.tif'\n",
    "    \n",
    "    image_path = directory_path.joinpath(image_name)\n",
    "    print(image_path)\n",
    "    \n",
    "    progress_label.value = image_path.name\n",
    "    \n",
    "    rotate_image(image_path, 90)\n",
    "    \n",
    "    progress_bar.value = index"
   ]
  },
  {
   "cell_type": "code",
   "execution_count": 23,
   "metadata": {
    "code_folding": [
     0
    ]
   },
   "outputs": [
    {
     "data": {
      "application/vnd.jupyter.widget-view+json": {
       "model_id": "717f690d7757441f885f5bceaf870d11",
       "version_major": 2,
       "version_minor": 0
      },
      "text/plain": [
       "VBox(children=(Label(value='2 images to rotate . . .'), IntProgress(value=0, max=2)))"
      ]
     },
     "metadata": {},
     "output_type": "display_data"
    },
    {
     "name": "stdout",
     "output_type": "stream",
     "text": [
      "data\\BainFamilyCollection_Box3\\BainFamilyCollection_Box3_0030.tif\n",
      "data\\BainFamilyCollection_Box3\\BainFamilyCollection_Box3_0034.tif\n"
     ]
    }
   ],
   "source": [
    "# batch rotate ccw\n",
    "images_to_rotate_list = images_to_rotate_ccw_list\n",
    "\n",
    "# progress bar\n",
    "progress_label = Label(f'{len(images_to_rotate_list)} images to rotate . . .')\n",
    "progress_bar = IntProgress(min=0, max=len(images_to_rotate_list))\n",
    "progress_widget = VBox([progress_label, progress_bar])\n",
    "display(progress_widget)\n",
    "\n",
    "# batch rotate cw\n",
    "for index, (box, image) in enumerate(images_to_rotate_list, start=1):\n",
    "    \n",
    "    directory = f'data\\BainFamilyCollection_Box{box}'\n",
    "    directory_path = Path(directory)\n",
    "    image_name = f'BainFamilyCollection_Box{box}_{str(image).zfill(4)}.tif'\n",
    "    \n",
    "    image_path = directory_path.joinpath(image_name)\n",
    "    print(image_path)\n",
    "    \n",
    "    progress_label.value = image_path.name\n",
    "    \n",
    "    rotate_image(image_path, -90)\n",
    "    \n",
    "    progress_bar.value = index"
   ]
  },
  {
   "cell_type": "code",
   "execution_count": null,
   "metadata": {},
   "outputs": [],
   "source": []
  }
 ],
 "metadata": {
  "kernelspec": {
   "display_name": "Python 3",
   "language": "python",
   "name": "python3"
  },
  "language_info": {
   "codemirror_mode": {
    "name": "ipython",
    "version": 3
   },
   "file_extension": ".py",
   "mimetype": "text/x-python",
   "name": "python",
   "nbconvert_exporter": "python",
   "pygments_lexer": "ipython3",
   "version": "3.6.8"
  },
  "varInspector": {
   "cols": {
    "lenName": 16,
    "lenType": 16,
    "lenVar": 40
   },
   "kernels_config": {
    "python": {
     "delete_cmd_postfix": "",
     "delete_cmd_prefix": "del ",
     "library": "var_list.py",
     "varRefreshCmd": "print(var_dic_list())"
    },
    "r": {
     "delete_cmd_postfix": ") ",
     "delete_cmd_prefix": "rm(",
     "library": "var_list.r",
     "varRefreshCmd": "cat(var_dic_list()) "
    }
   },
   "types_to_exclude": [
    "module",
    "function",
    "builtin_function_or_method",
    "instance",
    "_Feature"
   ],
   "window_display": false
  }
 },
 "nbformat": 4,
 "nbformat_minor": 2
}
