{
 "cells": [
  {
   "cell_type": "markdown",
   "metadata": {},
   "source": [
    "# Project Ceres: AutoCropper\n",
    "\n",
    "Need to:\n",
    "1. possibly rotate images left/right\n",
    "1. autocrop images of white(-ish) paper on black background\n",
    "1. save as uncompressed, 8-bit TIFF tagged with GrayGamma2.2"
   ]
  },
  {
   "cell_type": "code",
   "execution_count": 1,
   "metadata": {
    "code_folding": [
     0
    ]
   },
   "outputs": [],
   "source": [
    "# importing\n",
    "from pathlib import Path\n",
    "from subprocess import call\n",
    "\n",
    "import cv2\n",
    "import numpy as np\n",
    "from ipywidgets import IntProgress, Label, VBox\n",
    "from IPython.display import display\n",
    "from PIL import Image\n",
    "\n",
    "import img_qc.img_qc as img_qc\n",
    "\n",
    "# == matplotlib options\n",
    "\n",
    "# magic that lets us plot directly in the notebook\n",
    "%matplotlib inline\n",
    "import matplotlib.pyplot as plt\n",
    "\n",
    "# parameters for matplotlib to increase our default figure size -- NOTE: figure sizes are in INCHES\n",
    "plt.rcParams[\"figure.figsize\"] = (20,20)  # set as needed for your screen and eyes"
   ]
  },
  {
   "cell_type": "code",
   "execution_count": 2,
   "metadata": {
    "code_folding": [
     0,
     2,
     33,
     44
    ]
   },
   "outputs": [],
   "source": [
    "# functions\n",
    "\n",
    "def rotate_bound(image, angle, center=None, scale=1.0):\n",
    "    # grab the dimensions of the image and then determine the\n",
    "    # center\n",
    "    (height, width) = image.shape[:2]\n",
    "    \n",
    "    # if the center is None, initialize it as the center of\n",
    "    # the image\n",
    "    if center is None:\n",
    "        centerX = (w // 2)\n",
    "        centerY = (h // 2)\n",
    "    else:\n",
    "        centerX, centerY = center\n",
    "\n",
    "    # grab the rotation matrix (applying the negative of the\n",
    "    # angle to rotate clockwise), then grab the sine and cosine\n",
    "    # (i.e., the rotation components of the matrix)\n",
    "    M = cv2.getRotationMatrix2D((centerX, centerY), -angle, scale)\n",
    "    cos = np.abs(M[0, 0])\n",
    "    sin = np.abs(M[0, 1])\n",
    "\n",
    "    # compute the new bounding dimensions of the image\n",
    "    width_new = int((height * sin) + (width * cos))\n",
    "    height_new = int((height * cos) + (width * sin))\n",
    "\n",
    "    # adjust the rotation matrix to take into account translation\n",
    "    M[0, 2] += (width_new / 2) - centerX\n",
    "    M[1, 2] += (height_new / 2) - centerY\n",
    "\n",
    "    # perform the actual rotation and return the image\n",
    "    return cv2.warpAffine(image, M, (width_new, height_new), flags=cv2.INTER_CUBIC)\n",
    "\n",
    "def autocrop(image_path, compression=None, dpi=400, final_height=4300, final_width=3300, rotate_odd_even=False):\n",
    "    \n",
    "    # === AutoCrop\n",
    "\n",
    "    # load the image\n",
    "    image = cv2.imread(str(image_path))\n",
    "                       \n",
    "    # crop image inside blue tape, but don't use if not necessary\n",
    "    #image = image[1200:8600, 400:5000]\n",
    "    \n",
    "    # rotate image CCW for odd numbered and CW for even numbered images\n",
    "    if rotate_odd_even:\n",
    "        if (int(image_path.stem[-1]) % 2 == 0):\n",
    "            image = cv2.rotate(image, cv2.ROTATE_90_COUNTERCLOCKWISE)\n",
    "        else:\n",
    "            image = cv2.rotate(image, cv2.ROTATE_90_CLOCKWISE)\n",
    "    \n",
    "    # compute the ratio of the old height to the new height\n",
    "    ratio = image.shape[0] / 750.0\n",
    "    \n",
    "    # clone image\n",
    "    image_original = image.copy()\n",
    "    \n",
    "    # resize image\n",
    "    image = img_qc.get_resized_cv_image(image, height=750)\n",
    "    \n",
    "    # convert the image to grayscale\n",
    "    gray = cv2.cvtColor(image, cv2.COLOR_BGR2GRAY)\n",
    "    \n",
    "    # blur the image\n",
    "    blurred = cv2.GaussianBlur(gray, (9, 9), 0)\n",
    "    \n",
    "    # apply Otsu's automatic thresholding\n",
    "    (T, thresh) = cv2.threshold(blurred, 0, 255, \n",
    "                               cv2.THRESH_BINARY | cv2.THRESH_OTSU)  # use cv2.THRESH_BINARY_INV for black on white\n",
    "    \n",
    "    # find the contours in the thresholded image keeping the external one\n",
    "    contours, hierarchy = cv2.findContours(thresh.copy(), cv2.RETR_EXTERNAL, cv2.CHAIN_APPROX_SIMPLE)\n",
    "    \n",
    "    cnts = contours\n",
    "    \n",
    "    # sort the contours from left to right\n",
    "    (cnts, bounding_boxes) = img_qc.sort_contours(cnts)\n",
    "    \n",
    "    # loop over the contours individually\n",
    "    for (i, c) in enumerate(cnts):\n",
    "        # if the contour is not sufficiently large, ignore it\n",
    "        if cv2.contourArea(c) < 20000:  # use 20000 for book pages\n",
    "            continue\n",
    "            \n",
    "        # compute the rotated bounding box of the contour\n",
    "        box = cv2.minAreaRect(c)\n",
    "        box = cv2.boxPoints(box)\n",
    "        box = np.int0(box)\n",
    "        \n",
    "        # DEBUG: draw found contour & show image\n",
    "        #clone = image.copy()\n",
    "        #cv2.drawContours(clone, [box], 0, (0, 0, 255), 2)\n",
    "        #plt.imshow(clone)\n",
    "        \n",
    "        # re-order the points in tl, tr, br, bl order\n",
    "        rect = img_qc.order_points(box)\n",
    "        \n",
    "        # find the points and angle for minAreaRectangle\n",
    "        (x, y), (w, h), theta = cv2.minAreaRect(c)\n",
    "        \n",
    "        # rotate image around center of minAreaRect by theta amount\n",
    "        if theta < -45:\n",
    "            theta = 90 + theta\n",
    "        \n",
    "        # DEBUG: rotate & show image\n",
    "        #clone = image.copy()\n",
    "        #image_rotated = img_qc.rotate(clone, theta, (x, y))\n",
    "        #plt.imshow(image_rotated)\n",
    "    \n",
    "    # multiply the rectangle by the original ratio\n",
    "    rect *= ratio\n",
    "    \n",
    "    # find the points we need to crop the full size original\n",
    "    tl, tr, br, bl = rect\n",
    "    startX = max(min(tl[0], bl[0]), 0)\n",
    "    startY = max(min(tl[1], tr[1]), 0)\n",
    "    endX = max(tr[0], br[0])\n",
    "    endY = max(bl[1], br[1])\n",
    "    \n",
    "    # rotate original by theta from minAreaRect\n",
    "    x *= ratio\n",
    "    y *= ratio\n",
    "    image_rotated = img_qc.rotate(image_original, theta, (x, y))\n",
    "    \n",
    "    # center = (x, y)\n",
    "    # if we want to crop to a hard-coded value from finding the center\n",
    "    # then startX = centerX - int(0.5 * width), endX = centerX + int(0.5 * width)\n",
    "    # and the same with startY/endY\n",
    "    startX = x - int(0.5 * final_width)\n",
    "    endX = x + int(0.5 * final_width)\n",
    "    startY = y - int(0.5 * final_height)\n",
    "    endY = y + int(0.5 * final_height)\n",
    "    #print(x, y)\n",
    "    #print(startX, endX)\n",
    "    #print(startY, endY)\n",
    "    \n",
    "    # add padding (default hard-coded is 0 pixels)\n",
    "    #pixel_padding = int(padding)\n",
    "    #startX -= pixel_padding\n",
    "    #startY -= pixel_padding\n",
    "    #endX += pixel_padding\n",
    "    #endY += pixel_padding\n",
    "    \n",
    "    # startX/startY to max of current value and 0 to stay inside image\n",
    "    startX = max(startX, 0)\n",
    "    startY = max(startY, 0)\n",
    "    \n",
    "    # endX/endY to min of current value and max width/height of image to stay inside image\n",
    "    endX = min(endX, image_rotated.shape[1])\n",
    "    endY = min(endY, image_rotated.shape[0])\n",
    "    \n",
    "    # crop the image in memory\n",
    "    image_cropped = image_rotated[int(startY):int(endY), int(startX):int(endX)]\n",
    "    \n",
    "    # create output directory and set output path\n",
    "    output_directory_path = image_path.parents[0].joinpath('00_cropped')\n",
    "    output_directory_path.mkdir(exist_ok=True)\n",
    "    output_path = output_directory_path.joinpath(image_path.name)\n",
    "    \n",
    "    # convert to pillow Image\n",
    "    pillow_image = Image.fromarray(image_cropped).convert('L')  # convert array to L for grayscale\n",
    "    \n",
    "    dpi = float(dpi)  # dpi MUST be a float for Pillow\n",
    "        \n",
    "    pillow_image.save(output_path, compression=compression, dpi=(dpi, dpi))\n",
    "    \n",
    "    icc_profile_path = Path('data/Gray Gamma 22.icc')\n",
    "    \n",
    "    # apply GrayGamma2.2 icc profile to images\n",
    "    # https://stackoverflow.com/questions/6740441/how-to-set-a-color-profile-with-exiftool\n",
    "    cmd = f'exiftool \"-icc_profile<={str(icc_profile_path)}\" -overwrite_original -q {str(output_path)}'\n",
    "    call(cmd, shell=True)"
   ]
  },
  {
   "cell_type": "code",
   "execution_count": 68,
   "metadata": {
    "code_folding": [
     0
    ],
    "scrolled": false
   },
   "outputs": [
    {
     "data": {
      "application/vnd.jupyter.widget-view+json": {
       "model_id": "f02086981cc945f8a562db6bd9f0cb4c",
       "version_major": 2,
       "version_minor": 0
      },
      "text/plain": [
       "VBox(children=(Label(value='Images Being Autocropped'), IntProgress(value=0, max=32)))"
      ]
     },
     "metadata": {},
     "output_type": "display_data"
    }
   ],
   "source": [
    "# batch autocrop Box 73 to 8.25 x 10.75 in.\n",
    "image_directory_path = Path('data/UTSpecialCirculars_Box72/')\n",
    "image_paths_list = sorted([x for x in image_directory_path.iterdir() if x.suffix == '.tif'])\n",
    "\n",
    "# progress bar\n",
    "progress_label = Label('Images Being Autocropped')\n",
    "progress_bar = IntProgress(min=0, max=len(image_paths_list))\n",
    "progress_widget = VBox([progress_label, progress_bar])\n",
    "display(progress_widget)\n",
    "\n",
    "for index, image_path in enumerate(image_paths_list, start=1):\n",
    "    progress_label.value = image_path.name\n",
    "    autocrop(image_path, dpi=400, final_height=4300, final_width=3300)\n",
    "    progress_bar.value = index\n"
   ]
  },
  {
   "cell_type": "code",
   "execution_count": 52,
   "metadata": {
    "code_folding": []
   },
   "outputs": [
    {
     "data": {
      "application/vnd.jupyter.widget-view+json": {
       "model_id": "5a3bcbe7d16d4c7081ec8011eecc9104",
       "version_major": 2,
       "version_minor": 0
      },
      "text/plain": [
       "VBox(children=(Label(value='Images Being Autocropped'), IntProgress(value=0, max=4)))"
      ]
     },
     "metadata": {},
     "output_type": "display_data"
    }
   ],
   "source": [
    "# Some of the pages are physically smaller, requiring a smaller crop box\n",
    "\n",
    "item_stub = 28\n",
    "total_pages = 4\n",
    "final_height = 4150\n",
    "final_width = 3100\n",
    "\n",
    "collection_stub = '0012_004268'\n",
    "item_stub = str(item_stub).zfill(4)  # zero-pad the item_stub\n",
    "\n",
    "# progress bar\n",
    "progress_label = Label('Images Being Autocropped')\n",
    "progress_bar = IntProgress(min=0, max=total_pages)\n",
    "progress_widget = VBox([progress_label, progress_bar])\n",
    "display(progress_widget)\n",
    "\n",
    "for i in range(1, (total_pages + 1)):  # (start, end + 1)\n",
    "    image_name = f'{collection_stub}_{item_stub}_{str(i).zfill(4)}.tif'\n",
    "    image_path = image_directory_path.joinpath(image_name)\n",
    "    progress_label.value = f'{image_path.name} is being AutoCroppered . . .'\n",
    "    autocrop(image_path, dpi=400, final_height=final_height, final_width=final_width)\n",
    "    progress_bar.value = i\n",
    "    if progress_bar.value == total_pages:\n",
    "        progress_label.value = 'AutoCropper Finished'"
   ]
  },
  {
   "cell_type": "code",
   "execution_count": 65,
   "metadata": {
    "code_folding": [
     0
    ]
   },
   "outputs": [
    {
     "data": {
      "application/vnd.jupyter.widget-view+json": {
       "model_id": "41f9a14b6e83463c804d07ef232d469e",
       "version_major": 2,
       "version_minor": 0
      },
      "text/plain": [
       "VBox(children=(Label(value='Images Being Autocropped'), IntProgress(value=0, max=5)))"
      ]
     },
     "metadata": {},
     "output_type": "display_data"
    }
   ],
   "source": [
    "# Some of the pages are physically smaller, requiring a smaller crop box\n",
    "\n",
    "item_stub = 35\n",
    "total_pages = 5\n",
    "final_height = 3500\n",
    "final_width = 2250\n",
    "\n",
    "collection_stub = '0012_004268'\n",
    "item_stub = str(item_stub).zfill(4)  # zero-pad the item_stub\n",
    "\n",
    "# progress bar\n",
    "progress_label = Label('Images Being Autocropped')\n",
    "progress_bar = IntProgress(min=0, max=total_pages)\n",
    "progress_widget = VBox([progress_label, progress_bar])\n",
    "display(progress_widget)\n",
    "\n",
    "for i in range(1, (total_pages + 1)):  # (start, end + 1)\n",
    "    image_name = f'{collection_stub}_{item_stub}_{str(i).zfill(4)}.tif'\n",
    "    image_path = image_directory_path.joinpath(image_name)\n",
    "    progress_label.value = f'{image_path.name} is being AutoCroppered . . .'\n",
    "    autocrop(image_path, dpi=400, final_height=final_height, final_width=final_width)\n",
    "    progress_bar.value = i\n",
    "    if progress_bar.value == total_pages:\n",
    "        progress_label.value = 'AutoCropper Finished'"
   ]
  },
  {
   "cell_type": "code",
   "execution_count": 70,
   "metadata": {
    "code_folding": [
     0
    ]
   },
   "outputs": [
    {
     "data": {
      "application/vnd.jupyter.widget-view+json": {
       "model_id": "b4b3c73a7c1844b8b8a14bc186da66d7",
       "version_major": 2,
       "version_minor": 0
      },
      "text/plain": [
       "VBox(children=(Label(value='Images Being Autocropped'), IntProgress(value=0, max=9)))"
      ]
     },
     "metadata": {},
     "output_type": "display_data"
    }
   ],
   "source": [
    "# Some of the pages are physically larger, requiring a larger crop box\n",
    "\n",
    "item_stub = 58\n",
    "total_pages = 9\n",
    "final_height = 4400\n",
    "final_width = 3350\n",
    "\n",
    "collection_stub = '0012_004268'\n",
    "item_stub = str(item_stub).zfill(4)  # zero-pad the item_stub\n",
    "\n",
    "# progress bar\n",
    "progress_label = Label('Images Being Autocropped')\n",
    "progress_bar = IntProgress(min=0, max=total_pages)\n",
    "progress_widget = VBox([progress_label, progress_bar])\n",
    "display(progress_widget)\n",
    "\n",
    "for i in range(1, (total_pages + 1)):  # (start, end + 1)\n",
    "    image_name = f'{collection_stub}_{item_stub}_{str(i).zfill(4)}.tif'\n",
    "    image_path = image_directory_path.joinpath(image_name)\n",
    "    progress_label.value = f'{image_path.name} is being AutoCroppered . . .'\n",
    "    autocrop(image_path, dpi=400, final_height=final_height, final_width=final_width)\n",
    "    progress_bar.value = i\n",
    "    if progress_bar.value == total_pages:\n",
    "        progress_label.value = 'AutoCropper Finished'"
   ]
  },
  {
   "cell_type": "code",
   "execution_count": 6,
   "metadata": {
    "code_folding": [
     0
    ]
   },
   "outputs": [
    {
     "data": {
      "application/vnd.jupyter.widget-view+json": {
       "model_id": "c20c2282818f40d2806c6aaee25c47b6",
       "version_major": 2,
       "version_minor": 0
      },
      "text/plain": [
       "VBox(children=(Label(value='Images Being Autocropped'), IntProgress(value=0, max=21)))"
      ]
     },
     "metadata": {},
     "output_type": "display_data"
    }
   ],
   "source": [
    "# batch autocrop Box 73 to 8.25 x 10.75 in.\n",
    "image_directory_path = Path('data/UTSpecialCirculars_Box73/')\n",
    "image_paths_list = sorted([x for x in image_directory_path.iterdir() if x.suffix == '.tif'])\n",
    "\n",
    "# progress bar\n",
    "progress_label = Label('Images Being Autocropped')\n",
    "progress_bar = IntProgress(min=0, max=len(image_paths_list))\n",
    "progress_widget = VBox([progress_label, progress_bar])\n",
    "display(progress_widget)\n",
    "\n",
    "for index, image_path in enumerate(image_paths_list, start=1):\n",
    "    progress_label.value = image_path.name\n",
    "    autocrop(image_path, dpi=400, final_height=4300, final_width=3300)\n",
    "    progress_bar.value = index\n"
   ]
  },
  {
   "cell_type": "code",
   "execution_count": 4,
   "metadata": {
    "code_folding": [
     0
    ]
   },
   "outputs": [
    {
     "data": {
      "application/vnd.jupyter.widget-view+json": {
       "model_id": "2a906e3485b9472bb84746349c812dac",
       "version_major": 2,
       "version_minor": 0
      },
      "text/plain": [
       "VBox(children=(Label(value='Images Being Autocropped'), IntProgress(value=0, max=10)))"
      ]
     },
     "metadata": {},
     "output_type": "display_data"
    }
   ],
   "source": [
    "# batch autocrop Box 73, item 67 to \n",
    "\n",
    "# Some of the pages are physically larger, requiring a larger crop box\n",
    "\n",
    "item_stub = 67\n",
    "total_pages = 10\n",
    "final_height = 4400\n",
    "final_width = 3350\n",
    "\n",
    "collection_stub = '0012_004268'\n",
    "item_stub = str(item_stub).zfill(4)  # zero-pad the item_stub\n",
    "\n",
    "# progress bar\n",
    "progress_label = Label('Images Being Autocropped')\n",
    "progress_bar = IntProgress(min=0, max=total_pages)\n",
    "progress_widget = VBox([progress_label, progress_bar])\n",
    "display(progress_widget)\n",
    "\n",
    "for i in range(1, (total_pages + 1)):  # (start, end + 1)\n",
    "    image_name = f'{collection_stub}_{item_stub}_{str(i).zfill(4)}.tif'\n",
    "    image_path = image_directory_path.joinpath(image_name)\n",
    "    progress_label.value = f'{image_path.name} is being AutoCroppered . . .'\n",
    "    autocrop(image_path, dpi=400, final_height=final_height, final_width=final_width)\n",
    "    progress_bar.value = i\n",
    "    if progress_bar.value == total_pages:\n",
    "        progress_label.value = 'AutoCropper Finished'"
   ]
  },
  {
   "cell_type": "code",
   "execution_count": 5,
   "metadata": {
    "code_folding": [
     0
    ]
   },
   "outputs": [
    {
     "data": {
      "application/vnd.jupyter.widget-view+json": {
       "model_id": "1012f566a0054ef5a8bac4095d3bfc60",
       "version_major": 2,
       "version_minor": 0
      },
      "text/plain": [
       "VBox(children=(Label(value='Images Being Autocropped'), IntProgress(value=0, max=12)))"
      ]
     },
     "metadata": {},
     "output_type": "display_data"
    }
   ],
   "source": [
    "# batch autocrop Box 73, item 72 to \n",
    "\n",
    "# Some of the pages are physically larger, requiring a larger crop box\n",
    "\n",
    "item_stub = 72\n",
    "total_pages = 12\n",
    "final_height = 4400\n",
    "final_width = 3350\n",
    "\n",
    "collection_stub = '0012_004268'\n",
    "item_stub = str(item_stub).zfill(4)  # zero-pad the item_stub\n",
    "\n",
    "# progress bar\n",
    "progress_label = Label('Images Being Autocropped')\n",
    "progress_bar = IntProgress(min=0, max=total_pages)\n",
    "progress_widget = VBox([progress_label, progress_bar])\n",
    "display(progress_widget)\n",
    "\n",
    "for i in range(1, (total_pages + 1)):  # (start, end + 1)\n",
    "    image_name = f'{collection_stub}_{item_stub}_{str(i).zfill(4)}.tif'\n",
    "    image_path = image_directory_path.joinpath(image_name)\n",
    "    progress_label.value = f'{image_path.name} is being AutoCroppered . . .'\n",
    "    autocrop(image_path, dpi=400, final_height=final_height, final_width=final_width)\n",
    "    progress_bar.value = i\n",
    "    if progress_bar.value == total_pages:\n",
    "        progress_label.value = 'AutoCropper Finished'"
   ]
  },
  {
   "cell_type": "code",
   "execution_count": 4,
   "metadata": {},
   "outputs": [
    {
     "data": {
      "application/vnd.jupyter.widget-view+json": {
       "model_id": "bdec950ad6884f5ba8b9c65bb89a7d38",
       "version_major": 2,
       "version_minor": 0
      },
      "text/plain": [
       "VBox(children=(Label(value='Images Being Autocropped'), IntProgress(value=0, max=444)))"
      ]
     },
     "metadata": {},
     "output_type": "display_data"
    }
   ],
   "source": [
    "# batch autocrop Box 78 to 8.25 x 10.75 in.\n",
    "image_directory_path = Path('data/UTSpecialCirculars_Box78/')\n",
    "image_paths_list = sorted([x for x in image_directory_path.iterdir() if x.suffix == '.tif'])\n",
    "\n",
    "# progress bar\n",
    "progress_label = Label('Images Being Autocropped')\n",
    "progress_bar = IntProgress(min=0, max=len(image_paths_list))\n",
    "progress_widget = VBox([progress_label, progress_bar])\n",
    "display(progress_widget)\n",
    "\n",
    "for index, image_path in enumerate(image_paths_list, start=1):\n",
    "    progress_label.value = image_path.name\n",
    "    autocrop(image_path, dpi=400, final_height=4300, final_width=3300)\n",
    "    progress_bar.value = index\n"
   ]
  },
  {
   "cell_type": "code",
   "execution_count": 5,
   "metadata": {
    "code_folding": [
     0
    ]
   },
   "outputs": [
    {
     "data": {
      "application/vnd.jupyter.widget-view+json": {
       "model_id": "18455839dd5049aa83fc99ee8597563d",
       "version_major": 2,
       "version_minor": 0
      },
      "text/plain": [
       "VBox(children=(Label(value='Images Being Autocropped'), IntProgress(value=0, max=27)))"
      ]
     },
     "metadata": {},
     "output_type": "display_data"
    }
   ],
   "source": [
    "# batch autocrop Box 78, item 143\n",
    "\n",
    "item_stub = 143\n",
    "total_pages = 27\n",
    "final_height = 4100\n",
    "final_width = 3100\n",
    "\n",
    "collection_stub = '0012_004268'\n",
    "item_stub = str(item_stub).zfill(4)  # zero-pad the item_stub\n",
    "\n",
    "# progress bar\n",
    "progress_label = Label('Images Being Autocropped')\n",
    "progress_bar = IntProgress(min=0, max=total_pages)\n",
    "progress_widget = VBox([progress_label, progress_bar])\n",
    "display(progress_widget)\n",
    "\n",
    "for i in range(1, (total_pages + 1)):  # (start, end + 1)\n",
    "    image_name = f'{collection_stub}_{item_stub}_{str(i).zfill(4)}.tif'\n",
    "    image_path = image_directory_path.joinpath(image_name)\n",
    "    progress_label.value = f'{image_path.name} is being AutoCroppered . . .'\n",
    "    autocrop(image_path, dpi=400, final_height=final_height, final_width=final_width)\n",
    "    progress_bar.value = i\n",
    "    if progress_bar.value == total_pages:\n",
    "        progress_label.value = 'AutoCropper Finished'"
   ]
  },
  {
   "cell_type": "code",
   "execution_count": 6,
   "metadata": {
    "code_folding": [
     0
    ]
   },
   "outputs": [
    {
     "data": {
      "application/vnd.jupyter.widget-view+json": {
       "model_id": "db2913a4119c4af2b5e74711390bf489",
       "version_major": 2,
       "version_minor": 0
      },
      "text/plain": [
       "VBox(children=(Label(value='Images Being Autocropped'), IntProgress(value=0, max=27)))"
      ]
     },
     "metadata": {},
     "output_type": "display_data"
    }
   ],
   "source": [
    "# batch autocrop Box 78, item 143\n",
    "\n",
    "item_stub = 168\n",
    "total_pages = 27\n",
    "final_height = 3575\n",
    "final_width = 2300\n",
    "\n",
    "collection_stub = '0012_004268'\n",
    "item_stub = str(item_stub).zfill(4)  # zero-pad the item_stub\n",
    "\n",
    "# progress bar\n",
    "progress_label = Label('Images Being Autocropped')\n",
    "progress_bar = IntProgress(min=0, max=total_pages)\n",
    "progress_widget = VBox([progress_label, progress_bar])\n",
    "display(progress_widget)\n",
    "\n",
    "for i in range(1, (total_pages + 1)):  # (start, end + 1)\n",
    "    image_name = f'{collection_stub}_{item_stub}_{str(i).zfill(4)}.tif'\n",
    "    image_path = image_directory_path.joinpath(image_name)\n",
    "    progress_label.value = f'{image_path.name} is being AutoCroppered . . .'\n",
    "    autocrop(image_path, dpi=400, final_height=final_height, final_width=final_width)\n",
    "    progress_bar.value = i\n",
    "    if progress_bar.value == total_pages:\n",
    "        progress_label.value = 'AutoCropper Finished'"
   ]
  },
  {
   "cell_type": "code",
   "execution_count": 3,
   "metadata": {
    "code_folding": [
     0
    ]
   },
   "outputs": [
    {
     "data": {
      "application/vnd.jupyter.widget-view+json": {
       "model_id": "56e18244e38945dbadf5216afe401735",
       "version_major": 2,
       "version_minor": 0
      },
      "text/plain": [
       "VBox(children=(Label(value='Images Being Autocropped'), IntProgress(value=0, max=170)))"
      ]
     },
     "metadata": {},
     "output_type": "display_data"
    }
   ],
   "source": [
    "# batch autocrop Box 79 to 8.25 x 10.75 in.\n",
    "image_directory_path = Path('data/UTSpecialCirculars_Box79/')\n",
    "image_paths_list = sorted([x for x in image_directory_path.iterdir() if x.suffix == '.tif'])\n",
    "\n",
    "# progress bar\n",
    "progress_label = Label('Images Being Autocropped')\n",
    "progress_bar = IntProgress(min=0, max=len(image_paths_list))\n",
    "progress_widget = VBox([progress_label, progress_bar])\n",
    "display(progress_widget)\n",
    "\n",
    "for index, image_path in enumerate(image_paths_list, start=1):\n",
    "    progress_label.value = image_path.name\n",
    "    autocrop(image_path, dpi=400, final_height=4300, final_width=3300)\n",
    "    progress_bar.value = index"
   ]
  },
  {
   "cell_type": "code",
   "execution_count": 4,
   "metadata": {
    "code_folding": [
     0
    ]
   },
   "outputs": [
    {
     "data": {
      "application/vnd.jupyter.widget-view+json": {
       "model_id": "ba2460fc936343cda28a9f12fa50077a",
       "version_major": 2,
       "version_minor": 0
      },
      "text/plain": [
       "VBox(children=(Label(value='Images Being Autocropped'), IntProgress(value=0, max=480)))"
      ]
     },
     "metadata": {},
     "output_type": "display_data"
    }
   ],
   "source": [
    "# batch autocrop Box 80 to 8.25 x 10.75 in.\n",
    "image_directory_path = Path('data/UTSpecialCirculars_Box80/')\n",
    "image_paths_list = sorted([x for x in image_directory_path.iterdir() if x.suffix == '.tif'])\n",
    "\n",
    "# progress bar\n",
    "progress_label = Label('Images Being Autocropped')\n",
    "progress_bar = IntProgress(min=0, max=len(image_paths_list))\n",
    "progress_widget = VBox([progress_label, progress_bar])\n",
    "display(progress_widget)\n",
    "\n",
    "for index, image_path in enumerate(image_paths_list, start=1):\n",
    "    progress_label.value = image_path.name\n",
    "    autocrop(image_path, dpi=400, final_height=4300, final_width=3300)\n",
    "    progress_bar.value = index"
   ]
  },
  {
   "cell_type": "code",
   "execution_count": null,
   "metadata": {},
   "outputs": [],
   "source": []
  }
 ],
 "metadata": {
  "kernelspec": {
   "display_name": "Python 3",
   "language": "python",
   "name": "python3"
  },
  "language_info": {
   "codemirror_mode": {
    "name": "ipython",
    "version": 3
   },
   "file_extension": ".py",
   "mimetype": "text/x-python",
   "name": "python",
   "nbconvert_exporter": "python",
   "pygments_lexer": "ipython3",
   "version": "3.6.8"
  },
  "varInspector": {
   "cols": {
    "lenName": 16,
    "lenType": 16,
    "lenVar": 40
   },
   "kernels_config": {
    "python": {
     "delete_cmd_postfix": "",
     "delete_cmd_prefix": "del ",
     "library": "var_list.py",
     "varRefreshCmd": "print(var_dic_list())"
    },
    "r": {
     "delete_cmd_postfix": ") ",
     "delete_cmd_prefix": "rm(",
     "library": "var_list.r",
     "varRefreshCmd": "cat(var_dic_list()) "
    }
   },
   "types_to_exclude": [
    "module",
    "function",
    "builtin_function_or_method",
    "instance",
    "_Feature"
   ],
   "window_display": false
  }
 },
 "nbformat": 4,
 "nbformat_minor": 2
}
